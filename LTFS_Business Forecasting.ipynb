{
 "cells": [
  {
   "cell_type": "markdown",
   "metadata": {},
   "source": [
    "### LTFS Data Science FinHack 2\n",
    "LTFS receives a lot of requests for its various finance offerings that include housing loan, two-wheeler loan, real estate financing and micro loans. The number of applications received is something that varies a lot with season. Going through these applications is a manual process and is tedious. Accurately forecasting the number of cases received can help with resource and manpower management resulting into quick response on applications and more efficient processing.\n",
    "\n",
    "### Problem Statement:\n",
    "You have been appointed with the task of forecasting daily cases for next 3 months for 2 different business segments aggregated at the country level keeping in consideration the following major Indian festivals (inclusive but not exhaustive list): Diwali, Dussehra, Ganesh Chaturthi, Navratri, Holi etc.(You are free to use any publicly available open source external datasets). Some other examples could be:\n",
    "\n",
    "Weather Macroeconomic variables Note that the external dataset must belong to a reliable source.\n",
    "\n",
    "Data Dictionary The train data has been provided in the following way:\n",
    "\n",
    "For business segment 1, historical data has been made available at branch ID level For business segment 2, historical data has been made available at State level.\n",
    "Train File Variable Definition application_date Date of application segment Business Segment (1/2) branch_id Anonymised id for branch at which application was received state State in which application was received (Karnataka, MP etc.) zone Zone of state in which application was received (Central, East etc.) case_count (Target) Number of cases/applications received\n",
    "\n",
    "Test File Forecasting needs to be done at country level for the dates provided in test set for each segment.\n",
    "\n",
    "Variable Definition id Unique id for each sample in test set application_date Date of application segment Business Segment (1/2)\n",
    "\n",
    "Evaluation\n",
    "Evaluation Metric The evaluation metric for scoring the forecasts is *MAPE (Mean Absolute Percentage Error) M with the formula:\n",
    "\n",
    "Where At is the actual value and Ft is the forecast value.\n",
    "\n",
    "The Final score is calculated using MAPE for both the segments using the formula:"
   ]
  },
  {
   "cell_type": "markdown",
   "metadata": {
    "colab_type": "text",
    "id": "6bieLJ9AULPr"
   },
   "source": [
    "## Approach For Segement 1\n",
    "\n",
    "### Checking Stationarity for Segment 1 : \n",
    "A time series is said to be stationary if its statistical properties such as mean, variance remain constant over time.As most time series models work on the assumption that the time series are stationary, it is important to validate that hypothesis.The Dickey Fuller Test is a statistical test for testing stationarity. The Null-hypothesis for the test is that the time series is not stationary. So if the test statistic is less than the critical value, we reject the null hypothesis and say that the series is stationary.\n",
    "\n",
    "#### It is observed from adfuller test segment1 is stationary.\n",
    "\n",
    "\n",
    "### Data Pre-Processing / Feature Engineering for segment 1: \n",
    "\n",
    "To Decide the number of previous time steps to take i.e lags, ACF and PACF plots are used. \n",
    "\n",
    "#### It is observed from PACF graph correlation is near to zero at lag 8, therefore 8 timesteps considered. \n",
    "\n",
    "Covariance : Positive and negative, Depends on scale of the variables. Hard to interpret small or large.\n",
    "\n",
    "Correlations: Standardized version of covariance, Positive and negative do not depend on scale of the variables. Always between 1 and -1.\n",
    "\n",
    "ACF: The ACF plot is used to determine number of lags or timesteps\n",
    "\n",
    "PACF: The correlation between 2 variables controlling for the values of another set of variables.\n",
    "\n",
    "Example : If we consider 3 consecutive values of a time series having some autocorrelation with each other.\n",
    "\n",
    "Correlation between current and lag 2 is autocorrelation.\n",
    "\n",
    "The same calculation for controlling for lag 1 is Partial Autocorrelation. \n",
    "\n",
    "The ACF plot will show autocorrelation decaying towards 0.\n",
    "\n",
    "PACF plot will cut off quickly towards 0.\n",
    "\n",
    "### Final Model segment 1:\n",
    "LSTM: These are good at processing sequential data with long short term memory and uses a gating mechanism.\n",
    "\n",
    "Models which i have tried are :LSTM, GRU,CNN-LSTM,BiDirectional LSTM,Conv1D models.\n",
    "\n",
    "#### Final Model : Out of all the above models Bi Directional LSTM has given the better score.\n",
    "\n"
   ]
  },
  {
   "cell_type": "markdown",
   "metadata": {},
   "source": [
    "## Approach For Segement 2\n",
    "\n",
    "#### Checking Stationarity for Segment 2 : \n",
    "A time series is said to be stationary if its statistical properties such as mean, variance remain constant over time.As most time series models work on the assumption that the time series are stationary, it is important to validate that hypothesis.The Dickey Fuller Test is a statistical test for testing stationarity. The Null-hypothesis for the test is that the time series is not stationary. So if the test statistic is less than the critical value, we reject the null hypothesis and say that the series is stationary.\n",
    "\n",
    "#### It is observed from adfuller test segment1 is stationary.\n",
    "\n",
    "\n",
    "#### Data Pre-Processing / Feature Engineering for segment 2: \n",
    "\n",
    "To Decide the number of previous time steps to take i.e lags, ACF and PACF plots are used. \n",
    "\n",
    "#### It is observed from PACF graph correlation is near to zero at lag 7, therefore 7 timesteps considered. \n",
    "\n",
    "Covariance : Positive and negative, Depends on scale of the variables. Hard to interpret small or large.\n",
    "\n",
    "Correlations: Standardized version of covariance, Positive and negative do not depend on scale of the variables. Always between 1 and -1.\n",
    "\n",
    "ACF: The ACF plot is used to determine number of lags or timesteps\n",
    "\n",
    "PACF: The correlation between 2 variables controlling for the values of another set of variables.\n",
    "\n",
    "Example : If we consider 3 consecutive values of a time series having some autocorrelation with each other.\n",
    "\n",
    "Correlation between current and lag 2 is autocorrelation.\n",
    "\n",
    "The same calculation for controlling for lag 1 is Partial Autocorrelation. \n",
    "\n",
    "The ACF plot will show autocorrelation decaying towards 0.\n",
    "\n",
    "PACF plot will cut off quickly towards 0.\n",
    "\n",
    "#### Final Model segment 2:\n",
    "LSTM: These are good at processing sequential data with long short term memory and uses a gating mechanism.\n",
    "\n",
    "Models which i have tried are :LSTM, GRU,CNN-LSTM,BiDirectional LSTM,Conv1D models.\n",
    "\n",
    "#### Final Model : Out of all the above models Bi Directional LSTM has given the better score."
   ]
  },
  {
   "cell_type": "code",
   "execution_count": 1,
   "metadata": {
    "colab": {
     "base_uri": "https://localhost:8080/",
     "height": 122
    },
    "colab_type": "code",
    "executionInfo": {
     "elapsed": 24002,
     "status": "ok",
     "timestamp": 1580050445358,
     "user": {
      "displayName": "Tarun Koundinya",
      "photoUrl": "https://lh3.googleusercontent.com/a-/AAuE7mCuJFCbjNNUC21JfUrOEkSyuTMp8VnRZcH3JXTsOg=s64",
      "userId": "06377727563339288111"
     },
     "user_tz": -330
    },
    "id": "TtVuf1aqUuGC",
    "outputId": "9c9506a8-3642-4018-b1f1-6e89ed3c8ff8"
   },
   "outputs": [
    {
     "name": "stdout",
     "output_type": "stream",
     "text": [
      "Go to this URL in a browser: https://accounts.google.com/o/oauth2/auth?client_id=947318989803-6bn6qk8qdgf4n4g3pfee6491hc0brc4i.apps.googleusercontent.com&redirect_uri=urn%3aietf%3awg%3aoauth%3a2.0%3aoob&response_type=code&scope=email%20https%3a%2f%2fwww.googleapis.com%2fauth%2fdocs.test%20https%3a%2f%2fwww.googleapis.com%2fauth%2fdrive%20https%3a%2f%2fwww.googleapis.com%2fauth%2fdrive.photos.readonly%20https%3a%2f%2fwww.googleapis.com%2fauth%2fpeopleapi.readonly\n",
      "\n",
      "Enter your authorization code:\n",
      "··········\n",
      "Mounted at /content/drive\n"
     ]
    }
   ],
   "source": [
    "from google.colab import drive\n",
    "drive.mount('/content/drive')"
   ]
  },
  {
   "cell_type": "code",
   "execution_count": 2,
   "metadata": {
    "colab": {
     "base_uri": "https://localhost:8080/",
     "height": 80
    },
    "colab_type": "code",
    "executionInfo": {
     "elapsed": 3260,
     "status": "ok",
     "timestamp": 1580050450975,
     "user": {
      "displayName": "Tarun Koundinya",
      "photoUrl": "https://lh3.googleusercontent.com/a-/AAuE7mCuJFCbjNNUC21JfUrOEkSyuTMp8VnRZcH3JXTsOg=s64",
      "userId": "06377727563339288111"
     },
     "user_tz": -330
    },
    "id": "4WkBzIf5ULPt",
    "outputId": "3e712a63-16b5-4eaa-8a8d-8273f779442d"
   },
   "outputs": [
    {
     "name": "stderr",
     "output_type": "stream",
     "text": [
      "Using TensorFlow backend.\n"
     ]
    },
    {
     "data": {
      "text/html": [
       "<p style=\"color: red;\">\n",
       "The default version of TensorFlow in Colab will soon switch to TensorFlow 2.x.<br>\n",
       "We recommend you <a href=\"https://www.tensorflow.org/guide/migrate\" target=\"_blank\">upgrade</a> now \n",
       "or ensure your notebook will continue to use TensorFlow 1.x via the <code>%tensorflow_version 1.x</code> magic:\n",
       "<a href=\"https://colab.research.google.com/notebooks/tensorflow_version.ipynb\" target=\"_blank\">more info</a>.</p>\n"
      ],
      "text/plain": [
       "<IPython.core.display.HTML object>"
      ]
     },
     "metadata": {
      "tags": []
     },
     "output_type": "display_data"
    }
   ],
   "source": [
    "import pandas as pd\n",
    "import numpy as np\n",
    "from datetime import datetime,timedelta,date\n",
    "%matplotlib inline\n",
    "import warnings\n",
    "warnings.filterwarnings('ignore')\n",
    "import chart_studio.plotly as py\n",
    "import plotly.graph_objects as go\n",
    "import plotly.offline as pyoff\n",
    "# import keras\n",
    "import keras\n",
    "from keras.layers import Dense\n",
    "from keras.models import Sequential\n",
    "from keras.optimizers import Adam\n",
    "from keras.callbacks import EarlyStopping\n",
    "from keras.utils import np_utils\n",
    "from keras.layers import LSTM\n",
    "from sklearn.model_selection import KFold,cross_val_score,train_test_split"
   ]
  },
  {
   "cell_type": "code",
   "execution_count": 3,
   "metadata": {
    "colab": {
     "base_uri": "https://localhost:8080/",
     "height": 17,
     "output_embedded_package_id": "1EcR_O6hM2XBdcz21NMyrKeYFfwMkrjlV"
    },
    "colab_type": "code",
    "executionInfo": {
     "elapsed": 5071,
     "status": "ok",
     "timestamp": 1580050453071,
     "user": {
      "displayName": "Tarun Koundinya",
      "photoUrl": "https://lh3.googleusercontent.com/a-/AAuE7mCuJFCbjNNUC21JfUrOEkSyuTMp8VnRZcH3JXTsOg=s64",
      "userId": "06377727563339288111"
     },
     "user_tz": -330
    },
    "id": "YwrDbeZQULPy",
    "outputId": "1fdc664a-69c7-4e2b-e8ef-be3239233e88"
   },
   "outputs": [
    {
     "data": {
      "text/plain": [
       "Output hidden; open in https://colab.research.google.com to view."
      ]
     },
     "metadata": {},
     "output_type": "display_data"
    }
   ],
   "source": [
    "#initiate plotly\n",
    "pyoff.init_notebook_mode()"
   ]
  },
  {
   "cell_type": "code",
   "execution_count": 4,
   "metadata": {
    "colab": {
     "base_uri": "https://localhost:8080/",
     "height": 221
    },
    "colab_type": "code",
    "executionInfo": {
     "elapsed": 4906,
     "status": "ok",
     "timestamp": 1580050453072,
     "user": {
      "displayName": "Tarun Koundinya",
      "photoUrl": "https://lh3.googleusercontent.com/a-/AAuE7mCuJFCbjNNUC21JfUrOEkSyuTMp8VnRZcH3JXTsOg=s64",
      "userId": "06377727563339288111"
     },
     "user_tz": -330
    },
    "id": "v-Fr0ZVFULP3",
    "outputId": "cb6bbdff-fac4-4994-c80e-ca5c776fa1bf"
   },
   "outputs": [
    {
     "name": "stdout",
     "output_type": "stream",
     "text": [
      "df_case_count shape (80402, 6)\n"
     ]
    },
    {
     "data": {
      "text/html": [
       "<div>\n",
       "<style scoped>\n",
       "    .dataframe tbody tr th:only-of-type {\n",
       "        vertical-align: middle;\n",
       "    }\n",
       "\n",
       "    .dataframe tbody tr th {\n",
       "        vertical-align: top;\n",
       "    }\n",
       "\n",
       "    .dataframe thead th {\n",
       "        text-align: right;\n",
       "    }\n",
       "</style>\n",
       "<table border=\"1\" class=\"dataframe\">\n",
       "  <thead>\n",
       "    <tr style=\"text-align: right;\">\n",
       "      <th></th>\n",
       "      <th>application_date</th>\n",
       "      <th>segment</th>\n",
       "      <th>branch_id</th>\n",
       "      <th>state</th>\n",
       "      <th>zone</th>\n",
       "      <th>case_count</th>\n",
       "    </tr>\n",
       "  </thead>\n",
       "  <tbody>\n",
       "    <tr>\n",
       "      <th>0</th>\n",
       "      <td>2017-04-01</td>\n",
       "      <td>1</td>\n",
       "      <td>1.0</td>\n",
       "      <td>WEST BENGAL</td>\n",
       "      <td>EAST</td>\n",
       "      <td>40.0</td>\n",
       "    </tr>\n",
       "    <tr>\n",
       "      <th>1</th>\n",
       "      <td>2017-04-03</td>\n",
       "      <td>1</td>\n",
       "      <td>1.0</td>\n",
       "      <td>WEST BENGAL</td>\n",
       "      <td>EAST</td>\n",
       "      <td>5.0</td>\n",
       "    </tr>\n",
       "    <tr>\n",
       "      <th>2</th>\n",
       "      <td>2017-04-04</td>\n",
       "      <td>1</td>\n",
       "      <td>1.0</td>\n",
       "      <td>WEST BENGAL</td>\n",
       "      <td>EAST</td>\n",
       "      <td>4.0</td>\n",
       "    </tr>\n",
       "    <tr>\n",
       "      <th>3</th>\n",
       "      <td>2017-04-05</td>\n",
       "      <td>1</td>\n",
       "      <td>1.0</td>\n",
       "      <td>WEST BENGAL</td>\n",
       "      <td>EAST</td>\n",
       "      <td>113.0</td>\n",
       "    </tr>\n",
       "    <tr>\n",
       "      <th>4</th>\n",
       "      <td>2017-04-07</td>\n",
       "      <td>1</td>\n",
       "      <td>1.0</td>\n",
       "      <td>WEST BENGAL</td>\n",
       "      <td>EAST</td>\n",
       "      <td>76.0</td>\n",
       "    </tr>\n",
       "  </tbody>\n",
       "</table>\n",
       "</div>"
      ],
      "text/plain": [
       "  application_date  segment  branch_id        state  zone  case_count\n",
       "0       2017-04-01        1        1.0  WEST BENGAL  EAST        40.0\n",
       "1       2017-04-03        1        1.0  WEST BENGAL  EAST         5.0\n",
       "2       2017-04-04        1        1.0  WEST BENGAL  EAST         4.0\n",
       "3       2017-04-05        1        1.0  WEST BENGAL  EAST       113.0\n",
       "4       2017-04-07        1        1.0  WEST BENGAL  EAST        76.0"
      ]
     },
     "execution_count": 4,
     "metadata": {
      "tags": []
     },
     "output_type": "execute_result"
    }
   ],
   "source": [
    "# read the data in csv\n",
    "df_case_count = pd.read_csv('/content/drive/My Drive/L&T/train_fwYjLYX.csv')\n",
    "print('df_case_count shape', df_case_count.shape)\n",
    "df_case_count.head()"
   ]
  },
  {
   "cell_type": "code",
   "execution_count": 5,
   "metadata": {
    "colab": {
     "base_uri": "https://localhost:8080/",
     "height": 204
    },
    "colab_type": "code",
    "executionInfo": {
     "elapsed": 5350,
     "status": "ok",
     "timestamp": 1580050453709,
     "user": {
      "displayName": "Tarun Koundinya",
      "photoUrl": "https://lh3.googleusercontent.com/a-/AAuE7mCuJFCbjNNUC21JfUrOEkSyuTMp8VnRZcH3JXTsOg=s64",
      "userId": "06377727563339288111"
     },
     "user_tz": -330
    },
    "id": "ich7NudMULP5",
    "outputId": "0b34979a-da05-457c-c078-95f6e7be76fb"
   },
   "outputs": [
    {
     "name": "stdout",
     "output_type": "stream",
     "text": [
      "<class 'pandas.core.frame.DataFrame'>\n",
      "RangeIndex: 80402 entries, 0 to 80401\n",
      "Data columns (total 6 columns):\n",
      "application_date    80402 non-null object\n",
      "segment             80402 non-null int64\n",
      "branch_id           66898 non-null float64\n",
      "state               80402 non-null object\n",
      "zone                66898 non-null object\n",
      "case_count          80402 non-null float64\n",
      "dtypes: float64(2), int64(1), object(3)\n",
      "memory usage: 3.7+ MB\n"
     ]
    }
   ],
   "source": [
    "# checking the data types of the features\n",
    "df_case_count.info()"
   ]
  },
  {
   "cell_type": "code",
   "execution_count": 6,
   "metadata": {
    "colab": {
     "base_uri": "https://localhost:8080/",
     "height": 34
    },
    "colab_type": "code",
    "executionInfo": {
     "elapsed": 5214,
     "status": "ok",
     "timestamp": 1580050453710,
     "user": {
      "displayName": "Tarun Koundinya",
      "photoUrl": "https://lh3.googleusercontent.com/a-/AAuE7mCuJFCbjNNUC21JfUrOEkSyuTMp8VnRZcH3JXTsOg=s64",
      "userId": "06377727563339288111"
     },
     "user_tz": -330
    },
    "id": "xPnF10Q6ULP8",
    "outputId": "a76b7b81-e9bb-4ac9-f985-8430801e43ff"
   },
   "outputs": [
    {
     "data": {
      "text/plain": [
       "array([1, 2])"
      ]
     },
     "execution_count": 6,
     "metadata": {
      "tags": []
     },
     "output_type": "execute_result"
    }
   ],
   "source": [
    "# checking the segment categories\n",
    "df_case_count['segment'].unique()"
   ]
  },
  {
   "cell_type": "code",
   "execution_count": 7,
   "metadata": {
    "colab": {
     "base_uri": "https://localhost:8080/",
     "height": 221
    },
    "colab_type": "code",
    "executionInfo": {
     "elapsed": 5075,
     "status": "ok",
     "timestamp": 1580050453712,
     "user": {
      "displayName": "Tarun Koundinya",
      "photoUrl": "https://lh3.googleusercontent.com/a-/AAuE7mCuJFCbjNNUC21JfUrOEkSyuTMp8VnRZcH3JXTsOg=s64",
      "userId": "06377727563339288111"
     },
     "user_tz": -330
    },
    "id": "9LJvEiZtULP_",
    "outputId": "8e28b086-0a46-4ced-8c0f-05c17eda2779"
   },
   "outputs": [
    {
     "name": "stdout",
     "output_type": "stream",
     "text": [
      "segment1 shape: (66898, 6)\n"
     ]
    },
    {
     "data": {
      "text/html": [
       "<div>\n",
       "<style scoped>\n",
       "    .dataframe tbody tr th:only-of-type {\n",
       "        vertical-align: middle;\n",
       "    }\n",
       "\n",
       "    .dataframe tbody tr th {\n",
       "        vertical-align: top;\n",
       "    }\n",
       "\n",
       "    .dataframe thead th {\n",
       "        text-align: right;\n",
       "    }\n",
       "</style>\n",
       "<table border=\"1\" class=\"dataframe\">\n",
       "  <thead>\n",
       "    <tr style=\"text-align: right;\">\n",
       "      <th></th>\n",
       "      <th>application_date</th>\n",
       "      <th>segment</th>\n",
       "      <th>branch_id</th>\n",
       "      <th>state</th>\n",
       "      <th>zone</th>\n",
       "      <th>case_count</th>\n",
       "    </tr>\n",
       "  </thead>\n",
       "  <tbody>\n",
       "    <tr>\n",
       "      <th>0</th>\n",
       "      <td>2017-04-01</td>\n",
       "      <td>1</td>\n",
       "      <td>1.0</td>\n",
       "      <td>WEST BENGAL</td>\n",
       "      <td>EAST</td>\n",
       "      <td>40.0</td>\n",
       "    </tr>\n",
       "    <tr>\n",
       "      <th>1</th>\n",
       "      <td>2017-04-03</td>\n",
       "      <td>1</td>\n",
       "      <td>1.0</td>\n",
       "      <td>WEST BENGAL</td>\n",
       "      <td>EAST</td>\n",
       "      <td>5.0</td>\n",
       "    </tr>\n",
       "    <tr>\n",
       "      <th>2</th>\n",
       "      <td>2017-04-04</td>\n",
       "      <td>1</td>\n",
       "      <td>1.0</td>\n",
       "      <td>WEST BENGAL</td>\n",
       "      <td>EAST</td>\n",
       "      <td>4.0</td>\n",
       "    </tr>\n",
       "    <tr>\n",
       "      <th>3</th>\n",
       "      <td>2017-04-05</td>\n",
       "      <td>1</td>\n",
       "      <td>1.0</td>\n",
       "      <td>WEST BENGAL</td>\n",
       "      <td>EAST</td>\n",
       "      <td>113.0</td>\n",
       "    </tr>\n",
       "    <tr>\n",
       "      <th>4</th>\n",
       "      <td>2017-04-07</td>\n",
       "      <td>1</td>\n",
       "      <td>1.0</td>\n",
       "      <td>WEST BENGAL</td>\n",
       "      <td>EAST</td>\n",
       "      <td>76.0</td>\n",
       "    </tr>\n",
       "  </tbody>\n",
       "</table>\n",
       "</div>"
      ],
      "text/plain": [
       "  application_date  segment  branch_id        state  zone  case_count\n",
       "0       2017-04-01        1        1.0  WEST BENGAL  EAST        40.0\n",
       "1       2017-04-03        1        1.0  WEST BENGAL  EAST         5.0\n",
       "2       2017-04-04        1        1.0  WEST BENGAL  EAST         4.0\n",
       "3       2017-04-05        1        1.0  WEST BENGAL  EAST       113.0\n",
       "4       2017-04-07        1        1.0  WEST BENGAL  EAST        76.0"
      ]
     },
     "execution_count": 7,
     "metadata": {
      "tags": []
     },
     "output_type": "execute_result"
    }
   ],
   "source": [
    "# filtering segment 1\n",
    "segment1 = df_case_count[df_case_count['segment'] == 1]\n",
    "print('segment1 shape:',segment1.shape)\n",
    "segment1.head()"
   ]
  },
  {
   "cell_type": "code",
   "execution_count": 8,
   "metadata": {
    "colab": {
     "base_uri": "https://localhost:8080/",
     "height": 419
    },
    "colab_type": "code",
    "executionInfo": {
     "elapsed": 4903,
     "status": "ok",
     "timestamp": 1580050453713,
     "user": {
      "displayName": "Tarun Koundinya",
      "photoUrl": "https://lh3.googleusercontent.com/a-/AAuE7mCuJFCbjNNUC21JfUrOEkSyuTMp8VnRZcH3JXTsOg=s64",
      "userId": "06377727563339288111"
     },
     "user_tz": -330
    },
    "id": "FiZB2iO5ULQC",
    "outputId": "4ce2e706-c055-43c5-e871-55af24029345"
   },
   "outputs": [
    {
     "data": {
      "text/html": [
       "<div>\n",
       "<style scoped>\n",
       "    .dataframe tbody tr th:only-of-type {\n",
       "        vertical-align: middle;\n",
       "    }\n",
       "\n",
       "    .dataframe tbody tr th {\n",
       "        vertical-align: top;\n",
       "    }\n",
       "\n",
       "    .dataframe thead th {\n",
       "        text-align: right;\n",
       "    }\n",
       "</style>\n",
       "<table border=\"1\" class=\"dataframe\">\n",
       "  <thead>\n",
       "    <tr style=\"text-align: right;\">\n",
       "      <th></th>\n",
       "      <th>application_date</th>\n",
       "      <th>segment</th>\n",
       "      <th>branch_id</th>\n",
       "      <th>state</th>\n",
       "      <th>zone</th>\n",
       "      <th>case_count</th>\n",
       "    </tr>\n",
       "  </thead>\n",
       "  <tbody>\n",
       "    <tr>\n",
       "      <th>0</th>\n",
       "      <td>2017-04-01</td>\n",
       "      <td>1</td>\n",
       "      <td>1.0</td>\n",
       "      <td>WEST BENGAL</td>\n",
       "      <td>EAST</td>\n",
       "      <td>40.0</td>\n",
       "    </tr>\n",
       "    <tr>\n",
       "      <th>806</th>\n",
       "      <td>2017-04-01</td>\n",
       "      <td>1</td>\n",
       "      <td>3.0</td>\n",
       "      <td>DELHI</td>\n",
       "      <td>NORTH</td>\n",
       "      <td>58.0</td>\n",
       "    </tr>\n",
       "    <tr>\n",
       "      <th>1612</th>\n",
       "      <td>2017-04-01</td>\n",
       "      <td>1</td>\n",
       "      <td>5.0</td>\n",
       "      <td>KARNATAKA</td>\n",
       "      <td>SOUTH</td>\n",
       "      <td>10.0</td>\n",
       "    </tr>\n",
       "    <tr>\n",
       "      <th>2418</th>\n",
       "      <td>2017-04-01</td>\n",
       "      <td>1</td>\n",
       "      <td>7.0</td>\n",
       "      <td>WEST BENGAL</td>\n",
       "      <td>EAST</td>\n",
       "      <td>2.0</td>\n",
       "    </tr>\n",
       "    <tr>\n",
       "      <th>3224</th>\n",
       "      <td>2017-04-01</td>\n",
       "      <td>1</td>\n",
       "      <td>8.0</td>\n",
       "      <td>WEST BENGAL</td>\n",
       "      <td>EAST</td>\n",
       "      <td>13.0</td>\n",
       "    </tr>\n",
       "    <tr>\n",
       "      <th>...</th>\n",
       "      <td>...</td>\n",
       "      <td>...</td>\n",
       "      <td>...</td>\n",
       "      <td>...</td>\n",
       "      <td>...</td>\n",
       "      <td>...</td>\n",
       "    </tr>\n",
       "    <tr>\n",
       "      <th>62868</th>\n",
       "      <td>2017-04-01</td>\n",
       "      <td>1</td>\n",
       "      <td>267.0</td>\n",
       "      <td>ANDHRA PRADESH</td>\n",
       "      <td>SOUTH</td>\n",
       "      <td>0.0</td>\n",
       "    </tr>\n",
       "    <tr>\n",
       "      <th>63674</th>\n",
       "      <td>2017-04-01</td>\n",
       "      <td>1</td>\n",
       "      <td>268.0</td>\n",
       "      <td>UTTAR PRADESH</td>\n",
       "      <td>EAST</td>\n",
       "      <td>0.0</td>\n",
       "    </tr>\n",
       "    <tr>\n",
       "      <th>64480</th>\n",
       "      <td>2017-04-01</td>\n",
       "      <td>1</td>\n",
       "      <td>269.0</td>\n",
       "      <td>UTTAR PRADESH</td>\n",
       "      <td>EAST</td>\n",
       "      <td>0.0</td>\n",
       "    </tr>\n",
       "    <tr>\n",
       "      <th>65286</th>\n",
       "      <td>2017-04-01</td>\n",
       "      <td>1</td>\n",
       "      <td>270.0</td>\n",
       "      <td>UTTAR PRADESH</td>\n",
       "      <td>EAST</td>\n",
       "      <td>0.0</td>\n",
       "    </tr>\n",
       "    <tr>\n",
       "      <th>66092</th>\n",
       "      <td>2017-04-01</td>\n",
       "      <td>1</td>\n",
       "      <td>271.0</td>\n",
       "      <td>HARYANA</td>\n",
       "      <td>NORTH</td>\n",
       "      <td>0.0</td>\n",
       "    </tr>\n",
       "  </tbody>\n",
       "</table>\n",
       "<p>83 rows × 6 columns</p>\n",
       "</div>"
      ],
      "text/plain": [
       "      application_date  segment  branch_id           state   zone  case_count\n",
       "0           2017-04-01        1        1.0     WEST BENGAL   EAST        40.0\n",
       "806         2017-04-01        1        3.0           DELHI  NORTH        58.0\n",
       "1612        2017-04-01        1        5.0       KARNATAKA  SOUTH        10.0\n",
       "2418        2017-04-01        1        7.0     WEST BENGAL   EAST         2.0\n",
       "3224        2017-04-01        1        8.0     WEST BENGAL   EAST        13.0\n",
       "...                ...      ...        ...             ...    ...         ...\n",
       "62868       2017-04-01        1      267.0  ANDHRA PRADESH  SOUTH         0.0\n",
       "63674       2017-04-01        1      268.0   UTTAR PRADESH   EAST         0.0\n",
       "64480       2017-04-01        1      269.0   UTTAR PRADESH   EAST         0.0\n",
       "65286       2017-04-01        1      270.0   UTTAR PRADESH   EAST         0.0\n",
       "66092       2017-04-01        1      271.0         HARYANA  NORTH         0.0\n",
       "\n",
       "[83 rows x 6 columns]"
      ]
     },
     "execution_count": 8,
     "metadata": {
      "tags": []
     },
     "output_type": "execute_result"
    }
   ],
   "source": [
    "# checking the case_count (i.e number of applications) on 2017-04-01\n",
    "segment1[segment1['application_date'] == '2017-04-01']"
   ]
  },
  {
   "cell_type": "code",
   "execution_count": 9,
   "metadata": {
    "colab": {
     "base_uri": "https://localhost:8080/",
     "height": 221
    },
    "colab_type": "code",
    "executionInfo": {
     "elapsed": 4644,
     "status": "ok",
     "timestamp": 1580050453714,
     "user": {
      "displayName": "Tarun Koundinya",
      "photoUrl": "https://lh3.googleusercontent.com/a-/AAuE7mCuJFCbjNNUC21JfUrOEkSyuTMp8VnRZcH3JXTsOg=s64",
      "userId": "06377727563339288111"
     },
     "user_tz": -330
    },
    "id": "oLpcJKU5ULQE",
    "outputId": "de3c910c-27de-4b89-9d9c-b61513f223be"
   },
   "outputs": [
    {
     "name": "stdout",
     "output_type": "stream",
     "text": [
      "segment1 shape: (66898, 6)\n"
     ]
    },
    {
     "data": {
      "text/html": [
       "<div>\n",
       "<style scoped>\n",
       "    .dataframe tbody tr th:only-of-type {\n",
       "        vertical-align: middle;\n",
       "    }\n",
       "\n",
       "    .dataframe tbody tr th {\n",
       "        vertical-align: top;\n",
       "    }\n",
       "\n",
       "    .dataframe thead th {\n",
       "        text-align: right;\n",
       "    }\n",
       "</style>\n",
       "<table border=\"1\" class=\"dataframe\">\n",
       "  <thead>\n",
       "    <tr style=\"text-align: right;\">\n",
       "      <th></th>\n",
       "      <th>application_date</th>\n",
       "      <th>segment</th>\n",
       "      <th>branch_id</th>\n",
       "      <th>state</th>\n",
       "      <th>zone</th>\n",
       "      <th>case_count</th>\n",
       "    </tr>\n",
       "  </thead>\n",
       "  <tbody>\n",
       "    <tr>\n",
       "      <th>0</th>\n",
       "      <td>2017-04-01</td>\n",
       "      <td>1</td>\n",
       "      <td>1.0</td>\n",
       "      <td>WEST BENGAL</td>\n",
       "      <td>EAST</td>\n",
       "      <td>40.0</td>\n",
       "    </tr>\n",
       "    <tr>\n",
       "      <th>1</th>\n",
       "      <td>2017-04-03</td>\n",
       "      <td>1</td>\n",
       "      <td>1.0</td>\n",
       "      <td>WEST BENGAL</td>\n",
       "      <td>EAST</td>\n",
       "      <td>5.0</td>\n",
       "    </tr>\n",
       "    <tr>\n",
       "      <th>2</th>\n",
       "      <td>2017-04-04</td>\n",
       "      <td>1</td>\n",
       "      <td>1.0</td>\n",
       "      <td>WEST BENGAL</td>\n",
       "      <td>EAST</td>\n",
       "      <td>4.0</td>\n",
       "    </tr>\n",
       "    <tr>\n",
       "      <th>3</th>\n",
       "      <td>2017-04-05</td>\n",
       "      <td>1</td>\n",
       "      <td>1.0</td>\n",
       "      <td>WEST BENGAL</td>\n",
       "      <td>EAST</td>\n",
       "      <td>113.0</td>\n",
       "    </tr>\n",
       "    <tr>\n",
       "      <th>4</th>\n",
       "      <td>2017-04-07</td>\n",
       "      <td>1</td>\n",
       "      <td>1.0</td>\n",
       "      <td>WEST BENGAL</td>\n",
       "      <td>EAST</td>\n",
       "      <td>76.0</td>\n",
       "    </tr>\n",
       "  </tbody>\n",
       "</table>\n",
       "</div>"
      ],
      "text/plain": [
       "  application_date  segment  branch_id        state  zone  case_count\n",
       "0       2017-04-01        1        1.0  WEST BENGAL  EAST        40.0\n",
       "1       2017-04-03        1        1.0  WEST BENGAL  EAST         5.0\n",
       "2       2017-04-04        1        1.0  WEST BENGAL  EAST         4.0\n",
       "3       2017-04-05        1        1.0  WEST BENGAL  EAST       113.0\n",
       "4       2017-04-07        1        1.0  WEST BENGAL  EAST        76.0"
      ]
     },
     "execution_count": 9,
     "metadata": {
      "tags": []
     },
     "output_type": "execute_result"
    }
   ],
   "source": [
    "# converting application_date column to date time format\n",
    "segment1['application_date'] = pd.to_datetime(segment1['application_date'])\n",
    "print('segment1 shape:',segment1.shape)\n",
    "segment1.head()"
   ]
  },
  {
   "cell_type": "code",
   "execution_count": 10,
   "metadata": {
    "colab": {
     "base_uri": "https://localhost:8080/",
     "height": 221
    },
    "colab_type": "code",
    "executionInfo": {
     "elapsed": 4404,
     "status": "ok",
     "timestamp": 1580050453714,
     "user": {
      "displayName": "Tarun Koundinya",
      "photoUrl": "https://lh3.googleusercontent.com/a-/AAuE7mCuJFCbjNNUC21JfUrOEkSyuTMp8VnRZcH3JXTsOg=s64",
      "userId": "06377727563339288111"
     },
     "user_tz": -330
    },
    "id": "nM-ckC_oULQH",
    "outputId": "fac6d33c-8fe9-494c-e07c-287f9d325a77"
   },
   "outputs": [
    {
     "name": "stdout",
     "output_type": "stream",
     "text": [
      "segment1 shape: (806, 2)\n"
     ]
    },
    {
     "data": {
      "text/html": [
       "<div>\n",
       "<style scoped>\n",
       "    .dataframe tbody tr th:only-of-type {\n",
       "        vertical-align: middle;\n",
       "    }\n",
       "\n",
       "    .dataframe tbody tr th {\n",
       "        vertical-align: top;\n",
       "    }\n",
       "\n",
       "    .dataframe thead th {\n",
       "        text-align: right;\n",
       "    }\n",
       "</style>\n",
       "<table border=\"1\" class=\"dataframe\">\n",
       "  <thead>\n",
       "    <tr style=\"text-align: right;\">\n",
       "      <th></th>\n",
       "      <th>application_date</th>\n",
       "      <th>case_count</th>\n",
       "    </tr>\n",
       "  </thead>\n",
       "  <tbody>\n",
       "    <tr>\n",
       "      <th>0</th>\n",
       "      <td>2017-04-01</td>\n",
       "      <td>299.0</td>\n",
       "    </tr>\n",
       "    <tr>\n",
       "      <th>1</th>\n",
       "      <td>2017-04-03</td>\n",
       "      <td>42.0</td>\n",
       "    </tr>\n",
       "    <tr>\n",
       "      <th>2</th>\n",
       "      <td>2017-04-04</td>\n",
       "      <td>23.0</td>\n",
       "    </tr>\n",
       "    <tr>\n",
       "      <th>3</th>\n",
       "      <td>2017-04-05</td>\n",
       "      <td>1530.0</td>\n",
       "    </tr>\n",
       "    <tr>\n",
       "      <th>4</th>\n",
       "      <td>2017-04-07</td>\n",
       "      <td>1341.0</td>\n",
       "    </tr>\n",
       "  </tbody>\n",
       "</table>\n",
       "</div>"
      ],
      "text/plain": [
       "  application_date  case_count\n",
       "0       2017-04-01       299.0\n",
       "1       2017-04-03        42.0\n",
       "2       2017-04-04        23.0\n",
       "3       2017-04-05      1530.0\n",
       "4       2017-04-07      1341.0"
      ]
     },
     "execution_count": 10,
     "metadata": {
      "tags": []
     },
     "output_type": "execute_result"
    }
   ],
   "source": [
    "#groupby application_date and sum the case_count\n",
    "# grouping is doing to check / predict number of case_count on each day\n",
    "segment1 = segment1.groupby('application_date').case_count.sum().reset_index()\n",
    "print('segment1 shape:', segment1.shape)\n",
    "segment1.head()"
   ]
  },
  {
   "cell_type": "code",
   "execution_count": 11,
   "metadata": {
    "colab": {
     "base_uri": "https://localhost:8080/",
     "height": 542
    },
    "colab_type": "code",
    "executionInfo": {
     "elapsed": 4279,
     "status": "ok",
     "timestamp": 1580050453715,
     "user": {
      "displayName": "Tarun Koundinya",
      "photoUrl": "https://lh3.googleusercontent.com/a-/AAuE7mCuJFCbjNNUC21JfUrOEkSyuTMp8VnRZcH3JXTsOg=s64",
      "userId": "06377727563339288111"
     },
     "user_tz": -330
    },
    "id": "qvp29S8SULQK",
    "outputId": "82b1cd38-0d55-4679-b536-adb53eaf09a5"
   },
   "outputs": [
    {
     "data": {
      "application/vnd.plotly.v1+json": {
       "config": {
        "linkText": "Export to plot.ly",
        "plotlyServerURL": "https://plot.ly",
        "showLink": false
       },
       "data": [
        {
         "type": "scatter",
         "x": [
          "2017-04-01T00:00:00",
          "2017-04-03T00:00:00",
          "2017-04-04T00:00:00",
          "2017-04-05T00:00:00",
          "2017-04-07T00:00:00",
          "2017-04-12T00:00:00",
          "2017-04-13T00:00:00",
          "2017-04-14T00:00:00",
          "2017-04-15T00:00:00",
          "2017-04-16T00:00:00",
          "2017-04-17T00:00:00",
          "2017-04-18T00:00:00",
          "2017-04-19T00:00:00",
          "2017-04-20T00:00:00",
          "2017-04-21T00:00:00",
          "2017-04-22T00:00:00",
          "2017-04-23T00:00:00",
          "2017-04-24T00:00:00",
          "2017-04-25T00:00:00",
          "2017-04-26T00:00:00",
          "2017-04-27T00:00:00",
          "2017-04-28T00:00:00",
          "2017-04-29T00:00:00",
          "2017-04-30T00:00:00",
          "2017-05-01T00:00:00",
          "2017-05-02T00:00:00",
          "2017-05-03T00:00:00",
          "2017-05-04T00:00:00",
          "2017-05-05T00:00:00",
          "2017-05-07T00:00:00",
          "2017-05-08T00:00:00",
          "2017-05-09T00:00:00",
          "2017-05-10T00:00:00",
          "2017-05-11T00:00:00",
          "2017-05-12T00:00:00",
          "2017-05-13T00:00:00",
          "2017-05-14T00:00:00",
          "2017-05-15T00:00:00",
          "2017-05-16T00:00:00",
          "2017-05-17T00:00:00",
          "2017-05-18T00:00:00",
          "2017-05-19T00:00:00",
          "2017-05-20T00:00:00",
          "2017-05-21T00:00:00",
          "2017-05-22T00:00:00",
          "2017-05-23T00:00:00",
          "2017-05-24T00:00:00",
          "2017-05-25T00:00:00",
          "2017-05-26T00:00:00",
          "2017-05-27T00:00:00",
          "2017-05-28T00:00:00",
          "2017-05-29T00:00:00",
          "2017-05-30T00:00:00",
          "2017-05-31T00:00:00",
          "2017-06-01T00:00:00",
          "2017-06-02T00:00:00",
          "2017-06-03T00:00:00",
          "2017-06-04T00:00:00",
          "2017-06-05T00:00:00",
          "2017-06-06T00:00:00",
          "2017-06-07T00:00:00",
          "2017-06-08T00:00:00",
          "2017-06-09T00:00:00",
          "2017-06-10T00:00:00",
          "2017-06-11T00:00:00",
          "2017-06-12T00:00:00",
          "2017-06-13T00:00:00",
          "2017-06-14T00:00:00",
          "2017-06-15T00:00:00",
          "2017-06-16T00:00:00",
          "2017-06-17T00:00:00",
          "2017-06-18T00:00:00",
          "2017-06-19T00:00:00",
          "2017-06-20T00:00:00",
          "2017-06-21T00:00:00",
          "2017-06-22T00:00:00",
          "2017-06-23T00:00:00",
          "2017-06-24T00:00:00",
          "2017-06-25T00:00:00",
          "2017-06-26T00:00:00",
          "2017-06-27T00:00:00",
          "2017-06-28T00:00:00",
          "2017-06-29T00:00:00",
          "2017-06-30T00:00:00",
          "2017-07-01T00:00:00",
          "2017-07-02T00:00:00",
          "2017-07-05T00:00:00",
          "2017-07-06T00:00:00",
          "2017-07-07T00:00:00",
          "2017-07-10T00:00:00",
          "2017-07-11T00:00:00",
          "2017-07-12T00:00:00",
          "2017-07-13T00:00:00",
          "2017-07-14T00:00:00",
          "2017-07-15T00:00:00",
          "2017-07-16T00:00:00",
          "2017-07-17T00:00:00",
          "2017-07-18T00:00:00",
          "2017-07-19T00:00:00",
          "2017-07-20T00:00:00",
          "2017-07-21T00:00:00",
          "2017-07-22T00:00:00",
          "2017-07-23T00:00:00",
          "2017-07-24T00:00:00",
          "2017-07-25T00:00:00",
          "2017-07-26T00:00:00",
          "2017-07-27T00:00:00",
          "2017-07-28T00:00:00",
          "2017-07-29T00:00:00",
          "2017-07-30T00:00:00",
          "2017-07-31T00:00:00",
          "2017-08-01T00:00:00",
          "2017-08-03T00:00:00",
          "2017-08-04T00:00:00",
          "2017-08-05T00:00:00",
          "2017-08-06T00:00:00",
          "2017-08-07T00:00:00",
          "2017-08-08T00:00:00",
          "2017-08-09T00:00:00",
          "2017-08-10T00:00:00",
          "2017-08-11T00:00:00",
          "2017-08-12T00:00:00",
          "2017-08-13T00:00:00",
          "2017-08-14T00:00:00",
          "2017-08-15T00:00:00",
          "2017-08-16T00:00:00",
          "2017-08-17T00:00:00",
          "2017-08-18T00:00:00",
          "2017-08-19T00:00:00",
          "2017-08-20T00:00:00",
          "2017-08-21T00:00:00",
          "2017-08-22T00:00:00",
          "2017-08-23T00:00:00",
          "2017-08-24T00:00:00",
          "2017-08-25T00:00:00",
          "2017-08-26T00:00:00",
          "2017-08-27T00:00:00",
          "2017-08-28T00:00:00",
          "2017-08-29T00:00:00",
          "2017-08-30T00:00:00",
          "2017-08-31T00:00:00",
          "2017-09-04T00:00:00",
          "2017-09-05T00:00:00",
          "2017-09-07T00:00:00",
          "2017-09-08T00:00:00",
          "2017-09-09T00:00:00",
          "2017-09-10T00:00:00",
          "2017-09-11T00:00:00",
          "2017-09-12T00:00:00",
          "2017-09-13T00:00:00",
          "2017-09-14T00:00:00",
          "2017-09-15T00:00:00",
          "2017-09-16T00:00:00",
          "2017-09-17T00:00:00",
          "2017-09-18T00:00:00",
          "2017-09-19T00:00:00",
          "2017-09-20T00:00:00",
          "2017-09-21T00:00:00",
          "2017-09-22T00:00:00",
          "2017-09-23T00:00:00",
          "2017-09-24T00:00:00",
          "2017-09-25T00:00:00",
          "2017-09-26T00:00:00",
          "2017-09-27T00:00:00",
          "2017-09-28T00:00:00",
          "2017-09-29T00:00:00",
          "2017-09-30T00:00:00",
          "2017-10-01T00:00:00",
          "2017-10-02T00:00:00",
          "2017-10-03T00:00:00",
          "2017-10-04T00:00:00",
          "2017-10-05T00:00:00",
          "2017-10-06T00:00:00",
          "2017-10-07T00:00:00",
          "2017-10-08T00:00:00",
          "2017-10-09T00:00:00",
          "2017-10-10T00:00:00",
          "2017-10-11T00:00:00",
          "2017-10-12T00:00:00",
          "2017-10-13T00:00:00",
          "2017-10-14T00:00:00",
          "2017-10-15T00:00:00",
          "2017-10-16T00:00:00",
          "2017-10-17T00:00:00",
          "2017-10-18T00:00:00",
          "2017-10-19T00:00:00",
          "2017-10-20T00:00:00",
          "2017-10-21T00:00:00",
          "2017-10-22T00:00:00",
          "2017-10-23T00:00:00",
          "2017-10-24T00:00:00",
          "2017-10-25T00:00:00",
          "2017-10-26T00:00:00",
          "2017-10-27T00:00:00",
          "2017-10-28T00:00:00",
          "2017-10-29T00:00:00",
          "2017-10-30T00:00:00",
          "2017-10-31T00:00:00",
          "2017-11-01T00:00:00",
          "2017-11-02T00:00:00",
          "2017-11-03T00:00:00",
          "2017-11-04T00:00:00",
          "2017-11-05T00:00:00",
          "2017-11-06T00:00:00",
          "2017-11-07T00:00:00",
          "2017-11-08T00:00:00",
          "2017-11-09T00:00:00",
          "2017-11-10T00:00:00",
          "2017-11-11T00:00:00",
          "2017-11-12T00:00:00",
          "2017-11-13T00:00:00",
          "2017-11-14T00:00:00",
          "2017-11-15T00:00:00",
          "2017-11-16T00:00:00",
          "2017-11-17T00:00:00",
          "2017-11-18T00:00:00",
          "2017-11-19T00:00:00",
          "2017-11-20T00:00:00",
          "2017-11-21T00:00:00",
          "2017-11-22T00:00:00",
          "2017-11-23T00:00:00",
          "2017-11-24T00:00:00",
          "2017-11-25T00:00:00",
          "2017-11-26T00:00:00",
          "2017-11-27T00:00:00",
          "2017-11-28T00:00:00",
          "2017-11-29T00:00:00",
          "2017-11-30T00:00:00",
          "2017-12-01T00:00:00",
          "2017-12-02T00:00:00",
          "2017-12-03T00:00:00",
          "2017-12-04T00:00:00",
          "2017-12-05T00:00:00",
          "2017-12-06T00:00:00",
          "2017-12-07T00:00:00",
          "2017-12-08T00:00:00",
          "2017-12-09T00:00:00",
          "2017-12-10T00:00:00",
          "2017-12-11T00:00:00",
          "2017-12-12T00:00:00",
          "2017-12-13T00:00:00",
          "2017-12-14T00:00:00",
          "2017-12-15T00:00:00",
          "2017-12-16T00:00:00",
          "2017-12-17T00:00:00",
          "2017-12-18T00:00:00",
          "2017-12-19T00:00:00",
          "2017-12-20T00:00:00",
          "2017-12-21T00:00:00",
          "2017-12-22T00:00:00",
          "2017-12-23T00:00:00",
          "2017-12-24T00:00:00",
          "2017-12-25T00:00:00",
          "2017-12-26T00:00:00",
          "2017-12-27T00:00:00",
          "2017-12-28T00:00:00",
          "2017-12-29T00:00:00",
          "2017-12-30T00:00:00",
          "2017-12-31T00:00:00",
          "2018-01-01T00:00:00",
          "2018-01-02T00:00:00",
          "2018-01-03T00:00:00",
          "2018-01-04T00:00:00",
          "2018-01-05T00:00:00",
          "2018-01-06T00:00:00",
          "2018-01-08T00:00:00",
          "2018-01-09T00:00:00",
          "2018-01-10T00:00:00",
          "2018-01-11T00:00:00",
          "2018-01-12T00:00:00",
          "2018-01-13T00:00:00",
          "2018-01-14T00:00:00",
          "2018-01-15T00:00:00",
          "2018-01-16T00:00:00",
          "2018-01-17T00:00:00",
          "2018-01-18T00:00:00",
          "2018-01-19T00:00:00",
          "2018-01-20T00:00:00",
          "2018-01-21T00:00:00",
          "2018-01-22T00:00:00",
          "2018-01-23T00:00:00",
          "2018-01-24T00:00:00",
          "2018-01-25T00:00:00",
          "2018-01-26T00:00:00",
          "2018-01-27T00:00:00",
          "2018-01-28T00:00:00",
          "2018-01-29T00:00:00",
          "2018-01-30T00:00:00",
          "2018-01-31T00:00:00",
          "2018-02-01T00:00:00",
          "2018-02-02T00:00:00",
          "2018-02-03T00:00:00",
          "2018-02-05T00:00:00",
          "2018-02-06T00:00:00",
          "2018-02-07T00:00:00",
          "2018-02-08T00:00:00",
          "2018-02-09T00:00:00",
          "2018-02-10T00:00:00",
          "2018-02-11T00:00:00",
          "2018-02-12T00:00:00",
          "2018-02-13T00:00:00",
          "2018-02-14T00:00:00",
          "2018-02-15T00:00:00",
          "2018-02-16T00:00:00",
          "2018-02-17T00:00:00",
          "2018-02-18T00:00:00",
          "2018-02-19T00:00:00",
          "2018-02-20T00:00:00",
          "2018-02-21T00:00:00",
          "2018-02-22T00:00:00",
          "2018-02-23T00:00:00",
          "2018-02-24T00:00:00",
          "2018-02-25T00:00:00",
          "2018-02-26T00:00:00",
          "2018-02-27T00:00:00",
          "2018-02-28T00:00:00",
          "2018-03-01T00:00:00",
          "2018-03-03T00:00:00",
          "2018-03-05T00:00:00",
          "2018-03-06T00:00:00",
          "2018-03-07T00:00:00",
          "2018-03-08T00:00:00",
          "2018-03-09T00:00:00",
          "2018-03-10T00:00:00",
          "2018-03-11T00:00:00",
          "2018-03-12T00:00:00",
          "2018-03-13T00:00:00",
          "2018-03-14T00:00:00",
          "2018-03-15T00:00:00",
          "2018-03-16T00:00:00",
          "2018-03-17T00:00:00",
          "2018-03-18T00:00:00",
          "2018-03-19T00:00:00",
          "2018-03-20T00:00:00",
          "2018-03-21T00:00:00",
          "2018-03-22T00:00:00",
          "2018-03-23T00:00:00",
          "2018-03-24T00:00:00",
          "2018-03-25T00:00:00",
          "2018-03-26T00:00:00",
          "2018-03-27T00:00:00",
          "2018-03-28T00:00:00",
          "2018-03-29T00:00:00",
          "2018-03-30T00:00:00",
          "2018-03-31T00:00:00",
          "2018-04-01T00:00:00",
          "2018-04-02T00:00:00",
          "2018-04-03T00:00:00",
          "2018-04-04T00:00:00",
          "2018-04-05T00:00:00",
          "2018-04-06T00:00:00",
          "2018-04-07T00:00:00",
          "2018-04-08T00:00:00",
          "2018-04-09T00:00:00",
          "2018-04-10T00:00:00",
          "2018-04-11T00:00:00",
          "2018-04-12T00:00:00",
          "2018-04-13T00:00:00",
          "2018-04-14T00:00:00",
          "2018-04-15T00:00:00",
          "2018-04-16T00:00:00",
          "2018-04-17T00:00:00",
          "2018-04-18T00:00:00",
          "2018-04-19T00:00:00",
          "2018-04-20T00:00:00",
          "2018-04-21T00:00:00",
          "2018-04-22T00:00:00",
          "2018-04-23T00:00:00",
          "2018-04-24T00:00:00",
          "2018-04-25T00:00:00",
          "2018-04-26T00:00:00",
          "2018-04-27T00:00:00",
          "2018-04-28T00:00:00",
          "2018-04-29T00:00:00",
          "2018-04-30T00:00:00",
          "2018-05-01T00:00:00",
          "2018-05-02T00:00:00",
          "2018-05-03T00:00:00",
          "2018-05-04T00:00:00",
          "2018-05-05T00:00:00",
          "2018-05-06T00:00:00",
          "2018-05-07T00:00:00",
          "2018-05-08T00:00:00",
          "2018-05-09T00:00:00",
          "2018-05-10T00:00:00",
          "2018-05-11T00:00:00",
          "2018-05-12T00:00:00",
          "2018-05-13T00:00:00",
          "2018-05-14T00:00:00",
          "2018-05-15T00:00:00",
          "2018-05-16T00:00:00",
          "2018-05-17T00:00:00",
          "2018-05-18T00:00:00",
          "2018-05-19T00:00:00",
          "2018-05-20T00:00:00",
          "2018-05-21T00:00:00",
          "2018-05-22T00:00:00",
          "2018-05-23T00:00:00",
          "2018-05-24T00:00:00",
          "2018-05-25T00:00:00",
          "2018-05-26T00:00:00",
          "2018-05-27T00:00:00",
          "2018-05-28T00:00:00",
          "2018-05-29T00:00:00",
          "2018-05-30T00:00:00",
          "2018-05-31T00:00:00",
          "2018-06-01T00:00:00",
          "2018-06-02T00:00:00",
          "2018-06-03T00:00:00",
          "2018-06-04T00:00:00",
          "2018-06-05T00:00:00",
          "2018-06-06T00:00:00",
          "2018-06-07T00:00:00",
          "2018-06-08T00:00:00",
          "2018-06-09T00:00:00",
          "2018-06-10T00:00:00",
          "2018-06-11T00:00:00",
          "2018-06-12T00:00:00",
          "2018-06-13T00:00:00",
          "2018-06-14T00:00:00",
          "2018-06-15T00:00:00",
          "2018-06-16T00:00:00",
          "2018-06-17T00:00:00",
          "2018-06-18T00:00:00",
          "2018-06-19T00:00:00",
          "2018-06-20T00:00:00",
          "2018-06-21T00:00:00",
          "2018-06-22T00:00:00",
          "2018-06-23T00:00:00",
          "2018-06-24T00:00:00",
          "2018-06-25T00:00:00",
          "2018-06-26T00:00:00",
          "2018-06-27T00:00:00",
          "2018-06-28T00:00:00",
          "2018-06-29T00:00:00",
          "2018-06-30T00:00:00",
          "2018-07-01T00:00:00",
          "2018-07-02T00:00:00",
          "2018-07-03T00:00:00",
          "2018-07-04T00:00:00",
          "2018-07-05T00:00:00",
          "2018-07-06T00:00:00",
          "2018-07-07T00:00:00",
          "2018-07-08T00:00:00",
          "2018-07-09T00:00:00",
          "2018-07-10T00:00:00",
          "2018-07-11T00:00:00",
          "2018-07-12T00:00:00",
          "2018-07-13T00:00:00",
          "2018-07-14T00:00:00",
          "2018-07-15T00:00:00",
          "2018-07-16T00:00:00",
          "2018-07-17T00:00:00",
          "2018-07-18T00:00:00",
          "2018-07-19T00:00:00",
          "2018-07-20T00:00:00",
          "2018-07-21T00:00:00",
          "2018-07-22T00:00:00",
          "2018-07-23T00:00:00",
          "2018-07-24T00:00:00",
          "2018-07-25T00:00:00",
          "2018-07-26T00:00:00",
          "2018-07-27T00:00:00",
          "2018-07-28T00:00:00",
          "2018-07-29T00:00:00",
          "2018-07-30T00:00:00",
          "2018-07-31T00:00:00",
          "2018-08-01T00:00:00",
          "2018-08-02T00:00:00",
          "2018-08-03T00:00:00",
          "2018-08-04T00:00:00",
          "2018-08-05T00:00:00",
          "2018-08-06T00:00:00",
          "2018-08-07T00:00:00",
          "2018-08-08T00:00:00",
          "2018-08-09T00:00:00",
          "2018-08-10T00:00:00",
          "2018-08-11T00:00:00",
          "2018-08-12T00:00:00",
          "2018-08-13T00:00:00",
          "2018-08-14T00:00:00",
          "2018-08-15T00:00:00",
          "2018-08-16T00:00:00",
          "2018-08-17T00:00:00",
          "2018-08-18T00:00:00",
          "2018-08-19T00:00:00",
          "2018-08-20T00:00:00",
          "2018-08-21T00:00:00",
          "2018-08-22T00:00:00",
          "2018-08-23T00:00:00",
          "2018-08-24T00:00:00",
          "2018-08-25T00:00:00",
          "2018-08-26T00:00:00",
          "2018-08-27T00:00:00",
          "2018-08-28T00:00:00",
          "2018-08-29T00:00:00",
          "2018-08-30T00:00:00",
          "2018-08-31T00:00:00",
          "2018-09-01T00:00:00",
          "2018-09-02T00:00:00",
          "2018-09-03T00:00:00",
          "2018-09-04T00:00:00",
          "2018-09-05T00:00:00",
          "2018-09-06T00:00:00",
          "2018-09-07T00:00:00",
          "2018-09-08T00:00:00",
          "2018-09-09T00:00:00",
          "2018-09-10T00:00:00",
          "2018-09-11T00:00:00",
          "2018-09-12T00:00:00",
          "2018-09-13T00:00:00",
          "2018-09-14T00:00:00",
          "2018-09-15T00:00:00",
          "2018-09-16T00:00:00",
          "2018-09-17T00:00:00",
          "2018-09-18T00:00:00",
          "2018-09-19T00:00:00",
          "2018-09-20T00:00:00",
          "2018-09-21T00:00:00",
          "2018-09-22T00:00:00",
          "2018-09-23T00:00:00",
          "2018-09-24T00:00:00",
          "2018-09-25T00:00:00",
          "2018-09-26T00:00:00",
          "2018-09-27T00:00:00",
          "2018-09-28T00:00:00",
          "2018-09-29T00:00:00",
          "2018-09-30T00:00:00",
          "2018-10-01T00:00:00",
          "2018-10-02T00:00:00",
          "2018-10-03T00:00:00",
          "2018-10-04T00:00:00",
          "2018-10-05T00:00:00",
          "2018-10-06T00:00:00",
          "2018-10-07T00:00:00",
          "2018-10-08T00:00:00",
          "2018-10-09T00:00:00",
          "2018-10-10T00:00:00",
          "2018-10-11T00:00:00",
          "2018-10-12T00:00:00",
          "2018-10-13T00:00:00",
          "2018-10-14T00:00:00",
          "2018-10-15T00:00:00",
          "2018-10-16T00:00:00",
          "2018-10-17T00:00:00",
          "2018-10-18T00:00:00",
          "2018-10-19T00:00:00",
          "2018-10-20T00:00:00",
          "2018-10-21T00:00:00",
          "2018-10-22T00:00:00",
          "2018-10-23T00:00:00",
          "2018-10-24T00:00:00",
          "2018-10-25T00:00:00",
          "2018-10-26T00:00:00",
          "2018-10-27T00:00:00",
          "2018-10-28T00:00:00",
          "2018-10-29T00:00:00",
          "2018-10-30T00:00:00",
          "2018-10-31T00:00:00",
          "2018-11-01T00:00:00",
          "2018-11-02T00:00:00",
          "2018-11-03T00:00:00",
          "2018-11-04T00:00:00",
          "2018-11-05T00:00:00",
          "2018-11-06T00:00:00",
          "2018-11-07T00:00:00",
          "2018-11-08T00:00:00",
          "2018-11-09T00:00:00",
          "2018-11-10T00:00:00",
          "2018-11-11T00:00:00",
          "2018-11-12T00:00:00",
          "2018-11-13T00:00:00",
          "2018-11-14T00:00:00",
          "2018-11-15T00:00:00",
          "2018-11-16T00:00:00",
          "2018-11-17T00:00:00",
          "2018-11-18T00:00:00",
          "2018-11-19T00:00:00",
          "2018-11-20T00:00:00",
          "2018-11-21T00:00:00",
          "2018-11-22T00:00:00",
          "2018-11-23T00:00:00",
          "2018-11-24T00:00:00",
          "2018-11-25T00:00:00",
          "2018-11-26T00:00:00",
          "2018-11-27T00:00:00",
          "2018-11-28T00:00:00",
          "2018-11-29T00:00:00",
          "2018-11-30T00:00:00",
          "2018-12-01T00:00:00",
          "2018-12-02T00:00:00",
          "2018-12-03T00:00:00",
          "2018-12-04T00:00:00",
          "2018-12-05T00:00:00",
          "2018-12-06T00:00:00",
          "2018-12-07T00:00:00",
          "2018-12-08T00:00:00",
          "2018-12-09T00:00:00",
          "2018-12-10T00:00:00",
          "2018-12-11T00:00:00",
          "2018-12-12T00:00:00",
          "2018-12-13T00:00:00",
          "2018-12-14T00:00:00",
          "2018-12-15T00:00:00",
          "2018-12-16T00:00:00",
          "2018-12-17T00:00:00",
          "2018-12-18T00:00:00",
          "2018-12-19T00:00:00",
          "2018-12-20T00:00:00",
          "2018-12-21T00:00:00",
          "2018-12-22T00:00:00",
          "2018-12-23T00:00:00",
          "2018-12-24T00:00:00",
          "2018-12-25T00:00:00",
          "2018-12-26T00:00:00",
          "2018-12-27T00:00:00",
          "2018-12-28T00:00:00",
          "2018-12-29T00:00:00",
          "2018-12-30T00:00:00",
          "2018-12-31T00:00:00",
          "2019-01-01T00:00:00",
          "2019-01-02T00:00:00",
          "2019-01-03T00:00:00",
          "2019-01-04T00:00:00",
          "2019-01-05T00:00:00",
          "2019-01-06T00:00:00",
          "2019-01-07T00:00:00",
          "2019-01-08T00:00:00",
          "2019-01-09T00:00:00",
          "2019-01-10T00:00:00",
          "2019-01-11T00:00:00",
          "2019-01-12T00:00:00",
          "2019-01-13T00:00:00",
          "2019-01-14T00:00:00",
          "2019-01-15T00:00:00",
          "2019-01-16T00:00:00",
          "2019-01-17T00:00:00",
          "2019-01-18T00:00:00",
          "2019-01-19T00:00:00",
          "2019-01-20T00:00:00",
          "2019-01-21T00:00:00",
          "2019-01-22T00:00:00",
          "2019-01-23T00:00:00",
          "2019-01-24T00:00:00",
          "2019-01-25T00:00:00",
          "2019-01-26T00:00:00",
          "2019-01-27T00:00:00",
          "2019-01-28T00:00:00",
          "2019-01-29T00:00:00",
          "2019-01-30T00:00:00",
          "2019-01-31T00:00:00",
          "2019-02-01T00:00:00",
          "2019-02-02T00:00:00",
          "2019-02-03T00:00:00",
          "2019-02-04T00:00:00",
          "2019-02-05T00:00:00",
          "2019-02-06T00:00:00",
          "2019-02-07T00:00:00",
          "2019-02-08T00:00:00",
          "2019-02-09T00:00:00",
          "2019-02-10T00:00:00",
          "2019-02-11T00:00:00",
          "2019-02-12T00:00:00",
          "2019-02-13T00:00:00",
          "2019-02-14T00:00:00",
          "2019-02-15T00:00:00",
          "2019-02-16T00:00:00",
          "2019-02-17T00:00:00",
          "2019-02-18T00:00:00",
          "2019-02-19T00:00:00",
          "2019-02-20T00:00:00",
          "2019-02-21T00:00:00",
          "2019-02-22T00:00:00",
          "2019-02-23T00:00:00",
          "2019-02-24T00:00:00",
          "2019-02-25T00:00:00",
          "2019-02-26T00:00:00",
          "2019-02-27T00:00:00",
          "2019-02-28T00:00:00",
          "2019-03-01T00:00:00",
          "2019-03-02T00:00:00",
          "2019-03-03T00:00:00",
          "2019-03-04T00:00:00",
          "2019-03-05T00:00:00",
          "2019-03-06T00:00:00",
          "2019-03-07T00:00:00",
          "2019-03-08T00:00:00",
          "2019-03-09T00:00:00",
          "2019-03-10T00:00:00",
          "2019-03-11T00:00:00",
          "2019-03-12T00:00:00",
          "2019-03-13T00:00:00",
          "2019-03-14T00:00:00",
          "2019-03-15T00:00:00",
          "2019-03-16T00:00:00",
          "2019-03-17T00:00:00",
          "2019-03-18T00:00:00",
          "2019-03-19T00:00:00",
          "2019-03-20T00:00:00",
          "2019-03-21T00:00:00",
          "2019-03-22T00:00:00",
          "2019-03-23T00:00:00",
          "2019-03-24T00:00:00",
          "2019-03-25T00:00:00",
          "2019-03-26T00:00:00",
          "2019-03-27T00:00:00",
          "2019-03-28T00:00:00",
          "2019-03-29T00:00:00",
          "2019-03-30T00:00:00",
          "2019-03-31T00:00:00",
          "2019-04-01T00:00:00",
          "2019-04-02T00:00:00",
          "2019-04-03T00:00:00",
          "2019-04-04T00:00:00",
          "2019-04-05T00:00:00",
          "2019-04-06T00:00:00",
          "2019-04-07T00:00:00",
          "2019-04-08T00:00:00",
          "2019-04-09T00:00:00",
          "2019-04-10T00:00:00",
          "2019-04-11T00:00:00",
          "2019-04-12T00:00:00",
          "2019-04-13T00:00:00",
          "2019-04-14T00:00:00",
          "2019-04-15T00:00:00",
          "2019-04-16T00:00:00",
          "2019-04-17T00:00:00",
          "2019-04-18T00:00:00",
          "2019-04-19T00:00:00",
          "2019-04-20T00:00:00",
          "2019-04-21T00:00:00",
          "2019-04-22T00:00:00",
          "2019-04-23T00:00:00",
          "2019-04-24T00:00:00",
          "2019-04-25T00:00:00",
          "2019-04-26T00:00:00",
          "2019-04-27T00:00:00",
          "2019-04-28T00:00:00",
          "2019-04-29T00:00:00",
          "2019-04-30T00:00:00",
          "2019-05-01T00:00:00",
          "2019-05-02T00:00:00",
          "2019-05-03T00:00:00",
          "2019-05-04T00:00:00",
          "2019-05-05T00:00:00",
          "2019-05-06T00:00:00",
          "2019-05-07T00:00:00",
          "2019-05-08T00:00:00",
          "2019-05-09T00:00:00",
          "2019-05-10T00:00:00",
          "2019-05-11T00:00:00",
          "2019-05-12T00:00:00",
          "2019-05-13T00:00:00",
          "2019-05-14T00:00:00",
          "2019-05-15T00:00:00",
          "2019-05-16T00:00:00",
          "2019-05-17T00:00:00",
          "2019-05-18T00:00:00",
          "2019-05-19T00:00:00",
          "2019-05-20T00:00:00",
          "2019-05-21T00:00:00",
          "2019-05-22T00:00:00",
          "2019-05-23T00:00:00",
          "2019-05-24T00:00:00",
          "2019-05-25T00:00:00",
          "2019-05-26T00:00:00",
          "2019-05-27T00:00:00",
          "2019-05-28T00:00:00",
          "2019-05-29T00:00:00",
          "2019-05-30T00:00:00",
          "2019-05-31T00:00:00",
          "2019-06-01T00:00:00",
          "2019-06-02T00:00:00",
          "2019-06-03T00:00:00",
          "2019-06-04T00:00:00",
          "2019-06-05T00:00:00",
          "2019-06-06T00:00:00",
          "2019-06-07T00:00:00",
          "2019-06-08T00:00:00",
          "2019-06-09T00:00:00",
          "2019-06-10T00:00:00",
          "2019-06-11T00:00:00",
          "2019-06-12T00:00:00",
          "2019-06-13T00:00:00",
          "2019-06-14T00:00:00",
          "2019-06-15T00:00:00",
          "2019-06-16T00:00:00",
          "2019-06-17T00:00:00",
          "2019-06-18T00:00:00",
          "2019-06-19T00:00:00",
          "2019-06-20T00:00:00",
          "2019-06-21T00:00:00",
          "2019-06-22T00:00:00",
          "2019-06-23T00:00:00",
          "2019-06-24T00:00:00",
          "2019-06-25T00:00:00",
          "2019-06-26T00:00:00",
          "2019-06-27T00:00:00",
          "2019-06-28T00:00:00",
          "2019-06-29T00:00:00",
          "2019-06-30T00:00:00",
          "2019-07-01T00:00:00",
          "2019-07-02T00:00:00",
          "2019-07-03T00:00:00",
          "2019-07-04T00:00:00",
          "2019-07-05T00:00:00"
         ],
         "y": [
          299,
          42,
          23,
          1530,
          1341,
          1468,
          1340,
          1330,
          981,
          409,
          1515,
          1442,
          1404,
          1350,
          1390,
          1060,
          380,
          1626,
          1450,
          1546,
          1710,
          1927,
          1355,
          6472,
          1472,
          198,
          76,
          165,
          2457,
          426,
          4,
          51,
          1582,
          1423,
          1533,
          1125,
          338,
          1733,
          1500,
          1632,
          1530,
          1576,
          1220,
          458,
          1746,
          1615,
          1623,
          1529,
          1587,
          1277,
          524,
          1935,
          1732,
          6740,
          3,
          642,
          497,
          408,
          1696,
          193,
          1736,
          1445,
          2061,
          1549,
          667,
          2176,
          1972,
          2053,
          1958,
          2111,
          1744,
          706,
          2443,
          2127,
          2363,
          2495,
          2639,
          2582,
          1647,
          1774,
          1935,
          2168,
          2291,
          9750,
          1811,
          5,
          1304,
          154,
          495,
          1878,
          1510,
          1713,
          1540,
          1552,
          1185,
          602,
          1842,
          1568,
          1592,
          1558,
          1623,
          1087,
          450,
          1774,
          1540,
          1586,
          1502,
          1710,
          1375,
          681,
          11594,
          921,
          2,
          1,
          4,
          3,
          1893,
          1850,
          2010,
          2037,
          1934,
          1838,
          965,
          2888,
          1229,
          2269,
          2012,
          2141,
          1723,
          813,
          2344,
          2063,
          2504,
          2693,
          2358,
          1589,
          839,
          2301,
          1906,
          2065,
          13590,
          6,
          1101,
          805,
          2073,
          1746,
          932,
          2378,
          2378,
          2551,
          2539,
          2836,
          2693,
          1376,
          3114,
          3080,
          3541,
          4436,
          4330,
          3701,
          3508,
          5201,
          5188,
          5378,
          4584,
          4464,
          21631,
          1280,
          226,
          172,
          209,
          352,
          361,
          274,
          573,
          1688,
          1839,
          3701,
          4017,
          4355,
          4048,
          3928,
          6696,
          7223,
          6344,
          4650,
          2423,
          1718,
          1002,
          2570,
          2272,
          2968,
          2533,
          2556,
          2062,
          883,
          2810,
          15429,
          583,
          29,
          65,
          40,
          6,
          60,
          251,
          1556,
          1872,
          1998,
          1532,
          636,
          2242,
          1988,
          1907,
          1838,
          1801,
          1537,
          2846,
          56,
          1934,
          1904,
          1914,
          1980,
          1471,
          572,
          2104,
          1827,
          1938,
          5966,
          56,
          44,
          292,
          1610,
          1650,
          1904,
          1875,
          1861,
          1485,
          621,
          2319,
          2237,
          2320,
          2260,
          2326,
          1796,
          767,
          2393,
          2180,
          2454,
          1886,
          1921,
          1981,
          757,
          2169,
          2251,
          2374,
          2555,
          2913,
          2736,
          14106,
          1391,
          84,
          45,
          76,
          1789,
          1372,
          81,
          2619,
          2497,
          2522,
          2757,
          2306,
          1167,
          2420,
          2625,
          2854,
          2947,
          2859,
          2218,
          1108,
          3198,
          2519,
          2574,
          2126,
          1454,
          2127,
          911,
          2821,
          2479,
          9628,
          472,
          66,
          52,
          2654,
          2419,
          2439,
          2369,
          2470,
          1974,
          966,
          3413,
          3092,
          2702,
          2354,
          2543,
          2003,
          923,
          2405,
          2488,
          2589,
          2513,
          2415,
          1908,
          963,
          2665,
          2530,
          9134,
          88,
          58,
          3243,
          2645,
          2821,
          2794,
          2832,
          2348,
          1324,
          3468,
          3023,
          3313,
          3515,
          3888,
          4041,
          3124,
          3576,
          2814,
          3059,
          3143,
          3311,
          2854,
          1655,
          3140,
          2922,
          3128,
          3126,
          3289,
          21885,
          2,
          122,
          74,
          59,
          63,
          52,
          19,
          123,
          5891,
          100,
          3493,
          3591,
          3490,
          2665,
          1803,
          3544,
          3756,
          4084,
          2772,
          2515,
          2087,
          1037,
          3019,
          2539,
          2634,
          2582,
          2456,
          2046,
          1158,
          4249,
          107,
          2739,
          2528,
          2421,
          1933,
          1084,
          3057,
          2452,
          2590,
          2638,
          2440,
          1852,
          1038,
          2633,
          2607,
          2823,
          2604,
          2599,
          2030,
          1114,
          3033,
          2623,
          2681,
          2713,
          2556,
          2004,
          1014,
          2871,
          2597,
          2559,
          4379,
          327,
          1964,
          1054,
          3234,
          3150,
          3228,
          3232,
          3169,
          2663,
          1620,
          3913,
          3571,
          4161,
          4532,
          4756,
          2377,
          1555,
          3907,
          3272,
          3454,
          3357,
          3569,
          2619,
          1309,
          3405,
          1903,
          3317,
          3646,
          3131,
          3873,
          138,
          3290,
          2974,
          3057,
          2934,
          2890,
          2320,
          1301,
          3561,
          3062,
          3319,
          3191,
          3486,
          2883,
          1145,
          3265,
          2800,
          3066,
          2903,
          2696,
          2021,
          1205,
          3280,
          2598,
          2889,
          2793,
          2798,
          2215,
          1176,
          3485,
          5856,
          2885,
          110,
          3043,
          2362,
          1161,
          3419,
          2923,
          2961,
          2754,
          3220,
          2542,
          1507,
          4220,
          3854,
          2417,
          3728,
          3208,
          2888,
          1449,
          4136,
          3638,
          2812,
          3300,
          3664,
          3090,
          1782,
          3423,
          2952,
          3290,
          3904,
          6433,
          1362,
          31,
          3324,
          2693,
          3018,
          3002,
          2950,
          2544,
          1454,
          2429,
          3755,
          4671,
          4232,
          3693,
          2992,
          2270,
          3517,
          3335,
          3568,
          3280,
          3066,
          2669,
          1947,
          3270,
          2837,
          2669,
          2882,
          3114,
          3125,
          5002,
          2459,
          63,
          3197,
          3070,
          3345,
          2917,
          2217,
          4324,
          4567,
          6574,
          5829,
          6026,
          5064,
          5184,
          7700,
          7420,
          7909,
          6828,
          4148,
          2888,
          2106,
          4574,
          3940,
          4727,
          4044,
          4311,
          3644,
          3037,
          5309,
          5358,
          18580,
          246,
          280,
          7962,
          9533,
          12517,
          10998,
          10393,
          5244,
          4690,
          3336,
          1895,
          5253,
          4162,
          4090,
          3237,
          3590,
          2855,
          1591,
          4528,
          3436,
          3466,
          3390,
          3556,
          2469,
          1346,
          3530,
          3056,
          3286,
          3251,
          5135,
          624,
          692,
          3455,
          2965,
          2891,
          2974,
          2743,
          2194,
          1227,
          3281,
          2894,
          3018,
          2987,
          3050,
          1911,
          1157,
          3250,
          2602,
          2989,
          2878,
          2887,
          2230,
          1290,
          3464,
          2848,
          2832,
          3026,
          3203,
          2709,
          1906,
          8116,
          125,
          3946,
          3519,
          3198,
          2285,
          1462,
          3132,
          3062,
          3192,
          3377,
          3316,
          2865,
          1815,
          3582,
          3126,
          3779,
          3628,
          3684,
          2847,
          1712,
          4085,
          3250,
          3522,
          3309,
          3473,
          1696,
          1349,
          3746,
          2736,
          3415,
          5981,
          223,
          2407,
          1590,
          3835,
          3301,
          3634,
          3176,
          5498,
          336,
          1862,
          3766,
          3317,
          2764,
          3327,
          3371,
          2407,
          1634,
          3531,
          3423,
          3250,
          3167,
          3127,
          1980,
          1519,
          3704,
          2985,
          3324,
          5196,
          2607,
          533,
          1619,
          4596,
          2947,
          3163,
          3189,
          3488,
          2491,
          1526,
          3968,
          3461,
          3535,
          3269,
          3418,
          2341,
          1869,
          4233,
          3609,
          3885,
          1357,
          3032,
          2790,
          1723,
          3996,
          3474,
          3593,
          3439,
          3528,
          3063,
          4871,
          772,
          3164,
          3880,
          3742,
          4424,
          4187,
          2030,
          4308,
          3150,
          3672,
          3087,
          3887,
          3102,
          1925,
          3477,
          2856,
          3251,
          2602,
          3271,
          2125,
          1406,
          3629,
          2445,
          3171,
          2951,
          2910,
          2160,
          1350,
          3274,
          2425,
          2317,
          3383,
          3025,
          2432,
          1538,
          3967,
          3845,
          2826,
          3131,
          3085,
          2453,
          1117,
          3720,
          3257,
          3416,
          3312,
          3239,
          2543,
          1361,
          3927,
          3175,
          3510,
          2808,
          3273,
          2527,
          1634,
          3880,
          3245,
          3519,
          3696,
          3717,
          2684,
          1948,
          4520,
          4757,
          3380,
          3768,
          3847,
          2724,
          1700,
          4174,
          3586,
          3786,
          3623,
          3498,
          2776,
          1760,
          4279,
          3301,
          3810,
          3538,
          3432,
          2512,
          1633,
          3804,
          3154,
          3443,
          3500,
          3519,
          2894,
          1951,
          3650,
          3212,
          3824,
          4240,
          13
         ]
        }
       ],
       "layout": {
        "template": {
         "data": {
          "bar": [
           {
            "error_x": {
             "color": "#2a3f5f"
            },
            "error_y": {
             "color": "#2a3f5f"
            },
            "marker": {
             "line": {
              "color": "#E5ECF6",
              "width": 0.5
             }
            },
            "type": "bar"
           }
          ],
          "barpolar": [
           {
            "marker": {
             "line": {
              "color": "#E5ECF6",
              "width": 0.5
             }
            },
            "type": "barpolar"
           }
          ],
          "carpet": [
           {
            "aaxis": {
             "endlinecolor": "#2a3f5f",
             "gridcolor": "white",
             "linecolor": "white",
             "minorgridcolor": "white",
             "startlinecolor": "#2a3f5f"
            },
            "baxis": {
             "endlinecolor": "#2a3f5f",
             "gridcolor": "white",
             "linecolor": "white",
             "minorgridcolor": "white",
             "startlinecolor": "#2a3f5f"
            },
            "type": "carpet"
           }
          ],
          "choropleth": [
           {
            "colorbar": {
             "outlinewidth": 0,
             "ticks": ""
            },
            "type": "choropleth"
           }
          ],
          "contour": [
           {
            "colorbar": {
             "outlinewidth": 0,
             "ticks": ""
            },
            "colorscale": [
             [
              0,
              "#0d0887"
             ],
             [
              0.1111111111111111,
              "#46039f"
             ],
             [
              0.2222222222222222,
              "#7201a8"
             ],
             [
              0.3333333333333333,
              "#9c179e"
             ],
             [
              0.4444444444444444,
              "#bd3786"
             ],
             [
              0.5555555555555556,
              "#d8576b"
             ],
             [
              0.6666666666666666,
              "#ed7953"
             ],
             [
              0.7777777777777778,
              "#fb9f3a"
             ],
             [
              0.8888888888888888,
              "#fdca26"
             ],
             [
              1,
              "#f0f921"
             ]
            ],
            "type": "contour"
           }
          ],
          "contourcarpet": [
           {
            "colorbar": {
             "outlinewidth": 0,
             "ticks": ""
            },
            "type": "contourcarpet"
           }
          ],
          "heatmap": [
           {
            "colorbar": {
             "outlinewidth": 0,
             "ticks": ""
            },
            "colorscale": [
             [
              0,
              "#0d0887"
             ],
             [
              0.1111111111111111,
              "#46039f"
             ],
             [
              0.2222222222222222,
              "#7201a8"
             ],
             [
              0.3333333333333333,
              "#9c179e"
             ],
             [
              0.4444444444444444,
              "#bd3786"
             ],
             [
              0.5555555555555556,
              "#d8576b"
             ],
             [
              0.6666666666666666,
              "#ed7953"
             ],
             [
              0.7777777777777778,
              "#fb9f3a"
             ],
             [
              0.8888888888888888,
              "#fdca26"
             ],
             [
              1,
              "#f0f921"
             ]
            ],
            "type": "heatmap"
           }
          ],
          "heatmapgl": [
           {
            "colorbar": {
             "outlinewidth": 0,
             "ticks": ""
            },
            "colorscale": [
             [
              0,
              "#0d0887"
             ],
             [
              0.1111111111111111,
              "#46039f"
             ],
             [
              0.2222222222222222,
              "#7201a8"
             ],
             [
              0.3333333333333333,
              "#9c179e"
             ],
             [
              0.4444444444444444,
              "#bd3786"
             ],
             [
              0.5555555555555556,
              "#d8576b"
             ],
             [
              0.6666666666666666,
              "#ed7953"
             ],
             [
              0.7777777777777778,
              "#fb9f3a"
             ],
             [
              0.8888888888888888,
              "#fdca26"
             ],
             [
              1,
              "#f0f921"
             ]
            ],
            "type": "heatmapgl"
           }
          ],
          "histogram": [
           {
            "marker": {
             "colorbar": {
              "outlinewidth": 0,
              "ticks": ""
             }
            },
            "type": "histogram"
           }
          ],
          "histogram2d": [
           {
            "colorbar": {
             "outlinewidth": 0,
             "ticks": ""
            },
            "colorscale": [
             [
              0,
              "#0d0887"
             ],
             [
              0.1111111111111111,
              "#46039f"
             ],
             [
              0.2222222222222222,
              "#7201a8"
             ],
             [
              0.3333333333333333,
              "#9c179e"
             ],
             [
              0.4444444444444444,
              "#bd3786"
             ],
             [
              0.5555555555555556,
              "#d8576b"
             ],
             [
              0.6666666666666666,
              "#ed7953"
             ],
             [
              0.7777777777777778,
              "#fb9f3a"
             ],
             [
              0.8888888888888888,
              "#fdca26"
             ],
             [
              1,
              "#f0f921"
             ]
            ],
            "type": "histogram2d"
           }
          ],
          "histogram2dcontour": [
           {
            "colorbar": {
             "outlinewidth": 0,
             "ticks": ""
            },
            "colorscale": [
             [
              0,
              "#0d0887"
             ],
             [
              0.1111111111111111,
              "#46039f"
             ],
             [
              0.2222222222222222,
              "#7201a8"
             ],
             [
              0.3333333333333333,
              "#9c179e"
             ],
             [
              0.4444444444444444,
              "#bd3786"
             ],
             [
              0.5555555555555556,
              "#d8576b"
             ],
             [
              0.6666666666666666,
              "#ed7953"
             ],
             [
              0.7777777777777778,
              "#fb9f3a"
             ],
             [
              0.8888888888888888,
              "#fdca26"
             ],
             [
              1,
              "#f0f921"
             ]
            ],
            "type": "histogram2dcontour"
           }
          ],
          "mesh3d": [
           {
            "colorbar": {
             "outlinewidth": 0,
             "ticks": ""
            },
            "type": "mesh3d"
           }
          ],
          "parcoords": [
           {
            "line": {
             "colorbar": {
              "outlinewidth": 0,
              "ticks": ""
             }
            },
            "type": "parcoords"
           }
          ],
          "pie": [
           {
            "automargin": true,
            "type": "pie"
           }
          ],
          "scatter": [
           {
            "marker": {
             "colorbar": {
              "outlinewidth": 0,
              "ticks": ""
             }
            },
            "type": "scatter"
           }
          ],
          "scatter3d": [
           {
            "line": {
             "colorbar": {
              "outlinewidth": 0,
              "ticks": ""
             }
            },
            "marker": {
             "colorbar": {
              "outlinewidth": 0,
              "ticks": ""
             }
            },
            "type": "scatter3d"
           }
          ],
          "scattercarpet": [
           {
            "marker": {
             "colorbar": {
              "outlinewidth": 0,
              "ticks": ""
             }
            },
            "type": "scattercarpet"
           }
          ],
          "scattergeo": [
           {
            "marker": {
             "colorbar": {
              "outlinewidth": 0,
              "ticks": ""
             }
            },
            "type": "scattergeo"
           }
          ],
          "scattergl": [
           {
            "marker": {
             "colorbar": {
              "outlinewidth": 0,
              "ticks": ""
             }
            },
            "type": "scattergl"
           }
          ],
          "scattermapbox": [
           {
            "marker": {
             "colorbar": {
              "outlinewidth": 0,
              "ticks": ""
             }
            },
            "type": "scattermapbox"
           }
          ],
          "scatterpolar": [
           {
            "marker": {
             "colorbar": {
              "outlinewidth": 0,
              "ticks": ""
             }
            },
            "type": "scatterpolar"
           }
          ],
          "scatterpolargl": [
           {
            "marker": {
             "colorbar": {
              "outlinewidth": 0,
              "ticks": ""
             }
            },
            "type": "scatterpolargl"
           }
          ],
          "scatterternary": [
           {
            "marker": {
             "colorbar": {
              "outlinewidth": 0,
              "ticks": ""
             }
            },
            "type": "scatterternary"
           }
          ],
          "surface": [
           {
            "colorbar": {
             "outlinewidth": 0,
             "ticks": ""
            },
            "colorscale": [
             [
              0,
              "#0d0887"
             ],
             [
              0.1111111111111111,
              "#46039f"
             ],
             [
              0.2222222222222222,
              "#7201a8"
             ],
             [
              0.3333333333333333,
              "#9c179e"
             ],
             [
              0.4444444444444444,
              "#bd3786"
             ],
             [
              0.5555555555555556,
              "#d8576b"
             ],
             [
              0.6666666666666666,
              "#ed7953"
             ],
             [
              0.7777777777777778,
              "#fb9f3a"
             ],
             [
              0.8888888888888888,
              "#fdca26"
             ],
             [
              1,
              "#f0f921"
             ]
            ],
            "type": "surface"
           }
          ],
          "table": [
           {
            "cells": {
             "fill": {
              "color": "#EBF0F8"
             },
             "line": {
              "color": "white"
             }
            },
            "header": {
             "fill": {
              "color": "#C8D4E3"
             },
             "line": {
              "color": "white"
             }
            },
            "type": "table"
           }
          ]
         },
         "layout": {
          "annotationdefaults": {
           "arrowcolor": "#2a3f5f",
           "arrowhead": 0,
           "arrowwidth": 1
          },
          "coloraxis": {
           "colorbar": {
            "outlinewidth": 0,
            "ticks": ""
           }
          },
          "colorscale": {
           "diverging": [
            [
             0,
             "#8e0152"
            ],
            [
             0.1,
             "#c51b7d"
            ],
            [
             0.2,
             "#de77ae"
            ],
            [
             0.3,
             "#f1b6da"
            ],
            [
             0.4,
             "#fde0ef"
            ],
            [
             0.5,
             "#f7f7f7"
            ],
            [
             0.6,
             "#e6f5d0"
            ],
            [
             0.7,
             "#b8e186"
            ],
            [
             0.8,
             "#7fbc41"
            ],
            [
             0.9,
             "#4d9221"
            ],
            [
             1,
             "#276419"
            ]
           ],
           "sequential": [
            [
             0,
             "#0d0887"
            ],
            [
             0.1111111111111111,
             "#46039f"
            ],
            [
             0.2222222222222222,
             "#7201a8"
            ],
            [
             0.3333333333333333,
             "#9c179e"
            ],
            [
             0.4444444444444444,
             "#bd3786"
            ],
            [
             0.5555555555555556,
             "#d8576b"
            ],
            [
             0.6666666666666666,
             "#ed7953"
            ],
            [
             0.7777777777777778,
             "#fb9f3a"
            ],
            [
             0.8888888888888888,
             "#fdca26"
            ],
            [
             1,
             "#f0f921"
            ]
           ],
           "sequentialminus": [
            [
             0,
             "#0d0887"
            ],
            [
             0.1111111111111111,
             "#46039f"
            ],
            [
             0.2222222222222222,
             "#7201a8"
            ],
            [
             0.3333333333333333,
             "#9c179e"
            ],
            [
             0.4444444444444444,
             "#bd3786"
            ],
            [
             0.5555555555555556,
             "#d8576b"
            ],
            [
             0.6666666666666666,
             "#ed7953"
            ],
            [
             0.7777777777777778,
             "#fb9f3a"
            ],
            [
             0.8888888888888888,
             "#fdca26"
            ],
            [
             1,
             "#f0f921"
            ]
           ]
          },
          "colorway": [
           "#636efa",
           "#EF553B",
           "#00cc96",
           "#ab63fa",
           "#FFA15A",
           "#19d3f3",
           "#FF6692",
           "#B6E880",
           "#FF97FF",
           "#FECB52"
          ],
          "font": {
           "color": "#2a3f5f"
          },
          "geo": {
           "bgcolor": "white",
           "lakecolor": "white",
           "landcolor": "#E5ECF6",
           "showlakes": true,
           "showland": true,
           "subunitcolor": "white"
          },
          "hoverlabel": {
           "align": "left"
          },
          "hovermode": "closest",
          "mapbox": {
           "style": "light"
          },
          "paper_bgcolor": "white",
          "plot_bgcolor": "#E5ECF6",
          "polar": {
           "angularaxis": {
            "gridcolor": "white",
            "linecolor": "white",
            "ticks": ""
           },
           "bgcolor": "#E5ECF6",
           "radialaxis": {
            "gridcolor": "white",
            "linecolor": "white",
            "ticks": ""
           }
          },
          "scene": {
           "xaxis": {
            "backgroundcolor": "#E5ECF6",
            "gridcolor": "white",
            "gridwidth": 2,
            "linecolor": "white",
            "showbackground": true,
            "ticks": "",
            "zerolinecolor": "white"
           },
           "yaxis": {
            "backgroundcolor": "#E5ECF6",
            "gridcolor": "white",
            "gridwidth": 2,
            "linecolor": "white",
            "showbackground": true,
            "ticks": "",
            "zerolinecolor": "white"
           },
           "zaxis": {
            "backgroundcolor": "#E5ECF6",
            "gridcolor": "white",
            "gridwidth": 2,
            "linecolor": "white",
            "showbackground": true,
            "ticks": "",
            "zerolinecolor": "white"
           }
          },
          "shapedefaults": {
           "line": {
            "color": "#2a3f5f"
           }
          },
          "ternary": {
           "aaxis": {
            "gridcolor": "white",
            "linecolor": "white",
            "ticks": ""
           },
           "baxis": {
            "gridcolor": "white",
            "linecolor": "white",
            "ticks": ""
           },
           "bgcolor": "#E5ECF6",
           "caxis": {
            "gridcolor": "white",
            "linecolor": "white",
            "ticks": ""
           }
          },
          "title": {
           "x": 0.05
          },
          "xaxis": {
           "automargin": true,
           "gridcolor": "white",
           "linecolor": "white",
           "ticks": "",
           "title": {
            "standoff": 15
           },
           "zerolinecolor": "white",
           "zerolinewidth": 2
          },
          "yaxis": {
           "automargin": true,
           "gridcolor": "white",
           "linecolor": "white",
           "ticks": "",
           "title": {
            "standoff": 15
           },
           "zerolinecolor": "white",
           "zerolinewidth": 2
          }
         }
        },
        "title": {
         "text": "Daily Case_count"
        }
       }
      },
      "text/html": [
       "<div>\n",
       "        \n",
       "        \n",
       "            <div id=\"c166781f-7124-4982-ae57-92029b2e305e\" class=\"plotly-graph-div\" style=\"height:525px; width:100%;\"></div>\n",
       "            <script type=\"text/javascript\">\n",
       "                require([\"plotly\"], function(Plotly) {\n",
       "                    window.PLOTLYENV=window.PLOTLYENV || {};\n",
       "                    \n",
       "                if (document.getElementById(\"c166781f-7124-4982-ae57-92029b2e305e\")) {\n",
       "                    Plotly.newPlot(\n",
       "                        'c166781f-7124-4982-ae57-92029b2e305e',\n",
       "                        [{\"type\": \"scatter\", \"x\": [\"2017-04-01T00:00:00\", \"2017-04-03T00:00:00\", \"2017-04-04T00:00:00\", \"2017-04-05T00:00:00\", \"2017-04-07T00:00:00\", \"2017-04-12T00:00:00\", \"2017-04-13T00:00:00\", \"2017-04-14T00:00:00\", \"2017-04-15T00:00:00\", \"2017-04-16T00:00:00\", \"2017-04-17T00:00:00\", \"2017-04-18T00:00:00\", \"2017-04-19T00:00:00\", \"2017-04-20T00:00:00\", \"2017-04-21T00:00:00\", \"2017-04-22T00:00:00\", \"2017-04-23T00:00:00\", \"2017-04-24T00:00:00\", \"2017-04-25T00:00:00\", \"2017-04-26T00:00:00\", \"2017-04-27T00:00:00\", \"2017-04-28T00:00:00\", \"2017-04-29T00:00:00\", \"2017-04-30T00:00:00\", \"2017-05-01T00:00:00\", \"2017-05-02T00:00:00\", \"2017-05-03T00:00:00\", \"2017-05-04T00:00:00\", \"2017-05-05T00:00:00\", \"2017-05-07T00:00:00\", \"2017-05-08T00:00:00\", \"2017-05-09T00:00:00\", \"2017-05-10T00:00:00\", \"2017-05-11T00:00:00\", \"2017-05-12T00:00:00\", \"2017-05-13T00:00:00\", \"2017-05-14T00:00:00\", \"2017-05-15T00:00:00\", \"2017-05-16T00:00:00\", \"2017-05-17T00:00:00\", \"2017-05-18T00:00:00\", \"2017-05-19T00:00:00\", \"2017-05-20T00:00:00\", \"2017-05-21T00:00:00\", \"2017-05-22T00:00:00\", \"2017-05-23T00:00:00\", \"2017-05-24T00:00:00\", \"2017-05-25T00:00:00\", \"2017-05-26T00:00:00\", \"2017-05-27T00:00:00\", \"2017-05-28T00:00:00\", \"2017-05-29T00:00:00\", \"2017-05-30T00:00:00\", \"2017-05-31T00:00:00\", \"2017-06-01T00:00:00\", \"2017-06-02T00:00:00\", \"2017-06-03T00:00:00\", \"2017-06-04T00:00:00\", \"2017-06-05T00:00:00\", \"2017-06-06T00:00:00\", \"2017-06-07T00:00:00\", \"2017-06-08T00:00:00\", \"2017-06-09T00:00:00\", \"2017-06-10T00:00:00\", \"2017-06-11T00:00:00\", \"2017-06-12T00:00:00\", \"2017-06-13T00:00:00\", \"2017-06-14T00:00:00\", \"2017-06-15T00:00:00\", \"2017-06-16T00:00:00\", \"2017-06-17T00:00:00\", \"2017-06-18T00:00:00\", \"2017-06-19T00:00:00\", \"2017-06-20T00:00:00\", \"2017-06-21T00:00:00\", \"2017-06-22T00:00:00\", \"2017-06-23T00:00:00\", \"2017-06-24T00:00:00\", \"2017-06-25T00:00:00\", \"2017-06-26T00:00:00\", \"2017-06-27T00:00:00\", \"2017-06-28T00:00:00\", \"2017-06-29T00:00:00\", \"2017-06-30T00:00:00\", \"2017-07-01T00:00:00\", \"2017-07-02T00:00:00\", \"2017-07-05T00:00:00\", \"2017-07-06T00:00:00\", \"2017-07-07T00:00:00\", \"2017-07-10T00:00:00\", \"2017-07-11T00:00:00\", \"2017-07-12T00:00:00\", \"2017-07-13T00:00:00\", \"2017-07-14T00:00:00\", \"2017-07-15T00:00:00\", \"2017-07-16T00:00:00\", \"2017-07-17T00:00:00\", \"2017-07-18T00:00:00\", \"2017-07-19T00:00:00\", \"2017-07-20T00:00:00\", \"2017-07-21T00:00:00\", \"2017-07-22T00:00:00\", \"2017-07-23T00:00:00\", \"2017-07-24T00:00:00\", \"2017-07-25T00:00:00\", \"2017-07-26T00:00:00\", \"2017-07-27T00:00:00\", \"2017-07-28T00:00:00\", \"2017-07-29T00:00:00\", \"2017-07-30T00:00:00\", \"2017-07-31T00:00:00\", \"2017-08-01T00:00:00\", \"2017-08-03T00:00:00\", \"2017-08-04T00:00:00\", \"2017-08-05T00:00:00\", \"2017-08-06T00:00:00\", \"2017-08-07T00:00:00\", \"2017-08-08T00:00:00\", \"2017-08-09T00:00:00\", \"2017-08-10T00:00:00\", \"2017-08-11T00:00:00\", \"2017-08-12T00:00:00\", \"2017-08-13T00:00:00\", \"2017-08-14T00:00:00\", \"2017-08-15T00:00:00\", \"2017-08-16T00:00:00\", \"2017-08-17T00:00:00\", \"2017-08-18T00:00:00\", \"2017-08-19T00:00:00\", \"2017-08-20T00:00:00\", \"2017-08-21T00:00:00\", \"2017-08-22T00:00:00\", \"2017-08-23T00:00:00\", \"2017-08-24T00:00:00\", \"2017-08-25T00:00:00\", \"2017-08-26T00:00:00\", \"2017-08-27T00:00:00\", \"2017-08-28T00:00:00\", \"2017-08-29T00:00:00\", \"2017-08-30T00:00:00\", \"2017-08-31T00:00:00\", \"2017-09-04T00:00:00\", \"2017-09-05T00:00:00\", \"2017-09-07T00:00:00\", \"2017-09-08T00:00:00\", \"2017-09-09T00:00:00\", \"2017-09-10T00:00:00\", \"2017-09-11T00:00:00\", \"2017-09-12T00:00:00\", \"2017-09-13T00:00:00\", \"2017-09-14T00:00:00\", \"2017-09-15T00:00:00\", \"2017-09-16T00:00:00\", \"2017-09-17T00:00:00\", \"2017-09-18T00:00:00\", \"2017-09-19T00:00:00\", \"2017-09-20T00:00:00\", \"2017-09-21T00:00:00\", \"2017-09-22T00:00:00\", \"2017-09-23T00:00:00\", \"2017-09-24T00:00:00\", \"2017-09-25T00:00:00\", \"2017-09-26T00:00:00\", \"2017-09-27T00:00:00\", \"2017-09-28T00:00:00\", \"2017-09-29T00:00:00\", \"2017-09-30T00:00:00\", \"2017-10-01T00:00:00\", \"2017-10-02T00:00:00\", \"2017-10-03T00:00:00\", \"2017-10-04T00:00:00\", \"2017-10-05T00:00:00\", \"2017-10-06T00:00:00\", \"2017-10-07T00:00:00\", \"2017-10-08T00:00:00\", \"2017-10-09T00:00:00\", \"2017-10-10T00:00:00\", \"2017-10-11T00:00:00\", \"2017-10-12T00:00:00\", \"2017-10-13T00:00:00\", \"2017-10-14T00:00:00\", \"2017-10-15T00:00:00\", \"2017-10-16T00:00:00\", \"2017-10-17T00:00:00\", \"2017-10-18T00:00:00\", \"2017-10-19T00:00:00\", \"2017-10-20T00:00:00\", \"2017-10-21T00:00:00\", \"2017-10-22T00:00:00\", \"2017-10-23T00:00:00\", \"2017-10-24T00:00:00\", \"2017-10-25T00:00:00\", \"2017-10-26T00:00:00\", \"2017-10-27T00:00:00\", \"2017-10-28T00:00:00\", \"2017-10-29T00:00:00\", \"2017-10-30T00:00:00\", \"2017-10-31T00:00:00\", \"2017-11-01T00:00:00\", \"2017-11-02T00:00:00\", \"2017-11-03T00:00:00\", \"2017-11-04T00:00:00\", \"2017-11-05T00:00:00\", \"2017-11-06T00:00:00\", \"2017-11-07T00:00:00\", \"2017-11-08T00:00:00\", \"2017-11-09T00:00:00\", \"2017-11-10T00:00:00\", \"2017-11-11T00:00:00\", \"2017-11-12T00:00:00\", \"2017-11-13T00:00:00\", \"2017-11-14T00:00:00\", \"2017-11-15T00:00:00\", \"2017-11-16T00:00:00\", \"2017-11-17T00:00:00\", \"2017-11-18T00:00:00\", \"2017-11-19T00:00:00\", \"2017-11-20T00:00:00\", \"2017-11-21T00:00:00\", \"2017-11-22T00:00:00\", \"2017-11-23T00:00:00\", \"2017-11-24T00:00:00\", \"2017-11-25T00:00:00\", \"2017-11-26T00:00:00\", \"2017-11-27T00:00:00\", \"2017-11-28T00:00:00\", \"2017-11-29T00:00:00\", \"2017-11-30T00:00:00\", \"2017-12-01T00:00:00\", \"2017-12-02T00:00:00\", \"2017-12-03T00:00:00\", \"2017-12-04T00:00:00\", \"2017-12-05T00:00:00\", \"2017-12-06T00:00:00\", \"2017-12-07T00:00:00\", \"2017-12-08T00:00:00\", \"2017-12-09T00:00:00\", \"2017-12-10T00:00:00\", \"2017-12-11T00:00:00\", \"2017-12-12T00:00:00\", \"2017-12-13T00:00:00\", \"2017-12-14T00:00:00\", \"2017-12-15T00:00:00\", \"2017-12-16T00:00:00\", \"2017-12-17T00:00:00\", \"2017-12-18T00:00:00\", \"2017-12-19T00:00:00\", \"2017-12-20T00:00:00\", \"2017-12-21T00:00:00\", \"2017-12-22T00:00:00\", \"2017-12-23T00:00:00\", \"2017-12-24T00:00:00\", \"2017-12-25T00:00:00\", \"2017-12-26T00:00:00\", \"2017-12-27T00:00:00\", \"2017-12-28T00:00:00\", \"2017-12-29T00:00:00\", \"2017-12-30T00:00:00\", \"2017-12-31T00:00:00\", \"2018-01-01T00:00:00\", \"2018-01-02T00:00:00\", \"2018-01-03T00:00:00\", \"2018-01-04T00:00:00\", \"2018-01-05T00:00:00\", \"2018-01-06T00:00:00\", \"2018-01-08T00:00:00\", \"2018-01-09T00:00:00\", \"2018-01-10T00:00:00\", \"2018-01-11T00:00:00\", \"2018-01-12T00:00:00\", \"2018-01-13T00:00:00\", \"2018-01-14T00:00:00\", \"2018-01-15T00:00:00\", \"2018-01-16T00:00:00\", \"2018-01-17T00:00:00\", \"2018-01-18T00:00:00\", \"2018-01-19T00:00:00\", \"2018-01-20T00:00:00\", \"2018-01-21T00:00:00\", \"2018-01-22T00:00:00\", \"2018-01-23T00:00:00\", \"2018-01-24T00:00:00\", \"2018-01-25T00:00:00\", \"2018-01-26T00:00:00\", \"2018-01-27T00:00:00\", \"2018-01-28T00:00:00\", \"2018-01-29T00:00:00\", \"2018-01-30T00:00:00\", \"2018-01-31T00:00:00\", \"2018-02-01T00:00:00\", \"2018-02-02T00:00:00\", \"2018-02-03T00:00:00\", \"2018-02-05T00:00:00\", \"2018-02-06T00:00:00\", \"2018-02-07T00:00:00\", \"2018-02-08T00:00:00\", \"2018-02-09T00:00:00\", \"2018-02-10T00:00:00\", \"2018-02-11T00:00:00\", \"2018-02-12T00:00:00\", \"2018-02-13T00:00:00\", \"2018-02-14T00:00:00\", \"2018-02-15T00:00:00\", \"2018-02-16T00:00:00\", \"2018-02-17T00:00:00\", \"2018-02-18T00:00:00\", \"2018-02-19T00:00:00\", \"2018-02-20T00:00:00\", \"2018-02-21T00:00:00\", \"2018-02-22T00:00:00\", \"2018-02-23T00:00:00\", \"2018-02-24T00:00:00\", \"2018-02-25T00:00:00\", \"2018-02-26T00:00:00\", \"2018-02-27T00:00:00\", \"2018-02-28T00:00:00\", \"2018-03-01T00:00:00\", \"2018-03-03T00:00:00\", \"2018-03-05T00:00:00\", \"2018-03-06T00:00:00\", \"2018-03-07T00:00:00\", \"2018-03-08T00:00:00\", \"2018-03-09T00:00:00\", \"2018-03-10T00:00:00\", \"2018-03-11T00:00:00\", \"2018-03-12T00:00:00\", \"2018-03-13T00:00:00\", \"2018-03-14T00:00:00\", \"2018-03-15T00:00:00\", \"2018-03-16T00:00:00\", \"2018-03-17T00:00:00\", \"2018-03-18T00:00:00\", \"2018-03-19T00:00:00\", \"2018-03-20T00:00:00\", \"2018-03-21T00:00:00\", \"2018-03-22T00:00:00\", \"2018-03-23T00:00:00\", \"2018-03-24T00:00:00\", \"2018-03-25T00:00:00\", \"2018-03-26T00:00:00\", \"2018-03-27T00:00:00\", \"2018-03-28T00:00:00\", \"2018-03-29T00:00:00\", \"2018-03-30T00:00:00\", \"2018-03-31T00:00:00\", \"2018-04-01T00:00:00\", \"2018-04-02T00:00:00\", \"2018-04-03T00:00:00\", \"2018-04-04T00:00:00\", \"2018-04-05T00:00:00\", \"2018-04-06T00:00:00\", \"2018-04-07T00:00:00\", \"2018-04-08T00:00:00\", \"2018-04-09T00:00:00\", \"2018-04-10T00:00:00\", \"2018-04-11T00:00:00\", \"2018-04-12T00:00:00\", \"2018-04-13T00:00:00\", \"2018-04-14T00:00:00\", \"2018-04-15T00:00:00\", \"2018-04-16T00:00:00\", \"2018-04-17T00:00:00\", \"2018-04-18T00:00:00\", \"2018-04-19T00:00:00\", \"2018-04-20T00:00:00\", \"2018-04-21T00:00:00\", \"2018-04-22T00:00:00\", \"2018-04-23T00:00:00\", \"2018-04-24T00:00:00\", \"2018-04-25T00:00:00\", \"2018-04-26T00:00:00\", \"2018-04-27T00:00:00\", \"2018-04-28T00:00:00\", \"2018-04-29T00:00:00\", \"2018-04-30T00:00:00\", \"2018-05-01T00:00:00\", \"2018-05-02T00:00:00\", \"2018-05-03T00:00:00\", \"2018-05-04T00:00:00\", \"2018-05-05T00:00:00\", \"2018-05-06T00:00:00\", \"2018-05-07T00:00:00\", \"2018-05-08T00:00:00\", \"2018-05-09T00:00:00\", \"2018-05-10T00:00:00\", \"2018-05-11T00:00:00\", \"2018-05-12T00:00:00\", \"2018-05-13T00:00:00\", \"2018-05-14T00:00:00\", \"2018-05-15T00:00:00\", \"2018-05-16T00:00:00\", \"2018-05-17T00:00:00\", \"2018-05-18T00:00:00\", \"2018-05-19T00:00:00\", \"2018-05-20T00:00:00\", \"2018-05-21T00:00:00\", \"2018-05-22T00:00:00\", \"2018-05-23T00:00:00\", \"2018-05-24T00:00:00\", \"2018-05-25T00:00:00\", \"2018-05-26T00:00:00\", \"2018-05-27T00:00:00\", \"2018-05-28T00:00:00\", \"2018-05-29T00:00:00\", \"2018-05-30T00:00:00\", \"2018-05-31T00:00:00\", \"2018-06-01T00:00:00\", \"2018-06-02T00:00:00\", \"2018-06-03T00:00:00\", \"2018-06-04T00:00:00\", \"2018-06-05T00:00:00\", \"2018-06-06T00:00:00\", \"2018-06-07T00:00:00\", \"2018-06-08T00:00:00\", \"2018-06-09T00:00:00\", \"2018-06-10T00:00:00\", \"2018-06-11T00:00:00\", \"2018-06-12T00:00:00\", \"2018-06-13T00:00:00\", \"2018-06-14T00:00:00\", \"2018-06-15T00:00:00\", \"2018-06-16T00:00:00\", \"2018-06-17T00:00:00\", \"2018-06-18T00:00:00\", \"2018-06-19T00:00:00\", \"2018-06-20T00:00:00\", \"2018-06-21T00:00:00\", \"2018-06-22T00:00:00\", \"2018-06-23T00:00:00\", \"2018-06-24T00:00:00\", \"2018-06-25T00:00:00\", \"2018-06-26T00:00:00\", \"2018-06-27T00:00:00\", \"2018-06-28T00:00:00\", \"2018-06-29T00:00:00\", \"2018-06-30T00:00:00\", \"2018-07-01T00:00:00\", \"2018-07-02T00:00:00\", \"2018-07-03T00:00:00\", \"2018-07-04T00:00:00\", \"2018-07-05T00:00:00\", \"2018-07-06T00:00:00\", \"2018-07-07T00:00:00\", \"2018-07-08T00:00:00\", \"2018-07-09T00:00:00\", \"2018-07-10T00:00:00\", \"2018-07-11T00:00:00\", \"2018-07-12T00:00:00\", \"2018-07-13T00:00:00\", \"2018-07-14T00:00:00\", \"2018-07-15T00:00:00\", \"2018-07-16T00:00:00\", \"2018-07-17T00:00:00\", \"2018-07-18T00:00:00\", \"2018-07-19T00:00:00\", \"2018-07-20T00:00:00\", \"2018-07-21T00:00:00\", \"2018-07-22T00:00:00\", \"2018-07-23T00:00:00\", \"2018-07-24T00:00:00\", \"2018-07-25T00:00:00\", \"2018-07-26T00:00:00\", \"2018-07-27T00:00:00\", \"2018-07-28T00:00:00\", \"2018-07-29T00:00:00\", \"2018-07-30T00:00:00\", \"2018-07-31T00:00:00\", \"2018-08-01T00:00:00\", \"2018-08-02T00:00:00\", \"2018-08-03T00:00:00\", \"2018-08-04T00:00:00\", \"2018-08-05T00:00:00\", \"2018-08-06T00:00:00\", \"2018-08-07T00:00:00\", \"2018-08-08T00:00:00\", \"2018-08-09T00:00:00\", \"2018-08-10T00:00:00\", \"2018-08-11T00:00:00\", \"2018-08-12T00:00:00\", \"2018-08-13T00:00:00\", \"2018-08-14T00:00:00\", \"2018-08-15T00:00:00\", \"2018-08-16T00:00:00\", \"2018-08-17T00:00:00\", \"2018-08-18T00:00:00\", \"2018-08-19T00:00:00\", \"2018-08-20T00:00:00\", \"2018-08-21T00:00:00\", \"2018-08-22T00:00:00\", \"2018-08-23T00:00:00\", \"2018-08-24T00:00:00\", \"2018-08-25T00:00:00\", \"2018-08-26T00:00:00\", \"2018-08-27T00:00:00\", \"2018-08-28T00:00:00\", \"2018-08-29T00:00:00\", \"2018-08-30T00:00:00\", \"2018-08-31T00:00:00\", \"2018-09-01T00:00:00\", \"2018-09-02T00:00:00\", \"2018-09-03T00:00:00\", \"2018-09-04T00:00:00\", \"2018-09-05T00:00:00\", \"2018-09-06T00:00:00\", \"2018-09-07T00:00:00\", \"2018-09-08T00:00:00\", \"2018-09-09T00:00:00\", \"2018-09-10T00:00:00\", \"2018-09-11T00:00:00\", \"2018-09-12T00:00:00\", \"2018-09-13T00:00:00\", \"2018-09-14T00:00:00\", \"2018-09-15T00:00:00\", \"2018-09-16T00:00:00\", \"2018-09-17T00:00:00\", \"2018-09-18T00:00:00\", \"2018-09-19T00:00:00\", \"2018-09-20T00:00:00\", \"2018-09-21T00:00:00\", \"2018-09-22T00:00:00\", \"2018-09-23T00:00:00\", \"2018-09-24T00:00:00\", \"2018-09-25T00:00:00\", \"2018-09-26T00:00:00\", \"2018-09-27T00:00:00\", \"2018-09-28T00:00:00\", \"2018-09-29T00:00:00\", \"2018-09-30T00:00:00\", \"2018-10-01T00:00:00\", \"2018-10-02T00:00:00\", \"2018-10-03T00:00:00\", \"2018-10-04T00:00:00\", \"2018-10-05T00:00:00\", \"2018-10-06T00:00:00\", \"2018-10-07T00:00:00\", \"2018-10-08T00:00:00\", \"2018-10-09T00:00:00\", \"2018-10-10T00:00:00\", \"2018-10-11T00:00:00\", \"2018-10-12T00:00:00\", \"2018-10-13T00:00:00\", \"2018-10-14T00:00:00\", \"2018-10-15T00:00:00\", \"2018-10-16T00:00:00\", \"2018-10-17T00:00:00\", \"2018-10-18T00:00:00\", \"2018-10-19T00:00:00\", \"2018-10-20T00:00:00\", \"2018-10-21T00:00:00\", \"2018-10-22T00:00:00\", \"2018-10-23T00:00:00\", \"2018-10-24T00:00:00\", \"2018-10-25T00:00:00\", \"2018-10-26T00:00:00\", \"2018-10-27T00:00:00\", \"2018-10-28T00:00:00\", \"2018-10-29T00:00:00\", \"2018-10-30T00:00:00\", \"2018-10-31T00:00:00\", \"2018-11-01T00:00:00\", \"2018-11-02T00:00:00\", \"2018-11-03T00:00:00\", \"2018-11-04T00:00:00\", \"2018-11-05T00:00:00\", \"2018-11-06T00:00:00\", \"2018-11-07T00:00:00\", \"2018-11-08T00:00:00\", \"2018-11-09T00:00:00\", \"2018-11-10T00:00:00\", \"2018-11-11T00:00:00\", \"2018-11-12T00:00:00\", \"2018-11-13T00:00:00\", \"2018-11-14T00:00:00\", \"2018-11-15T00:00:00\", \"2018-11-16T00:00:00\", \"2018-11-17T00:00:00\", \"2018-11-18T00:00:00\", \"2018-11-19T00:00:00\", \"2018-11-20T00:00:00\", \"2018-11-21T00:00:00\", \"2018-11-22T00:00:00\", \"2018-11-23T00:00:00\", \"2018-11-24T00:00:00\", \"2018-11-25T00:00:00\", \"2018-11-26T00:00:00\", \"2018-11-27T00:00:00\", \"2018-11-28T00:00:00\", \"2018-11-29T00:00:00\", \"2018-11-30T00:00:00\", \"2018-12-01T00:00:00\", \"2018-12-02T00:00:00\", \"2018-12-03T00:00:00\", \"2018-12-04T00:00:00\", \"2018-12-05T00:00:00\", \"2018-12-06T00:00:00\", \"2018-12-07T00:00:00\", \"2018-12-08T00:00:00\", \"2018-12-09T00:00:00\", \"2018-12-10T00:00:00\", \"2018-12-11T00:00:00\", \"2018-12-12T00:00:00\", \"2018-12-13T00:00:00\", \"2018-12-14T00:00:00\", \"2018-12-15T00:00:00\", \"2018-12-16T00:00:00\", \"2018-12-17T00:00:00\", \"2018-12-18T00:00:00\", \"2018-12-19T00:00:00\", \"2018-12-20T00:00:00\", \"2018-12-21T00:00:00\", \"2018-12-22T00:00:00\", \"2018-12-23T00:00:00\", \"2018-12-24T00:00:00\", \"2018-12-25T00:00:00\", \"2018-12-26T00:00:00\", \"2018-12-27T00:00:00\", \"2018-12-28T00:00:00\", \"2018-12-29T00:00:00\", \"2018-12-30T00:00:00\", \"2018-12-31T00:00:00\", \"2019-01-01T00:00:00\", \"2019-01-02T00:00:00\", \"2019-01-03T00:00:00\", \"2019-01-04T00:00:00\", \"2019-01-05T00:00:00\", \"2019-01-06T00:00:00\", \"2019-01-07T00:00:00\", \"2019-01-08T00:00:00\", \"2019-01-09T00:00:00\", \"2019-01-10T00:00:00\", \"2019-01-11T00:00:00\", \"2019-01-12T00:00:00\", \"2019-01-13T00:00:00\", \"2019-01-14T00:00:00\", \"2019-01-15T00:00:00\", \"2019-01-16T00:00:00\", \"2019-01-17T00:00:00\", \"2019-01-18T00:00:00\", \"2019-01-19T00:00:00\", \"2019-01-20T00:00:00\", \"2019-01-21T00:00:00\", \"2019-01-22T00:00:00\", \"2019-01-23T00:00:00\", \"2019-01-24T00:00:00\", \"2019-01-25T00:00:00\", \"2019-01-26T00:00:00\", \"2019-01-27T00:00:00\", \"2019-01-28T00:00:00\", \"2019-01-29T00:00:00\", \"2019-01-30T00:00:00\", \"2019-01-31T00:00:00\", \"2019-02-01T00:00:00\", \"2019-02-02T00:00:00\", \"2019-02-03T00:00:00\", \"2019-02-04T00:00:00\", \"2019-02-05T00:00:00\", \"2019-02-06T00:00:00\", \"2019-02-07T00:00:00\", \"2019-02-08T00:00:00\", \"2019-02-09T00:00:00\", \"2019-02-10T00:00:00\", \"2019-02-11T00:00:00\", \"2019-02-12T00:00:00\", \"2019-02-13T00:00:00\", \"2019-02-14T00:00:00\", \"2019-02-15T00:00:00\", \"2019-02-16T00:00:00\", \"2019-02-17T00:00:00\", \"2019-02-18T00:00:00\", \"2019-02-19T00:00:00\", \"2019-02-20T00:00:00\", \"2019-02-21T00:00:00\", \"2019-02-22T00:00:00\", \"2019-02-23T00:00:00\", \"2019-02-24T00:00:00\", \"2019-02-25T00:00:00\", \"2019-02-26T00:00:00\", \"2019-02-27T00:00:00\", \"2019-02-28T00:00:00\", \"2019-03-01T00:00:00\", \"2019-03-02T00:00:00\", \"2019-03-03T00:00:00\", \"2019-03-04T00:00:00\", \"2019-03-05T00:00:00\", \"2019-03-06T00:00:00\", \"2019-03-07T00:00:00\", \"2019-03-08T00:00:00\", \"2019-03-09T00:00:00\", \"2019-03-10T00:00:00\", \"2019-03-11T00:00:00\", \"2019-03-12T00:00:00\", \"2019-03-13T00:00:00\", \"2019-03-14T00:00:00\", \"2019-03-15T00:00:00\", \"2019-03-16T00:00:00\", \"2019-03-17T00:00:00\", \"2019-03-18T00:00:00\", \"2019-03-19T00:00:00\", \"2019-03-20T00:00:00\", \"2019-03-21T00:00:00\", \"2019-03-22T00:00:00\", \"2019-03-23T00:00:00\", \"2019-03-24T00:00:00\", \"2019-03-25T00:00:00\", \"2019-03-26T00:00:00\", \"2019-03-27T00:00:00\", \"2019-03-28T00:00:00\", \"2019-03-29T00:00:00\", \"2019-03-30T00:00:00\", \"2019-03-31T00:00:00\", \"2019-04-01T00:00:00\", \"2019-04-02T00:00:00\", \"2019-04-03T00:00:00\", \"2019-04-04T00:00:00\", \"2019-04-05T00:00:00\", \"2019-04-06T00:00:00\", \"2019-04-07T00:00:00\", \"2019-04-08T00:00:00\", \"2019-04-09T00:00:00\", \"2019-04-10T00:00:00\", \"2019-04-11T00:00:00\", \"2019-04-12T00:00:00\", \"2019-04-13T00:00:00\", \"2019-04-14T00:00:00\", \"2019-04-15T00:00:00\", \"2019-04-16T00:00:00\", \"2019-04-17T00:00:00\", \"2019-04-18T00:00:00\", \"2019-04-19T00:00:00\", \"2019-04-20T00:00:00\", \"2019-04-21T00:00:00\", \"2019-04-22T00:00:00\", \"2019-04-23T00:00:00\", \"2019-04-24T00:00:00\", \"2019-04-25T00:00:00\", \"2019-04-26T00:00:00\", \"2019-04-27T00:00:00\", \"2019-04-28T00:00:00\", \"2019-04-29T00:00:00\", \"2019-04-30T00:00:00\", \"2019-05-01T00:00:00\", \"2019-05-02T00:00:00\", \"2019-05-03T00:00:00\", \"2019-05-04T00:00:00\", \"2019-05-05T00:00:00\", \"2019-05-06T00:00:00\", \"2019-05-07T00:00:00\", \"2019-05-08T00:00:00\", \"2019-05-09T00:00:00\", \"2019-05-10T00:00:00\", \"2019-05-11T00:00:00\", \"2019-05-12T00:00:00\", \"2019-05-13T00:00:00\", \"2019-05-14T00:00:00\", \"2019-05-15T00:00:00\", \"2019-05-16T00:00:00\", \"2019-05-17T00:00:00\", \"2019-05-18T00:00:00\", \"2019-05-19T00:00:00\", \"2019-05-20T00:00:00\", \"2019-05-21T00:00:00\", \"2019-05-22T00:00:00\", \"2019-05-23T00:00:00\", \"2019-05-24T00:00:00\", \"2019-05-25T00:00:00\", \"2019-05-26T00:00:00\", \"2019-05-27T00:00:00\", \"2019-05-28T00:00:00\", \"2019-05-29T00:00:00\", \"2019-05-30T00:00:00\", \"2019-05-31T00:00:00\", \"2019-06-01T00:00:00\", \"2019-06-02T00:00:00\", \"2019-06-03T00:00:00\", \"2019-06-04T00:00:00\", \"2019-06-05T00:00:00\", \"2019-06-06T00:00:00\", \"2019-06-07T00:00:00\", \"2019-06-08T00:00:00\", \"2019-06-09T00:00:00\", \"2019-06-10T00:00:00\", \"2019-06-11T00:00:00\", \"2019-06-12T00:00:00\", \"2019-06-13T00:00:00\", \"2019-06-14T00:00:00\", \"2019-06-15T00:00:00\", \"2019-06-16T00:00:00\", \"2019-06-17T00:00:00\", \"2019-06-18T00:00:00\", \"2019-06-19T00:00:00\", \"2019-06-20T00:00:00\", \"2019-06-21T00:00:00\", \"2019-06-22T00:00:00\", \"2019-06-23T00:00:00\", \"2019-06-24T00:00:00\", \"2019-06-25T00:00:00\", \"2019-06-26T00:00:00\", \"2019-06-27T00:00:00\", \"2019-06-28T00:00:00\", \"2019-06-29T00:00:00\", \"2019-06-30T00:00:00\", \"2019-07-01T00:00:00\", \"2019-07-02T00:00:00\", \"2019-07-03T00:00:00\", \"2019-07-04T00:00:00\", \"2019-07-05T00:00:00\"], \"y\": [299.0, 42.0, 23.0, 1530.0, 1341.0, 1468.0, 1340.0, 1330.0, 981.0, 409.0, 1515.0, 1442.0, 1404.0, 1350.0, 1390.0, 1060.0, 380.0, 1626.0, 1450.0, 1546.0, 1710.0, 1927.0, 1355.0, 6472.0, 1472.0, 198.0, 76.0, 165.0, 2457.0, 426.0, 4.0, 51.0, 1582.0, 1423.0, 1533.0, 1125.0, 338.0, 1733.0, 1500.0, 1632.0, 1530.0, 1576.0, 1220.0, 458.0, 1746.0, 1615.0, 1623.0, 1529.0, 1587.0, 1277.0, 524.0, 1935.0, 1732.0, 6740.0, 3.0, 642.0, 497.0, 408.0, 1696.0, 193.0, 1736.0, 1445.0, 2061.0, 1549.0, 667.0, 2176.0, 1972.0, 2053.0, 1958.0, 2111.0, 1744.0, 706.0, 2443.0, 2127.0, 2363.0, 2495.0, 2639.0, 2582.0, 1647.0, 1774.0, 1935.0, 2168.0, 2291.0, 9750.0, 1811.0, 5.0, 1304.0, 154.0, 495.0, 1878.0, 1510.0, 1713.0, 1540.0, 1552.0, 1185.0, 602.0, 1842.0, 1568.0, 1592.0, 1558.0, 1623.0, 1087.0, 450.0, 1774.0, 1540.0, 1586.0, 1502.0, 1710.0, 1375.0, 681.0, 11594.0, 921.0, 2.0, 1.0, 4.0, 3.0, 1893.0, 1850.0, 2010.0, 2037.0, 1934.0, 1838.0, 965.0, 2888.0, 1229.0, 2269.0, 2012.0, 2141.0, 1723.0, 813.0, 2344.0, 2063.0, 2504.0, 2693.0, 2358.0, 1589.0, 839.0, 2301.0, 1906.0, 2065.0, 13590.0, 6.0, 1101.0, 805.0, 2073.0, 1746.0, 932.0, 2378.0, 2378.0, 2551.0, 2539.0, 2836.0, 2693.0, 1376.0, 3114.0, 3080.0, 3541.0, 4436.0, 4330.0, 3701.0, 3508.0, 5201.0, 5188.0, 5378.0, 4584.0, 4464.0, 21631.0, 1280.0, 226.0, 172.0, 209.0, 352.0, 361.0, 274.0, 573.0, 1688.0, 1839.0, 3701.0, 4017.0, 4355.0, 4048.0, 3928.0, 6696.0, 7223.0, 6344.0, 4650.0, 2423.0, 1718.0, 1002.0, 2570.0, 2272.0, 2968.0, 2533.0, 2556.0, 2062.0, 883.0, 2810.0, 15429.0, 583.0, 29.0, 65.0, 40.0, 6.0, 60.0, 251.0, 1556.0, 1872.0, 1998.0, 1532.0, 636.0, 2242.0, 1988.0, 1907.0, 1838.0, 1801.0, 1537.0, 2846.0, 56.0, 1934.0, 1904.0, 1914.0, 1980.0, 1471.0, 572.0, 2104.0, 1827.0, 1938.0, 5966.0, 56.0, 44.0, 292.0, 1610.0, 1650.0, 1904.0, 1875.0, 1861.0, 1485.0, 621.0, 2319.0, 2237.0, 2320.0, 2260.0, 2326.0, 1796.0, 767.0, 2393.0, 2180.0, 2454.0, 1886.0, 1921.0, 1981.0, 757.0, 2169.0, 2251.0, 2374.0, 2555.0, 2913.0, 2736.0, 14106.0, 1391.0, 84.0, 45.0, 76.0, 1789.0, 1372.0, 81.0, 2619.0, 2497.0, 2522.0, 2757.0, 2306.0, 1167.0, 2420.0, 2625.0, 2854.0, 2947.0, 2859.0, 2218.0, 1108.0, 3198.0, 2519.0, 2574.0, 2126.0, 1454.0, 2127.0, 911.0, 2821.0, 2479.0, 9628.0, 472.0, 66.0, 52.0, 2654.0, 2419.0, 2439.0, 2369.0, 2470.0, 1974.0, 966.0, 3413.0, 3092.0, 2702.0, 2354.0, 2543.0, 2003.0, 923.0, 2405.0, 2488.0, 2589.0, 2513.0, 2415.0, 1908.0, 963.0, 2665.0, 2530.0, 9134.0, 88.0, 58.0, 3243.0, 2645.0, 2821.0, 2794.0, 2832.0, 2348.0, 1324.0, 3468.0, 3023.0, 3313.0, 3515.0, 3888.0, 4041.0, 3124.0, 3576.0, 2814.0, 3059.0, 3143.0, 3311.0, 2854.0, 1655.0, 3140.0, 2922.0, 3128.0, 3126.0, 3289.0, 21885.0, 2.0, 122.0, 74.0, 59.0, 63.0, 52.0, 19.0, 123.0, 5891.0, 100.0, 3493.0, 3591.0, 3490.0, 2665.0, 1803.0, 3544.0, 3756.0, 4084.0, 2772.0, 2515.0, 2087.0, 1037.0, 3019.0, 2539.0, 2634.0, 2582.0, 2456.0, 2046.0, 1158.0, 4249.0, 107.0, 2739.0, 2528.0, 2421.0, 1933.0, 1084.0, 3057.0, 2452.0, 2590.0, 2638.0, 2440.0, 1852.0, 1038.0, 2633.0, 2607.0, 2823.0, 2604.0, 2599.0, 2030.0, 1114.0, 3033.0, 2623.0, 2681.0, 2713.0, 2556.0, 2004.0, 1014.0, 2871.0, 2597.0, 2559.0, 4379.0, 327.0, 1964.0, 1054.0, 3234.0, 3150.0, 3228.0, 3232.0, 3169.0, 2663.0, 1620.0, 3913.0, 3571.0, 4161.0, 4532.0, 4756.0, 2377.0, 1555.0, 3907.0, 3272.0, 3454.0, 3357.0, 3569.0, 2619.0, 1309.0, 3405.0, 1903.0, 3317.0, 3646.0, 3131.0, 3873.0, 138.0, 3290.0, 2974.0, 3057.0, 2934.0, 2890.0, 2320.0, 1301.0, 3561.0, 3062.0, 3319.0, 3191.0, 3486.0, 2883.0, 1145.0, 3265.0, 2800.0, 3066.0, 2903.0, 2696.0, 2021.0, 1205.0, 3280.0, 2598.0, 2889.0, 2793.0, 2798.0, 2215.0, 1176.0, 3485.0, 5856.0, 2885.0, 110.0, 3043.0, 2362.0, 1161.0, 3419.0, 2923.0, 2961.0, 2754.0, 3220.0, 2542.0, 1507.0, 4220.0, 3854.0, 2417.0, 3728.0, 3208.0, 2888.0, 1449.0, 4136.0, 3638.0, 2812.0, 3300.0, 3664.0, 3090.0, 1782.0, 3423.0, 2952.0, 3290.0, 3904.0, 6433.0, 1362.0, 31.0, 3324.0, 2693.0, 3018.0, 3002.0, 2950.0, 2544.0, 1454.0, 2429.0, 3755.0, 4671.0, 4232.0, 3693.0, 2992.0, 2270.0, 3517.0, 3335.0, 3568.0, 3280.0, 3066.0, 2669.0, 1947.0, 3270.0, 2837.0, 2669.0, 2882.0, 3114.0, 3125.0, 5002.0, 2459.0, 63.0, 3197.0, 3070.0, 3345.0, 2917.0, 2217.0, 4324.0, 4567.0, 6574.0, 5829.0, 6026.0, 5064.0, 5184.0, 7700.0, 7420.0, 7909.0, 6828.0, 4148.0, 2888.0, 2106.0, 4574.0, 3940.0, 4727.0, 4044.0, 4311.0, 3644.0, 3037.0, 5309.0, 5358.0, 18580.0, 246.0, 280.0, 7962.0, 9533.0, 12517.0, 10998.0, 10393.0, 5244.0, 4690.0, 3336.0, 1895.0, 5253.0, 4162.0, 4090.0, 3237.0, 3590.0, 2855.0, 1591.0, 4528.0, 3436.0, 3466.0, 3390.0, 3556.0, 2469.0, 1346.0, 3530.0, 3056.0, 3286.0, 3251.0, 5135.0, 624.0, 692.0, 3455.0, 2965.0, 2891.0, 2974.0, 2743.0, 2194.0, 1227.0, 3281.0, 2894.0, 3018.0, 2987.0, 3050.0, 1911.0, 1157.0, 3250.0, 2602.0, 2989.0, 2878.0, 2887.0, 2230.0, 1290.0, 3464.0, 2848.0, 2832.0, 3026.0, 3203.0, 2709.0, 1906.0, 8116.0, 125.0, 3946.0, 3519.0, 3198.0, 2285.0, 1462.0, 3132.0, 3062.0, 3192.0, 3377.0, 3316.0, 2865.0, 1815.0, 3582.0, 3126.0, 3779.0, 3628.0, 3684.0, 2847.0, 1712.0, 4085.0, 3250.0, 3522.0, 3309.0, 3473.0, 1696.0, 1349.0, 3746.0, 2736.0, 3415.0, 5981.0, 223.0, 2407.0, 1590.0, 3835.0, 3301.0, 3634.0, 3176.0, 5498.0, 336.0, 1862.0, 3766.0, 3317.0, 2764.0, 3327.0, 3371.0, 2407.0, 1634.0, 3531.0, 3423.0, 3250.0, 3167.0, 3127.0, 1980.0, 1519.0, 3704.0, 2985.0, 3324.0, 5196.0, 2607.0, 533.0, 1619.0, 4596.0, 2947.0, 3163.0, 3189.0, 3488.0, 2491.0, 1526.0, 3968.0, 3461.0, 3535.0, 3269.0, 3418.0, 2341.0, 1869.0, 4233.0, 3609.0, 3885.0, 1357.0, 3032.0, 2790.0, 1723.0, 3996.0, 3474.0, 3593.0, 3439.0, 3528.0, 3063.0, 4871.0, 772.0, 3164.0, 3880.0, 3742.0, 4424.0, 4187.0, 2030.0, 4308.0, 3150.0, 3672.0, 3087.0, 3887.0, 3102.0, 1925.0, 3477.0, 2856.0, 3251.0, 2602.0, 3271.0, 2125.0, 1406.0, 3629.0, 2445.0, 3171.0, 2951.0, 2910.0, 2160.0, 1350.0, 3274.0, 2425.0, 2317.0, 3383.0, 3025.0, 2432.0, 1538.0, 3967.0, 3845.0, 2826.0, 3131.0, 3085.0, 2453.0, 1117.0, 3720.0, 3257.0, 3416.0, 3312.0, 3239.0, 2543.0, 1361.0, 3927.0, 3175.0, 3510.0, 2808.0, 3273.0, 2527.0, 1634.0, 3880.0, 3245.0, 3519.0, 3696.0, 3717.0, 2684.0, 1948.0, 4520.0, 4757.0, 3380.0, 3768.0, 3847.0, 2724.0, 1700.0, 4174.0, 3586.0, 3786.0, 3623.0, 3498.0, 2776.0, 1760.0, 4279.0, 3301.0, 3810.0, 3538.0, 3432.0, 2512.0, 1633.0, 3804.0, 3154.0, 3443.0, 3500.0, 3519.0, 2894.0, 1951.0, 3650.0, 3212.0, 3824.0, 4240.0, 13.0]}],\n",
       "                        {\"template\": {\"data\": {\"bar\": [{\"error_x\": {\"color\": \"#2a3f5f\"}, \"error_y\": {\"color\": \"#2a3f5f\"}, \"marker\": {\"line\": {\"color\": \"#E5ECF6\", \"width\": 0.5}}, \"type\": \"bar\"}], \"barpolar\": [{\"marker\": {\"line\": {\"color\": \"#E5ECF6\", \"width\": 0.5}}, \"type\": \"barpolar\"}], \"carpet\": [{\"aaxis\": {\"endlinecolor\": \"#2a3f5f\", \"gridcolor\": \"white\", \"linecolor\": \"white\", \"minorgridcolor\": \"white\", \"startlinecolor\": \"#2a3f5f\"}, \"baxis\": {\"endlinecolor\": \"#2a3f5f\", \"gridcolor\": \"white\", \"linecolor\": \"white\", \"minorgridcolor\": \"white\", \"startlinecolor\": \"#2a3f5f\"}, \"type\": \"carpet\"}], \"choropleth\": [{\"colorbar\": {\"outlinewidth\": 0, \"ticks\": \"\"}, \"type\": \"choropleth\"}], \"contour\": [{\"colorbar\": {\"outlinewidth\": 0, \"ticks\": \"\"}, \"colorscale\": [[0.0, \"#0d0887\"], [0.1111111111111111, \"#46039f\"], [0.2222222222222222, \"#7201a8\"], [0.3333333333333333, \"#9c179e\"], [0.4444444444444444, \"#bd3786\"], [0.5555555555555556, \"#d8576b\"], [0.6666666666666666, \"#ed7953\"], [0.7777777777777778, \"#fb9f3a\"], [0.8888888888888888, \"#fdca26\"], [1.0, \"#f0f921\"]], \"type\": \"contour\"}], \"contourcarpet\": [{\"colorbar\": {\"outlinewidth\": 0, \"ticks\": \"\"}, \"type\": \"contourcarpet\"}], \"heatmap\": [{\"colorbar\": {\"outlinewidth\": 0, \"ticks\": \"\"}, \"colorscale\": [[0.0, \"#0d0887\"], [0.1111111111111111, \"#46039f\"], [0.2222222222222222, \"#7201a8\"], [0.3333333333333333, \"#9c179e\"], [0.4444444444444444, \"#bd3786\"], [0.5555555555555556, \"#d8576b\"], [0.6666666666666666, \"#ed7953\"], [0.7777777777777778, \"#fb9f3a\"], [0.8888888888888888, \"#fdca26\"], [1.0, \"#f0f921\"]], \"type\": \"heatmap\"}], \"heatmapgl\": [{\"colorbar\": {\"outlinewidth\": 0, \"ticks\": \"\"}, \"colorscale\": [[0.0, \"#0d0887\"], [0.1111111111111111, \"#46039f\"], [0.2222222222222222, \"#7201a8\"], [0.3333333333333333, \"#9c179e\"], [0.4444444444444444, \"#bd3786\"], [0.5555555555555556, \"#d8576b\"], [0.6666666666666666, \"#ed7953\"], [0.7777777777777778, \"#fb9f3a\"], [0.8888888888888888, \"#fdca26\"], [1.0, \"#f0f921\"]], \"type\": \"heatmapgl\"}], \"histogram\": [{\"marker\": {\"colorbar\": {\"outlinewidth\": 0, \"ticks\": \"\"}}, \"type\": \"histogram\"}], \"histogram2d\": [{\"colorbar\": {\"outlinewidth\": 0, \"ticks\": \"\"}, \"colorscale\": [[0.0, \"#0d0887\"], [0.1111111111111111, \"#46039f\"], [0.2222222222222222, \"#7201a8\"], [0.3333333333333333, \"#9c179e\"], [0.4444444444444444, \"#bd3786\"], [0.5555555555555556, \"#d8576b\"], [0.6666666666666666, \"#ed7953\"], [0.7777777777777778, \"#fb9f3a\"], [0.8888888888888888, \"#fdca26\"], [1.0, \"#f0f921\"]], \"type\": \"histogram2d\"}], \"histogram2dcontour\": [{\"colorbar\": {\"outlinewidth\": 0, \"ticks\": \"\"}, \"colorscale\": [[0.0, \"#0d0887\"], [0.1111111111111111, \"#46039f\"], [0.2222222222222222, \"#7201a8\"], [0.3333333333333333, \"#9c179e\"], [0.4444444444444444, \"#bd3786\"], [0.5555555555555556, \"#d8576b\"], [0.6666666666666666, \"#ed7953\"], [0.7777777777777778, \"#fb9f3a\"], [0.8888888888888888, \"#fdca26\"], [1.0, \"#f0f921\"]], \"type\": \"histogram2dcontour\"}], \"mesh3d\": [{\"colorbar\": {\"outlinewidth\": 0, \"ticks\": \"\"}, \"type\": \"mesh3d\"}], \"parcoords\": [{\"line\": {\"colorbar\": {\"outlinewidth\": 0, \"ticks\": \"\"}}, \"type\": \"parcoords\"}], \"pie\": [{\"automargin\": true, \"type\": \"pie\"}], \"scatter\": [{\"marker\": {\"colorbar\": {\"outlinewidth\": 0, \"ticks\": \"\"}}, \"type\": \"scatter\"}], \"scatter3d\": [{\"line\": {\"colorbar\": {\"outlinewidth\": 0, \"ticks\": \"\"}}, \"marker\": {\"colorbar\": {\"outlinewidth\": 0, \"ticks\": \"\"}}, \"type\": \"scatter3d\"}], \"scattercarpet\": [{\"marker\": {\"colorbar\": {\"outlinewidth\": 0, \"ticks\": \"\"}}, \"type\": \"scattercarpet\"}], \"scattergeo\": [{\"marker\": {\"colorbar\": {\"outlinewidth\": 0, \"ticks\": \"\"}}, \"type\": \"scattergeo\"}], \"scattergl\": [{\"marker\": {\"colorbar\": {\"outlinewidth\": 0, \"ticks\": \"\"}}, \"type\": \"scattergl\"}], \"scattermapbox\": [{\"marker\": {\"colorbar\": {\"outlinewidth\": 0, \"ticks\": \"\"}}, \"type\": \"scattermapbox\"}], \"scatterpolar\": [{\"marker\": {\"colorbar\": {\"outlinewidth\": 0, \"ticks\": \"\"}}, \"type\": \"scatterpolar\"}], \"scatterpolargl\": [{\"marker\": {\"colorbar\": {\"outlinewidth\": 0, \"ticks\": \"\"}}, \"type\": \"scatterpolargl\"}], \"scatterternary\": [{\"marker\": {\"colorbar\": {\"outlinewidth\": 0, \"ticks\": \"\"}}, \"type\": \"scatterternary\"}], \"surface\": [{\"colorbar\": {\"outlinewidth\": 0, \"ticks\": \"\"}, \"colorscale\": [[0.0, \"#0d0887\"], [0.1111111111111111, \"#46039f\"], [0.2222222222222222, \"#7201a8\"], [0.3333333333333333, \"#9c179e\"], [0.4444444444444444, \"#bd3786\"], [0.5555555555555556, \"#d8576b\"], [0.6666666666666666, \"#ed7953\"], [0.7777777777777778, \"#fb9f3a\"], [0.8888888888888888, \"#fdca26\"], [1.0, \"#f0f921\"]], \"type\": \"surface\"}], \"table\": [{\"cells\": {\"fill\": {\"color\": \"#EBF0F8\"}, \"line\": {\"color\": \"white\"}}, \"header\": {\"fill\": {\"color\": \"#C8D4E3\"}, \"line\": {\"color\": \"white\"}}, \"type\": \"table\"}]}, \"layout\": {\"annotationdefaults\": {\"arrowcolor\": \"#2a3f5f\", \"arrowhead\": 0, \"arrowwidth\": 1}, \"coloraxis\": {\"colorbar\": {\"outlinewidth\": 0, \"ticks\": \"\"}}, \"colorscale\": {\"diverging\": [[0, \"#8e0152\"], [0.1, \"#c51b7d\"], [0.2, \"#de77ae\"], [0.3, \"#f1b6da\"], [0.4, \"#fde0ef\"], [0.5, \"#f7f7f7\"], [0.6, \"#e6f5d0\"], [0.7, \"#b8e186\"], [0.8, \"#7fbc41\"], [0.9, \"#4d9221\"], [1, \"#276419\"]], \"sequential\": [[0.0, \"#0d0887\"], [0.1111111111111111, \"#46039f\"], [0.2222222222222222, \"#7201a8\"], [0.3333333333333333, \"#9c179e\"], [0.4444444444444444, \"#bd3786\"], [0.5555555555555556, \"#d8576b\"], [0.6666666666666666, \"#ed7953\"], [0.7777777777777778, \"#fb9f3a\"], [0.8888888888888888, \"#fdca26\"], [1.0, \"#f0f921\"]], \"sequentialminus\": [[0.0, \"#0d0887\"], [0.1111111111111111, \"#46039f\"], [0.2222222222222222, \"#7201a8\"], [0.3333333333333333, \"#9c179e\"], [0.4444444444444444, \"#bd3786\"], [0.5555555555555556, \"#d8576b\"], [0.6666666666666666, \"#ed7953\"], [0.7777777777777778, \"#fb9f3a\"], [0.8888888888888888, \"#fdca26\"], [1.0, \"#f0f921\"]]}, \"colorway\": [\"#636efa\", \"#EF553B\", \"#00cc96\", \"#ab63fa\", \"#FFA15A\", \"#19d3f3\", \"#FF6692\", \"#B6E880\", \"#FF97FF\", \"#FECB52\"], \"font\": {\"color\": \"#2a3f5f\"}, \"geo\": {\"bgcolor\": \"white\", \"lakecolor\": \"white\", \"landcolor\": \"#E5ECF6\", \"showlakes\": true, \"showland\": true, \"subunitcolor\": \"white\"}, \"hoverlabel\": {\"align\": \"left\"}, \"hovermode\": \"closest\", \"mapbox\": {\"style\": \"light\"}, \"paper_bgcolor\": \"white\", \"plot_bgcolor\": \"#E5ECF6\", \"polar\": {\"angularaxis\": {\"gridcolor\": \"white\", \"linecolor\": \"white\", \"ticks\": \"\"}, \"bgcolor\": \"#E5ECF6\", \"radialaxis\": {\"gridcolor\": \"white\", \"linecolor\": \"white\", \"ticks\": \"\"}}, \"scene\": {\"xaxis\": {\"backgroundcolor\": \"#E5ECF6\", \"gridcolor\": \"white\", \"gridwidth\": 2, \"linecolor\": \"white\", \"showbackground\": true, \"ticks\": \"\", \"zerolinecolor\": \"white\"}, \"yaxis\": {\"backgroundcolor\": \"#E5ECF6\", \"gridcolor\": \"white\", \"gridwidth\": 2, \"linecolor\": \"white\", \"showbackground\": true, \"ticks\": \"\", \"zerolinecolor\": \"white\"}, \"zaxis\": {\"backgroundcolor\": \"#E5ECF6\", \"gridcolor\": \"white\", \"gridwidth\": 2, \"linecolor\": \"white\", \"showbackground\": true, \"ticks\": \"\", \"zerolinecolor\": \"white\"}}, \"shapedefaults\": {\"line\": {\"color\": \"#2a3f5f\"}}, \"ternary\": {\"aaxis\": {\"gridcolor\": \"white\", \"linecolor\": \"white\", \"ticks\": \"\"}, \"baxis\": {\"gridcolor\": \"white\", \"linecolor\": \"white\", \"ticks\": \"\"}, \"bgcolor\": \"#E5ECF6\", \"caxis\": {\"gridcolor\": \"white\", \"linecolor\": \"white\", \"ticks\": \"\"}}, \"title\": {\"x\": 0.05}, \"xaxis\": {\"automargin\": true, \"gridcolor\": \"white\", \"linecolor\": \"white\", \"ticks\": \"\", \"title\": {\"standoff\": 15}, \"zerolinecolor\": \"white\", \"zerolinewidth\": 2}, \"yaxis\": {\"automargin\": true, \"gridcolor\": \"white\", \"linecolor\": \"white\", \"ticks\": \"\", \"title\": {\"standoff\": 15}, \"zerolinecolor\": \"white\", \"zerolinewidth\": 2}}}, \"title\": {\"text\": \"Daily Case_count\"}},\n",
       "                        {\"responsive\": true}\n",
       "                    ).then(function(){\n",
       "                            \n",
       "var gd = document.getElementById('c166781f-7124-4982-ae57-92029b2e305e');\n",
       "var x = new MutationObserver(function (mutations, observer) {{\n",
       "        var display = window.getComputedStyle(gd).display;\n",
       "        if (!display || display === 'none') {{\n",
       "            console.log([gd, 'removed!']);\n",
       "            Plotly.purge(gd);\n",
       "            observer.disconnect();\n",
       "        }}\n",
       "}});\n",
       "\n",
       "// Listen for the removal of the full notebook cells\n",
       "var notebookContainer = gd.closest('#notebook-container');\n",
       "if (notebookContainer) {{\n",
       "    x.observe(notebookContainer, {childList: true});\n",
       "}}\n",
       "\n",
       "// Listen for the clearing of the current output cell\n",
       "var outputEl = gd.closest('.output');\n",
       "if (outputEl) {{\n",
       "    x.observe(outputEl, {childList: true});\n",
       "}}\n",
       "\n",
       "                        })\n",
       "                };\n",
       "                });\n",
       "            </script>\n",
       "        </div>"
      ]
     },
     "metadata": {
      "tags": []
     },
     "output_type": "display_data"
    }
   ],
   "source": [
    "# plot daily case_count\n",
    "plot_data = [\n",
    "    go.Scatter(\n",
    "        x = segment1['application_date'],\n",
    "        y = segment1['case_count']\n",
    "    )\n",
    "]\n",
    "\n",
    "plot_layout = go.Layout(title = 'Daily Case_count')\n",
    "fig = go.Figure(data = plot_data, layout = plot_layout)\n",
    "pyoff.iplot(fig)"
   ]
  },
  {
   "cell_type": "markdown",
   "metadata": {
    "colab_type": "text",
    "id": "PhkRBPGEULQN"
   },
   "source": [
    "#####  from the above plot we can say there is peeks in the plot"
   ]
  },
  {
   "cell_type": "markdown",
   "metadata": {
    "colab_type": "text",
    "id": "mjWWIIyoULQO"
   },
   "source": [
    "### Checking Stationarity for segment1\n",
    "\n",
    "H0 : Time Series is Non - Stationary\n",
    "\n",
    "H1 : Time Sereies is Statinary\n",
    "\n",
    "Note : if ADF Statistic < Critical Value (Reject the Null Hypothesis)\n",
    "\n",
    "Note : if ADF Statistic > Critical Value (Failed to Reject the Null Hypothesis)"
   ]
  },
  {
   "cell_type": "code",
   "execution_count": 12,
   "metadata": {
    "colab": {
     "base_uri": "https://localhost:8080/",
     "height": 136
    },
    "colab_type": "code",
    "executionInfo": {
     "elapsed": 4008,
     "status": "ok",
     "timestamp": 1580050454466,
     "user": {
      "displayName": "Tarun Koundinya",
      "photoUrl": "https://lh3.googleusercontent.com/a-/AAuE7mCuJFCbjNNUC21JfUrOEkSyuTMp8VnRZcH3JXTsOg=s64",
      "userId": "06377727563339288111"
     },
     "user_tz": -330
    },
    "id": "Q8NljqEVULQO",
    "outputId": "8a67174f-21fe-427f-a8ea-faff7cb36b2d"
   },
   "outputs": [
    {
     "name": "stdout",
     "output_type": "stream",
     "text": [
      "ADF Statistic: -4.550992\n",
      "p-value: 0.000159\n",
      "Critical Values:\n",
      "\t1%: -3.439\n",
      "\t5%: -2.865\n",
      "\t10%: -2.569\n",
      "Reject Ho - Time Series is Stationary\n"
     ]
    }
   ],
   "source": [
    "### Checking Stationarity for segment1\n",
    "\n",
    "H0 : Time Series is Non - Stationary\n",
    "\n",
    "H1 : Time Sereies is Statinary\n",
    "\n",
    "Note : if ADF Statistic < Critical Value (Reject the Null Hypothesis)\n",
    "\n",
    "Note : if ADF Statistic > Critical Value (Failed to Reject the Null Hypothesis)\n",
    "import statsmodels.api as sm\n",
    "from statsmodels.tsa.stattools import adfuller\n",
    "\n",
    "stationarity_segment1 = segment1[\"case_count\"].values\n",
    "result = adfuller(stationarity_segment1)\n",
    "print('ADF Statistic: %f' % result[0])\n",
    "print('p-value: %f' % result[1])\n",
    "print('Critical Values:')\n",
    "for key, value in result[4].items():\n",
    "    print('\\t%s: %.3f' % (key, value))\n",
    "\n",
    "if result[0] < result[4][\"5%\"]:\n",
    "    print (\"Reject Ho - Time Series is Stationary\")\n",
    "else:\n",
    "    print (\"Failed to Reject Ho - Time Series is Non-Stationary\")"
   ]
  },
  {
   "cell_type": "code",
   "execution_count": 13,
   "metadata": {
    "colab": {
     "base_uri": "https://localhost:8080/",
     "height": 204
    },
    "colab_type": "code",
    "executionInfo": {
     "elapsed": 3361,
     "status": "ok",
     "timestamp": 1580050454469,
     "user": {
      "displayName": "Tarun Koundinya",
      "photoUrl": "https://lh3.googleusercontent.com/a-/AAuE7mCuJFCbjNNUC21JfUrOEkSyuTMp8VnRZcH3JXTsOg=s64",
      "userId": "06377727563339288111"
     },
     "user_tz": -330
    },
    "id": "l6zJIu-bULQR",
    "outputId": "03685bcd-e048-4a5e-8035-561c9196674e"
   },
   "outputs": [
    {
     "data": {
      "text/html": [
       "<div>\n",
       "<style scoped>\n",
       "    .dataframe tbody tr th:only-of-type {\n",
       "        vertical-align: middle;\n",
       "    }\n",
       "\n",
       "    .dataframe tbody tr th {\n",
       "        vertical-align: top;\n",
       "    }\n",
       "\n",
       "    .dataframe thead th {\n",
       "        text-align: right;\n",
       "    }\n",
       "</style>\n",
       "<table border=\"1\" class=\"dataframe\">\n",
       "  <thead>\n",
       "    <tr style=\"text-align: right;\">\n",
       "      <th></th>\n",
       "      <th>application_date</th>\n",
       "      <th>case_count</th>\n",
       "    </tr>\n",
       "  </thead>\n",
       "  <tbody>\n",
       "    <tr>\n",
       "      <th>0</th>\n",
       "      <td>2017-04-01</td>\n",
       "      <td>299.0</td>\n",
       "    </tr>\n",
       "    <tr>\n",
       "      <th>1</th>\n",
       "      <td>2017-04-03</td>\n",
       "      <td>42.0</td>\n",
       "    </tr>\n",
       "    <tr>\n",
       "      <th>2</th>\n",
       "      <td>2017-04-04</td>\n",
       "      <td>23.0</td>\n",
       "    </tr>\n",
       "    <tr>\n",
       "      <th>3</th>\n",
       "      <td>2017-04-05</td>\n",
       "      <td>1530.0</td>\n",
       "    </tr>\n",
       "    <tr>\n",
       "      <th>4</th>\n",
       "      <td>2017-04-07</td>\n",
       "      <td>1341.0</td>\n",
       "    </tr>\n",
       "  </tbody>\n",
       "</table>\n",
       "</div>"
      ],
      "text/plain": [
       "  application_date  case_count\n",
       "0       2017-04-01       299.0\n",
       "1       2017-04-03        42.0\n",
       "2       2017-04-04        23.0\n",
       "3       2017-04-05      1530.0\n",
       "4       2017-04-07      1341.0"
      ]
     },
     "execution_count": 13,
     "metadata": {
      "tags": []
     },
     "output_type": "execute_result"
    }
   ],
   "source": [
    "segment1_train = segment1.copy()\n",
    "segment1_train.head()"
   ]
  },
  {
   "cell_type": "code",
   "execution_count": 0,
   "metadata": {
    "colab": {},
    "colab_type": "code",
    "id": "OIt-3pCuULQT"
   },
   "outputs": [],
   "source": [
    "# extracting case_count column for time series prediction\n",
    "segment1_training_set = segment1_train.iloc[:,1:2].values\n",
    "#segment1_training_set"
   ]
  },
  {
   "cell_type": "code",
   "execution_count": 0,
   "metadata": {
    "colab": {},
    "colab_type": "code",
    "id": "7s6iVasXULQV",
    "scrolled": true
   },
   "outputs": [],
   "source": [
    "# Feature Scaling\n",
    "from sklearn.preprocessing import MinMaxScaler\n",
    "sc = MinMaxScaler(feature_range = (0,1))\n",
    "segment1_training_set_scaled = sc.fit_transform(segment1_training_set)\n",
    "#segment1_training_set_scaled"
   ]
  },
  {
   "cell_type": "code",
   "execution_count": 16,
   "metadata": {
    "colab": {
     "base_uri": "https://localhost:8080/",
     "height": 34
    },
    "colab_type": "code",
    "executionInfo": {
     "elapsed": 1801,
     "status": "ok",
     "timestamp": 1580050454472,
     "user": {
      "displayName": "Tarun Koundinya",
      "photoUrl": "https://lh3.googleusercontent.com/a-/AAuE7mCuJFCbjNNUC21JfUrOEkSyuTMp8VnRZcH3JXTsOg=s64",
      "userId": "06377727563339288111"
     },
     "user_tz": -330
    },
    "id": "ljyPA9nGULQY",
    "outputId": "51bbdbca-8801-4b57-b82b-695c246ce329"
   },
   "outputs": [
    {
     "data": {
      "text/plain": [
       "806"
      ]
     },
     "execution_count": 16,
     "metadata": {
      "tags": []
     },
     "output_type": "execute_result"
    }
   ],
   "source": [
    "# checking the length of segment1_training_set_scaled\n",
    "len(segment1_training_set_scaled)"
   ]
  },
  {
   "cell_type": "code",
   "execution_count": 17,
   "metadata": {
    "colab": {
     "base_uri": "https://localhost:8080/",
     "height": 281
    },
    "colab_type": "code",
    "executionInfo": {
     "elapsed": 1304,
     "status": "ok",
     "timestamp": 1580050454472,
     "user": {
      "displayName": "Tarun Koundinya",
      "photoUrl": "https://lh3.googleusercontent.com/a-/AAuE7mCuJFCbjNNUC21JfUrOEkSyuTMp8VnRZcH3JXTsOg=s64",
      "userId": "06377727563339288111"
     },
     "user_tz": -330
    },
    "id": "1fJAQD0OULQa",
    "outputId": "01511008-0532-40f0-c3e5-fb2a8843416a"
   },
   "outputs": [
    {
     "data": {
      "image/png": "[encoded data removed]",
      "text/plain": [
       "<Figure size 432x288 with 1 Axes>"
      ]
     },
     "metadata": {
      "tags": []
     },
     "output_type": "display_data"
    }
   ],
   "source": [
    "from statsmodels.graphics.tsaplots import plot_acf\n",
    "from matplotlib import pyplot as plt\n",
    "plot_acf(segment1_training_set,lags = 60)\n",
    "plt.show()"
   ]
  },
  {
   "cell_type": "code",
   "execution_count": 18,
   "metadata": {
    "colab": {
     "base_uri": "https://localhost:8080/",
     "height": 281
    },
    "colab_type": "code",
    "executionInfo": {
     "elapsed": 1207,
     "status": "ok",
     "timestamp": 1580050454856,
     "user": {
      "displayName": "Tarun Koundinya",
      "photoUrl": "https://lh3.googleusercontent.com/a-/AAuE7mCuJFCbjNNUC21JfUrOEkSyuTMp8VnRZcH3JXTsOg=s64",
      "userId": "06377727563339288111"
     },
     "user_tz": -330
    },
    "id": "m0qiwt83ULQd",
    "outputId": "fb1b20dd-6c8a-491e-bbb2-29c5b656f07a"
   },
   "outputs": [
    {
     "data": {
      "image/png": "[encoded data removed]",
      "text/plain": [
       "<Figure size 432x288 with 1 Axes>"
      ]
     },
     "metadata": {
      "tags": []
     },
     "output_type": "display_data"
    }
   ],
   "source": [
    "from statsmodels.graphics.tsaplots import plot_pacf\n",
    "plot_pacf(segment1_training_set, lags=60)\n",
    "plt.show()"
   ]
  },
  {
   "cell_type": "markdown",
   "metadata": {
    "colab_type": "text",
    "id": "wfv71_sKULQf"
   },
   "source": [
    "### It is observed from the above pacf plot at lag 8 correlation is almost 0, so we can take this is a lag"
   ]
  },
  {
   "cell_type": "code",
   "execution_count": 0,
   "metadata": {
    "colab": {},
    "colab_type": "code",
    "id": "WfcZgQwdULQg"
   },
   "outputs": [],
   "source": [
    "lag = 8"
   ]
  },
  {
   "cell_type": "code",
   "execution_count": 0,
   "metadata": {
    "colab": {},
    "colab_type": "code",
    "id": "1YsBMx-gULQi"
   },
   "outputs": [],
   "source": [
    "# creating a data structure with 8 timesteps and 1 output\n",
    "X_train_segment1 = []\n",
    "y_train_segment1 = []\n",
    "for i in range(lag,len(segment1_training_set_scaled)):\n",
    "    X_train_segment1.append(segment1_training_set_scaled[i-lag:i,0])\n",
    "    y_train_segment1.append(segment1_training_set_scaled[i,0])\n",
    "X_train_segment1,y_train_segment1 = np.array(X_train_segment1),np.array(y_train_segment1)"
   ]
  },
  {
   "cell_type": "code",
   "execution_count": 21,
   "metadata": {
    "colab": {
     "base_uri": "https://localhost:8080/",
     "height": 238
    },
    "colab_type": "code",
    "executionInfo": {
     "elapsed": 756,
     "status": "ok",
     "timestamp": 1580050457262,
     "user": {
      "displayName": "Tarun Koundinya",
      "photoUrl": "https://lh3.googleusercontent.com/a-/AAuE7mCuJFCbjNNUC21JfUrOEkSyuTMp8VnRZcH3JXTsOg=s64",
      "userId": "06377727563339288111"
     },
     "user_tz": -330
    },
    "id": "QsMtOGjiULQk",
    "outputId": "5fa2ede5-379e-4eb4-9890-867babc8d343"
   },
   "outputs": [
    {
     "data": {
      "text/plain": [
       "array([[0.01361725, 0.00187351, 0.0010053 , ..., 0.06703528, 0.06118625,\n",
       "        0.0607293 ],\n",
       "       [0.00187351, 0.0010053 , 0.0698684 , ..., 0.06118625, 0.0607293 ,\n",
       "        0.04478158],\n",
       "       [0.0010053 , 0.0698684 , 0.06123195, ..., 0.0607293 , 0.04478158,\n",
       "        0.01864376],\n",
       "       ...,\n",
       "       [0.14407787, 0.15728386, 0.1598885 , ..., 0.0891062 , 0.16674283,\n",
       "        0.1467282 ],\n",
       "       [0.15728386, 0.1598885 , 0.16075672, ..., 0.16674283, 0.1467282 ,\n",
       "        0.17469384],\n",
       "       [0.1598885 , 0.16075672, 0.13219704, ..., 0.1467282 , 0.17469384,\n",
       "        0.19370316]])"
      ]
     },
     "execution_count": 21,
     "metadata": {
      "tags": []
     },
     "output_type": "execute_result"
    }
   ],
   "source": [
    "# lets look how the X_train_segment1 is\n",
    "X_train_segment1"
   ]
  },
  {
   "cell_type": "code",
   "execution_count": 22,
   "metadata": {
    "colab": {
     "base_uri": "https://localhost:8080/",
     "height": 1000
    },
    "colab_type": "code",
    "executionInfo": {
     "elapsed": 688,
     "status": "ok",
     "timestamp": 1580050457774,
     "user": {
      "displayName": "Tarun Koundinya",
      "photoUrl": "https://lh3.googleusercontent.com/a-/AAuE7mCuJFCbjNNUC21JfUrOEkSyuTMp8VnRZcH3JXTsOg=s64",
      "userId": "06377727563339288111"
     },
     "user_tz": -330
    },
    "id": "tiVr5CR4ULQn",
    "outputId": "d6720f31-1851-4b08-e563-96a29b632538"
   },
   "outputs": [
    {
     "data": {
      "text/plain": [
       "array([4.47815756e-02, 1.86437580e-02, 6.91829647e-02, 6.58471943e-02,\n",
       "       6.41107659e-02, 6.16432097e-02, 6.34710291e-02, 4.83915189e-02,\n",
       "       1.73185889e-02, 7.42551636e-02, 6.62127582e-02, 7.05995248e-02,\n",
       "       7.80935844e-02, 8.80095047e-02, 6.18716871e-02, 2.95695485e-01,\n",
       "       6.72180589e-02, 9.00201060e-03, 3.42716140e-03, 7.49405959e-03,\n",
       "       1.12228112e-01, 1.94205812e-02, 1.37086456e-04, 2.28477426e-03,\n",
       "       7.22445622e-02, 6.49789801e-02, 7.00054835e-02, 5.13617255e-02,\n",
       "       1.53993785e-02, 7.91445805e-02, 6.84975324e-02, 7.45293365e-02,\n",
       "       6.98683970e-02, 7.19703893e-02, 5.57027966e-02, 2.08828368e-02,\n",
       "       7.97386218e-02, 7.37525133e-02, 7.41180771e-02, 6.98227015e-02,\n",
       "       7.24730397e-02, 5.83074392e-02, 2.38987388e-02, 8.83750685e-02,\n",
       "       7.90988850e-02, 3.07941875e-01, 9.13909706e-05, 2.92908061e-02,\n",
       "       2.26649607e-02, 1.85980625e-02, 7.74538476e-02, 8.77353317e-03,\n",
       "       7.92816670e-02, 6.59842808e-02, 9.41326997e-02, 7.07366112e-02,\n",
       "       3.04331932e-02, 9.93876805e-02, 9.00658015e-02, 9.37671358e-02,\n",
       "       8.94260647e-02, 9.64174740e-02, 7.96472309e-02, 3.22153171e-02,\n",
       "       1.11588375e-01, 9.71486017e-02, 1.07932736e-01, 1.13964540e-01,\n",
       "       1.20544690e-01, 1.17940048e-01, 7.52147688e-02, 8.10180954e-02,\n",
       "       8.83750685e-02, 9.90221166e-02, 1.04642661e-01, 4.45485286e-01,\n",
       "       8.27088284e-02, 1.82781941e-04, 5.95412173e-02, 6.99140925e-03,\n",
       "       2.25735697e-02, 8.57704259e-02, 6.89544873e-02, 7.82306708e-02,\n",
       "       7.03253519e-02, 7.08736977e-02, 5.41034546e-02, 2.74629867e-02,\n",
       "       8.41253884e-02, 7.16048254e-02, 7.27015171e-02, 7.11478706e-02,\n",
       "       7.41180771e-02, 4.96252970e-02, 2.05172729e-02, 8.10180954e-02,\n",
       "       7.03253519e-02, 7.24273442e-02, 6.85889234e-02, 7.80935844e-02,\n",
       "       6.27855968e-02, 3.10729300e-02, 5.29747761e-01, 4.20398465e-02,\n",
       "       4.56954853e-05, 0.00000000e+00, 1.37086456e-04, 9.13909706e-05,\n",
       "       8.64558582e-02, 8.44909523e-02, 9.18022299e-02, 9.30360080e-02,\n",
       "       8.83293731e-02, 8.39426065e-02, 4.40504478e-02, 1.31922866e-01,\n",
       "       5.61140559e-02, 1.03637361e-01, 9.18936209e-02, 9.77883385e-02,\n",
       "       7.86876257e-02, 3.71047341e-02, 1.07064522e-01, 9.42240907e-02,\n",
       "       1.14375800e-01, 1.23012246e-01, 1.07704259e-01, 7.25644306e-02,\n",
       "       3.82928167e-02, 1.05099616e-01, 8.70498995e-02, 9.43154816e-02,\n",
       "       6.20955950e-01, 2.28477426e-04, 5.02650338e-02, 3.67391702e-02,\n",
       "       9.46810455e-02, 7.97386218e-02, 4.25424968e-02, 1.08618169e-01,\n",
       "       1.08618169e-01, 1.16523487e-01, 1.15975142e-01, 1.29546701e-01,\n",
       "       1.23012246e-01, 6.28312923e-02, 1.42250046e-01, 1.40696399e-01,\n",
       "       1.61762018e-01, 2.02659477e-01, 1.97815756e-01, 1.69073296e-01,\n",
       "       1.60254067e-01, 2.37616523e-01, 2.37022482e-01, 2.45704624e-01,\n",
       "       2.09422409e-01, 2.03938951e-01, 9.88393347e-01, 5.84445257e-02,\n",
       "       1.02814842e-02, 7.81392798e-03, 9.50466094e-03, 1.60391153e-02,\n",
       "       1.64503747e-02, 1.24748675e-02, 2.61378176e-02, 7.70882837e-02,\n",
       "       8.39883020e-02, 1.69073296e-01, 1.83513069e-01, 1.98958143e-01,\n",
       "       1.84929629e-01, 1.79446171e-01, 3.05931274e-01, 3.30012795e-01,\n",
       "       2.89846463e-01, 2.12438311e-01, 1.10674465e-01, 7.84591482e-02,\n",
       "       4.57411808e-02, 1.17391702e-01, 1.03774447e-01, 1.35578505e-01,\n",
       "       1.15700969e-01, 1.16751965e-01, 9.41783952e-02, 4.03034180e-02,\n",
       "       1.28358618e-01, 7.04989947e-01, 2.65947724e-02, 1.27947359e-03,\n",
       "       2.92451106e-03, 1.78212393e-03, 2.28477426e-04, 2.69603363e-03,\n",
       "       1.14238713e-02, 7.10564796e-02, 8.54962530e-02, 9.12538841e-02,\n",
       "       6.99597880e-02, 2.90166332e-02, 1.02403583e-01, 9.07969293e-02,\n",
       "       8.70955950e-02, 8.39426065e-02, 8.22518735e-02, 7.01882654e-02,\n",
       "       1.30003656e-01, 2.51325169e-03, 8.83293731e-02, 8.69585085e-02,\n",
       "       8.74154634e-02, 9.04313654e-02, 6.71723634e-02, 2.60921221e-02,\n",
       "       9.60976056e-02, 8.34399561e-02, 8.85121550e-02, 2.72573570e-01,\n",
       "       2.51325169e-03, 1.96490587e-03, 1.32973862e-02, 7.35240358e-02,\n",
       "       7.53518552e-02, 8.69585085e-02, 8.56333394e-02, 8.49936026e-02,\n",
       "       6.78121002e-02, 2.83312009e-02, 1.05922135e-01, 1.02175105e-01,\n",
       "       1.05967830e-01, 1.03226101e-01, 1.06242003e-01, 8.20233961e-02,\n",
       "       3.50027417e-02, 1.09303601e-01, 9.95704624e-02, 1.12091025e-01,\n",
       "       8.61359898e-02, 8.77353317e-02, 9.04770609e-02, 3.45457869e-02,\n",
       "       9.90678121e-02, 1.02814842e-01, 1.08435387e-01, 1.16706269e-01,\n",
       "       1.33065253e-01, 1.24977152e-01, 6.44534820e-01, 6.35167245e-02,\n",
       "       3.79272528e-03, 2.01060135e-03, 3.42716140e-03, 8.17035277e-02,\n",
       "       6.26485103e-02, 3.65563882e-03, 1.19630780e-01, 1.14055931e-01,\n",
       "       1.15198318e-01, 1.25936757e-01, 1.05328094e-01, 5.32809358e-02,\n",
       "       1.10537379e-01, 1.19904953e-01, 1.30369220e-01, 1.34618900e-01,\n",
       "       1.30597697e-01, 1.01306891e-01, 5.05849022e-02, 1.46088466e-01,\n",
       "       1.15061232e-01, 1.17574484e-01, 9.71029062e-02, 6.63955401e-02,\n",
       "       9.71486017e-02, 4.15828916e-02, 1.28861269e-01, 1.13233413e-01,\n",
       "       4.39910437e-01, 2.15225736e-02, 2.97020654e-03, 2.33046975e-03,\n",
       "       1.21230122e-01, 1.10491683e-01, 1.11405593e-01, 1.08206909e-01,\n",
       "       1.12822153e-01, 9.01571925e-02, 4.40961433e-02, 1.55912996e-01,\n",
       "       1.41244745e-01, 1.23423506e-01, 1.07521477e-01, 1.16157924e-01,\n",
       "       9.14823615e-02, 4.21312374e-02, 1.09851947e-01, 1.13644672e-01,\n",
       "       1.18259916e-01, 1.14787059e-01, 1.10308901e-01, 8.71412904e-02,\n",
       "       4.39590568e-02, 1.21732773e-01, 1.15563882e-01, 4.17336867e-01,\n",
       "       3.97550722e-03, 2.60464266e-03, 1.48144763e-01, 1.20818863e-01,\n",
       "       1.28861269e-01, 1.27627490e-01, 1.29363919e-01, 1.07247304e-01,\n",
       "       6.04551270e-02, 1.58426247e-01, 1.38091757e-01, 1.51343447e-01,\n",
       "       1.60573935e-01, 1.77618351e-01, 1.84609761e-01, 1.42707001e-01,\n",
       "       1.63361360e-01, 1.28541400e-01, 1.39736794e-01, 1.43575215e-01,\n",
       "       1.51252056e-01, 1.30369220e-01, 7.55803327e-02, 1.43438128e-01,\n",
       "       1.33476513e-01, 1.42889782e-01, 1.42798392e-01, 1.50246756e-01,\n",
       "       1.00000000e+00, 4.56954853e-05, 5.52915372e-03, 3.33577043e-03,\n",
       "       2.65033815e-03, 2.83312009e-03, 2.33046975e-03, 8.22518735e-04,\n",
       "       5.57484920e-03, 2.69146408e-01, 4.52385304e-03, 1.59568635e-01,\n",
       "       1.64046792e-01, 1.59431548e-01, 1.21732773e-01, 8.23432645e-02,\n",
       "       1.61899104e-01, 1.71586547e-01, 1.86574666e-01, 1.26622190e-01,\n",
       "       1.14878450e-01, 9.53207823e-02, 4.73405228e-02, 1.37908975e-01,\n",
       "       1.15975142e-01, 1.20316213e-01, 1.17940048e-01, 1.12182416e-01,\n",
       "       9.34472674e-02, 5.28696765e-02, 1.94114421e-01, 4.84372144e-03,\n",
       "       1.25114239e-01, 1.15472491e-01, 1.10583074e-01, 8.82836776e-02,\n",
       "       4.94882106e-02, 1.39645403e-01, 1.11999634e-01, 1.18305611e-01,\n",
       "       1.20498995e-01, 1.11451289e-01, 8.45823433e-02, 4.73862182e-02,\n",
       "       1.20270517e-01, 1.19082435e-01, 1.28952659e-01, 1.18945348e-01,\n",
       "       1.18716871e-01, 9.27161396e-02, 5.08590751e-02, 1.38548711e-01,\n",
       "       1.19813562e-01, 1.22463901e-01, 1.23926156e-01, 1.16751965e-01,\n",
       "       9.15280570e-02, 4.62895266e-02, 1.31146043e-01, 1.18625480e-01,\n",
       "       1.16889051e-01, 2.00054835e-01, 1.48967282e-02, 8.97002376e-02,\n",
       "       4.81173460e-02, 1.47733504e-01, 1.43895083e-01, 1.47459331e-01,\n",
       "       1.47642113e-01, 1.44763297e-01, 1.21641382e-01, 7.39809907e-02,\n",
       "       1.78760738e-01, 1.63132882e-01, 1.90093219e-01, 2.07046244e-01,\n",
       "       2.17282033e-01, 1.08572473e-01, 7.10107841e-02, 1.78486566e-01,\n",
       "       1.49469932e-01, 1.57786511e-01, 1.53354049e-01, 1.63041492e-01,\n",
       "       1.19630780e-01, 5.97696948e-02, 1.55547432e-01, 8.69128130e-02,\n",
       "       1.51526229e-01, 1.66560044e-01, 1.43026869e-01, 1.76932919e-01,\n",
       "       6.26028148e-03, 1.50292451e-01, 1.35852678e-01, 1.39645403e-01,\n",
       "       1.34024858e-01, 1.32014257e-01, 1.05967830e-01, 5.94041309e-02,\n",
       "       1.62675928e-01, 1.39873880e-01, 1.51617620e-01, 1.45768598e-01,\n",
       "       1.59248766e-01, 1.31694389e-01, 5.22756352e-02, 1.49150064e-01,\n",
       "       1.27901663e-01, 1.40056662e-01, 1.32608298e-01, 1.23149333e-01,\n",
       "       9.23048803e-02, 5.50173643e-02, 1.49835496e-01, 1.18671175e-01,\n",
       "       1.31968562e-01, 1.27581795e-01, 1.27810272e-01, 1.01169804e-01,\n",
       "       5.36921952e-02, 1.59203071e-01, 2.67547066e-01, 1.31785780e-01,\n",
       "       4.98080790e-03, 1.39005666e-01, 1.07887041e-01, 5.30067629e-02,\n",
       "       1.56187169e-01, 1.33522208e-01, 1.35258636e-01, 1.25799671e-01,\n",
       "       1.47093767e-01, 1.16112228e-01, 6.88174008e-02, 1.92789252e-01,\n",
       "       1.76064705e-01, 1.10400292e-01, 1.70307074e-01, 1.46545421e-01,\n",
       "       1.31922866e-01, 6.61670627e-02, 1.88950832e-01, 1.66194480e-01,\n",
       "       1.28450009e-01, 1.50749406e-01, 1.67382563e-01, 1.41153354e-01,\n",
       "       8.13836593e-02, 1.56369951e-01, 1.34847377e-01, 1.50292451e-01,\n",
       "       1.78349479e-01, 2.93913361e-01, 6.21915555e-02, 1.37086456e-03,\n",
       "       1.51846098e-01, 1.23012246e-01, 1.37863279e-01, 1.37132151e-01,\n",
       "       1.34755986e-01, 1.16203619e-01, 6.63955401e-02, 1.10948638e-01,\n",
       "       1.71540852e-01, 2.13397916e-01, 1.93337598e-01, 1.68707732e-01,\n",
       "       1.36675196e-01, 1.03683056e-01, 1.60665326e-01, 1.52348748e-01,\n",
       "       1.62995796e-01, 1.49835496e-01, 1.40056662e-01, 1.21915555e-01,\n",
       "       8.89234144e-02, 1.49378541e-01, 1.29592396e-01, 1.21915555e-01,\n",
       "       1.31648693e-01, 1.42250046e-01, 1.42752696e-01, 2.28523122e-01,\n",
       "       1.12319503e-01, 2.83312009e-03, 1.46042771e-01, 1.40239444e-01,\n",
       "       1.52805703e-01, 1.33248035e-01, 1.01261195e-01, 1.97541583e-01,\n",
       "       2.08645586e-01, 3.00356425e-01, 2.66313288e-01, 2.75315299e-01,\n",
       "       2.31356242e-01, 2.36839700e-01, 3.51809541e-01, 3.39014805e-01,\n",
       "       3.61359898e-01, 3.11963078e-01, 1.89499177e-01, 1.31922866e-01,\n",
       "       9.61889965e-02, 2.08965454e-01, 1.79994517e-01, 2.15956863e-01,\n",
       "       1.84746847e-01, 1.96947542e-01, 1.66468653e-01, 1.38731493e-01,\n",
       "       2.42551636e-01, 2.44790715e-01, 8.48976421e-01, 1.11953939e-02,\n",
       "       1.27490404e-02, 3.63781758e-01, 4.35569366e-01, 5.71924694e-01,\n",
       "       5.02513252e-01, 4.74867483e-01, 2.39581429e-01, 2.14266131e-01,\n",
       "       1.52394443e-01, 8.65472491e-02, 2.39992689e-01, 1.90138914e-01,\n",
       "       1.86848839e-01, 1.47870590e-01, 1.64001097e-01, 1.30414915e-01,\n",
       "       7.26558216e-02, 2.06863462e-01, 1.56963992e-01, 1.58334857e-01,\n",
       "       1.54862000e-01, 1.62447450e-01, 1.12776458e-01, 6.14604277e-02,\n",
       "       1.61259368e-01, 1.39599708e-01, 1.50109669e-01, 1.48510327e-01,\n",
       "       2.34600621e-01, 2.84682873e-02, 3.15755803e-02, 1.57832206e-01,\n",
       "       1.35441418e-01, 1.32059952e-01, 1.35852678e-01, 1.25297021e-01,\n",
       "       1.00210199e-01, 5.60226650e-02, 1.49881192e-01, 1.32197039e-01,\n",
       "       1.37863279e-01, 1.36446719e-01, 1.39325535e-01, 8.72783769e-02,\n",
       "       5.28239810e-02, 1.48464632e-01, 1.18853957e-01, 1.36538110e-01,\n",
       "       1.31465911e-01, 1.31877171e-01, 1.01855237e-01, 5.89014805e-02,\n",
       "       1.58243466e-01, 1.30095047e-01, 1.29363919e-01, 1.38228843e-01,\n",
       "       1.46316944e-01, 1.23743374e-01, 8.70498995e-02, 3.70818863e-01,\n",
       "       5.66624018e-03, 1.80268689e-01, 1.60756717e-01, 1.46088466e-01,\n",
       "       1.04368488e-01, 6.67611040e-02, 1.43072564e-01, 1.39873880e-01,\n",
       "       1.45814294e-01, 1.54267958e-01, 1.51480534e-01, 1.30871870e-01,\n",
       "       8.28916103e-02, 1.63635533e-01, 1.42798392e-01, 1.72637543e-01,\n",
       "       1.65737525e-01, 1.68296472e-01, 1.30049351e-01, 7.81849753e-02,\n",
       "       1.86620362e-01, 1.48464632e-01, 1.60893804e-01, 1.51160665e-01,\n",
       "       1.58654725e-01, 7.74538476e-02, 6.15975142e-02, 1.71129592e-01,\n",
       "       1.24977152e-01, 1.56004387e-01, 2.73259002e-01, 1.01443977e-02,\n",
       "       1.09943338e-01, 7.26101261e-02, 1.75196491e-01, 1.50795101e-01,\n",
       "       1.66011698e-01, 1.45083166e-01, 2.51188083e-01, 1.53079876e-02,\n",
       "       8.50392981e-02, 1.72043502e-01, 1.51526229e-01, 1.26256626e-01,\n",
       "       1.51983184e-01, 1.53993785e-01, 1.09943338e-01, 7.46207275e-02,\n",
       "       1.61305063e-01, 1.56369951e-01, 1.48464632e-01, 1.44671906e-01,\n",
       "       1.42844087e-01, 9.04313654e-02, 6.93657467e-02, 1.69210382e-01,\n",
       "       1.36355328e-01, 1.51846098e-01, 2.37388046e-01, 1.19082435e-01,\n",
       "       2.43099982e-02, 7.39352952e-02, 2.09970755e-01, 1.34618900e-01,\n",
       "       1.44489124e-01, 1.45677207e-01, 1.59340157e-01, 1.13781758e-01,\n",
       "       6.96856151e-02, 1.81273990e-01, 1.58106379e-01, 1.61487845e-01,\n",
       "       1.49332846e-01, 1.56141473e-01, 1.06927436e-01, 8.53591665e-02,\n",
       "       1.93383294e-01, 1.64869311e-01, 1.77481265e-01, 6.19630780e-02,\n",
       "       1.38503016e-01, 1.27444708e-01, 7.86876257e-02, 1.82553464e-01,\n",
       "       1.58700420e-01, 1.64138183e-01, 1.57101078e-01, 1.61167977e-01,\n",
       "       1.39919576e-01, 2.22537013e-01, 3.52312192e-02, 1.44534820e-01,\n",
       "       1.77252787e-01, 1.70946810e-01, 2.02111131e-01, 1.91281301e-01,\n",
       "       9.27161396e-02, 1.96810455e-01, 1.43895083e-01, 1.67748126e-01,\n",
       "       1.41016268e-01, 1.77572656e-01, 1.41701700e-01, 8.79181137e-02,\n",
       "       1.58837507e-01, 1.30460610e-01, 1.48510327e-01, 1.18853957e-01,\n",
       "       1.49424237e-01, 9.70572107e-02, 6.42021568e-02, 1.65783221e-01,\n",
       "       1.11679766e-01, 1.44854688e-01, 1.34801682e-01, 1.32928167e-01,\n",
       "       9.86565527e-02, 6.16432097e-02, 1.49561323e-01, 1.10765856e-01,\n",
       "       1.05830744e-01, 1.54542131e-01, 1.38183148e-01, 1.11085725e-01,\n",
       "       7.02339609e-02, 1.81228295e-01, 1.75653445e-01, 1.29089746e-01,\n",
       "       1.43026869e-01, 1.40924877e-01, 1.12045330e-01, 5.09961616e-02,\n",
       "       1.69941510e-01, 1.48784500e-01, 1.56050082e-01, 1.51297752e-01,\n",
       "       1.47961981e-01, 1.16157924e-01, 6.21458600e-02, 1.79400475e-01,\n",
       "       1.45037470e-01, 1.60345458e-01, 1.28267227e-01, 1.49515628e-01,\n",
       "       1.15426796e-01, 7.46207275e-02, 1.77252787e-01, 1.48236154e-01,\n",
       "       1.60756717e-01, 1.68844818e-01, 1.69804423e-01, 1.22600987e-01,\n",
       "       8.89691099e-02, 2.06497898e-01, 2.17327728e-01, 1.54405045e-01,\n",
       "       1.72134893e-01, 1.75744836e-01, 1.24428806e-01, 7.76366295e-02,\n",
       "       1.90687260e-01, 1.63818315e-01, 1.72957412e-01, 1.65509048e-01,\n",
       "       1.59797112e-01, 1.26804972e-01, 8.03783586e-02, 1.95485286e-01,\n",
       "       1.50795101e-01, 1.74054103e-01, 1.61624931e-01, 1.56781210e-01,\n",
       "       1.14741364e-01, 7.45750320e-02, 1.73779931e-01, 1.44077865e-01,\n",
       "       1.57283860e-01, 1.59888503e-01, 1.60756717e-01, 1.32197039e-01,\n",
       "       8.91061963e-02, 1.66742826e-01, 1.46728203e-01, 1.74693840e-01,\n",
       "       1.93703162e-01, 5.48345823e-04])"
      ]
     },
     "execution_count": 22,
     "metadata": {
      "tags": []
     },
     "output_type": "execute_result"
    }
   ],
   "source": [
    "# lets look how y_train_segment1 is\n",
    "y_train_segment1"
   ]
  },
  {
   "cell_type": "code",
   "execution_count": 23,
   "metadata": {
    "colab": {
     "base_uri": "https://localhost:8080/",
     "height": 34
    },
    "colab_type": "code",
    "executionInfo": {
     "elapsed": 777,
     "status": "ok",
     "timestamp": 1580050458539,
     "user": {
      "displayName": "Tarun Koundinya",
      "photoUrl": "https://lh3.googleusercontent.com/a-/AAuE7mCuJFCbjNNUC21JfUrOEkSyuTMp8VnRZcH3JXTsOg=s64",
      "userId": "06377727563339288111"
     },
     "user_tz": -330
    },
    "id": "Qe6dd2dBULQp",
    "outputId": "65dc2cc8-4288-4bb3-fd4b-97638d19f9bb"
   },
   "outputs": [
    {
     "data": {
      "text/plain": [
       "(798, 8)"
      ]
     },
     "execution_count": 23,
     "metadata": {
      "tags": []
     },
     "output_type": "execute_result"
    }
   ],
   "source": [
    "# lets check shape of X_train_segment1\n",
    "X_train_segment1.shape"
   ]
  },
  {
   "cell_type": "code",
   "execution_count": 24,
   "metadata": {
    "colab": {
     "base_uri": "https://localhost:8080/",
     "height": 867
    },
    "colab_type": "code",
    "executionInfo": {
     "elapsed": 508,
     "status": "ok",
     "timestamp": 1580050458922,
     "user": {
      "displayName": "Tarun Koundinya",
      "photoUrl": "https://lh3.googleusercontent.com/a-/AAuE7mCuJFCbjNNUC21JfUrOEkSyuTMp8VnRZcH3JXTsOg=s64",
      "userId": "06377727563339288111"
     },
     "user_tz": -330
    },
    "id": "CA99Bz67ULQr",
    "outputId": "3bafa3c5-fc8e-4ca5-a94e-733232bc3370"
   },
   "outputs": [
    {
     "name": "stdout",
     "output_type": "stream",
     "text": [
      "Reshaped X_train_segment1 (798, 8, 1)\n",
      "[[[0.01361725]\n",
      "  [0.00187351]\n",
      "  [0.0010053 ]\n",
      "  ...\n",
      "  [0.06703528]\n",
      "  [0.06118625]\n",
      "  [0.0607293 ]]\n",
      "\n",
      " [[0.00187351]\n",
      "  [0.0010053 ]\n",
      "  [0.0698684 ]\n",
      "  ...\n",
      "  [0.06118625]\n",
      "  [0.0607293 ]\n",
      "  [0.04478158]]\n",
      "\n",
      " [[0.0010053 ]\n",
      "  [0.0698684 ]\n",
      "  [0.06123195]\n",
      "  ...\n",
      "  [0.0607293 ]\n",
      "  [0.04478158]\n",
      "  [0.01864376]]\n",
      "\n",
      " ...\n",
      "\n",
      " [[0.14407787]\n",
      "  [0.15728386]\n",
      "  [0.1598885 ]\n",
      "  ...\n",
      "  [0.0891062 ]\n",
      "  [0.16674283]\n",
      "  [0.1467282 ]]\n",
      "\n",
      " [[0.15728386]\n",
      "  [0.1598885 ]\n",
      "  [0.16075672]\n",
      "  ...\n",
      "  [0.16674283]\n",
      "  [0.1467282 ]\n",
      "  [0.17469384]]\n",
      "\n",
      " [[0.1598885 ]\n",
      "  [0.16075672]\n",
      "  [0.13219704]\n",
      "  ...\n",
      "  [0.1467282 ]\n",
      "  [0.17469384]\n",
      "  [0.19370316]]]\n"
     ]
    }
   ],
   "source": [
    "# Reshaping the data for LSTM\n",
    "X_train_segment1 = np.reshape(X_train_segment1,(X_train_segment1.shape[0],X_train_segment1.shape[1],1))\n",
    "print('Reshaped X_train_segment1', X_train_segment1.shape)\n",
    "print(X_train_segment1)"
   ]
  },
  {
   "cell_type": "markdown",
   "metadata": {
    "colab_type": "text",
    "id": "GirxNUW_USFr"
   },
   "source": [
    "## UNTIL HERE"
   ]
  },
  {
   "cell_type": "code",
   "execution_count": 25,
   "metadata": {
    "colab": {
     "base_uri": "https://localhost:8080/",
     "height": 1000
    },
    "colab_type": "code",
    "executionInfo": {
     "elapsed": 416677,
     "status": "ok",
     "timestamp": 1580050877068,
     "user": {
      "displayName": "Tarun Koundinya",
      "photoUrl": "https://lh3.googleusercontent.com/a-/AAuE7mCuJFCbjNNUC21JfUrOEkSyuTMp8VnRZcH3JXTsOg=s64",
      "userId": "06377727563339288111"
     },
     "user_tz": -330
    },
    "id": "yEPryBV_ULQz",
    "outputId": "31d0634c-21a3-4a3b-e9ba-86e23995d45c"
   },
   "outputs": [
    {
     "name": "stdout",
     "output_type": "stream",
     "text": [
      "WARNING:tensorflow:From /usr/local/lib/python3.6/dist-packages/keras/backend/tensorflow_backend.py:66: The name tf.get_default_graph is deprecated. Please use tf.compat.v1.get_default_graph instead.\n",
      "\n",
      "WARNING:tensorflow:From /usr/local/lib/python3.6/dist-packages/keras/backend/tensorflow_backend.py:541: The name tf.placeholder is deprecated. Please use tf.compat.v1.placeholder instead.\n",
      "\n",
      "WARNING:tensorflow:From /usr/local/lib/python3.6/dist-packages/keras/backend/tensorflow_backend.py:4432: The name tf.random_uniform is deprecated. Please use tf.random.uniform instead.\n",
      "\n",
      "WARNING:tensorflow:From /usr/local/lib/python3.6/dist-packages/keras/backend/tensorflow_backend.py:148: The name tf.placeholder_with_default is deprecated. Please use tf.compat.v1.placeholder_with_default instead.\n",
      "\n",
      "WARNING:tensorflow:From /usr/local/lib/python3.6/dist-packages/keras/backend/tensorflow_backend.py:3733: calling dropout (from tensorflow.python.ops.nn_ops) with keep_prob is deprecated and will be removed in a future version.\n",
      "Instructions for updating:\n",
      "Please use `rate` instead of `keep_prob`. Rate should be set to `rate = 1 - keep_prob`.\n",
      "WARNING:tensorflow:From /usr/local/lib/python3.6/dist-packages/keras/optimizers.py:793: The name tf.train.Optimizer is deprecated. Please use tf.compat.v1.train.Optimizer instead.\n",
      "\n",
      "WARNING:tensorflow:From /usr/local/lib/python3.6/dist-packages/tensorflow_core/python/ops/math_grad.py:1424: where (from tensorflow.python.ops.array_ops) is deprecated and will be removed in a future version.\n",
      "Instructions for updating:\n",
      "Use tf.where in 2.0, which has the same broadcast rule as np.where\n",
      "WARNING:tensorflow:From /usr/local/lib/python3.6/dist-packages/keras/backend/tensorflow_backend.py:1033: The name tf.assign_add is deprecated. Please use tf.compat.v1.assign_add instead.\n",
      "\n",
      "WARNING:tensorflow:From /usr/local/lib/python3.6/dist-packages/keras/backend/tensorflow_backend.py:1020: The name tf.assign is deprecated. Please use tf.compat.v1.assign instead.\n",
      "\n",
      "WARNING:tensorflow:From /usr/local/lib/python3.6/dist-packages/keras/backend/tensorflow_backend.py:3005: The name tf.Session is deprecated. Please use tf.compat.v1.Session instead.\n",
      "\n",
      "Epoch 1/100\n",
      "WARNING:tensorflow:From /usr/local/lib/python3.6/dist-packages/keras/backend/tensorflow_backend.py:190: The name tf.get_default_session is deprecated. Please use tf.compat.v1.get_default_session instead.\n",
      "\n",
      "WARNING:tensorflow:From /usr/local/lib/python3.6/dist-packages/keras/backend/tensorflow_backend.py:197: The name tf.ConfigProto is deprecated. Please use tf.compat.v1.ConfigProto instead.\n",
      "\n",
      "WARNING:tensorflow:From /usr/local/lib/python3.6/dist-packages/keras/backend/tensorflow_backend.py:207: The name tf.global_variables is deprecated. Please use tf.compat.v1.global_variables instead.\n",
      "\n",
      "WARNING:tensorflow:From /usr/local/lib/python3.6/dist-packages/keras/backend/tensorflow_backend.py:216: The name tf.is_variable_initialized is deprecated. Please use tf.compat.v1.is_variable_initialized instead.\n",
      "\n",
      "WARNING:tensorflow:From /usr/local/lib/python3.6/dist-packages/keras/backend/tensorflow_backend.py:223: The name tf.variables_initializer is deprecated. Please use tf.compat.v1.variables_initializer instead.\n",
      "\n",
      "798/798 [==============================] - 17s 22ms/step - loss: 0.0109\n",
      "Epoch 2/100\n",
      "798/798 [==============================] - 3s 4ms/step - loss: 0.0086\n",
      "Epoch 3/100\n",
      "798/798 [==============================] - 3s 4ms/step - loss: 0.0084\n",
      "Epoch 4/100\n",
      "798/798 [==============================] - 3s 4ms/step - loss: 0.0085\n",
      "Epoch 5/100\n",
      "798/798 [==============================] - 3s 4ms/step - loss: 0.0086\n",
      "Epoch 6/100\n",
      "798/798 [==============================] - 3s 4ms/step - loss: 0.0086\n",
      "Epoch 7/100\n",
      "798/798 [==============================] - 3s 4ms/step - loss: 0.0080\n",
      "Epoch 8/100\n",
      "798/798 [==============================] - 3s 4ms/step - loss: 0.0081\n",
      "Epoch 9/100\n",
      "798/798 [==============================] - 3s 4ms/step - loss: 0.0078\n",
      "Epoch 10/100\n",
      "798/798 [==============================] - 3s 4ms/step - loss: 0.0078\n",
      "Epoch 11/100\n",
      "798/798 [==============================] - 3s 4ms/step - loss: 0.0079\n",
      "Epoch 12/100\n",
      "798/798 [==============================] - 3s 4ms/step - loss: 0.0079\n",
      "Epoch 13/100\n",
      "798/798 [==============================] - 3s 4ms/step - loss: 0.0076\n",
      "Epoch 14/100\n",
      "798/798 [==============================] - 3s 4ms/step - loss: 0.0076\n",
      "Epoch 15/100\n",
      "798/798 [==============================] - 3s 4ms/step - loss: 0.0076\n",
      "Epoch 16/100\n",
      "798/798 [==============================] - 3s 4ms/step - loss: 0.0072\n",
      "Epoch 17/100\n",
      "798/798 [==============================] - 3s 4ms/step - loss: 0.0071\n",
      "Epoch 18/100\n",
      "798/798 [==============================] - 3s 4ms/step - loss: 0.0073\n",
      "Epoch 19/100\n",
      "798/798 [==============================] - 3s 4ms/step - loss: 0.0072\n",
      "Epoch 20/100\n",
      "798/798 [==============================] - 3s 4ms/step - loss: 0.0073\n",
      "Epoch 21/100\n",
      "798/798 [==============================] - 3s 4ms/step - loss: 0.0074\n",
      "Epoch 22/100\n",
      "798/798 [==============================] - 3s 4ms/step - loss: 0.0074\n",
      "Epoch 23/100\n",
      "798/798 [==============================] - 3s 4ms/step - loss: 0.0072\n",
      "Epoch 24/100\n",
      "798/798 [==============================] - 3s 4ms/step - loss: 0.0071\n",
      "Epoch 25/100\n",
      "798/798 [==============================] - 3s 4ms/step - loss: 0.0074\n",
      "Epoch 26/100\n",
      "798/798 [==============================] - 3s 4ms/step - loss: 0.0071\n",
      "Epoch 27/100\n",
      "798/798 [==============================] - 3s 4ms/step - loss: 0.0071\n",
      "Epoch 28/100\n",
      "798/798 [==============================] - 3s 4ms/step - loss: 0.0070\n",
      "Epoch 29/100\n",
      "798/798 [==============================] - 3s 4ms/step - loss: 0.0071\n",
      "Epoch 30/100\n",
      "798/798 [==============================] - 3s 4ms/step - loss: 0.0070\n",
      "Epoch 31/100\n",
      "798/798 [==============================] - 3s 4ms/step - loss: 0.0072\n",
      "Epoch 32/100\n",
      "798/798 [==============================] - 3s 4ms/step - loss: 0.0070\n",
      "Epoch 33/100\n",
      "798/798 [==============================] - 3s 4ms/step - loss: 0.0069\n",
      "Epoch 34/100\n",
      "798/798 [==============================] - 3s 4ms/step - loss: 0.0071\n",
      "Epoch 35/100\n",
      "798/798 [==============================] - 3s 4ms/step - loss: 0.0070\n",
      "Epoch 36/100\n",
      "798/798 [==============================] - 3s 4ms/step - loss: 0.0069\n",
      "Epoch 37/100\n",
      "798/798 [==============================] - 3s 4ms/step - loss: 0.0070\n",
      "Epoch 38/100\n",
      "798/798 [==============================] - 3s 4ms/step - loss: 0.0071\n",
      "Epoch 39/100\n",
      "798/798 [==============================] - 3s 4ms/step - loss: 0.0069\n",
      "Epoch 40/100\n",
      "798/798 [==============================] - 3s 4ms/step - loss: 0.0071\n",
      "Epoch 41/100\n",
      "798/798 [==============================] - 3s 4ms/step - loss: 0.0069\n",
      "Epoch 42/100\n",
      "798/798 [==============================] - 3s 4ms/step - loss: 0.0071\n",
      "Epoch 43/100\n",
      "798/798 [==============================] - 3s 4ms/step - loss: 0.0072\n",
      "Epoch 44/100\n",
      "798/798 [==============================] - 3s 4ms/step - loss: 0.0069\n",
      "Epoch 45/100\n",
      "798/798 [==============================] - 3s 4ms/step - loss: 0.0069\n",
      "Epoch 46/100\n",
      "798/798 [==============================] - 3s 4ms/step - loss: 0.0068\n",
      "Epoch 47/100\n",
      "798/798 [==============================] - 3s 4ms/step - loss: 0.0069\n",
      "Epoch 48/100\n",
      "798/798 [==============================] - 3s 4ms/step - loss: 0.0067\n",
      "Epoch 49/100\n",
      "798/798 [==============================] - 3s 4ms/step - loss: 0.0069\n",
      "Epoch 50/100\n",
      "798/798 [==============================] - 3s 4ms/step - loss: 0.0071\n",
      "Epoch 51/100\n",
      "798/798 [==============================] - 3s 4ms/step - loss: 0.0064\n",
      "Epoch 52/100\n",
      "798/798 [==============================] - 3s 4ms/step - loss: 0.0067\n",
      "Epoch 53/100\n",
      "798/798 [==============================] - 3s 4ms/step - loss: 0.0068\n",
      "Epoch 54/100\n",
      "798/798 [==============================] - 3s 4ms/step - loss: 0.0069\n",
      "Epoch 55/100\n",
      "798/798 [==============================] - 3s 4ms/step - loss: 0.0067\n",
      "Epoch 56/100\n",
      "798/798 [==============================] - 3s 4ms/step - loss: 0.0067\n",
      "Epoch 57/100\n",
      "798/798 [==============================] - 3s 4ms/step - loss: 0.0067\n",
      "Epoch 58/100\n",
      "798/798 [==============================] - 3s 4ms/step - loss: 0.0064\n",
      "Epoch 59/100\n",
      "798/798 [==============================] - 3s 4ms/step - loss: 0.0065\n",
      "Epoch 60/100\n",
      "798/798 [==============================] - 3s 4ms/step - loss: 0.0065\n",
      "Epoch 61/100\n",
      "798/798 [==============================] - 3s 4ms/step - loss: 0.0063\n",
      "Epoch 62/100\n",
      "798/798 [==============================] - 3s 4ms/step - loss: 0.0065\n",
      "Epoch 63/100\n",
      "798/798 [==============================] - 3s 4ms/step - loss: 0.0065\n",
      "Epoch 64/100\n",
      "798/798 [==============================] - 3s 4ms/step - loss: 0.0061\n",
      "Epoch 65/100\n",
      "798/798 [==============================] - 3s 4ms/step - loss: 0.0066\n",
      "Epoch 66/100\n",
      "798/798 [==============================] - 3s 4ms/step - loss: 0.0064\n",
      "Epoch 67/100\n",
      "798/798 [==============================] - 3s 4ms/step - loss: 0.0061\n",
      "Epoch 68/100\n",
      "798/798 [==============================] - 3s 4ms/step - loss: 0.0064\n",
      "Epoch 69/100\n",
      "798/798 [==============================] - 3s 4ms/step - loss: 0.0062\n",
      "Epoch 70/100\n",
      "798/798 [==============================] - 3s 4ms/step - loss: 0.0067\n",
      "Epoch 71/100\n",
      "798/798 [==============================] - 3s 4ms/step - loss: 0.0061\n",
      "Epoch 72/100\n",
      "798/798 [==============================] - 3s 4ms/step - loss: 0.0064\n",
      "Epoch 73/100\n",
      "798/798 [==============================] - 3s 4ms/step - loss: 0.0061\n",
      "Epoch 74/100\n",
      "798/798 [==============================] - 3s 4ms/step - loss: 0.0061\n",
      "Epoch 75/100\n",
      "798/798 [==============================] - 3s 4ms/step - loss: 0.0063\n",
      "Epoch 76/100\n",
      "798/798 [==============================] - 3s 4ms/step - loss: 0.0064\n",
      "Epoch 77/100\n",
      "798/798 [==============================] - 3s 4ms/step - loss: 0.0064\n",
      "Epoch 78/100\n",
      "798/798 [==============================] - 3s 4ms/step - loss: 0.0061\n",
      "Epoch 79/100\n",
      "798/798 [==============================] - 3s 4ms/step - loss: 0.0062\n",
      "Epoch 80/100\n",
      "798/798 [==============================] - 3s 4ms/step - loss: 0.0061\n",
      "Epoch 81/100\n",
      "798/798 [==============================] - 3s 4ms/step - loss: 0.0067\n",
      "Epoch 82/100\n",
      "798/798 [==============================] - 3s 4ms/step - loss: 0.0063\n",
      "Epoch 83/100\n",
      "798/798 [==============================] - 3s 4ms/step - loss: 0.0060\n",
      "Epoch 84/100\n",
      "798/798 [==============================] - 3s 4ms/step - loss: 0.0061\n",
      "Epoch 85/100\n",
      "798/798 [==============================] - 3s 4ms/step - loss: 0.0058\n",
      "Epoch 86/100\n",
      "798/798 [==============================] - 3s 4ms/step - loss: 0.0060\n",
      "Epoch 87/100\n",
      "798/798 [==============================] - 3s 4ms/step - loss: 0.0060\n",
      "Epoch 88/100\n",
      "798/798 [==============================] - 3s 4ms/step - loss: 0.0058\n",
      "Epoch 89/100\n",
      "798/798 [==============================] - 3s 4ms/step - loss: 0.0063\n",
      "Epoch 90/100\n",
      "798/798 [==============================] - 3s 4ms/step - loss: 0.0062\n",
      "Epoch 91/100\n",
      "798/798 [==============================] - 3s 4ms/step - loss: 0.0059\n",
      "Epoch 92/100\n",
      "798/798 [==============================] - 3s 4ms/step - loss: 0.0061\n",
      "Epoch 93/100\n",
      "798/798 [==============================] - 3s 4ms/step - loss: 0.0060\n",
      "Epoch 94/100\n",
      "798/798 [==============================] - 3s 4ms/step - loss: 0.0059\n",
      "Epoch 95/100\n",
      "798/798 [==============================] - 3s 4ms/step - loss: 0.0062\n",
      "Epoch 96/100\n",
      "798/798 [==============================] - 3s 4ms/step - loss: 0.0059\n",
      "Epoch 97/100\n",
      "798/798 [==============================] - 3s 4ms/step - loss: 0.0059\n",
      "Epoch 98/100\n",
      "798/798 [==============================] - 3s 4ms/step - loss: 0.0057\n",
      "Epoch 99/100\n",
      "798/798 [==============================] - 3s 4ms/step - loss: 0.0061\n",
      "Epoch 100/100\n",
      "798/798 [==============================] - 3s 4ms/step - loss: 0.0063\n"
     ]
    },
    {
     "data": {
      "text/plain": [
       "<keras.callbacks.History at 0x7f65c7d466d8>"
      ]
     },
     "execution_count": 25,
     "metadata": {
      "tags": []
     },
     "output_type": "execute_result"
    }
   ],
   "source": [
    "# Importing the keras libraries and packages\n",
    "from keras.models import Sequential\n",
    "from keras.layers import Dense\n",
    "from keras.layers import LSTM\n",
    "from keras.layers import Dropout\n",
    "from keras.layers import Bidirectional\n",
    "\n",
    "# Initialising the RNN\n",
    "segment_1_model = Sequential()\n",
    "\n",
    "# Adding the first Bidirectional LSTM layer and some Dropout regularisation\n",
    "segment_1_model.add(Bidirectional(LSTM(2750, activation='relu',dropout = 0.2), input_shape=(X_train_segment1.shape[1],1)))\n",
    "segment_1_model.add(Dropout(0.2))\n",
    "\n",
    "# Adding the output layer\n",
    "segment_1_model.add(Dense(units = 1))\n",
    "\n",
    "# compiling the RNN\n",
    "segment_1_model.compile(optimizer = 'adam', loss = 'mean_squared_error')\n",
    "\n",
    "# Fitting the RNN to the Training set\n",
    "segment_1_model.fit(X_train_segment1,y_train_segment1, epochs = 100, batch_size = 32)\n"
   ]
  },
  {
   "cell_type": "code",
   "execution_count": 26,
   "metadata": {
    "colab": {
     "base_uri": "https://localhost:8080/",
     "height": 142
    },
    "colab_type": "code",
    "executionInfo": {
     "elapsed": 1167,
     "status": "ok",
     "timestamp": 1580051186838,
     "user": {
      "displayName": "Tarun Koundinya",
      "photoUrl": "https://lh3.googleusercontent.com/a-/AAuE7mCuJFCbjNNUC21JfUrOEkSyuTMp8VnRZcH3JXTsOg=s64",
      "userId": "06377727563339288111"
     },
     "user_tz": -330
    },
    "id": "1jNjSB50ULQ2",
    "outputId": "d58a2949-34a9-422d-f150-c6175e44a3d6"
   },
   "outputs": [
    {
     "data": {
      "text/html": [
       "<div>\n",
       "<style scoped>\n",
       "    .dataframe tbody tr th:only-of-type {\n",
       "        vertical-align: middle;\n",
       "    }\n",
       "\n",
       "    .dataframe tbody tr th {\n",
       "        vertical-align: top;\n",
       "    }\n",
       "\n",
       "    .dataframe thead th {\n",
       "        text-align: right;\n",
       "    }\n",
       "</style>\n",
       "<table border=\"1\" class=\"dataframe\">\n",
       "  <thead>\n",
       "    <tr style=\"text-align: right;\">\n",
       "      <th></th>\n",
       "      <th>id</th>\n",
       "      <th>application_date</th>\n",
       "      <th>segment</th>\n",
       "    </tr>\n",
       "  </thead>\n",
       "  <tbody>\n",
       "    <tr>\n",
       "      <th>0</th>\n",
       "      <td>1</td>\n",
       "      <td>2019-07-06</td>\n",
       "      <td>1</td>\n",
       "    </tr>\n",
       "    <tr>\n",
       "      <th>1</th>\n",
       "      <td>2</td>\n",
       "      <td>2019-07-07</td>\n",
       "      <td>1</td>\n",
       "    </tr>\n",
       "    <tr>\n",
       "      <th>2</th>\n",
       "      <td>3</td>\n",
       "      <td>2019-07-08</td>\n",
       "      <td>1</td>\n",
       "    </tr>\n",
       "  </tbody>\n",
       "</table>\n",
       "</div>"
      ],
      "text/plain": [
       "   id application_date  segment\n",
       "0   1       2019-07-06        1\n",
       "1   2       2019-07-07        1\n",
       "2   3       2019-07-08        1"
      ]
     },
     "execution_count": 26,
     "metadata": {
      "tags": []
     },
     "output_type": "execute_result"
    }
   ],
   "source": [
    "# lets load the test dataset\n",
    "dataset_test = pd.read_csv('/content/drive/My Drive/L&T/test_1eLl9Yf.csv')\n",
    "dataset_test.head(3)"
   ]
  },
  {
   "cell_type": "code",
   "execution_count": 27,
   "metadata": {
    "colab": {
     "base_uri": "https://localhost:8080/",
     "height": 34
    },
    "colab_type": "code",
    "executionInfo": {
     "elapsed": 619,
     "status": "ok",
     "timestamp": 1580051186839,
     "user": {
      "displayName": "Tarun Koundinya",
      "photoUrl": "https://lh3.googleusercontent.com/a-/AAuE7mCuJFCbjNNUC21JfUrOEkSyuTMp8VnRZcH3JXTsOg=s64",
      "userId": "06377727563339288111"
     },
     "user_tz": -330
    },
    "id": "bVTNHu6rULQ4",
    "outputId": "04ca0c71-9a4d-4f98-d874-535d7d08d38c"
   },
   "outputs": [
    {
     "data": {
      "text/plain": [
       "180"
      ]
     },
     "execution_count": 27,
     "metadata": {
      "tags": []
     },
     "output_type": "execute_result"
    }
   ],
   "source": [
    "# lets check length of test dataset\n",
    "len(dataset_test)"
   ]
  },
  {
   "cell_type": "code",
   "execution_count": 28,
   "metadata": {
    "colab": {
     "base_uri": "https://localhost:8080/",
     "height": 204
    },
    "colab_type": "code",
    "executionInfo": {
     "elapsed": 804,
     "status": "ok",
     "timestamp": 1580051188537,
     "user": {
      "displayName": "Tarun Koundinya",
      "photoUrl": "https://lh3.googleusercontent.com/a-/AAuE7mCuJFCbjNNUC21JfUrOEkSyuTMp8VnRZcH3JXTsOg=s64",
      "userId": "06377727563339288111"
     },
     "user_tz": -330
    },
    "id": "jGhU3rwdULQ6",
    "outputId": "c7291d85-f6bb-4ff9-93c0-34f299314839"
   },
   "outputs": [
    {
     "data": {
      "text/html": [
       "<div>\n",
       "<style scoped>\n",
       "    .dataframe tbody tr th:only-of-type {\n",
       "        vertical-align: middle;\n",
       "    }\n",
       "\n",
       "    .dataframe tbody tr th {\n",
       "        vertical-align: top;\n",
       "    }\n",
       "\n",
       "    .dataframe thead th {\n",
       "        text-align: right;\n",
       "    }\n",
       "</style>\n",
       "<table border=\"1\" class=\"dataframe\">\n",
       "  <thead>\n",
       "    <tr style=\"text-align: right;\">\n",
       "      <th></th>\n",
       "      <th>application_date</th>\n",
       "      <th>case_count</th>\n",
       "    </tr>\n",
       "  </thead>\n",
       "  <tbody>\n",
       "    <tr>\n",
       "      <th>0</th>\n",
       "      <td>2017-04-01</td>\n",
       "      <td>299.0</td>\n",
       "    </tr>\n",
       "    <tr>\n",
       "      <th>1</th>\n",
       "      <td>2017-04-03</td>\n",
       "      <td>42.0</td>\n",
       "    </tr>\n",
       "    <tr>\n",
       "      <th>2</th>\n",
       "      <td>2017-04-04</td>\n",
       "      <td>23.0</td>\n",
       "    </tr>\n",
       "    <tr>\n",
       "      <th>3</th>\n",
       "      <td>2017-04-05</td>\n",
       "      <td>1530.0</td>\n",
       "    </tr>\n",
       "    <tr>\n",
       "      <th>4</th>\n",
       "      <td>2017-04-07</td>\n",
       "      <td>1341.0</td>\n",
       "    </tr>\n",
       "  </tbody>\n",
       "</table>\n",
       "</div>"
      ],
      "text/plain": [
       "  application_date  case_count\n",
       "0       2017-04-01       299.0\n",
       "1       2017-04-03        42.0\n",
       "2       2017-04-04        23.0\n",
       "3       2017-04-05      1530.0\n",
       "4       2017-04-07      1341.0"
      ]
     },
     "execution_count": 28,
     "metadata": {
      "tags": []
     },
     "output_type": "execute_result"
    }
   ],
   "source": [
    "segment1_train.head()"
   ]
  },
  {
   "cell_type": "code",
   "execution_count": 29,
   "metadata": {
    "colab": {
     "base_uri": "https://localhost:8080/",
     "height": 136
    },
    "colab_type": "code",
    "executionInfo": {
     "elapsed": 892,
     "status": "ok",
     "timestamp": 1580051191444,
     "user": {
      "displayName": "Tarun Koundinya",
      "photoUrl": "https://lh3.googleusercontent.com/a-/AAuE7mCuJFCbjNNUC21JfUrOEkSyuTMp8VnRZcH3JXTsOg=s64",
      "userId": "06377727563339288111"
     },
     "user_tz": -330
    },
    "id": "bJ1SkQ0RULQ8",
    "outputId": "4ffcb595-e5c6-42e3-9ca9-a46dc3a965f8"
   },
   "outputs": [
    {
     "name": "stdout",
     "output_type": "stream",
     "text": [
      "dataset_total shape: (806,)\n"
     ]
    },
    {
     "data": {
      "text/plain": [
       "0     299.0\n",
       "1      42.0\n",
       "2      23.0\n",
       "3    1530.0\n",
       "4    1341.0\n",
       "Name: case_count, dtype: float64"
      ]
     },
     "execution_count": 29,
     "metadata": {
      "tags": []
     },
     "output_type": "execute_result"
    }
   ],
   "source": [
    "# Extracting the case_count feature\n",
    "dataset_total = segment1_train.copy()\n",
    "dataset_total = dataset_total.case_count\n",
    "print('dataset_total shape:',dataset_total.shape)\n",
    "dataset_total.head()"
   ]
  },
  {
   "cell_type": "code",
   "execution_count": 30,
   "metadata": {
    "colab": {
     "base_uri": "https://localhost:8080/",
     "height": 34
    },
    "colab_type": "code",
    "executionInfo": {
     "elapsed": 891,
     "status": "ok",
     "timestamp": 1580051193694,
     "user": {
      "displayName": "Tarun Koundinya",
      "photoUrl": "https://lh3.googleusercontent.com/a-/AAuE7mCuJFCbjNNUC21JfUrOEkSyuTMp8VnRZcH3JXTsOg=s64",
      "userId": "06377727563339288111"
     },
     "user_tz": -330
    },
    "id": "5mQwBroGULQ-",
    "outputId": "ec1d6f1d-5284-4641-f280-d4df148e55c3"
   },
   "outputs": [
    {
     "data": {
      "text/plain": [
       "806"
      ]
     },
     "execution_count": 30,
     "metadata": {
      "tags": []
     },
     "output_type": "execute_result"
    }
   ],
   "source": [
    "# lets check the length of dataset_total\n",
    "len(dataset_total)"
   ]
  },
  {
   "cell_type": "code",
   "execution_count": 51,
   "metadata": {
    "colab": {
     "base_uri": "https://localhost:8080/",
     "height": 119
    },
    "colab_type": "code",
    "executionInfo": {
     "elapsed": 889,
     "status": "ok",
     "timestamp": 1580051354666,
     "user": {
      "displayName": "Tarun Koundinya",
      "photoUrl": "https://lh3.googleusercontent.com/a-/AAuE7mCuJFCbjNNUC21JfUrOEkSyuTMp8VnRZcH3JXTsOg=s64",
      "userId": "06377727563339288111"
     },
     "user_tz": -330
    },
    "id": "vfhciGtyULRA",
    "outputId": "fea7036f-9bd0-4589-a1c9-832adf0dd787"
   },
   "outputs": [
    {
     "data": {
      "text/plain": [
       "711    3164.0\n",
       "712    3880.0\n",
       "713    3742.0\n",
       "714    4424.0\n",
       "715    4187.0\n",
       "Name: case_count, dtype: float64"
      ]
     },
     "execution_count": 51,
     "metadata": {
      "tags": []
     },
     "output_type": "execute_result"
    }
   ],
   "source": [
    "# we are going to predict 87 days for segment1\n",
    "# to predict 87 days we are taking 8 timesteps as input\n",
    "inputs = dataset_total[len(dataset_total) - 87 - 8:]\n",
    "inputs.head()"
   ]
  },
  {
   "cell_type": "code",
   "execution_count": 52,
   "metadata": {
    "colab": {
     "base_uri": "https://localhost:8080/",
     "height": 204
    },
    "colab_type": "code",
    "executionInfo": {
     "elapsed": 569,
     "status": "ok",
     "timestamp": 1580051356306,
     "user": {
      "displayName": "Tarun Koundinya",
      "photoUrl": "https://lh3.googleusercontent.com/a-/AAuE7mCuJFCbjNNUC21JfUrOEkSyuTMp8VnRZcH3JXTsOg=s64",
      "userId": "06377727563339288111"
     },
     "user_tz": -330
    },
    "id": "86bgZSmEULRD",
    "outputId": "2669e1fc-ccdc-4118-9749-894a9cec4094"
   },
   "outputs": [
    {
     "data": {
      "text/plain": [
       "array([3164., 3880., 3742., 4424., 4187., 2030., 4308., 3150., 3672.,\n",
       "       3087., 3887., 3102., 1925., 3477., 2856., 3251., 2602., 3271.,\n",
       "       2125., 1406., 3629., 2445., 3171., 2951., 2910., 2160., 1350.,\n",
       "       3274., 2425., 2317., 3383., 3025., 2432., 1538., 3967., 3845.,\n",
       "       2826., 3131., 3085., 2453., 1117., 3720., 3257., 3416., 3312.,\n",
       "       3239., 2543., 1361., 3927., 3175., 3510., 2808., 3273., 2527.,\n",
       "       1634., 3880., 3245., 3519., 3696., 3717., 2684., 1948., 4520.,\n",
       "       4757., 3380., 3768., 3847., 2724., 1700., 4174., 3586., 3786.,\n",
       "       3623., 3498., 2776., 1760., 4279., 3301., 3810., 3538., 3432.,\n",
       "       2512., 1633., 3804., 3154., 3443., 3500., 3519., 2894., 1951.,\n",
       "       3650., 3212., 3824., 4240.,   13.])"
      ]
     },
     "execution_count": 52,
     "metadata": {
      "tags": []
     },
     "output_type": "execute_result"
    }
   ],
   "source": [
    "inputs = inputs.values\n",
    "inputs"
   ]
  },
  {
   "cell_type": "code",
   "execution_count": 53,
   "metadata": {
    "colab": {
     "base_uri": "https://localhost:8080/",
     "height": 34
    },
    "colab_type": "code",
    "executionInfo": {
     "elapsed": 895,
     "status": "ok",
     "timestamp": 1580051358248,
     "user": {
      "displayName": "Tarun Koundinya",
      "photoUrl": "https://lh3.googleusercontent.com/a-/AAuE7mCuJFCbjNNUC21JfUrOEkSyuTMp8VnRZcH3JXTsOg=s64",
      "userId": "06377727563339288111"
     },
     "user_tz": -330
    },
    "id": "HYK4k9P3ULRF",
    "outputId": "50251da0-8d5e-4714-e9bb-b8a5bd2d6ebf"
   },
   "outputs": [
    {
     "data": {
      "text/plain": [
       "(95,)"
      ]
     },
     "execution_count": 53,
     "metadata": {
      "tags": []
     },
     "output_type": "execute_result"
    }
   ],
   "source": [
    "# lets check shape of inputs\n",
    "inputs.shape"
   ]
  },
  {
   "cell_type": "code",
   "execution_count": 54,
   "metadata": {
    "colab": {
     "base_uri": "https://localhost:8080/",
     "height": 1000
    },
    "colab_type": "code",
    "executionInfo": {
     "elapsed": 529,
     "status": "ok",
     "timestamp": 1580051359518,
     "user": {
      "displayName": "Tarun Koundinya",
      "photoUrl": "https://lh3.googleusercontent.com/a-/AAuE7mCuJFCbjNNUC21JfUrOEkSyuTMp8VnRZcH3JXTsOg=s64",
      "userId": "06377727563339288111"
     },
     "user_tz": -330
    },
    "id": "P2o6-tl1ULRH",
    "outputId": "e358c12e-1c7d-46b5-e64a-ba4d64f28e84"
   },
   "outputs": [
    {
     "data": {
      "text/plain": [
       "array([[3164.],\n",
       "       [3880.],\n",
       "       [3742.],\n",
       "       [4424.],\n",
       "       [4187.],\n",
       "       [2030.],\n",
       "       [4308.],\n",
       "       [3150.],\n",
       "       [3672.],\n",
       "       [3087.],\n",
       "       [3887.],\n",
       "       [3102.],\n",
       "       [1925.],\n",
       "       [3477.],\n",
       "       [2856.],\n",
       "       [3251.],\n",
       "       [2602.],\n",
       "       [3271.],\n",
       "       [2125.],\n",
       "       [1406.],\n",
       "       [3629.],\n",
       "       [2445.],\n",
       "       [3171.],\n",
       "       [2951.],\n",
       "       [2910.],\n",
       "       [2160.],\n",
       "       [1350.],\n",
       "       [3274.],\n",
       "       [2425.],\n",
       "       [2317.],\n",
       "       [3383.],\n",
       "       [3025.],\n",
       "       [2432.],\n",
       "       [1538.],\n",
       "       [3967.],\n",
       "       [3845.],\n",
       "       [2826.],\n",
       "       [3131.],\n",
       "       [3085.],\n",
       "       [2453.],\n",
       "       [1117.],\n",
       "       [3720.],\n",
       "       [3257.],\n",
       "       [3416.],\n",
       "       [3312.],\n",
       "       [3239.],\n",
       "       [2543.],\n",
       "       [1361.],\n",
       "       [3927.],\n",
       "       [3175.],\n",
       "       [3510.],\n",
       "       [2808.],\n",
       "       [3273.],\n",
       "       [2527.],\n",
       "       [1634.],\n",
       "       [3880.],\n",
       "       [3245.],\n",
       "       [3519.],\n",
       "       [3696.],\n",
       "       [3717.],\n",
       "       [2684.],\n",
       "       [1948.],\n",
       "       [4520.],\n",
       "       [4757.],\n",
       "       [3380.],\n",
       "       [3768.],\n",
       "       [3847.],\n",
       "       [2724.],\n",
       "       [1700.],\n",
       "       [4174.],\n",
       "       [3586.],\n",
       "       [3786.],\n",
       "       [3623.],\n",
       "       [3498.],\n",
       "       [2776.],\n",
       "       [1760.],\n",
       "       [4279.],\n",
       "       [3301.],\n",
       "       [3810.],\n",
       "       [3538.],\n",
       "       [3432.],\n",
       "       [2512.],\n",
       "       [1633.],\n",
       "       [3804.],\n",
       "       [3154.],\n",
       "       [3443.],\n",
       "       [3500.],\n",
       "       [3519.],\n",
       "       [2894.],\n",
       "       [1951.],\n",
       "       [3650.],\n",
       "       [3212.],\n",
       "       [3824.],\n",
       "       [4240.],\n",
       "       [  13.]])"
      ]
     },
     "execution_count": 54,
     "metadata": {
      "tags": []
     },
     "output_type": "execute_result"
    }
   ],
   "source": [
    "# lets reshape the inputs in to rows X column\n",
    "inputs = inputs.reshape(-1,1)\n",
    "inputs"
   ]
  },
  {
   "cell_type": "code",
   "execution_count": 55,
   "metadata": {
    "colab": {
     "base_uri": "https://localhost:8080/",
     "height": 34
    },
    "colab_type": "code",
    "executionInfo": {
     "elapsed": 537,
     "status": "ok",
     "timestamp": 1580051360973,
     "user": {
      "displayName": "Tarun Koundinya",
      "photoUrl": "https://lh3.googleusercontent.com/a-/AAuE7mCuJFCbjNNUC21JfUrOEkSyuTMp8VnRZcH3JXTsOg=s64",
      "userId": "06377727563339288111"
     },
     "user_tz": -330
    },
    "id": "CYxJpz4UULRJ",
    "outputId": "9b3f8361-f04d-4139-f94e-83784aafdcc1"
   },
   "outputs": [
    {
     "data": {
      "text/plain": [
       "(95, 1)"
      ]
     },
     "execution_count": 55,
     "metadata": {
      "tags": []
     },
     "output_type": "execute_result"
    }
   ],
   "source": [
    "# now lets check the shape of inputs\n",
    "inputs.shape"
   ]
  },
  {
   "cell_type": "code",
   "execution_count": 0,
   "metadata": {
    "colab": {},
    "colab_type": "code",
    "id": "2SLmy2RXULRM"
   },
   "outputs": [],
   "source": [
    "# transforming inputs into scale (0,1)\n",
    "inputs = sc.transform(inputs)"
   ]
  },
  {
   "cell_type": "code",
   "execution_count": 57,
   "metadata": {
    "colab": {
     "base_uri": "https://localhost:8080/",
     "height": 34
    },
    "colab_type": "code",
    "executionInfo": {
     "elapsed": 605,
     "status": "ok",
     "timestamp": 1580051363987,
     "user": {
      "displayName": "Tarun Koundinya",
      "photoUrl": "https://lh3.googleusercontent.com/a-/AAuE7mCuJFCbjNNUC21JfUrOEkSyuTMp8VnRZcH3JXTsOg=s64",
      "userId": "06377727563339288111"
     },
     "user_tz": -330
    },
    "id": "q_SyFyNoULRO",
    "outputId": "2f48b3ab-482a-4769-e7aa-8262af461ea7"
   },
   "outputs": [
    {
     "data": {
      "text/plain": [
       "95"
      ]
     },
     "execution_count": 57,
     "metadata": {
      "tags": []
     },
     "output_type": "execute_result"
    }
   ],
   "source": [
    "# lets check length of inputs\n",
    "len(inputs)"
   ]
  },
  {
   "cell_type": "code",
   "execution_count": 58,
   "metadata": {
    "colab": {
     "base_uri": "https://localhost:8080/",
     "height": 1000
    },
    "colab_type": "code",
    "executionInfo": {
     "elapsed": 576,
     "status": "ok",
     "timestamp": 1580051365343,
     "user": {
      "displayName": "Tarun Koundinya",
      "photoUrl": "https://lh3.googleusercontent.com/a-/AAuE7mCuJFCbjNNUC21JfUrOEkSyuTMp8VnRZcH3JXTsOg=s64",
      "userId": "06377727563339288111"
     },
     "user_tz": -330
    },
    "id": "m5jQ8ZNZULRR",
    "outputId": "76d82e14-a6aa-4d14-9b28-cd2efcd4ab93"
   },
   "outputs": [
    {
     "data": {
      "text/plain": [
       "array([[0.14453482, 0.17725279, 0.17094681, 0.20211113, 0.1912813 ,\n",
       "        0.09271614, 0.19681046, 0.14389508],\n",
       "       [0.17725279, 0.17094681, 0.20211113, 0.1912813 , 0.09271614,\n",
       "        0.19681046, 0.14389508, 0.16774813],\n",
       "       [0.17094681, 0.20211113, 0.1912813 , 0.09271614, 0.19681046,\n",
       "        0.14389508, 0.16774813, 0.14101627],\n",
       "       [0.20211113, 0.1912813 , 0.09271614, 0.19681046, 0.14389508,\n",
       "        0.16774813, 0.14101627, 0.17757266],\n",
       "       [0.1912813 , 0.09271614, 0.19681046, 0.14389508, 0.16774813,\n",
       "        0.14101627, 0.17757266, 0.1417017 ],\n",
       "       [0.09271614, 0.19681046, 0.14389508, 0.16774813, 0.14101627,\n",
       "        0.17757266, 0.1417017 , 0.08791811],\n",
       "       [0.19681046, 0.14389508, 0.16774813, 0.14101627, 0.17757266,\n",
       "        0.1417017 , 0.08791811, 0.15883751],\n",
       "       [0.14389508, 0.16774813, 0.14101627, 0.17757266, 0.1417017 ,\n",
       "        0.08791811, 0.15883751, 0.13046061],\n",
       "       [0.16774813, 0.14101627, 0.17757266, 0.1417017 , 0.08791811,\n",
       "        0.15883751, 0.13046061, 0.14851033],\n",
       "       [0.14101627, 0.17757266, 0.1417017 , 0.08791811, 0.15883751,\n",
       "        0.13046061, 0.14851033, 0.11885396],\n",
       "       [0.17757266, 0.1417017 , 0.08791811, 0.15883751, 0.13046061,\n",
       "        0.14851033, 0.11885396, 0.14942424],\n",
       "       [0.1417017 , 0.08791811, 0.15883751, 0.13046061, 0.14851033,\n",
       "        0.11885396, 0.14942424, 0.09705721],\n",
       "       [0.08791811, 0.15883751, 0.13046061, 0.14851033, 0.11885396,\n",
       "        0.14942424, 0.09705721, 0.06420216],\n",
       "       [0.15883751, 0.13046061, 0.14851033, 0.11885396, 0.14942424,\n",
       "        0.09705721, 0.06420216, 0.16578322],\n",
       "       [0.13046061, 0.14851033, 0.11885396, 0.14942424, 0.09705721,\n",
       "        0.06420216, 0.16578322, 0.11167977],\n",
       "       [0.14851033, 0.11885396, 0.14942424, 0.09705721, 0.06420216,\n",
       "        0.16578322, 0.11167977, 0.14485469],\n",
       "       [0.11885396, 0.14942424, 0.09705721, 0.06420216, 0.16578322,\n",
       "        0.11167977, 0.14485469, 0.13480168],\n",
       "       [0.14942424, 0.09705721, 0.06420216, 0.16578322, 0.11167977,\n",
       "        0.14485469, 0.13480168, 0.13292817],\n",
       "       [0.09705721, 0.06420216, 0.16578322, 0.11167977, 0.14485469,\n",
       "        0.13480168, 0.13292817, 0.09865655],\n",
       "       [0.06420216, 0.16578322, 0.11167977, 0.14485469, 0.13480168,\n",
       "        0.13292817, 0.09865655, 0.06164321],\n",
       "       [0.16578322, 0.11167977, 0.14485469, 0.13480168, 0.13292817,\n",
       "        0.09865655, 0.06164321, 0.14956132],\n",
       "       [0.11167977, 0.14485469, 0.13480168, 0.13292817, 0.09865655,\n",
       "        0.06164321, 0.14956132, 0.11076586],\n",
       "       [0.14485469, 0.13480168, 0.13292817, 0.09865655, 0.06164321,\n",
       "        0.14956132, 0.11076586, 0.10583074],\n",
       "       [0.13480168, 0.13292817, 0.09865655, 0.06164321, 0.14956132,\n",
       "        0.11076586, 0.10583074, 0.15454213],\n",
       "       [0.13292817, 0.09865655, 0.06164321, 0.14956132, 0.11076586,\n",
       "        0.10583074, 0.15454213, 0.13818315],\n",
       "       [0.09865655, 0.06164321, 0.14956132, 0.11076586, 0.10583074,\n",
       "        0.15454213, 0.13818315, 0.11108572],\n",
       "       [0.06164321, 0.14956132, 0.11076586, 0.10583074, 0.15454213,\n",
       "        0.13818315, 0.11108572, 0.07023396],\n",
       "       [0.14956132, 0.11076586, 0.10583074, 0.15454213, 0.13818315,\n",
       "        0.11108572, 0.07023396, 0.18122829],\n",
       "       [0.11076586, 0.10583074, 0.15454213, 0.13818315, 0.11108572,\n",
       "        0.07023396, 0.18122829, 0.17565345],\n",
       "       [0.10583074, 0.15454213, 0.13818315, 0.11108572, 0.07023396,\n",
       "        0.18122829, 0.17565345, 0.12908975],\n",
       "       [0.15454213, 0.13818315, 0.11108572, 0.07023396, 0.18122829,\n",
       "        0.17565345, 0.12908975, 0.14302687],\n",
       "       [0.13818315, 0.11108572, 0.07023396, 0.18122829, 0.17565345,\n",
       "        0.12908975, 0.14302687, 0.14092488],\n",
       "       [0.11108572, 0.07023396, 0.18122829, 0.17565345, 0.12908975,\n",
       "        0.14302687, 0.14092488, 0.11204533],\n",
       "       [0.07023396, 0.18122829, 0.17565345, 0.12908975, 0.14302687,\n",
       "        0.14092488, 0.11204533, 0.05099616],\n",
       "       [0.18122829, 0.17565345, 0.12908975, 0.14302687, 0.14092488,\n",
       "        0.11204533, 0.05099616, 0.16994151],\n",
       "       [0.17565345, 0.12908975, 0.14302687, 0.14092488, 0.11204533,\n",
       "        0.05099616, 0.16994151, 0.1487845 ],\n",
       "       [0.12908975, 0.14302687, 0.14092488, 0.11204533, 0.05099616,\n",
       "        0.16994151, 0.1487845 , 0.15605008],\n",
       "       [0.14302687, 0.14092488, 0.11204533, 0.05099616, 0.16994151,\n",
       "        0.1487845 , 0.15605008, 0.15129775],\n",
       "       [0.14092488, 0.11204533, 0.05099616, 0.16994151, 0.1487845 ,\n",
       "        0.15605008, 0.15129775, 0.14796198],\n",
       "       [0.11204533, 0.05099616, 0.16994151, 0.1487845 , 0.15605008,\n",
       "        0.15129775, 0.14796198, 0.11615792],\n",
       "       [0.05099616, 0.16994151, 0.1487845 , 0.15605008, 0.15129775,\n",
       "        0.14796198, 0.11615792, 0.06214586],\n",
       "       [0.16994151, 0.1487845 , 0.15605008, 0.15129775, 0.14796198,\n",
       "        0.11615792, 0.06214586, 0.17940048],\n",
       "       [0.1487845 , 0.15605008, 0.15129775, 0.14796198, 0.11615792,\n",
       "        0.06214586, 0.17940048, 0.14503747],\n",
       "       [0.15605008, 0.15129775, 0.14796198, 0.11615792, 0.06214586,\n",
       "        0.17940048, 0.14503747, 0.16034546],\n",
       "       [0.15129775, 0.14796198, 0.11615792, 0.06214586, 0.17940048,\n",
       "        0.14503747, 0.16034546, 0.12826723],\n",
       "       [0.14796198, 0.11615792, 0.06214586, 0.17940048, 0.14503747,\n",
       "        0.16034546, 0.12826723, 0.14951563],\n",
       "       [0.11615792, 0.06214586, 0.17940048, 0.14503747, 0.16034546,\n",
       "        0.12826723, 0.14951563, 0.1154268 ],\n",
       "       [0.06214586, 0.17940048, 0.14503747, 0.16034546, 0.12826723,\n",
       "        0.14951563, 0.1154268 , 0.07462073],\n",
       "       [0.17940048, 0.14503747, 0.16034546, 0.12826723, 0.14951563,\n",
       "        0.1154268 , 0.07462073, 0.17725279],\n",
       "       [0.14503747, 0.16034546, 0.12826723, 0.14951563, 0.1154268 ,\n",
       "        0.07462073, 0.17725279, 0.14823615],\n",
       "       [0.16034546, 0.12826723, 0.14951563, 0.1154268 , 0.07462073,\n",
       "        0.17725279, 0.14823615, 0.16075672],\n",
       "       [0.12826723, 0.14951563, 0.1154268 , 0.07462073, 0.17725279,\n",
       "        0.14823615, 0.16075672, 0.16884482],\n",
       "       [0.14951563, 0.1154268 , 0.07462073, 0.17725279, 0.14823615,\n",
       "        0.16075672, 0.16884482, 0.16980442],\n",
       "       [0.1154268 , 0.07462073, 0.17725279, 0.14823615, 0.16075672,\n",
       "        0.16884482, 0.16980442, 0.12260099],\n",
       "       [0.07462073, 0.17725279, 0.14823615, 0.16075672, 0.16884482,\n",
       "        0.16980442, 0.12260099, 0.08896911],\n",
       "       [0.17725279, 0.14823615, 0.16075672, 0.16884482, 0.16980442,\n",
       "        0.12260099, 0.08896911, 0.2064979 ],\n",
       "       [0.14823615, 0.16075672, 0.16884482, 0.16980442, 0.12260099,\n",
       "        0.08896911, 0.2064979 , 0.21732773],\n",
       "       [0.16075672, 0.16884482, 0.16980442, 0.12260099, 0.08896911,\n",
       "        0.2064979 , 0.21732773, 0.15440504],\n",
       "       [0.16884482, 0.16980442, 0.12260099, 0.08896911, 0.2064979 ,\n",
       "        0.21732773, 0.15440504, 0.17213489],\n",
       "       [0.16980442, 0.12260099, 0.08896911, 0.2064979 , 0.21732773,\n",
       "        0.15440504, 0.17213489, 0.17574484],\n",
       "       [0.12260099, 0.08896911, 0.2064979 , 0.21732773, 0.15440504,\n",
       "        0.17213489, 0.17574484, 0.12442881],\n",
       "       [0.08896911, 0.2064979 , 0.21732773, 0.15440504, 0.17213489,\n",
       "        0.17574484, 0.12442881, 0.07763663],\n",
       "       [0.2064979 , 0.21732773, 0.15440504, 0.17213489, 0.17574484,\n",
       "        0.12442881, 0.07763663, 0.19068726],\n",
       "       [0.21732773, 0.15440504, 0.17213489, 0.17574484, 0.12442881,\n",
       "        0.07763663, 0.19068726, 0.16381831],\n",
       "       [0.15440504, 0.17213489, 0.17574484, 0.12442881, 0.07763663,\n",
       "        0.19068726, 0.16381831, 0.17295741],\n",
       "       [0.17213489, 0.17574484, 0.12442881, 0.07763663, 0.19068726,\n",
       "        0.16381831, 0.17295741, 0.16550905],\n",
       "       [0.17574484, 0.12442881, 0.07763663, 0.19068726, 0.16381831,\n",
       "        0.17295741, 0.16550905, 0.15979711],\n",
       "       [0.12442881, 0.07763663, 0.19068726, 0.16381831, 0.17295741,\n",
       "        0.16550905, 0.15979711, 0.12680497],\n",
       "       [0.07763663, 0.19068726, 0.16381831, 0.17295741, 0.16550905,\n",
       "        0.15979711, 0.12680497, 0.08037836],\n",
       "       [0.19068726, 0.16381831, 0.17295741, 0.16550905, 0.15979711,\n",
       "        0.12680497, 0.08037836, 0.19548529],\n",
       "       [0.16381831, 0.17295741, 0.16550905, 0.15979711, 0.12680497,\n",
       "        0.08037836, 0.19548529, 0.1507951 ],\n",
       "       [0.17295741, 0.16550905, 0.15979711, 0.12680497, 0.08037836,\n",
       "        0.19548529, 0.1507951 , 0.1740541 ],\n",
       "       [0.16550905, 0.15979711, 0.12680497, 0.08037836, 0.19548529,\n",
       "        0.1507951 , 0.1740541 , 0.16162493],\n",
       "       [0.15979711, 0.12680497, 0.08037836, 0.19548529, 0.1507951 ,\n",
       "        0.1740541 , 0.16162493, 0.15678121],\n",
       "       [0.12680497, 0.08037836, 0.19548529, 0.1507951 , 0.1740541 ,\n",
       "        0.16162493, 0.15678121, 0.11474136],\n",
       "       [0.08037836, 0.19548529, 0.1507951 , 0.1740541 , 0.16162493,\n",
       "        0.15678121, 0.11474136, 0.07457503],\n",
       "       [0.19548529, 0.1507951 , 0.1740541 , 0.16162493, 0.15678121,\n",
       "        0.11474136, 0.07457503, 0.17377993],\n",
       "       [0.1507951 , 0.1740541 , 0.16162493, 0.15678121, 0.11474136,\n",
       "        0.07457503, 0.17377993, 0.14407787],\n",
       "       [0.1740541 , 0.16162493, 0.15678121, 0.11474136, 0.07457503,\n",
       "        0.17377993, 0.14407787, 0.15728386],\n",
       "       [0.16162493, 0.15678121, 0.11474136, 0.07457503, 0.17377993,\n",
       "        0.14407787, 0.15728386, 0.1598885 ],\n",
       "       [0.15678121, 0.11474136, 0.07457503, 0.17377993, 0.14407787,\n",
       "        0.15728386, 0.1598885 , 0.16075672],\n",
       "       [0.11474136, 0.07457503, 0.17377993, 0.14407787, 0.15728386,\n",
       "        0.1598885 , 0.16075672, 0.13219704],\n",
       "       [0.07457503, 0.17377993, 0.14407787, 0.15728386, 0.1598885 ,\n",
       "        0.16075672, 0.13219704, 0.0891062 ],\n",
       "       [0.17377993, 0.14407787, 0.15728386, 0.1598885 , 0.16075672,\n",
       "        0.13219704, 0.0891062 , 0.16674283],\n",
       "       [0.14407787, 0.15728386, 0.1598885 , 0.16075672, 0.13219704,\n",
       "        0.0891062 , 0.16674283, 0.1467282 ],\n",
       "       [0.15728386, 0.1598885 , 0.16075672, 0.13219704, 0.0891062 ,\n",
       "        0.16674283, 0.1467282 , 0.17469384],\n",
       "       [0.1598885 , 0.16075672, 0.13219704, 0.0891062 , 0.16674283,\n",
       "        0.1467282 , 0.17469384, 0.19370316]])"
      ]
     },
     "execution_count": 58,
     "metadata": {
      "tags": []
     },
     "output_type": "execute_result"
    }
   ],
   "source": [
    "# prepare the data for test_segment1\n",
    "X_test_segment1 = []\n",
    "for i in range(8,len(inputs)):\n",
    "    X_test_segment1.append(inputs[i-8:i,0])\n",
    "\n",
    "X_test_segment1 = np.array(X_test_segment1)\n",
    "X_test_segment1"
   ]
  },
  {
   "cell_type": "code",
   "execution_count": 59,
   "metadata": {
    "colab": {
     "base_uri": "https://localhost:8080/",
     "height": 34
    },
    "colab_type": "code",
    "executionInfo": {
     "elapsed": 958,
     "status": "ok",
     "timestamp": 1580051367468,
     "user": {
      "displayName": "Tarun Koundinya",
      "photoUrl": "https://lh3.googleusercontent.com/a-/AAuE7mCuJFCbjNNUC21JfUrOEkSyuTMp8VnRZcH3JXTsOg=s64",
      "userId": "06377727563339288111"
     },
     "user_tz": -330
    },
    "id": "2Yxc1JuQULRT",
    "outputId": "dd802b4f-8882-4c22-f30f-2e9e6f2484e2"
   },
   "outputs": [
    {
     "data": {
      "text/plain": [
       "(87, 8)"
      ]
     },
     "execution_count": 59,
     "metadata": {
      "tags": []
     },
     "output_type": "execute_result"
    }
   ],
   "source": [
    "# lets check the shape of X_test_segment1\n",
    "X_test_segment1.shape"
   ]
  },
  {
   "cell_type": "code",
   "execution_count": 60,
   "metadata": {
    "colab": {
     "base_uri": "https://localhost:8080/",
     "height": 34
    },
    "colab_type": "code",
    "executionInfo": {
     "elapsed": 638,
     "status": "ok",
     "timestamp": 1580051369009,
     "user": {
      "displayName": "Tarun Koundinya",
      "photoUrl": "https://lh3.googleusercontent.com/a-/AAuE7mCuJFCbjNNUC21JfUrOEkSyuTMp8VnRZcH3JXTsOg=s64",
      "userId": "06377727563339288111"
     },
     "user_tz": -330
    },
    "id": "UExTgmYIULRU",
    "outputId": "bf0750c5-61d2-4065-a3a3-59a841131ec5"
   },
   "outputs": [
    {
     "name": "stdout",
     "output_type": "stream",
     "text": [
      "X_test_segment1 Shape: (87, 8, 1)\n"
     ]
    }
   ],
   "source": [
    "# Reshaping the data for LSTM model\n",
    "X_test_segment1 = np.reshape(X_test_segment1,(X_test_segment1.shape[0],X_test_segment1.shape[1],1))\n",
    "print('X_test_segment1 Shape:', X_test_segment1.shape)"
   ]
  },
  {
   "cell_type": "code",
   "execution_count": 0,
   "metadata": {
    "colab": {},
    "colab_type": "code",
    "id": "Gd4xOsEsULRX"
   },
   "outputs": [],
   "source": [
    "# lets predict for segment 1 for 87 days with 60 timesteps\n",
    "predicted_segment1 = segment_1_model.predict(X_test_segment1)"
   ]
  },
  {
   "cell_type": "code",
   "execution_count": 62,
   "metadata": {
    "colab": {
     "base_uri": "https://localhost:8080/",
     "height": 1000
    },
    "colab_type": "code",
    "executionInfo": {
     "elapsed": 575,
     "status": "ok",
     "timestamp": 1580051372997,
     "user": {
      "displayName": "Tarun Koundinya",
      "photoUrl": "https://lh3.googleusercontent.com/a-/AAuE7mCuJFCbjNNUC21JfUrOEkSyuTMp8VnRZcH3JXTsOg=s64",
      "userId": "06377727563339288111"
     },
     "user_tz": -330
    },
    "id": "g63IvTk9ULRZ",
    "outputId": "95a91fff-82d0-4dfa-e1b7-f5a432db8a71"
   },
   "outputs": [
    {
     "data": {
      "text/plain": [
       "array([[3421.4148],\n",
       "       [3542.9224],\n",
       "       [3537.5137],\n",
       "       [3487.3367],\n",
       "       [2309.939 ],\n",
       "       [3432.1917],\n",
       "       [3313.0774],\n",
       "       [3327.8176],\n",
       "       [3281.5452],\n",
       "       [3322.126 ],\n",
       "       [2828.1191],\n",
       "       [2090.2844],\n",
       "       [3238.548 ],\n",
       "       [3057.48  ],\n",
       "       [2972.2305],\n",
       "       [2863.1177],\n",
       "       [2658.462 ],\n",
       "       [1986.8234],\n",
       "       [1913.5322],\n",
       "       [3229.1816],\n",
       "       [2681.6367],\n",
       "       [3028.159 ],\n",
       "       [2984.4172],\n",
       "       [2637.5542],\n",
       "       [2018.3705],\n",
       "       [1971.1294],\n",
       "       [3112.1604],\n",
       "       [2633.5269],\n",
       "       [2787.0771],\n",
       "       [3027.1296],\n",
       "       [2659.0417],\n",
       "       [1992.305 ],\n",
       "       [1934.741 ],\n",
       "       [3378.7385],\n",
       "       [3155.1272],\n",
       "       [3072.183 ],\n",
       "       [3135.804 ],\n",
       "       [2698.877 ],\n",
       "       [2003.322 ],\n",
       "       [1895.4573],\n",
       "       [3369.3203],\n",
       "       [3209.124 ],\n",
       "       [3200.5415],\n",
       "       [3278.6528],\n",
       "       [2759.625 ],\n",
       "       [2068.5273],\n",
       "       [1924.7524],\n",
       "       [3363.64  ],\n",
       "       [3231.6433],\n",
       "       [3182.9048],\n",
       "       [3152.7642],\n",
       "       [3049.2014],\n",
       "       [2277.7288],\n",
       "       [1992.928 ],\n",
       "       [3399.0454],\n",
       "       [3287.9448],\n",
       "       [3419.7046],\n",
       "       [3313.5576],\n",
       "       [3198.459 ],\n",
       "       [2325.9788],\n",
       "       [1964.0258],\n",
       "       [3533.3218],\n",
       "       [3455.5479],\n",
       "       [3394.2183],\n",
       "       [3515.4097],\n",
       "       [3343.222 ],\n",
       "       [2270.1663],\n",
       "       [1980.7527],\n",
       "       [3465.9797],\n",
       "       [3359.9946],\n",
       "       [3353.5713],\n",
       "       [3452.57  ],\n",
       "       [3214.9705],\n",
       "       [2264.5195],\n",
       "       [1928.5974],\n",
       "       [3423.105 ],\n",
       "       [3319.815 ],\n",
       "       [3350.6165],\n",
       "       [3392.5063],\n",
       "       [3118.4165],\n",
       "       [2246.7617],\n",
       "       [2072.905 ],\n",
       "       [3384.3354],\n",
       "       [3326.2307],\n",
       "       [3377.5903],\n",
       "       [3452.094 ],\n",
       "       [3349.841 ]], dtype=float32)"
      ]
     },
     "execution_count": 62,
     "metadata": {
      "tags": []
     },
     "output_type": "execute_result"
    }
   ],
   "source": [
    "# lets inverse transform the predictions (i.e bringing into normal form)\n",
    "predicted_segment1 = sc.inverse_transform(predicted_segment1)\n",
    "predicted_segment1"
   ]
  },
  {
   "cell_type": "code",
   "execution_count": 0,
   "metadata": {
    "colab": {},
    "colab_type": "code",
    "id": "H_shS6BkULRc"
   },
   "outputs": [],
   "source": [
    "# creating data for id column\n",
    "segment1_id = []\n",
    "for d in range(1,88):\n",
    "    segment1_id.append(d)"
   ]
  },
  {
   "cell_type": "code",
   "execution_count": 64,
   "metadata": {
    "colab": {
     "base_uri": "https://localhost:8080/",
     "height": 204
    },
    "colab_type": "code",
    "executionInfo": {
     "elapsed": 807,
     "status": "ok",
     "timestamp": 1580051376786,
     "user": {
      "displayName": "Tarun Koundinya",
      "photoUrl": "https://lh3.googleusercontent.com/a-/AAuE7mCuJFCbjNNUC21JfUrOEkSyuTMp8VnRZcH3JXTsOg=s64",
      "userId": "06377727563339288111"
     },
     "user_tz": -330
    },
    "id": "7L3ONUtHULRe",
    "outputId": "135e44a4-0091-4ee0-966f-c8be5ec35e9b"
   },
   "outputs": [
    {
     "data": {
      "text/html": [
       "<div>\n",
       "<style scoped>\n",
       "    .dataframe tbody tr th:only-of-type {\n",
       "        vertical-align: middle;\n",
       "    }\n",
       "\n",
       "    .dataframe tbody tr th {\n",
       "        vertical-align: top;\n",
       "    }\n",
       "\n",
       "    .dataframe thead th {\n",
       "        text-align: right;\n",
       "    }\n",
       "</style>\n",
       "<table border=\"1\" class=\"dataframe\">\n",
       "  <thead>\n",
       "    <tr style=\"text-align: right;\">\n",
       "      <th></th>\n",
       "      <th>case_count</th>\n",
       "      <th>id</th>\n",
       "      <th>segment</th>\n",
       "    </tr>\n",
       "  </thead>\n",
       "  <tbody>\n",
       "    <tr>\n",
       "      <th>0</th>\n",
       "      <td>3421</td>\n",
       "      <td>1</td>\n",
       "      <td>1</td>\n",
       "    </tr>\n",
       "    <tr>\n",
       "      <th>1</th>\n",
       "      <td>3543</td>\n",
       "      <td>2</td>\n",
       "      <td>1</td>\n",
       "    </tr>\n",
       "    <tr>\n",
       "      <th>2</th>\n",
       "      <td>3538</td>\n",
       "      <td>3</td>\n",
       "      <td>1</td>\n",
       "    </tr>\n",
       "    <tr>\n",
       "      <th>3</th>\n",
       "      <td>3487</td>\n",
       "      <td>4</td>\n",
       "      <td>1</td>\n",
       "    </tr>\n",
       "    <tr>\n",
       "      <th>4</th>\n",
       "      <td>2310</td>\n",
       "      <td>5</td>\n",
       "      <td>1</td>\n",
       "    </tr>\n",
       "  </tbody>\n",
       "</table>\n",
       "</div>"
      ],
      "text/plain": [
       "   case_count  id  segment\n",
       "0        3421   1        1\n",
       "1        3543   2        1\n",
       "2        3538   3        1\n",
       "3        3487   4        1\n",
       "4        2310   5        1"
      ]
     },
     "execution_count": 64,
     "metadata": {
      "tags": []
     },
     "output_type": "execute_result"
    }
   ],
   "source": [
    "# lets put the predictions i.e case_count into a dataframe\n",
    "segment1 = pd.DataFrame(predicted_segment1)\n",
    "segment1 = segment1.rename(columns = {0:'case_count'})\n",
    "segment1['id'] = segment1_id\n",
    "segment1['segment'] = 1\n",
    "segment1['case_count'] = segment1['case_count'].round(0).astype(int)\n",
    "segment1.head()"
   ]
  },
  {
   "cell_type": "code",
   "execution_count": 65,
   "metadata": {
    "colab": {
     "base_uri": "https://localhost:8080/",
     "height": 34
    },
    "colab_type": "code",
    "executionInfo": {
     "elapsed": 893,
     "status": "ok",
     "timestamp": 1580051379546,
     "user": {
      "displayName": "Tarun Koundinya",
      "photoUrl": "https://lh3.googleusercontent.com/a-/AAuE7mCuJFCbjNNUC21JfUrOEkSyuTMp8VnRZcH3JXTsOg=s64",
      "userId": "06377727563339288111"
     },
     "user_tz": -330
    },
    "id": "h7Jz68FBULRh",
    "outputId": "71f9c733-2900-46ef-a12a-088d89bdbcc0"
   },
   "outputs": [
    {
     "data": {
      "text/plain": [
       "(87, 3)"
      ]
     },
     "execution_count": 65,
     "metadata": {
      "tags": []
     },
     "output_type": "execute_result"
    }
   ],
   "source": [
    "# lets check the shape of predictions\n",
    "segment1.shape"
   ]
  },
  {
   "cell_type": "code",
   "execution_count": 66,
   "metadata": {
    "colab": {
     "base_uri": "https://localhost:8080/",
     "height": 111
    },
    "colab_type": "code",
    "executionInfo": {
     "elapsed": 609,
     "status": "ok",
     "timestamp": 1580051380895,
     "user": {
      "displayName": "Tarun Koundinya",
      "photoUrl": "https://lh3.googleusercontent.com/a-/AAuE7mCuJFCbjNNUC21JfUrOEkSyuTMp8VnRZcH3JXTsOg=s64",
      "userId": "06377727563339288111"
     },
     "user_tz": -330
    },
    "id": "_Tu6Q1ToULRj",
    "outputId": "d528e19a-2cbd-4493-dc77-226870dcb7be"
   },
   "outputs": [
    {
     "data": {
      "text/html": [
       "<div>\n",
       "<style scoped>\n",
       "    .dataframe tbody tr th:only-of-type {\n",
       "        vertical-align: middle;\n",
       "    }\n",
       "\n",
       "    .dataframe tbody tr th {\n",
       "        vertical-align: top;\n",
       "    }\n",
       "\n",
       "    .dataframe thead th {\n",
       "        text-align: right;\n",
       "    }\n",
       "</style>\n",
       "<table border=\"1\" class=\"dataframe\">\n",
       "  <thead>\n",
       "    <tr style=\"text-align: right;\">\n",
       "      <th></th>\n",
       "      <th>application_date</th>\n",
       "      <th>case_count</th>\n",
       "    </tr>\n",
       "  </thead>\n",
       "  <tbody>\n",
       "    <tr>\n",
       "      <th>0</th>\n",
       "      <td>2017-04-01</td>\n",
       "      <td>299.0</td>\n",
       "    </tr>\n",
       "    <tr>\n",
       "      <th>1</th>\n",
       "      <td>2017-04-03</td>\n",
       "      <td>42.0</td>\n",
       "    </tr>\n",
       "  </tbody>\n",
       "</table>\n",
       "</div>"
      ],
      "text/plain": [
       "  application_date  case_count\n",
       "0       2017-04-01       299.0\n",
       "1       2017-04-03        42.0"
      ]
     },
     "execution_count": 66,
     "metadata": {
      "tags": []
     },
     "output_type": "execute_result"
    }
   ],
   "source": [
    "segment1_train.head(2)"
   ]
  },
  {
   "cell_type": "code",
   "execution_count": 0,
   "metadata": {
    "colab": {},
    "colab_type": "code",
    "id": "-IUWZ3rKULRo"
   },
   "outputs": [],
   "source": [
    "real_case_count = segment1_train.iloc[:,1:2].values"
   ]
  },
  {
   "cell_type": "code",
   "execution_count": 68,
   "metadata": {
    "colab": {
     "base_uri": "https://localhost:8080/",
     "height": 85
    },
    "colab_type": "code",
    "executionInfo": {
     "elapsed": 1038,
     "status": "ok",
     "timestamp": 1580051385899,
     "user": {
      "displayName": "Tarun Koundinya",
      "photoUrl": "https://lh3.googleusercontent.com/a-/AAuE7mCuJFCbjNNUC21JfUrOEkSyuTMp8VnRZcH3JXTsOg=s64",
      "userId": "06377727563339288111"
     },
     "user_tz": -330
    },
    "id": "dyu40kcPULRp",
    "outputId": "ab5783e4-f113-4222-aa9c-99a2b0f3d18f"
   },
   "outputs": [
    {
     "data": {
      "text/plain": [
       "0    299.0\n",
       "1     42.0\n",
       "2     23.0\n",
       "Name: case_count, dtype: float64"
      ]
     },
     "execution_count": 68,
     "metadata": {
      "tags": []
     },
     "output_type": "execute_result"
    }
   ],
   "source": [
    "inputs_X_test_segment1_prediction = dataset_total\n",
    "inputs_X_test_segment1_prediction.head(3)"
   ]
  },
  {
   "cell_type": "code",
   "execution_count": 0,
   "metadata": {
    "colab": {},
    "colab_type": "code",
    "id": "BFb9b7_zULRr"
   },
   "outputs": [],
   "source": [
    "inputs_X_test_segment1_prediction = inputs_X_test_segment1_prediction.values\n",
    "#inputs_X_test_segment1_prediction"
   ]
  },
  {
   "cell_type": "code",
   "execution_count": 70,
   "metadata": {
    "colab": {
     "base_uri": "https://localhost:8080/",
     "height": 34
    },
    "colab_type": "code",
    "executionInfo": {
     "elapsed": 869,
     "status": "ok",
     "timestamp": 1580051390404,
     "user": {
      "displayName": "Tarun Koundinya",
      "photoUrl": "https://lh3.googleusercontent.com/a-/AAuE7mCuJFCbjNNUC21JfUrOEkSyuTMp8VnRZcH3JXTsOg=s64",
      "userId": "06377727563339288111"
     },
     "user_tz": -330
    },
    "id": "U74EMML_ULRt",
    "outputId": "b33801c9-f5dc-4de4-fd6e-011d7016681f"
   },
   "outputs": [
    {
     "data": {
      "text/plain": [
       "(806,)"
      ]
     },
     "execution_count": 70,
     "metadata": {
      "tags": []
     },
     "output_type": "execute_result"
    }
   ],
   "source": [
    "inputs_X_test_segment1_prediction.shape"
   ]
  },
  {
   "cell_type": "code",
   "execution_count": 0,
   "metadata": {
    "colab": {},
    "colab_type": "code",
    "id": "knCSLuFBULRw"
   },
   "outputs": [],
   "source": [
    "inputs_X_test_segment1_prediction = inputs_X_test_segment1_prediction.reshape(-1,1)"
   ]
  },
  {
   "cell_type": "code",
   "execution_count": 72,
   "metadata": {
    "colab": {
     "base_uri": "https://localhost:8080/",
     "height": 34
    },
    "colab_type": "code",
    "executionInfo": {
     "elapsed": 842,
     "status": "ok",
     "timestamp": 1580051395727,
     "user": {
      "displayName": "Tarun Koundinya",
      "photoUrl": "https://lh3.googleusercontent.com/a-/AAuE7mCuJFCbjNNUC21JfUrOEkSyuTMp8VnRZcH3JXTsOg=s64",
      "userId": "06377727563339288111"
     },
     "user_tz": -330
    },
    "id": "2qs-DnzQULRy",
    "outputId": "7f586798-9790-42bb-f0bf-cf193a300c7f"
   },
   "outputs": [
    {
     "data": {
      "text/plain": [
       "(806, 1)"
      ]
     },
     "execution_count": 72,
     "metadata": {
      "tags": []
     },
     "output_type": "execute_result"
    }
   ],
   "source": [
    "inputs_X_test_segment1_prediction.shape"
   ]
  },
  {
   "cell_type": "code",
   "execution_count": 0,
   "metadata": {
    "colab": {},
    "colab_type": "code",
    "id": "1HejdwoEULR0"
   },
   "outputs": [],
   "source": [
    "inputs_X_test_segment1_prediction = sc.transform(inputs_X_test_segment1_prediction)"
   ]
  },
  {
   "cell_type": "code",
   "execution_count": 74,
   "metadata": {
    "colab": {
     "base_uri": "https://localhost:8080/",
     "height": 34
    },
    "colab_type": "code",
    "executionInfo": {
     "elapsed": 641,
     "status": "ok",
     "timestamp": 1580051399120,
     "user": {
      "displayName": "Tarun Koundinya",
      "photoUrl": "https://lh3.googleusercontent.com/a-/AAuE7mCuJFCbjNNUC21JfUrOEkSyuTMp8VnRZcH3JXTsOg=s64",
      "userId": "06377727563339288111"
     },
     "user_tz": -330
    },
    "id": "9lqUNq-oULR3",
    "outputId": "3c622353-2ee3-4309-86bf-5bc038bb6c0f"
   },
   "outputs": [
    {
     "data": {
      "text/plain": [
       "806"
      ]
     },
     "execution_count": 74,
     "metadata": {
      "tags": []
     },
     "output_type": "execute_result"
    }
   ],
   "source": [
    "len(inputs_X_test_segment1_prediction)"
   ]
  },
  {
   "cell_type": "code",
   "execution_count": 0,
   "metadata": {
    "colab": {},
    "colab_type": "code",
    "id": "QAhk3mBGULR4"
   },
   "outputs": [],
   "source": [
    "# prepare the data for test_segment1\n",
    "X_test_segment1_prediction = []\n",
    "for i in range(8,806):\n",
    "    X_test_segment1_prediction.append(inputs_X_test_segment1_prediction[i-8:i,0])\n",
    "\n",
    "X_test_segment1_prediction = np.array(X_test_segment1_prediction)\n",
    "#X_test_segment1_prediction"
   ]
  },
  {
   "cell_type": "code",
   "execution_count": 76,
   "metadata": {
    "colab": {
     "base_uri": "https://localhost:8080/",
     "height": 34
    },
    "colab_type": "code",
    "executionInfo": {
     "elapsed": 2059,
     "status": "ok",
     "timestamp": 1580051419857,
     "user": {
      "displayName": "Tarun Koundinya",
      "photoUrl": "https://lh3.googleusercontent.com/a-/AAuE7mCuJFCbjNNUC21JfUrOEkSyuTMp8VnRZcH3JXTsOg=s64",
      "userId": "06377727563339288111"
     },
     "user_tz": -330
    },
    "id": "jV3MKY9kULR6",
    "outputId": "dfe436a6-0bca-4e88-9290-c53f468a7c9e"
   },
   "outputs": [
    {
     "data": {
      "text/plain": [
       "(798, 8)"
      ]
     },
     "execution_count": 76,
     "metadata": {
      "tags": []
     },
     "output_type": "execute_result"
    }
   ],
   "source": [
    "X_test_segment1_prediction.shape"
   ]
  },
  {
   "cell_type": "code",
   "execution_count": 77,
   "metadata": {
    "colab": {
     "base_uri": "https://localhost:8080/",
     "height": 34
    },
    "colab_type": "code",
    "executionInfo": {
     "elapsed": 804,
     "status": "ok",
     "timestamp": 1580051421826,
     "user": {
      "displayName": "Tarun Koundinya",
      "photoUrl": "https://lh3.googleusercontent.com/a-/AAuE7mCuJFCbjNNUC21JfUrOEkSyuTMp8VnRZcH3JXTsOg=s64",
      "userId": "06377727563339288111"
     },
     "user_tz": -330
    },
    "id": "O76COOKkULR7",
    "outputId": "bcee8b91-620f-4b9f-8baf-cb6eb6595bb4"
   },
   "outputs": [
    {
     "name": "stdout",
     "output_type": "stream",
     "text": [
      "X_test_segment1_prediction Shape: (798, 8, 1)\n"
     ]
    }
   ],
   "source": [
    "X_test_segment1_prediction = np.reshape(X_test_segment1_prediction,(X_test_segment1_prediction.shape[0],X_test_segment1_prediction.shape[1],1))\n",
    "print('X_test_segment1_prediction Shape:', X_test_segment1_prediction.shape)"
   ]
  },
  {
   "cell_type": "code",
   "execution_count": 0,
   "metadata": {
    "colab": {},
    "colab_type": "code",
    "id": "qYqfPXnCULR9"
   },
   "outputs": [],
   "source": [
    "predicted_real_case_count = segment_1_model.predict(X_test_segment1_prediction)\n",
    "#predicted_real_case_count"
   ]
  },
  {
   "cell_type": "code",
   "execution_count": 79,
   "metadata": {
    "colab": {
     "base_uri": "https://localhost:8080/",
     "height": 1000
    },
    "colab_type": "code",
    "executionInfo": {
     "elapsed": 843,
     "status": "ok",
     "timestamp": 1580051426038,
     "user": {
      "displayName": "Tarun Koundinya",
      "photoUrl": "https://lh3.googleusercontent.com/a-/AAuE7mCuJFCbjNNUC21JfUrOEkSyuTMp8VnRZcH3JXTsOg=s64",
      "userId": "06377727563339288111"
     },
     "user_tz": -330
    },
    "id": "9gI2W1YuULR-",
    "outputId": "066a3e9c-3881-465c-a811-6b446cf2556a"
   },
   "outputs": [
    {
     "data": {
      "text/plain": [
       "array([[ 2227.7747  ],\n",
       "       [ 2153.2017  ],\n",
       "       [ 2332.0845  ],\n",
       "       [ 2049.9287  ],\n",
       "       [ 2076.0479  ],\n",
       "       [ 2052.2317  ],\n",
       "       [ 2062.6753  ],\n",
       "       [ 1974.8135  ],\n",
       "       [ 2032.0758  ],\n",
       "       [ 2264.3667  ],\n",
       "       [ 2034.4077  ],\n",
       "       [ 2038.7323  ],\n",
       "       [ 2026.5265  ],\n",
       "       [ 2011.2899  ],\n",
       "       [ 1881.9929  ],\n",
       "       [ 1893.6356  ],\n",
       "       [ 2026.9889  ],\n",
       "       [ 1298.4481  ],\n",
       "       [ 1305.6013  ],\n",
       "       [ 1240.8346  ],\n",
       "       [ 1114.3918  ],\n",
       "       [ 1422.7888  ],\n",
       "       [ 1978.6396  ],\n",
       "       [ 2080.3208  ],\n",
       "       [ 2378.0852  ],\n",
       "       [ 2418.4304  ],\n",
       "       [ 2294.0735  ],\n",
       "       [ 2296.6206  ],\n",
       "       [ 2098.1392  ],\n",
       "       [ 2306.7256  ],\n",
       "       [ 2175.1375  ],\n",
       "       [ 2240.2678  ],\n",
       "       [ 1969.0422  ],\n",
       "       [ 1975.7052  ],\n",
       "       [ 1834.8737  ],\n",
       "       [ 1896.1085  ],\n",
       "       [ 2237.9238  ],\n",
       "       [ 1946.474   ],\n",
       "       [ 1957.6536  ],\n",
       "       [ 1941.0038  ],\n",
       "       [ 1939.4827  ],\n",
       "       [ 1809.3641  ],\n",
       "       [ 1872.1107  ],\n",
       "       [ 2215.6738  ],\n",
       "       [ 1941.7416  ],\n",
       "       [ 1919.6938  ],\n",
       "       [ 1771.023   ],\n",
       "       [ 1199.2455  ],\n",
       "       [ 1188.7186  ],\n",
       "       [ 1282.6677  ],\n",
       "       [ 1245.7904  ],\n",
       "       [ 1309.5608  ],\n",
       "       [ 1893.6775  ],\n",
       "       [ 1990.9972  ],\n",
       "       [ 2412.505   ],\n",
       "       [ 2184.2537  ],\n",
       "       [ 2049.5947  ],\n",
       "       [ 2002.0015  ],\n",
       "       [ 1865.6129  ],\n",
       "       [ 2158.407   ],\n",
       "       [ 1941.6643  ],\n",
       "       [ 1948.8407  ],\n",
       "       [ 1717.1932  ],\n",
       "       [ 1814.9236  ],\n",
       "       [ 2467.8835  ],\n",
       "       [ 2130.9373  ],\n",
       "       [ 2064.5684  ],\n",
       "       [ 2128.8123  ],\n",
       "       [ 2066.3306  ],\n",
       "       [ 1809.0474  ],\n",
       "       [ 1953.7426  ],\n",
       "       [ 2807.8098  ],\n",
       "       [ 2184.976   ],\n",
       "       [ 2448.6453  ],\n",
       "       [ 2595.1277  ],\n",
       "       [ 2711.6313  ],\n",
       "       [  967.1321  ],\n",
       "       [  663.65045 ],\n",
       "       [  782.65454 ],\n",
       "       [  930.4906  ],\n",
       "       [  909.69025 ],\n",
       "       [ 1099.1667  ],\n",
       "       [ 1600.2592  ],\n",
       "       [ 1816.6941  ],\n",
       "       [ 2048.41    ],\n",
       "       [ 2220.538   ],\n",
       "       [ 1938.7542  ],\n",
       "       [ 1981.1271  ],\n",
       "       [ 2210.1987  ],\n",
       "       [ 1927.6858  ],\n",
       "       [ 1952.0156  ],\n",
       "       [ 1924.8837  ],\n",
       "       [ 1925.1628  ],\n",
       "       [ 1809.4581  ],\n",
       "       [ 1878.7344  ],\n",
       "       [ 2217.9617  ],\n",
       "       [ 1939.0682  ],\n",
       "       [ 1954.8076  ],\n",
       "       [ 1961.8018  ],\n",
       "       [ 1940.1929  ],\n",
       "       [ 1821.9838  ],\n",
       "       [ 1882.8706  ],\n",
       "       [ 2190.181   ],\n",
       "       [  703.42255 ],\n",
       "       [  544.9225  ],\n",
       "       [  607.35114 ],\n",
       "       [  558.5336  ],\n",
       "       [  619.5596  ],\n",
       "       [  860.34    ],\n",
       "       [ 1315.0264  ],\n",
       "       [ 1631.239   ],\n",
       "       [ 2434.5537  ],\n",
       "       [ 2360.0996  ],\n",
       "       [ 2109.1033  ],\n",
       "       [ 1924.351   ],\n",
       "       [ 2365.5195  ],\n",
       "       [ 2225.249   ],\n",
       "       [ 2042.7672  ],\n",
       "       [ 2073.6719  ],\n",
       "       [ 1973.281   ],\n",
       "       [ 1721.5503  ],\n",
       "       [ 1819.5205  ],\n",
       "       [ 2515.012   ],\n",
       "       [ 1974.8684  ],\n",
       "       [ 2348.4595  ],\n",
       "       [ 2185.2083  ],\n",
       "       [ 2141.189   ],\n",
       "       [ 1754.4487  ],\n",
       "       [ 1831.6199  ],\n",
       "       [ 2570.5208  ],\n",
       "       [ 2183.2512  ],\n",
       "       [ 2563.0696  ],\n",
       "       [ 2502.3074  ],\n",
       "       [  336.3059  ],\n",
       "       [  116.3057  ],\n",
       "       [  569.9829  ],\n",
       "       [  625.64374 ],\n",
       "       [  858.3097  ],\n",
       "       [ 1230.9708  ],\n",
       "       [ 1473.7881  ],\n",
       "       [ 2112.971   ],\n",
       "       [ 2171.7815  ],\n",
       "       [ 2013.5571  ],\n",
       "       [ 2342.2104  ],\n",
       "       [ 1894.2948  ],\n",
       "       [ 2040.1858  ],\n",
       "       [ 2813.317   ],\n",
       "       [ 2653.3076  ],\n",
       "       [ 2843.8604  ],\n",
       "       [ 2951.6182  ],\n",
       "       [ 2951.8408  ],\n",
       "       [ 2473.1357  ],\n",
       "       [ 2331.6846  ],\n",
       "       [ 3438.6492  ],\n",
       "       [ 3566.8423  ],\n",
       "       [ 3868.8171  ],\n",
       "       [ 4187.7505  ],\n",
       "       [ 4135.1875  ],\n",
       "       [ 4027.747   ],\n",
       "       [  613.4992  ],\n",
       "       [  726.2063  ],\n",
       "       [ 1146.6243  ],\n",
       "       [ 1011.0851  ],\n",
       "       [  612.08765 ],\n",
       "       [  553.78107 ],\n",
       "       [  585.69116 ],\n",
       "       [  933.3353  ],\n",
       "       [ 2641.1294  ],\n",
       "       [ 2713.4001  ],\n",
       "       [ 2605.3843  ],\n",
       "       [ 2685.9888  ],\n",
       "       [ 2929.301   ],\n",
       "       [ 3057.3813  ],\n",
       "       [ 2932.5059  ],\n",
       "       [ 2725.9175  ],\n",
       "       [ 3045.994   ],\n",
       "       [ 4054.4211  ],\n",
       "       [ 5051.4966  ],\n",
       "       [ 5153.353   ],\n",
       "       [ 3832.827   ],\n",
       "       [ 3335.7585  ],\n",
       "       [ 3196.49    ],\n",
       "       [ 3151.2778  ],\n",
       "       [ 2968.38    ],\n",
       "       [ 3155.242   ],\n",
       "       [ 2318.3079  ],\n",
       "       [ 1821.1305  ],\n",
       "       [ 1894.1934  ],\n",
       "       [ 2809.6646  ],\n",
       "       [ 2435.3657  ],\n",
       "       [ -329.213   ],\n",
       "       [   32.499176],\n",
       "       [   56.10249 ],\n",
       "       [  218.69568 ],\n",
       "       [  486.2927  ],\n",
       "       [  772.13257 ],\n",
       "       [  961.15106 ],\n",
       "       [ 1217.4922  ],\n",
       "       [ 2805.0757  ],\n",
       "       [ 2774.126   ],\n",
       "       [ 2587.397   ],\n",
       "       [ 2366.525   ],\n",
       "       [ 2180.459   ],\n",
       "       [ 2041.1261  ],\n",
       "       [ 2142.9163  ],\n",
       "       [ 2045.8364  ],\n",
       "       [ 1895.0123  ],\n",
       "       [ 1683.9495  ],\n",
       "       [ 1785.874   ],\n",
       "       [ 2614.535   ],\n",
       "       [ 2010.1151  ],\n",
       "       [ 1959.7452  ],\n",
       "       [ 1918.1367  ],\n",
       "       [ 1787.927   ],\n",
       "       [ 1910.2319  ],\n",
       "       [ 1901.3888  ],\n",
       "       [ 1769.0214  ],\n",
       "       [ 2289.9377  ],\n",
       "       [ 1952.9521  ],\n",
       "       [ 1994.9541  ],\n",
       "       [ 1899.1188  ],\n",
       "       [ 1266.5     ],\n",
       "       [ 1383.3229  ],\n",
       "       [ 1424.6592  ],\n",
       "       [ 1277.7332  ],\n",
       "       [ 1461.4695  ],\n",
       "       [ 2116.324   ],\n",
       "       [ 2028.4814  ],\n",
       "       [ 2155.5374  ],\n",
       "       [ 1974.9935  ],\n",
       "       [ 2148.4922  ],\n",
       "       [ 2030.3063  ],\n",
       "       [ 2045.387   ],\n",
       "       [ 2035.4514  ],\n",
       "       [ 1929.7725  ],\n",
       "       [ 1734.0183  ],\n",
       "       [ 1826.417   ],\n",
       "       [ 2674.8987  ],\n",
       "       [ 2291.3225  ],\n",
       "       [ 2304.0073  ],\n",
       "       [ 2351.8167  ],\n",
       "       [ 2028.2206  ],\n",
       "       [ 1713.9375  ],\n",
       "       [ 1841.7286  ],\n",
       "       [ 2657.4905  ],\n",
       "       [ 2225.5024  ],\n",
       "       [ 2245.163   ],\n",
       "       [ 2045.3297  ],\n",
       "       [ 2157.0305  ],\n",
       "       [ 1907.384   ],\n",
       "       [ 2012.9325  ],\n",
       "       [  340.36557 ],\n",
       "       [  361.57925 ],\n",
       "       [  521.353   ],\n",
       "       [  643.41425 ],\n",
       "       [  698.10504 ],\n",
       "       [  988.2327  ],\n",
       "       [ 1338.6932  ],\n",
       "       [ 1517.3579  ],\n",
       "       [ 2271.1208  ],\n",
       "       [ 2361.1104  ],\n",
       "       [ 2209.8606  ],\n",
       "       [ 2284.029   ],\n",
       "       [ 1672.4548  ],\n",
       "       [ 1722.6024  ],\n",
       "       [ 2842.9094  ],\n",
       "       [ 2621.1157  ],\n",
       "       [ 2781.3481  ],\n",
       "       [ 2646.6504  ],\n",
       "       [ 2009.578   ],\n",
       "       [ 1931.4888  ],\n",
       "       [ 2805.1118  ],\n",
       "       [ 2864.016   ],\n",
       "       [ 2947.9944  ],\n",
       "       [ 2962.5696  ],\n",
       "       [ 2363.7217  ],\n",
       "       [ 1779.7496  ],\n",
       "       [ 1892.7192  ],\n",
       "       [ 2927.74    ],\n",
       "       [ 2607.5688  ],\n",
       "       [ 2442.362   ],\n",
       "       [ 1013.2133  ],\n",
       "       [  643.84155 ],\n",
       "       [  765.8744  ],\n",
       "       [  942.3731  ],\n",
       "       [ 1357.704   ],\n",
       "       [ 1488.1432  ],\n",
       "       [ 2059.6484  ],\n",
       "       [ 2275.2766  ],\n",
       "       [ 1952.1653  ],\n",
       "       [ 1838.2628  ],\n",
       "       [ 2940.6826  ],\n",
       "       [ 2604.9338  ],\n",
       "       [ 2644.3413  ],\n",
       "       [ 2527.5823  ],\n",
       "       [ 2052.635   ],\n",
       "       [ 1778.6885  ],\n",
       "       [ 1847.4946  ],\n",
       "       [ 3170.1162  ],\n",
       "       [ 2960.9854  ],\n",
       "       [ 2670.2173  ],\n",
       "       [ 2495.0186  ],\n",
       "       [ 2275.1018  ],\n",
       "       [ 1814.3231  ],\n",
       "       [ 1865.9559  ],\n",
       "       [ 2775.6018  ],\n",
       "       [ 2616.0225  ],\n",
       "       [ 2691.5571  ],\n",
       "       [ 1161.2478  ],\n",
       "       [  532.0061  ],\n",
       "       [  757.53723 ],\n",
       "       [ 1658.059   ],\n",
       "       [ 1679.6752  ],\n",
       "       [ 1945.6029  ],\n",
       "       [ 2597.0767  ],\n",
       "       [ 2750.0176  ],\n",
       "       [ 1871.0023  ],\n",
       "       [ 3154.6497  ],\n",
       "       [ 2888.4014  ],\n",
       "       [ 3016.3357  ],\n",
       "       [ 3056.16    ],\n",
       "       [ 2721.5955  ],\n",
       "       [ 2202.6843  ],\n",
       "       [ 2428.953   ],\n",
       "       [ 3385.1096  ],\n",
       "       [ 3366.7075  ],\n",
       "       [ 3345.6787  ],\n",
       "       [ 3436.6672  ],\n",
       "       [ 3524.7869  ],\n",
       "       [ 3515.362   ],\n",
       "       [ 3311.0627  ],\n",
       "       [ 3287.7065  ],\n",
       "       [ 3051.259   ],\n",
       "       [ 3204.18    ],\n",
       "       [ 3292.5725  ],\n",
       "       [ 3217.7505  ],\n",
       "       [ 2499.855   ],\n",
       "       [   78.65536 ],\n",
       "       [ -723.839   ],\n",
       "       [ -184.95618 ],\n",
       "       [  -15.963241],\n",
       "       [   67.48702 ],\n",
       "       [  112.325035],\n",
       "       [  302.03555 ],\n",
       "       [  741.23425 ],\n",
       "       [ 2905.5984  ],\n",
       "       [ 2614.6262  ],\n",
       "       [ 2406.3394  ],\n",
       "       [ 2628.1755  ],\n",
       "       [ 2590.8306  ],\n",
       "       [ 2076.3452  ],\n",
       "       [ 1796.5225  ],\n",
       "       [ 2729.212   ],\n",
       "       [ 3104.5303  ],\n",
       "       [ 3335.8918  ],\n",
       "       [ 3440.2188  ],\n",
       "       [ 3050.4456  ],\n",
       "       [ 2045.3131  ],\n",
       "       [ 1911.3123  ],\n",
       "       [ 3218.2373  ],\n",
       "       [ 3232.5732  ],\n",
       "       [ 3097.1414  ],\n",
       "       [ 2822.9067  ],\n",
       "       [ 2302.5195  ],\n",
       "       [ 1815.8265  ],\n",
       "       [ 1879.7809  ],\n",
       "       [ 3084.8396  ],\n",
       "       [ 2705.5774  ],\n",
       "       [ 2318.098   ],\n",
       "       [ 2337.7812  ],\n",
       "       [ 2007.9778  ],\n",
       "       [ 1736.721   ],\n",
       "       [ 1796.2928  ],\n",
       "       [ 2873.8718  ],\n",
       "       [ 2119.615   ],\n",
       "       [ 2670.5994  ],\n",
       "       [ 2602.3196  ],\n",
       "       [ 2220.675   ],\n",
       "       [ 1799.7699  ],\n",
       "       [ 1872.5597  ],\n",
       "       [ 3055.5742  ],\n",
       "       [ 2538.6355  ],\n",
       "       [ 2744.3625  ],\n",
       "       [ 2745.7341  ],\n",
       "       [ 2211.1575  ],\n",
       "       [ 1843.3845  ],\n",
       "       [ 1893.9409  ],\n",
       "       [ 2976.5715  ],\n",
       "       [ 2791.8147  ],\n",
       "       [ 2882.8916  ],\n",
       "       [ 2742.9487  ],\n",
       "       [ 2326.5942  ],\n",
       "       [ 1844.752   ],\n",
       "       [ 1887.933   ],\n",
       "       [ 3105.8962  ],\n",
       "       [ 2746.5947  ],\n",
       "       [ 2809.4573  ],\n",
       "       [ 2758.7107  ],\n",
       "       [ 2474.0554  ],\n",
       "       [ 1551.398   ],\n",
       "       [ 1760.4825  ],\n",
       "       [ 2562.1528  ],\n",
       "       [ 2462.418   ],\n",
       "       [ 2562.9375  ],\n",
       "       [ 2918.4016  ],\n",
       "       [ 2223.3088  ],\n",
       "       [ 2287.0857  ],\n",
       "       [ 1967.4684  ],\n",
       "       [ 3294.5356  ],\n",
       "       [ 3206.1646  ],\n",
       "       [ 3255.6355  ],\n",
       "       [ 3308.653   ],\n",
       "       [ 3113.3079  ],\n",
       "       [ 2568.3574  ],\n",
       "       [ 1880.0519  ],\n",
       "       [ 3416.8923  ],\n",
       "       [ 3361.1604  ],\n",
       "       [ 3377.1497  ],\n",
       "       [ 3505.5732  ],\n",
       "       [ 3393.3713  ],\n",
       "       [ 2382.8992  ],\n",
       "       [ 1971.7812  ],\n",
       "       [ 3406.9922  ],\n",
       "       [ 3252.705   ],\n",
       "       [ 3150.3062  ],\n",
       "       [ 3250.645   ],\n",
       "       [ 3122.0088  ],\n",
       "       [ 2169.105   ],\n",
       "       [ 2324.3145  ],\n",
       "       [ 2985.9524  ],\n",
       "       [ 2292.7827  ],\n",
       "       [ 3025.4954  ],\n",
       "       [ 3158.7878  ],\n",
       "       [ 3055.912   ],\n",
       "       [ 2766.1033  ],\n",
       "       [ 1915.4907  ],\n",
       "       [ 3201.3015  ],\n",
       "       [ 3087.605   ],\n",
       "       [ 3078.6184  ],\n",
       "       [ 3102.3093  ],\n",
       "       [ 2623.2844  ],\n",
       "       [ 2084.6445  ],\n",
       "       [ 2044.5681  ],\n",
       "       [ 3333.3726  ],\n",
       "       [ 3165.1423  ],\n",
       "       [ 3182.6462  ],\n",
       "       [ 3252.5608  ],\n",
       "       [ 3136.0818  ],\n",
       "       [ 2155.7292  ],\n",
       "       [ 1893.8986  ],\n",
       "       [ 3205.3696  ],\n",
       "       [ 2975.5024  ],\n",
       "       [ 2981.3008  ],\n",
       "       [ 2934.1528  ],\n",
       "       [ 2357.392   ],\n",
       "       [ 1902.3417  ],\n",
       "       [ 1914.1111  ],\n",
       "       [ 3183.118   ],\n",
       "       [ 2833.2993  ],\n",
       "       [ 2476.3916  ],\n",
       "       [ 2147.5227  ],\n",
       "       [ 1672.1978  ],\n",
       "       [ 1723.145   ],\n",
       "       [ 1756.2396  ],\n",
       "       [ 2756.1606  ],\n",
       "       [ 3077.1377  ],\n",
       "       [ 2813.7737  ],\n",
       "       [ 1960.433   ],\n",
       "       [ 3011.4924  ],\n",
       "       [ 2040.546   ],\n",
       "       [ 1960.6401  ],\n",
       "       [ 3262.6077  ],\n",
       "       [ 3017.1863  ],\n",
       "       [ 3087.6792  ],\n",
       "       [ 2809.4832  ],\n",
       "       [ 2840.589   ],\n",
       "       [ 2031.1361  ],\n",
       "       [ 1998.9546  ],\n",
       "       [ 3416.49    ],\n",
       "       [ 3205.2034  ],\n",
       "       [ 2765.6077  ],\n",
       "       [ 3189.7805  ],\n",
       "       [ 3038.3838  ],\n",
       "       [ 2307.7441  ],\n",
       "       [ 2089.9226  ],\n",
       "       [ 3447.2305  ],\n",
       "       [ 3332.3486  ],\n",
       "       [ 3030.1733  ],\n",
       "       [ 3384.4216  ],\n",
       "       [ 3368.6099  ],\n",
       "       [ 2518.6619  ],\n",
       "       [ 1653.2925  ],\n",
       "       [ 2364.0552  ],\n",
       "       [ 2596.5117  ],\n",
       "       [ 2683.2058  ],\n",
       "       [ 2895.5676  ],\n",
       "       [ 3030.9473  ],\n",
       "       [ 2908.5916  ],\n",
       "       [ 1847.2064  ],\n",
       "       [ 3190.617   ],\n",
       "       [ 2802.127   ],\n",
       "       [ 3124.3442  ],\n",
       "       [ 2988.3552  ],\n",
       "       [ 2783.93    ],\n",
       "       [ 2266.816   ],\n",
       "       [ 2025.9854  ],\n",
       "       [ 2552.4968  ],\n",
       "       [ 3475.684   ],\n",
       "       [ 3557.7588  ],\n",
       "       [ 3578.265   ],\n",
       "       [ 3410.739   ],\n",
       "       [ 2906.1323  ],\n",
       "       [ 2322.9756  ],\n",
       "       [ 3347.508   ],\n",
       "       [ 3336.735   ],\n",
       "       [ 3326.979   ],\n",
       "       [ 3255.9927  ],\n",
       "       [ 3107.7036  ],\n",
       "       [ 2475.3257  ],\n",
       "       [ 2354.9895  ],\n",
       "       [ 2981.9736  ],\n",
       "       [ 2617.1145  ],\n",
       "       [ 2494.9915  ],\n",
       "       [ 2806.8276  ],\n",
       "       [ 2900.0867  ],\n",
       "       [ 2944.5876  ],\n",
       "       [ 3131.932   ],\n",
       "       [ 2032.3721  ],\n",
       "       [ 2269.5266  ],\n",
       "       [ 3173.5776  ],\n",
       "       [ 3004.6458  ],\n",
       "       [ 3367.385   ],\n",
       "       [ 3651.3809  ],\n",
       "       [ 3788.5046  ],\n",
       "       [ 5665.3135  ],\n",
       "       [ 6231.8438  ],\n",
       "       [ 6675.8535  ],\n",
       "       [ 6425.736   ],\n",
       "       [ 6386.6255  ],\n",
       "       [ 4260.288   ],\n",
       "       [ 3263.9702  ],\n",
       "       [ 2850.8225  ],\n",
       "       [ 3736.9268  ],\n",
       "       [ 3938.7554  ],\n",
       "       [ 3962.5154  ],\n",
       "       [ 3649.5151  ],\n",
       "       [ 2717.833   ],\n",
       "       [ 2295.023   ],\n",
       "       [ 3766.165   ],\n",
       "       [ 3721.7102  ],\n",
       "       [ 3959.3484  ],\n",
       "       [  444.0854  ],\n",
       "       [  752.7369  ],\n",
       "       [ 1187.9631  ],\n",
       "       [ 7310.8633  ],\n",
       "       [10140.192   ],\n",
       "       [10641.694   ],\n",
       "       [ 9271.077   ],\n",
       "       [ 4941.8853  ],\n",
       "       [ 4367.1396  ],\n",
       "       [ 2500.1155  ],\n",
       "       [ 2305.0266  ],\n",
       "       [ 3428.6548  ],\n",
       "       [ 3090.2634  ],\n",
       "       [ 3226.59    ],\n",
       "       [ 3339.8442  ],\n",
       "       [ 3428.386   ],\n",
       "       [ 2510.1416  ],\n",
       "       [ 1921.0625  ],\n",
       "       [ 3510.3486  ],\n",
       "       [ 3301.6367  ],\n",
       "       [ 3251.0142  ],\n",
       "       [ 3305.0835  ],\n",
       "       [ 3144.3862  ],\n",
       "       [ 2242.979   ],\n",
       "       [ 1894.3662  ],\n",
       "       [ 3436.7034  ],\n",
       "       [ 3284.5544  ],\n",
       "       [ 3278.009   ],\n",
       "       [ 3329.7358  ],\n",
       "       [ 3067.9973  ],\n",
       "       [ 2421.3623  ],\n",
       "       [ 1694.5773  ],\n",
       "       [ 2793.0356  ],\n",
       "       [ 2899.081   ],\n",
       "       [ 2924.2415  ],\n",
       "       [ 2870.166   ],\n",
       "       [ 3042.2656  ],\n",
       "       [ 2109.299   ],\n",
       "       [ 1875.4454  ],\n",
       "       [ 3240.2651  ],\n",
       "       [ 3061.9277  ],\n",
       "       [ 3040.9297  ],\n",
       "       [ 3009.5105  ],\n",
       "       [ 2519.8962  ],\n",
       "       [ 1972.9812  ],\n",
       "       [ 1881.0594  ],\n",
       "       [ 3219.965   ],\n",
       "       [ 3029.8647  ],\n",
       "       [ 3025.5098  ],\n",
       "       [ 3065.7205  ],\n",
       "       [ 2407.9927  ],\n",
       "       [ 1940.0892  ],\n",
       "       [ 1906.9744  ],\n",
       "       [ 3190.2402  ],\n",
       "       [ 2853.3596  ],\n",
       "       [ 3026.5322  ],\n",
       "       [ 3014.3784  ],\n",
       "       [ 2554.9756  ],\n",
       "       [ 2025.5159  ],\n",
       "       [ 2024.0239  ],\n",
       "       [ 3264.418   ],\n",
       "       [ 1731.5663  ],\n",
       "       [ 1183.4312  ],\n",
       "       [ 2132.4075  ],\n",
       "       [ 1879.8265  ],\n",
       "       [ 1677.0542  ],\n",
       "       [ 1837.2312  ],\n",
       "       [ 2706.6853  ],\n",
       "       [ 3049.0986  ],\n",
       "       [ 3189.9016  ],\n",
       "       [ 3311.8364  ],\n",
       "       [ 2916.19    ],\n",
       "       [ 2151.056   ],\n",
       "       [ 2111.485   ],\n",
       "       [ 3270.887   ],\n",
       "       [ 3257.1948  ],\n",
       "       [ 3294.0222  ],\n",
       "       [ 3379.7148  ],\n",
       "       [ 3283.3884  ],\n",
       "       [ 2578.8137  ],\n",
       "       [ 2111.9421  ],\n",
       "       [ 3350.6304  ],\n",
       "       [ 3306.45    ],\n",
       "       [ 3375.45    ],\n",
       "       [ 3458.086   ],\n",
       "       [ 3290.9802  ],\n",
       "       [ 2370.1167  ],\n",
       "       [ 1902.1659  ],\n",
       "       [ 3340.9597  ],\n",
       "       [ 3206.0093  ],\n",
       "       [ 3151.2817  ],\n",
       "       [ 3253.197   ],\n",
       "       [ 2416.7815  ],\n",
       "       [ 1380.2848  ],\n",
       "       [ 1693.4922  ],\n",
       "       [ 2599.2153  ],\n",
       "       [ 2718.0898  ],\n",
       "       [ 2955.2056  ],\n",
       "       [ 3278.1401  ],\n",
       "       [ 2872.6633  ],\n",
       "       [ 2840.872   ],\n",
       "       [ 1666.0054  ],\n",
       "       [ 2915.426   ],\n",
       "       [ 3060.705   ],\n",
       "       [ 3095.4658  ],\n",
       "       [ 2771.3743  ],\n",
       "       [ 3247.144   ],\n",
       "       [ 2672.0386  ],\n",
       "       [ 2416.6052  ],\n",
       "       [ 3359.1328  ],\n",
       "       [ 3224.996   ],\n",
       "       [ 3093.74    ],\n",
       "       [ 3305.9517  ],\n",
       "       [ 3009.3665  ],\n",
       "       [ 2133.8457  ],\n",
       "       [ 1937.4974  ],\n",
       "       [ 3316.9731  ],\n",
       "       [ 3212.9846  ],\n",
       "       [ 3177.967   ],\n",
       "       [ 3193.5544  ],\n",
       "       [ 2594.565   ],\n",
       "       [ 1758.4154  ],\n",
       "       [ 1723.0532  ],\n",
       "       [ 2912.15    ],\n",
       "       [ 3064.194   ],\n",
       "       [ 2966.476   ],\n",
       "       [ 3112.0032  ],\n",
       "       [ 2186.5671  ],\n",
       "       [ 2041.5914  ],\n",
       "       [ 2096.7795  ],\n",
       "       [ 3382.371   ],\n",
       "       [ 3180.686   ],\n",
       "       [ 3245.5005  ],\n",
       "       [ 3327.7415  ],\n",
       "       [ 3005.7212  ],\n",
       "       [ 2135.1716  ],\n",
       "       [ 1897.5707  ],\n",
       "       [ 3400.6626  ],\n",
       "       [ 3271.0476  ],\n",
       "       [ 3306.8203  ],\n",
       "       [ 3376.3044  ],\n",
       "       [ 2685.5142  ],\n",
       "       [ 2009.6549  ],\n",
       "       [ 2035.5165  ],\n",
       "       [ 3248.4998  ],\n",
       "       [ 3264.5713  ],\n",
       "       [ 3069.0603  ],\n",
       "       [ 2384.8945  ],\n",
       "       [ 3187.4658  ],\n",
       "       [ 2316.1475  ],\n",
       "       [ 2115.1611  ],\n",
       "       [ 3474.838   ],\n",
       "       [ 3043.6443  ],\n",
       "       [ 3205.065   ],\n",
       "       [ 3295.8047  ],\n",
       "       [ 3347.9724  ],\n",
       "       [ 3249.782   ],\n",
       "       [ 3466.3494  ],\n",
       "       [ 2115.3892  ],\n",
       "       [ 3545.4353  ],\n",
       "       [ 3421.4148  ],\n",
       "       [ 3542.9224  ],\n",
       "       [ 3537.5137  ],\n",
       "       [ 3487.3367  ],\n",
       "       [ 2309.939   ],\n",
       "       [ 3432.1917  ],\n",
       "       [ 3313.0774  ],\n",
       "       [ 3327.8176  ],\n",
       "       [ 3281.5452  ],\n",
       "       [ 3322.126   ],\n",
       "       [ 2828.1191  ],\n",
       "       [ 2090.2844  ],\n",
       "       [ 3238.548   ],\n",
       "       [ 3057.48    ],\n",
       "       [ 2972.2305  ],\n",
       "       [ 2863.1177  ],\n",
       "       [ 2658.462   ],\n",
       "       [ 1986.8234  ],\n",
       "       [ 1913.5322  ],\n",
       "       [ 3229.1816  ],\n",
       "       [ 2681.6367  ],\n",
       "       [ 3028.159   ],\n",
       "       [ 2984.4172  ],\n",
       "       [ 2637.5542  ],\n",
       "       [ 2018.3705  ],\n",
       "       [ 1971.1294  ],\n",
       "       [ 3112.1604  ],\n",
       "       [ 2633.5269  ],\n",
       "       [ 2787.0771  ],\n",
       "       [ 3027.1296  ],\n",
       "       [ 2659.0417  ],\n",
       "       [ 1992.305   ],\n",
       "       [ 1934.741   ],\n",
       "       [ 3378.7385  ],\n",
       "       [ 3155.1272  ],\n",
       "       [ 3072.183   ],\n",
       "       [ 3135.804   ],\n",
       "       [ 2698.877   ],\n",
       "       [ 2003.322   ],\n",
       "       [ 1895.4573  ],\n",
       "       [ 3369.3203  ],\n",
       "       [ 3209.124   ],\n",
       "       [ 3200.5415  ],\n",
       "       [ 3278.6528  ],\n",
       "       [ 2759.625   ],\n",
       "       [ 2068.5273  ],\n",
       "       [ 1924.7524  ],\n",
       "       [ 3363.64    ],\n",
       "       [ 3231.6433  ],\n",
       "       [ 3182.9048  ],\n",
       "       [ 3152.7642  ],\n",
       "       [ 3049.2014  ],\n",
       "       [ 2277.7288  ],\n",
       "       [ 1992.928   ],\n",
       "       [ 3399.0454  ],\n",
       "       [ 3287.9448  ],\n",
       "       [ 3419.7046  ],\n",
       "       [ 3313.5576  ],\n",
       "       [ 3198.459   ],\n",
       "       [ 2325.9788  ],\n",
       "       [ 1964.0258  ],\n",
       "       [ 3533.3218  ],\n",
       "       [ 3455.5479  ],\n",
       "       [ 3394.2183  ],\n",
       "       [ 3515.4097  ],\n",
       "       [ 3343.222   ],\n",
       "       [ 2270.1663  ],\n",
       "       [ 1980.7527  ],\n",
       "       [ 3465.9797  ],\n",
       "       [ 3359.9946  ],\n",
       "       [ 3353.5713  ],\n",
       "       [ 3452.57    ],\n",
       "       [ 3214.9705  ],\n",
       "       [ 2264.5195  ],\n",
       "       [ 1928.5974  ],\n",
       "       [ 3423.105   ],\n",
       "       [ 3319.815   ],\n",
       "       [ 3350.6165  ],\n",
       "       [ 3392.5063  ],\n",
       "       [ 3118.4165  ],\n",
       "       [ 2246.7617  ],\n",
       "       [ 2072.905   ],\n",
       "       [ 3384.3354  ],\n",
       "       [ 3326.2307  ],\n",
       "       [ 3377.5903  ],\n",
       "       [ 3452.094   ],\n",
       "       [ 3349.841   ]], dtype=float32)"
      ]
     },
     "execution_count": 79,
     "metadata": {
      "tags": []
     },
     "output_type": "execute_result"
    }
   ],
   "source": [
    "predicted_real_case_count = sc.inverse_transform(predicted_real_case_count)\n",
    "predicted_real_case_count"
   ]
  },
  {
   "cell_type": "code",
   "execution_count": 80,
   "metadata": {
    "colab": {
     "base_uri": "https://localhost:8080/",
     "height": 295
    },
    "colab_type": "code",
    "executionInfo": {
     "elapsed": 1098,
     "status": "ok",
     "timestamp": 1580051430344,
     "user": {
      "displayName": "Tarun Koundinya",
      "photoUrl": "https://lh3.googleusercontent.com/a-/AAuE7mCuJFCbjNNUC21JfUrOEkSyuTMp8VnRZcH3JXTsOg=s64",
      "userId": "06377727563339288111"
     },
     "user_tz": -330
    },
    "id": "SNdxukmtULR_",
    "outputId": "875e3d14-84a8-4055-ace1-93a9484678df"
   },
   "outputs": [
    {
     "data": {
      "image/png": "[encoded data removed]",
      "text/plain": [
       "<Figure size 432x288 with 1 Axes>"
      ]
     },
     "metadata": {
      "tags": []
     },
     "output_type": "display_data"
    }
   ],
   "source": [
    "# Visualising the results\n",
    "import matplotlib.pyplot as plt\n",
    "plt.plot(real_case_count, color = 'red', label = 'Real Number of Applications')\n",
    "plt.plot(predicted_real_case_count, color = 'blue', label = 'Predicted Number of Applications')\n",
    "plt.title('Number of Applications Predictions')\n",
    "plt.xlabel('Time')\n",
    "plt.ylabel('Number of Applications')\n",
    "plt.legend()\n",
    "plt.show()"
   ]
  },
  {
   "cell_type": "markdown",
   "metadata": {
    "colab_type": "text",
    "id": "ed33aSWuULSC"
   },
   "source": [
    "## Segment 2 "
   ]
  },
  {
   "cell_type": "code",
   "execution_count": 81,
   "metadata": {
    "colab": {
     "base_uri": "https://localhost:8080/",
     "height": 204
    },
    "colab_type": "code",
    "executionInfo": {
     "elapsed": 888,
     "status": "ok",
     "timestamp": 1580051455022,
     "user": {
      "displayName": "Tarun Koundinya",
      "photoUrl": "https://lh3.googleusercontent.com/a-/AAuE7mCuJFCbjNNUC21JfUrOEkSyuTMp8VnRZcH3JXTsOg=s64",
      "userId": "06377727563339288111"
     },
     "user_tz": -330
    },
    "id": "J7GgBRrMULSD",
    "outputId": "07c42102-13cd-4cf8-ff4b-efc8464bf5fd"
   },
   "outputs": [
    {
     "data": {
      "text/html": [
       "<div>\n",
       "<style scoped>\n",
       "    .dataframe tbody tr th:only-of-type {\n",
       "        vertical-align: middle;\n",
       "    }\n",
       "\n",
       "    .dataframe tbody tr th {\n",
       "        vertical-align: top;\n",
       "    }\n",
       "\n",
       "    .dataframe thead th {\n",
       "        text-align: right;\n",
       "    }\n",
       "</style>\n",
       "<table border=\"1\" class=\"dataframe\">\n",
       "  <thead>\n",
       "    <tr style=\"text-align: right;\">\n",
       "      <th></th>\n",
       "      <th>application_date</th>\n",
       "      <th>segment</th>\n",
       "      <th>branch_id</th>\n",
       "      <th>state</th>\n",
       "      <th>zone</th>\n",
       "      <th>case_count</th>\n",
       "    </tr>\n",
       "  </thead>\n",
       "  <tbody>\n",
       "    <tr>\n",
       "      <th>0</th>\n",
       "      <td>2017-04-01</td>\n",
       "      <td>1</td>\n",
       "      <td>1.0</td>\n",
       "      <td>WEST BENGAL</td>\n",
       "      <td>EAST</td>\n",
       "      <td>40.0</td>\n",
       "    </tr>\n",
       "    <tr>\n",
       "      <th>1</th>\n",
       "      <td>2017-04-03</td>\n",
       "      <td>1</td>\n",
       "      <td>1.0</td>\n",
       "      <td>WEST BENGAL</td>\n",
       "      <td>EAST</td>\n",
       "      <td>5.0</td>\n",
       "    </tr>\n",
       "    <tr>\n",
       "      <th>2</th>\n",
       "      <td>2017-04-04</td>\n",
       "      <td>1</td>\n",
       "      <td>1.0</td>\n",
       "      <td>WEST BENGAL</td>\n",
       "      <td>EAST</td>\n",
       "      <td>4.0</td>\n",
       "    </tr>\n",
       "    <tr>\n",
       "      <th>3</th>\n",
       "      <td>2017-04-05</td>\n",
       "      <td>1</td>\n",
       "      <td>1.0</td>\n",
       "      <td>WEST BENGAL</td>\n",
       "      <td>EAST</td>\n",
       "      <td>113.0</td>\n",
       "    </tr>\n",
       "    <tr>\n",
       "      <th>4</th>\n",
       "      <td>2017-04-07</td>\n",
       "      <td>1</td>\n",
       "      <td>1.0</td>\n",
       "      <td>WEST BENGAL</td>\n",
       "      <td>EAST</td>\n",
       "      <td>76.0</td>\n",
       "    </tr>\n",
       "  </tbody>\n",
       "</table>\n",
       "</div>"
      ],
      "text/plain": [
       "  application_date  segment  branch_id        state  zone  case_count\n",
       "0       2017-04-01        1        1.0  WEST BENGAL  EAST        40.0\n",
       "1       2017-04-03        1        1.0  WEST BENGAL  EAST         5.0\n",
       "2       2017-04-04        1        1.0  WEST BENGAL  EAST         4.0\n",
       "3       2017-04-05        1        1.0  WEST BENGAL  EAST       113.0\n",
       "4       2017-04-07        1        1.0  WEST BENGAL  EAST        76.0"
      ]
     },
     "execution_count": 81,
     "metadata": {
      "tags": []
     },
     "output_type": "execute_result"
    }
   ],
   "source": [
    "df_case_count.head()"
   ]
  },
  {
   "cell_type": "code",
   "execution_count": 82,
   "metadata": {
    "colab": {
     "base_uri": "https://localhost:8080/",
     "height": 34
    },
    "colab_type": "code",
    "executionInfo": {
     "elapsed": 1105,
     "status": "ok",
     "timestamp": 1580051459382,
     "user": {
      "displayName": "Tarun Koundinya",
      "photoUrl": "https://lh3.googleusercontent.com/a-/AAuE7mCuJFCbjNNUC21JfUrOEkSyuTMp8VnRZcH3JXTsOg=s64",
      "userId": "06377727563339288111"
     },
     "user_tz": -330
    },
    "id": "bNsxU2s-ULSE",
    "outputId": "c6aa25eb-9c00-4530-87c6-9846e3883d3c"
   },
   "outputs": [
    {
     "data": {
      "text/plain": [
       "(80402, 6)"
      ]
     },
     "execution_count": 82,
     "metadata": {
      "tags": []
     },
     "output_type": "execute_result"
    }
   ],
   "source": [
    "df_case_count.shape"
   ]
  },
  {
   "cell_type": "code",
   "execution_count": 83,
   "metadata": {
    "colab": {
     "base_uri": "https://localhost:8080/",
     "height": 221
    },
    "colab_type": "code",
    "executionInfo": {
     "elapsed": 830,
     "status": "ok",
     "timestamp": 1580051461766,
     "user": {
      "displayName": "Tarun Koundinya",
      "photoUrl": "https://lh3.googleusercontent.com/a-/AAuE7mCuJFCbjNNUC21JfUrOEkSyuTMp8VnRZcH3JXTsOg=s64",
      "userId": "06377727563339288111"
     },
     "user_tz": -330
    },
    "id": "bf_vJhmxULSG",
    "outputId": "1e5d8f3a-8c80-44f0-c77b-1ecb77f11d77"
   },
   "outputs": [
    {
     "name": "stdout",
     "output_type": "stream",
     "text": [
      "segment2 shape: (13504, 6)\n"
     ]
    },
    {
     "data": {
      "text/html": [
       "<div>\n",
       "<style scoped>\n",
       "    .dataframe tbody tr th:only-of-type {\n",
       "        vertical-align: middle;\n",
       "    }\n",
       "\n",
       "    .dataframe tbody tr th {\n",
       "        vertical-align: top;\n",
       "    }\n",
       "\n",
       "    .dataframe thead th {\n",
       "        text-align: right;\n",
       "    }\n",
       "</style>\n",
       "<table border=\"1\" class=\"dataframe\">\n",
       "  <thead>\n",
       "    <tr style=\"text-align: right;\">\n",
       "      <th></th>\n",
       "      <th>application_date</th>\n",
       "      <th>segment</th>\n",
       "      <th>branch_id</th>\n",
       "      <th>state</th>\n",
       "      <th>zone</th>\n",
       "      <th>case_count</th>\n",
       "    </tr>\n",
       "  </thead>\n",
       "  <tbody>\n",
       "    <tr>\n",
       "      <th>66898</th>\n",
       "      <td>2017-04-01</td>\n",
       "      <td>2</td>\n",
       "      <td>NaN</td>\n",
       "      <td>ASSAM</td>\n",
       "      <td>NaN</td>\n",
       "      <td>0.0</td>\n",
       "    </tr>\n",
       "    <tr>\n",
       "      <th>66899</th>\n",
       "      <td>2017-04-02</td>\n",
       "      <td>2</td>\n",
       "      <td>NaN</td>\n",
       "      <td>ASSAM</td>\n",
       "      <td>NaN</td>\n",
       "      <td>0.0</td>\n",
       "    </tr>\n",
       "    <tr>\n",
       "      <th>66900</th>\n",
       "      <td>2017-04-03</td>\n",
       "      <td>2</td>\n",
       "      <td>NaN</td>\n",
       "      <td>ASSAM</td>\n",
       "      <td>NaN</td>\n",
       "      <td>0.0</td>\n",
       "    </tr>\n",
       "    <tr>\n",
       "      <th>66901</th>\n",
       "      <td>2017-04-04</td>\n",
       "      <td>2</td>\n",
       "      <td>NaN</td>\n",
       "      <td>ASSAM</td>\n",
       "      <td>NaN</td>\n",
       "      <td>0.0</td>\n",
       "    </tr>\n",
       "    <tr>\n",
       "      <th>66902</th>\n",
       "      <td>2017-04-05</td>\n",
       "      <td>2</td>\n",
       "      <td>NaN</td>\n",
       "      <td>ASSAM</td>\n",
       "      <td>NaN</td>\n",
       "      <td>0.0</td>\n",
       "    </tr>\n",
       "  </tbody>\n",
       "</table>\n",
       "</div>"
      ],
      "text/plain": [
       "      application_date  segment  branch_id  state zone  case_count\n",
       "66898       2017-04-01        2        NaN  ASSAM  NaN         0.0\n",
       "66899       2017-04-02        2        NaN  ASSAM  NaN         0.0\n",
       "66900       2017-04-03        2        NaN  ASSAM  NaN         0.0\n",
       "66901       2017-04-04        2        NaN  ASSAM  NaN         0.0\n",
       "66902       2017-04-05        2        NaN  ASSAM  NaN         0.0"
      ]
     },
     "execution_count": 83,
     "metadata": {
      "tags": []
     },
     "output_type": "execute_result"
    }
   ],
   "source": [
    "# filtering segment 2\n",
    "segment2 = df_case_count[df_case_count['segment'] == 2]\n",
    "print('segment2 shape:',segment2.shape)\n",
    "segment2.head()"
   ]
  },
  {
   "cell_type": "code",
   "execution_count": 84,
   "metadata": {
    "colab": {
     "base_uri": "https://localhost:8080/",
     "height": 136
    },
    "colab_type": "code",
    "executionInfo": {
     "elapsed": 1030,
     "status": "ok",
     "timestamp": 1580051465770,
     "user": {
      "displayName": "Tarun Koundinya",
      "photoUrl": "https://lh3.googleusercontent.com/a-/AAuE7mCuJFCbjNNUC21JfUrOEkSyuTMp8VnRZcH3JXTsOg=s64",
      "userId": "06377727563339288111"
     },
     "user_tz": -330
    },
    "id": "gFwKpfaUULSI",
    "outputId": "3a3f6773-21a5-431c-9ddd-059db849c74b"
   },
   "outputs": [
    {
     "data": {
      "text/plain": [
       "application_date        0\n",
       "segment                 0\n",
       "branch_id           13504\n",
       "state                   0\n",
       "zone                13504\n",
       "case_count              0\n",
       "dtype: int64"
      ]
     },
     "execution_count": 84,
     "metadata": {
      "tags": []
     },
     "output_type": "execute_result"
    }
   ],
   "source": [
    "# lets check null values\n",
    "segment2.isnull().sum()"
   ]
  },
  {
   "cell_type": "code",
   "execution_count": 85,
   "metadata": {
    "colab": {
     "base_uri": "https://localhost:8080/",
     "height": 545
    },
    "colab_type": "code",
    "executionInfo": {
     "elapsed": 1032,
     "status": "ok",
     "timestamp": 1580051468495,
     "user": {
      "displayName": "Tarun Koundinya",
      "photoUrl": "https://lh3.googleusercontent.com/a-/AAuE7mCuJFCbjNNUC21JfUrOEkSyuTMp8VnRZcH3JXTsOg=s64",
      "userId": "06377727563339288111"
     },
     "user_tz": -330
    },
    "id": "JZFEyFk-ULSJ",
    "outputId": "0d0e8f05-36d2-4a0c-93cd-d247341cad97"
   },
   "outputs": [
    {
     "data": {
      "text/html": [
       "<div>\n",
       "<style scoped>\n",
       "    .dataframe tbody tr th:only-of-type {\n",
       "        vertical-align: middle;\n",
       "    }\n",
       "\n",
       "    .dataframe tbody tr th {\n",
       "        vertical-align: top;\n",
       "    }\n",
       "\n",
       "    .dataframe thead th {\n",
       "        text-align: right;\n",
       "    }\n",
       "</style>\n",
       "<table border=\"1\" class=\"dataframe\">\n",
       "  <thead>\n",
       "    <tr style=\"text-align: right;\">\n",
       "      <th></th>\n",
       "      <th>application_date</th>\n",
       "      <th>segment</th>\n",
       "      <th>branch_id</th>\n",
       "      <th>state</th>\n",
       "      <th>zone</th>\n",
       "      <th>case_count</th>\n",
       "    </tr>\n",
       "  </thead>\n",
       "  <tbody>\n",
       "    <tr>\n",
       "      <th>66898</th>\n",
       "      <td>2017-04-01</td>\n",
       "      <td>2</td>\n",
       "      <td>NaN</td>\n",
       "      <td>ASSAM</td>\n",
       "      <td>NaN</td>\n",
       "      <td>0.0</td>\n",
       "    </tr>\n",
       "    <tr>\n",
       "      <th>67742</th>\n",
       "      <td>2017-04-01</td>\n",
       "      <td>2</td>\n",
       "      <td>NaN</td>\n",
       "      <td>BIHAR</td>\n",
       "      <td>NaN</td>\n",
       "      <td>0.0</td>\n",
       "    </tr>\n",
       "    <tr>\n",
       "      <th>68586</th>\n",
       "      <td>2017-04-01</td>\n",
       "      <td>2</td>\n",
       "      <td>NaN</td>\n",
       "      <td>CHHATTISGARH</td>\n",
       "      <td>NaN</td>\n",
       "      <td>34.0</td>\n",
       "    </tr>\n",
       "    <tr>\n",
       "      <th>69430</th>\n",
       "      <td>2017-04-01</td>\n",
       "      <td>2</td>\n",
       "      <td>NaN</td>\n",
       "      <td>GUJARAT</td>\n",
       "      <td>NaN</td>\n",
       "      <td>0.0</td>\n",
       "    </tr>\n",
       "    <tr>\n",
       "      <th>70274</th>\n",
       "      <td>2017-04-01</td>\n",
       "      <td>2</td>\n",
       "      <td>NaN</td>\n",
       "      <td>HARYANA</td>\n",
       "      <td>NaN</td>\n",
       "      <td>0.0</td>\n",
       "    </tr>\n",
       "    <tr>\n",
       "      <th>71118</th>\n",
       "      <td>2017-04-01</td>\n",
       "      <td>2</td>\n",
       "      <td>NaN</td>\n",
       "      <td>JHARKHAND</td>\n",
       "      <td>NaN</td>\n",
       "      <td>0.0</td>\n",
       "    </tr>\n",
       "    <tr>\n",
       "      <th>71962</th>\n",
       "      <td>2017-04-01</td>\n",
       "      <td>2</td>\n",
       "      <td>NaN</td>\n",
       "      <td>KERALA</td>\n",
       "      <td>NaN</td>\n",
       "      <td>23.0</td>\n",
       "    </tr>\n",
       "    <tr>\n",
       "      <th>72806</th>\n",
       "      <td>2017-04-01</td>\n",
       "      <td>2</td>\n",
       "      <td>NaN</td>\n",
       "      <td>KARNATAKA</td>\n",
       "      <td>NaN</td>\n",
       "      <td>165.0</td>\n",
       "    </tr>\n",
       "    <tr>\n",
       "      <th>73650</th>\n",
       "      <td>2017-04-01</td>\n",
       "      <td>2</td>\n",
       "      <td>NaN</td>\n",
       "      <td>MAHARASHTRA</td>\n",
       "      <td>NaN</td>\n",
       "      <td>0.0</td>\n",
       "    </tr>\n",
       "    <tr>\n",
       "      <th>74494</th>\n",
       "      <td>2017-04-01</td>\n",
       "      <td>2</td>\n",
       "      <td>NaN</td>\n",
       "      <td>MADHYA PRADESH</td>\n",
       "      <td>NaN</td>\n",
       "      <td>36.0</td>\n",
       "    </tr>\n",
       "    <tr>\n",
       "      <th>75338</th>\n",
       "      <td>2017-04-01</td>\n",
       "      <td>2</td>\n",
       "      <td>NaN</td>\n",
       "      <td>ORISSA</td>\n",
       "      <td>NaN</td>\n",
       "      <td>111.0</td>\n",
       "    </tr>\n",
       "    <tr>\n",
       "      <th>76182</th>\n",
       "      <td>2017-04-01</td>\n",
       "      <td>2</td>\n",
       "      <td>NaN</td>\n",
       "      <td>PUNJAB</td>\n",
       "      <td>NaN</td>\n",
       "      <td>0.0</td>\n",
       "    </tr>\n",
       "    <tr>\n",
       "      <th>77026</th>\n",
       "      <td>2017-04-01</td>\n",
       "      <td>2</td>\n",
       "      <td>NaN</td>\n",
       "      <td>TAMIL NADU</td>\n",
       "      <td>NaN</td>\n",
       "      <td>458.0</td>\n",
       "    </tr>\n",
       "    <tr>\n",
       "      <th>77870</th>\n",
       "      <td>2017-04-01</td>\n",
       "      <td>2</td>\n",
       "      <td>NaN</td>\n",
       "      <td>TRIPURA</td>\n",
       "      <td>NaN</td>\n",
       "      <td>0.0</td>\n",
       "    </tr>\n",
       "    <tr>\n",
       "      <th>78714</th>\n",
       "      <td>2017-04-01</td>\n",
       "      <td>2</td>\n",
       "      <td>NaN</td>\n",
       "      <td>UTTAR PRADESH</td>\n",
       "      <td>NaN</td>\n",
       "      <td>27.0</td>\n",
       "    </tr>\n",
       "    <tr>\n",
       "      <th>79558</th>\n",
       "      <td>2017-04-01</td>\n",
       "      <td>2</td>\n",
       "      <td>NaN</td>\n",
       "      <td>WEST BENGAL</td>\n",
       "      <td>NaN</td>\n",
       "      <td>43.0</td>\n",
       "    </tr>\n",
       "  </tbody>\n",
       "</table>\n",
       "</div>"
      ],
      "text/plain": [
       "      application_date  segment  branch_id           state zone  case_count\n",
       "66898       2017-04-01        2        NaN           ASSAM  NaN         0.0\n",
       "67742       2017-04-01        2        NaN           BIHAR  NaN         0.0\n",
       "68586       2017-04-01        2        NaN    CHHATTISGARH  NaN        34.0\n",
       "69430       2017-04-01        2        NaN         GUJARAT  NaN         0.0\n",
       "70274       2017-04-01        2        NaN         HARYANA  NaN         0.0\n",
       "71118       2017-04-01        2        NaN       JHARKHAND  NaN         0.0\n",
       "71962       2017-04-01        2        NaN          KERALA  NaN        23.0\n",
       "72806       2017-04-01        2        NaN       KARNATAKA  NaN       165.0\n",
       "73650       2017-04-01        2        NaN     MAHARASHTRA  NaN         0.0\n",
       "74494       2017-04-01        2        NaN  MADHYA PRADESH  NaN        36.0\n",
       "75338       2017-04-01        2        NaN          ORISSA  NaN       111.0\n",
       "76182       2017-04-01        2        NaN          PUNJAB  NaN         0.0\n",
       "77026       2017-04-01        2        NaN      TAMIL NADU  NaN       458.0\n",
       "77870       2017-04-01        2        NaN         TRIPURA  NaN         0.0\n",
       "78714       2017-04-01        2        NaN   UTTAR PRADESH  NaN        27.0\n",
       "79558       2017-04-01        2        NaN     WEST BENGAL  NaN        43.0"
      ]
     },
     "execution_count": 85,
     "metadata": {
      "tags": []
     },
     "output_type": "execute_result"
    }
   ],
   "source": [
    "# checking the case_count for segment 2 (i.e number of applications) on 2017-04-01\n",
    "segment2[segment2['application_date'] == '2017-04-01']"
   ]
  },
  {
   "cell_type": "code",
   "execution_count": 86,
   "metadata": {
    "colab": {
     "base_uri": "https://localhost:8080/",
     "height": 221
    },
    "colab_type": "code",
    "executionInfo": {
     "elapsed": 941,
     "status": "ok",
     "timestamp": 1580051472220,
     "user": {
      "displayName": "Tarun Koundinya",
      "photoUrl": "https://lh3.googleusercontent.com/a-/AAuE7mCuJFCbjNNUC21JfUrOEkSyuTMp8VnRZcH3JXTsOg=s64",
      "userId": "06377727563339288111"
     },
     "user_tz": -330
    },
    "id": "19LIcL5UULSL",
    "outputId": "027497de-eb87-4d7c-cd87-1a1928bbee72"
   },
   "outputs": [
    {
     "name": "stdout",
     "output_type": "stream",
     "text": [
      "segment2 shape: (13504, 6)\n"
     ]
    },
    {
     "data": {
      "text/html": [
       "<div>\n",
       "<style scoped>\n",
       "    .dataframe tbody tr th:only-of-type {\n",
       "        vertical-align: middle;\n",
       "    }\n",
       "\n",
       "    .dataframe tbody tr th {\n",
       "        vertical-align: top;\n",
       "    }\n",
       "\n",
       "    .dataframe thead th {\n",
       "        text-align: right;\n",
       "    }\n",
       "</style>\n",
       "<table border=\"1\" class=\"dataframe\">\n",
       "  <thead>\n",
       "    <tr style=\"text-align: right;\">\n",
       "      <th></th>\n",
       "      <th>application_date</th>\n",
       "      <th>segment</th>\n",
       "      <th>branch_id</th>\n",
       "      <th>state</th>\n",
       "      <th>zone</th>\n",
       "      <th>case_count</th>\n",
       "    </tr>\n",
       "  </thead>\n",
       "  <tbody>\n",
       "    <tr>\n",
       "      <th>66898</th>\n",
       "      <td>2017-04-01</td>\n",
       "      <td>2</td>\n",
       "      <td>NaN</td>\n",
       "      <td>ASSAM</td>\n",
       "      <td>NaN</td>\n",
       "      <td>0.0</td>\n",
       "    </tr>\n",
       "    <tr>\n",
       "      <th>66899</th>\n",
       "      <td>2017-04-02</td>\n",
       "      <td>2</td>\n",
       "      <td>NaN</td>\n",
       "      <td>ASSAM</td>\n",
       "      <td>NaN</td>\n",
       "      <td>0.0</td>\n",
       "    </tr>\n",
       "    <tr>\n",
       "      <th>66900</th>\n",
       "      <td>2017-04-03</td>\n",
       "      <td>2</td>\n",
       "      <td>NaN</td>\n",
       "      <td>ASSAM</td>\n",
       "      <td>NaN</td>\n",
       "      <td>0.0</td>\n",
       "    </tr>\n",
       "    <tr>\n",
       "      <th>66901</th>\n",
       "      <td>2017-04-04</td>\n",
       "      <td>2</td>\n",
       "      <td>NaN</td>\n",
       "      <td>ASSAM</td>\n",
       "      <td>NaN</td>\n",
       "      <td>0.0</td>\n",
       "    </tr>\n",
       "    <tr>\n",
       "      <th>66902</th>\n",
       "      <td>2017-04-05</td>\n",
       "      <td>2</td>\n",
       "      <td>NaN</td>\n",
       "      <td>ASSAM</td>\n",
       "      <td>NaN</td>\n",
       "      <td>0.0</td>\n",
       "    </tr>\n",
       "  </tbody>\n",
       "</table>\n",
       "</div>"
      ],
      "text/plain": [
       "      application_date  segment  branch_id  state zone  case_count\n",
       "66898       2017-04-01        2        NaN  ASSAM  NaN         0.0\n",
       "66899       2017-04-02        2        NaN  ASSAM  NaN         0.0\n",
       "66900       2017-04-03        2        NaN  ASSAM  NaN         0.0\n",
       "66901       2017-04-04        2        NaN  ASSAM  NaN         0.0\n",
       "66902       2017-04-05        2        NaN  ASSAM  NaN         0.0"
      ]
     },
     "execution_count": 86,
     "metadata": {
      "tags": []
     },
     "output_type": "execute_result"
    }
   ],
   "source": [
    "# converting application_date column to date time format\n",
    "segment2['application_date'] = pd.to_datetime(segment2['application_date'])\n",
    "print('segment2 shape:',segment2.shape)\n",
    "segment2.head()"
   ]
  },
  {
   "cell_type": "code",
   "execution_count": 87,
   "metadata": {
    "colab": {
     "base_uri": "https://localhost:8080/",
     "height": 221
    },
    "colab_type": "code",
    "executionInfo": {
     "elapsed": 759,
     "status": "ok",
     "timestamp": 1580051475915,
     "user": {
      "displayName": "Tarun Koundinya",
      "photoUrl": "https://lh3.googleusercontent.com/a-/AAuE7mCuJFCbjNNUC21JfUrOEkSyuTMp8VnRZcH3JXTsOg=s64",
      "userId": "06377727563339288111"
     },
     "user_tz": -330
    },
    "id": "9zPAoMYOULSN",
    "outputId": "ffb2a778-fd2b-48a4-922c-62a4d831e62a"
   },
   "outputs": [
    {
     "name": "stdout",
     "output_type": "stream",
     "text": [
      "segment2 shape: (844, 2)\n"
     ]
    },
    {
     "data": {
      "text/html": [
       "<div>\n",
       "<style scoped>\n",
       "    .dataframe tbody tr th:only-of-type {\n",
       "        vertical-align: middle;\n",
       "    }\n",
       "\n",
       "    .dataframe tbody tr th {\n",
       "        vertical-align: top;\n",
       "    }\n",
       "\n",
       "    .dataframe thead th {\n",
       "        text-align: right;\n",
       "    }\n",
       "</style>\n",
       "<table border=\"1\" class=\"dataframe\">\n",
       "  <thead>\n",
       "    <tr style=\"text-align: right;\">\n",
       "      <th></th>\n",
       "      <th>application_date</th>\n",
       "      <th>case_count</th>\n",
       "    </tr>\n",
       "  </thead>\n",
       "  <tbody>\n",
       "    <tr>\n",
       "      <th>0</th>\n",
       "      <td>2017-04-01</td>\n",
       "      <td>897.0</td>\n",
       "    </tr>\n",
       "    <tr>\n",
       "      <th>1</th>\n",
       "      <td>2017-04-02</td>\n",
       "      <td>605.0</td>\n",
       "    </tr>\n",
       "    <tr>\n",
       "      <th>2</th>\n",
       "      <td>2017-04-03</td>\n",
       "      <td>2016.0</td>\n",
       "    </tr>\n",
       "    <tr>\n",
       "      <th>3</th>\n",
       "      <td>2017-04-04</td>\n",
       "      <td>2245.0</td>\n",
       "    </tr>\n",
       "    <tr>\n",
       "      <th>4</th>\n",
       "      <td>2017-04-05</td>\n",
       "      <td>2415.0</td>\n",
       "    </tr>\n",
       "  </tbody>\n",
       "</table>\n",
       "</div>"
      ],
      "text/plain": [
       "  application_date  case_count\n",
       "0       2017-04-01       897.0\n",
       "1       2017-04-02       605.0\n",
       "2       2017-04-03      2016.0\n",
       "3       2017-04-04      2245.0\n",
       "4       2017-04-05      2415.0"
      ]
     },
     "execution_count": 87,
     "metadata": {
      "tags": []
     },
     "output_type": "execute_result"
    }
   ],
   "source": [
    "#groupby application_date and sum the case_count\n",
    "# grouping is doing to check / predict number of case_count on each day\n",
    "segment2 = segment2.groupby('application_date').case_count.sum().reset_index()\n",
    "print('segment2 shape:', segment2.shape)\n",
    "segment2.head()"
   ]
  },
  {
   "cell_type": "code",
   "execution_count": 88,
   "metadata": {
    "colab": {
     "base_uri": "https://localhost:8080/",
     "height": 542
    },
    "colab_type": "code",
    "executionInfo": {
     "elapsed": 987,
     "status": "ok",
     "timestamp": 1580051478176,
     "user": {
      "displayName": "Tarun Koundinya",
      "photoUrl": "https://lh3.googleusercontent.com/a-/AAuE7mCuJFCbjNNUC21JfUrOEkSyuTMp8VnRZcH3JXTsOg=s64",
      "userId": "06377727563339288111"
     },
     "user_tz": -330
    },
    "id": "uzBis5ciULSO",
    "outputId": "302e6aa7-f0dc-4d4c-a9cb-91ba16dc4223"
   },
   "outputs": [
    {
     "data": {
      "application/vnd.plotly.v1+json": {
       "config": {
        "linkText": "Export to plot.ly",
        "plotlyServerURL": "https://plot.ly",
        "showLink": false
       },
       "data": [
        {
         "type": "scatter",
         "x": [
          "2017-04-01T00:00:00",
          "2017-04-02T00:00:00",
          "2017-04-03T00:00:00",
          "2017-04-04T00:00:00",
          "2017-04-05T00:00:00",
          "2017-04-06T00:00:00",
          "2017-04-07T00:00:00",
          "2017-04-08T00:00:00",
          "2017-04-09T00:00:00",
          "2017-04-10T00:00:00",
          "2017-04-11T00:00:00",
          "2017-04-12T00:00:00",
          "2017-04-13T00:00:00",
          "2017-04-14T00:00:00",
          "2017-04-15T00:00:00",
          "2017-04-16T00:00:00",
          "2017-04-17T00:00:00",
          "2017-04-18T00:00:00",
          "2017-04-19T00:00:00",
          "2017-04-20T00:00:00",
          "2017-04-21T00:00:00",
          "2017-04-22T00:00:00",
          "2017-04-23T00:00:00",
          "2017-04-24T00:00:00",
          "2017-04-25T00:00:00",
          "2017-04-26T00:00:00",
          "2017-04-27T00:00:00",
          "2017-04-28T00:00:00",
          "2017-04-29T00:00:00",
          "2017-04-30T00:00:00",
          "2017-05-01T00:00:00",
          "2017-05-02T00:00:00",
          "2017-05-03T00:00:00",
          "2017-05-04T00:00:00",
          "2017-05-05T00:00:00",
          "2017-05-06T00:00:00",
          "2017-05-07T00:00:00",
          "2017-05-08T00:00:00",
          "2017-05-09T00:00:00",
          "2017-05-10T00:00:00",
          "2017-05-11T00:00:00",
          "2017-05-12T00:00:00",
          "2017-05-13T00:00:00",
          "2017-05-14T00:00:00",
          "2017-05-15T00:00:00",
          "2017-05-16T00:00:00",
          "2017-05-17T00:00:00",
          "2017-05-18T00:00:00",
          "2017-05-19T00:00:00",
          "2017-05-20T00:00:00",
          "2017-05-21T00:00:00",
          "2017-05-22T00:00:00",
          "2017-05-23T00:00:00",
          "2017-05-24T00:00:00",
          "2017-05-25T00:00:00",
          "2017-05-26T00:00:00",
          "2017-05-27T00:00:00",
          "2017-05-28T00:00:00",
          "2017-05-29T00:00:00",
          "2017-05-30T00:00:00",
          "2017-05-31T00:00:00",
          "2017-06-01T00:00:00",
          "2017-06-02T00:00:00",
          "2017-06-03T00:00:00",
          "2017-06-04T00:00:00",
          "2017-06-05T00:00:00",
          "2017-06-06T00:00:00",
          "2017-06-07T00:00:00",
          "2017-06-08T00:00:00",
          "2017-06-09T00:00:00",
          "2017-06-10T00:00:00",
          "2017-06-11T00:00:00",
          "2017-06-12T00:00:00",
          "2017-06-13T00:00:00",
          "2017-06-14T00:00:00",
          "2017-06-15T00:00:00",
          "2017-06-16T00:00:00",
          "2017-06-17T00:00:00",
          "2017-06-18T00:00:00",
          "2017-06-19T00:00:00",
          "2017-06-20T00:00:00",
          "2017-06-21T00:00:00",
          "2017-06-22T00:00:00",
          "2017-06-23T00:00:00",
          "2017-06-24T00:00:00",
          "2017-06-25T00:00:00",
          "2017-06-26T00:00:00",
          "2017-06-27T00:00:00",
          "2017-06-28T00:00:00",
          "2017-06-29T00:00:00",
          "2017-06-30T00:00:00",
          "2017-07-01T00:00:00",
          "2017-07-02T00:00:00",
          "2017-07-03T00:00:00",
          "2017-07-04T00:00:00",
          "2017-07-05T00:00:00",
          "2017-07-06T00:00:00",
          "2017-07-07T00:00:00",
          "2017-07-08T00:00:00",
          "2017-07-09T00:00:00",
          "2017-07-10T00:00:00",
          "2017-07-11T00:00:00",
          "2017-07-12T00:00:00",
          "2017-07-13T00:00:00",
          "2017-07-14T00:00:00",
          "2017-07-15T00:00:00",
          "2017-07-16T00:00:00",
          "2017-07-17T00:00:00",
          "2017-07-18T00:00:00",
          "2017-07-19T00:00:00",
          "2017-07-20T00:00:00",
          "2017-07-21T00:00:00",
          "2017-07-22T00:00:00",
          "2017-07-23T00:00:00",
          "2017-07-24T00:00:00",
          "2017-07-25T00:00:00",
          "2017-07-26T00:00:00",
          "2017-07-27T00:00:00",
          "2017-07-28T00:00:00",
          "2017-07-29T00:00:00",
          "2017-07-30T00:00:00",
          "2017-07-31T00:00:00",
          "2017-08-01T00:00:00",
          "2017-08-02T00:00:00",
          "2017-08-03T00:00:00",
          "2017-08-04T00:00:00",
          "2017-08-05T00:00:00",
          "2017-08-06T00:00:00",
          "2017-08-07T00:00:00",
          "2017-08-08T00:00:00",
          "2017-08-09T00:00:00",
          "2017-08-10T00:00:00",
          "2017-08-11T00:00:00",
          "2017-08-12T00:00:00",
          "2017-08-13T00:00:00",
          "2017-08-14T00:00:00",
          "2017-08-15T00:00:00",
          "2017-08-16T00:00:00",
          "2017-08-17T00:00:00",
          "2017-08-18T00:00:00",
          "2017-08-19T00:00:00",
          "2017-08-20T00:00:00",
          "2017-08-21T00:00:00",
          "2017-08-22T00:00:00",
          "2017-08-23T00:00:00",
          "2017-08-24T00:00:00",
          "2017-08-25T00:00:00",
          "2017-08-26T00:00:00",
          "2017-08-27T00:00:00",
          "2017-08-28T00:00:00",
          "2017-08-29T00:00:00",
          "2017-08-30T00:00:00",
          "2017-08-31T00:00:00",
          "2017-09-01T00:00:00",
          "2017-09-02T00:00:00",
          "2017-09-03T00:00:00",
          "2017-09-04T00:00:00",
          "2017-09-05T00:00:00",
          "2017-09-06T00:00:00",
          "2017-09-07T00:00:00",
          "2017-09-08T00:00:00",
          "2017-09-09T00:00:00",
          "2017-09-10T00:00:00",
          "2017-09-11T00:00:00",
          "2017-09-12T00:00:00",
          "2017-09-13T00:00:00",
          "2017-09-14T00:00:00",
          "2017-09-15T00:00:00",
          "2017-09-16T00:00:00",
          "2017-09-17T00:00:00",
          "2017-09-18T00:00:00",
          "2017-09-19T00:00:00",
          "2017-09-20T00:00:00",
          "2017-09-21T00:00:00",
          "2017-09-22T00:00:00",
          "2017-09-23T00:00:00",
          "2017-09-24T00:00:00",
          "2017-09-25T00:00:00",
          "2017-09-26T00:00:00",
          "2017-09-27T00:00:00",
          "2017-09-28T00:00:00",
          "2017-09-29T00:00:00",
          "2017-09-30T00:00:00",
          "2017-10-01T00:00:00",
          "2017-10-02T00:00:00",
          "2017-10-03T00:00:00",
          "2017-10-04T00:00:00",
          "2017-10-05T00:00:00",
          "2017-10-06T00:00:00",
          "2017-10-07T00:00:00",
          "2017-10-08T00:00:00",
          "2017-10-09T00:00:00",
          "2017-10-10T00:00:00",
          "2017-10-11T00:00:00",
          "2017-10-12T00:00:00",
          "2017-10-13T00:00:00",
          "2017-10-14T00:00:00",
          "2017-10-15T00:00:00",
          "2017-10-16T00:00:00",
          "2017-10-17T00:00:00",
          "2017-10-18T00:00:00",
          "2017-10-19T00:00:00",
          "2017-10-20T00:00:00",
          "2017-10-21T00:00:00",
          "2017-10-22T00:00:00",
          "2017-10-23T00:00:00",
          "2017-10-24T00:00:00",
          "2017-10-25T00:00:00",
          "2017-10-26T00:00:00",
          "2017-10-27T00:00:00",
          "2017-10-28T00:00:00",
          "2017-10-29T00:00:00",
          "2017-10-30T00:00:00",
          "2017-10-31T00:00:00",
          "2017-11-01T00:00:00",
          "2017-11-02T00:00:00",
          "2017-11-03T00:00:00",
          "2017-11-04T00:00:00",
          "2017-11-05T00:00:00",
          "2017-11-06T00:00:00",
          "2017-11-07T00:00:00",
          "2017-11-08T00:00:00",
          "2017-11-09T00:00:00",
          "2017-11-10T00:00:00",
          "2017-11-11T00:00:00",
          "2017-11-12T00:00:00",
          "2017-11-13T00:00:00",
          "2017-11-14T00:00:00",
          "2017-11-15T00:00:00",
          "2017-11-16T00:00:00",
          "2017-11-17T00:00:00",
          "2017-11-18T00:00:00",
          "2017-11-19T00:00:00",
          "2017-11-20T00:00:00",
          "2017-11-21T00:00:00",
          "2017-11-22T00:00:00",
          "2017-11-23T00:00:00",
          "2017-11-24T00:00:00",
          "2017-11-25T00:00:00",
          "2017-11-26T00:00:00",
          "2017-11-27T00:00:00",
          "2017-11-28T00:00:00",
          "2017-11-29T00:00:00",
          "2017-11-30T00:00:00",
          "2017-12-01T00:00:00",
          "2017-12-02T00:00:00",
          "2017-12-03T00:00:00",
          "2017-12-04T00:00:00",
          "2017-12-05T00:00:00",
          "2017-12-06T00:00:00",
          "2017-12-07T00:00:00",
          "2017-12-08T00:00:00",
          "2017-12-09T00:00:00",
          "2017-12-10T00:00:00",
          "2017-12-11T00:00:00",
          "2017-12-12T00:00:00",
          "2017-12-13T00:00:00",
          "2017-12-14T00:00:00",
          "2017-12-15T00:00:00",
          "2017-12-16T00:00:00",
          "2017-12-17T00:00:00",
          "2017-12-18T00:00:00",
          "2017-12-19T00:00:00",
          "2017-12-20T00:00:00",
          "2017-12-21T00:00:00",
          "2017-12-22T00:00:00",
          "2017-12-23T00:00:00",
          "2017-12-24T00:00:00",
          "2017-12-25T00:00:00",
          "2017-12-26T00:00:00",
          "2017-12-27T00:00:00",
          "2017-12-28T00:00:00",
          "2017-12-29T00:00:00",
          "2017-12-30T00:00:00",
          "2017-12-31T00:00:00",
          "2018-01-01T00:00:00",
          "2018-01-02T00:00:00",
          "2018-01-03T00:00:00",
          "2018-01-04T00:00:00",
          "2018-01-05T00:00:00",
          "2018-01-06T00:00:00",
          "2018-01-07T00:00:00",
          "2018-01-08T00:00:00",
          "2018-01-09T00:00:00",
          "2018-01-10T00:00:00",
          "2018-01-11T00:00:00",
          "2018-01-12T00:00:00",
          "2018-01-13T00:00:00",
          "2018-01-14T00:00:00",
          "2018-01-15T00:00:00",
          "2018-01-16T00:00:00",
          "2018-01-17T00:00:00",
          "2018-01-18T00:00:00",
          "2018-01-19T00:00:00",
          "2018-01-20T00:00:00",
          "2018-01-21T00:00:00",
          "2018-01-22T00:00:00",
          "2018-01-23T00:00:00",
          "2018-01-24T00:00:00",
          "2018-01-25T00:00:00",
          "2018-01-26T00:00:00",
          "2018-01-27T00:00:00",
          "2018-01-28T00:00:00",
          "2018-01-29T00:00:00",
          "2018-01-30T00:00:00",
          "2018-01-31T00:00:00",
          "2018-02-01T00:00:00",
          "2018-02-02T00:00:00",
          "2018-02-03T00:00:00",
          "2018-02-04T00:00:00",
          "2018-02-05T00:00:00",
          "2018-02-06T00:00:00",
          "2018-02-07T00:00:00",
          "2018-02-08T00:00:00",
          "2018-02-09T00:00:00",
          "2018-02-10T00:00:00",
          "2018-02-11T00:00:00",
          "2018-02-12T00:00:00",
          "2018-02-13T00:00:00",
          "2018-02-14T00:00:00",
          "2018-02-15T00:00:00",
          "2018-02-16T00:00:00",
          "2018-02-17T00:00:00",
          "2018-02-18T00:00:00",
          "2018-02-19T00:00:00",
          "2018-02-20T00:00:00",
          "2018-02-21T00:00:00",
          "2018-02-22T00:00:00",
          "2018-02-23T00:00:00",
          "2018-02-24T00:00:00",
          "2018-02-25T00:00:00",
          "2018-02-26T00:00:00",
          "2018-02-27T00:00:00",
          "2018-02-28T00:00:00",
          "2018-03-01T00:00:00",
          "2018-03-02T00:00:00",
          "2018-03-03T00:00:00",
          "2018-03-04T00:00:00",
          "2018-03-05T00:00:00",
          "2018-03-06T00:00:00",
          "2018-03-07T00:00:00",
          "2018-03-08T00:00:00",
          "2018-03-09T00:00:00",
          "2018-03-10T00:00:00",
          "2018-03-11T00:00:00",
          "2018-03-12T00:00:00",
          "2018-03-13T00:00:00",
          "2018-03-14T00:00:00",
          "2018-03-15T00:00:00",
          "2018-03-16T00:00:00",
          "2018-03-17T00:00:00",
          "2018-03-18T00:00:00",
          "2018-03-19T00:00:00",
          "2018-03-20T00:00:00",
          "2018-03-21T00:00:00",
          "2018-03-22T00:00:00",
          "2018-03-23T00:00:00",
          "2018-03-24T00:00:00",
          "2018-03-25T00:00:00",
          "2018-03-26T00:00:00",
          "2018-03-27T00:00:00",
          "2018-03-28T00:00:00",
          "2018-03-29T00:00:00",
          "2018-03-30T00:00:00",
          "2018-03-31T00:00:00",
          "2018-04-01T00:00:00",
          "2018-04-02T00:00:00",
          "2018-04-03T00:00:00",
          "2018-04-04T00:00:00",
          "2018-04-05T00:00:00",
          "2018-04-06T00:00:00",
          "2018-04-07T00:00:00",
          "2018-04-08T00:00:00",
          "2018-04-09T00:00:00",
          "2018-04-10T00:00:00",
          "2018-04-11T00:00:00",
          "2018-04-12T00:00:00",
          "2018-04-13T00:00:00",
          "2018-04-14T00:00:00",
          "2018-04-15T00:00:00",
          "2018-04-16T00:00:00",
          "2018-04-17T00:00:00",
          "2018-04-18T00:00:00",
          "2018-04-19T00:00:00",
          "2018-04-20T00:00:00",
          "2018-04-21T00:00:00",
          "2018-04-22T00:00:00",
          "2018-04-23T00:00:00",
          "2018-04-24T00:00:00",
          "2018-04-25T00:00:00",
          "2018-04-26T00:00:00",
          "2018-04-27T00:00:00",
          "2018-04-28T00:00:00",
          "2018-04-29T00:00:00",
          "2018-04-30T00:00:00",
          "2018-05-01T00:00:00",
          "2018-05-02T00:00:00",
          "2018-05-03T00:00:00",
          "2018-05-04T00:00:00",
          "2018-05-05T00:00:00",
          "2018-05-06T00:00:00",
          "2018-05-07T00:00:00",
          "2018-05-08T00:00:00",
          "2018-05-09T00:00:00",
          "2018-05-10T00:00:00",
          "2018-05-11T00:00:00",
          "2018-05-12T00:00:00",
          "2018-05-13T00:00:00",
          "2018-05-14T00:00:00",
          "2018-05-15T00:00:00",
          "2018-05-16T00:00:00",
          "2018-05-17T00:00:00",
          "2018-05-18T00:00:00",
          "2018-05-19T00:00:00",
          "2018-05-20T00:00:00",
          "2018-05-21T00:00:00",
          "2018-05-22T00:00:00",
          "2018-05-23T00:00:00",
          "2018-05-24T00:00:00",
          "2018-05-25T00:00:00",
          "2018-05-26T00:00:00",
          "2018-05-27T00:00:00",
          "2018-05-28T00:00:00",
          "2018-05-29T00:00:00",
          "2018-05-30T00:00:00",
          "2018-05-31T00:00:00",
          "2018-06-01T00:00:00",
          "2018-06-02T00:00:00",
          "2018-06-03T00:00:00",
          "2018-06-04T00:00:00",
          "2018-06-05T00:00:00",
          "2018-06-06T00:00:00",
          "2018-06-07T00:00:00",
          "2018-06-08T00:00:00",
          "2018-06-09T00:00:00",
          "2018-06-10T00:00:00",
          "2018-06-11T00:00:00",
          "2018-06-12T00:00:00",
          "2018-06-13T00:00:00",
          "2018-06-14T00:00:00",
          "2018-06-15T00:00:00",
          "2018-06-16T00:00:00",
          "2018-06-17T00:00:00",
          "2018-06-18T00:00:00",
          "2018-06-19T00:00:00",
          "2018-06-20T00:00:00",
          "2018-06-21T00:00:00",
          "2018-06-22T00:00:00",
          "2018-06-23T00:00:00",
          "2018-06-24T00:00:00",
          "2018-06-25T00:00:00",
          "2018-06-26T00:00:00",
          "2018-06-27T00:00:00",
          "2018-06-28T00:00:00",
          "2018-06-29T00:00:00",
          "2018-06-30T00:00:00",
          "2018-07-01T00:00:00",
          "2018-07-02T00:00:00",
          "2018-07-03T00:00:00",
          "2018-07-04T00:00:00",
          "2018-07-05T00:00:00",
          "2018-07-06T00:00:00",
          "2018-07-07T00:00:00",
          "2018-07-08T00:00:00",
          "2018-07-09T00:00:00",
          "2018-07-10T00:00:00",
          "2018-07-11T00:00:00",
          "2018-07-12T00:00:00",
          "2018-07-13T00:00:00",
          "2018-07-14T00:00:00",
          "2018-07-15T00:00:00",
          "2018-07-16T00:00:00",
          "2018-07-17T00:00:00",
          "2018-07-18T00:00:00",
          "2018-07-19T00:00:00",
          "2018-07-20T00:00:00",
          "2018-07-21T00:00:00",
          "2018-07-22T00:00:00",
          "2018-07-23T00:00:00",
          "2018-07-24T00:00:00",
          "2018-07-25T00:00:00",
          "2018-07-26T00:00:00",
          "2018-07-27T00:00:00",
          "2018-07-28T00:00:00",
          "2018-07-29T00:00:00",
          "2018-07-30T00:00:00",
          "2018-07-31T00:00:00",
          "2018-08-01T00:00:00",
          "2018-08-02T00:00:00",
          "2018-08-03T00:00:00",
          "2018-08-04T00:00:00",
          "2018-08-05T00:00:00",
          "2018-08-06T00:00:00",
          "2018-08-07T00:00:00",
          "2018-08-08T00:00:00",
          "2018-08-09T00:00:00",
          "2018-08-10T00:00:00",
          "2018-08-11T00:00:00",
          "2018-08-12T00:00:00",
          "2018-08-13T00:00:00",
          "2018-08-14T00:00:00",
          "2018-08-15T00:00:00",
          "2018-08-16T00:00:00",
          "2018-08-17T00:00:00",
          "2018-08-18T00:00:00",
          "2018-08-19T00:00:00",
          "2018-08-20T00:00:00",
          "2018-08-21T00:00:00",
          "2018-08-22T00:00:00",
          "2018-08-23T00:00:00",
          "2018-08-24T00:00:00",
          "2018-08-25T00:00:00",
          "2018-08-26T00:00:00",
          "2018-08-27T00:00:00",
          "2018-08-28T00:00:00",
          "2018-08-29T00:00:00",
          "2018-08-30T00:00:00",
          "2018-08-31T00:00:00",
          "2018-09-01T00:00:00",
          "2018-09-02T00:00:00",
          "2018-09-03T00:00:00",
          "2018-09-04T00:00:00",
          "2018-09-05T00:00:00",
          "2018-09-06T00:00:00",
          "2018-09-07T00:00:00",
          "2018-09-08T00:00:00",
          "2018-09-09T00:00:00",
          "2018-09-10T00:00:00",
          "2018-09-11T00:00:00",
          "2018-09-12T00:00:00",
          "2018-09-13T00:00:00",
          "2018-09-14T00:00:00",
          "2018-09-15T00:00:00",
          "2018-09-16T00:00:00",
          "2018-09-17T00:00:00",
          "2018-09-18T00:00:00",
          "2018-09-19T00:00:00",
          "2018-09-20T00:00:00",
          "2018-09-21T00:00:00",
          "2018-09-22T00:00:00",
          "2018-09-23T00:00:00",
          "2018-09-24T00:00:00",
          "2018-09-25T00:00:00",
          "2018-09-26T00:00:00",
          "2018-09-27T00:00:00",
          "2018-09-28T00:00:00",
          "2018-09-29T00:00:00",
          "2018-09-30T00:00:00",
          "2018-10-01T00:00:00",
          "2018-10-02T00:00:00",
          "2018-10-03T00:00:00",
          "2018-10-04T00:00:00",
          "2018-10-05T00:00:00",
          "2018-10-06T00:00:00",
          "2018-10-07T00:00:00",
          "2018-10-08T00:00:00",
          "2018-10-09T00:00:00",
          "2018-10-10T00:00:00",
          "2018-10-11T00:00:00",
          "2018-10-12T00:00:00",
          "2018-10-13T00:00:00",
          "2018-10-14T00:00:00",
          "2018-10-15T00:00:00",
          "2018-10-16T00:00:00",
          "2018-10-17T00:00:00",
          "2018-10-18T00:00:00",
          "2018-10-19T00:00:00",
          "2018-10-20T00:00:00",
          "2018-10-21T00:00:00",
          "2018-10-22T00:00:00",
          "2018-10-23T00:00:00",
          "2018-10-24T00:00:00",
          "2018-10-25T00:00:00",
          "2018-10-26T00:00:00",
          "2018-10-27T00:00:00",
          "2018-10-28T00:00:00",
          "2018-10-29T00:00:00",
          "2018-10-30T00:00:00",
          "2018-10-31T00:00:00",
          "2018-11-01T00:00:00",
          "2018-11-02T00:00:00",
          "2018-11-03T00:00:00",
          "2018-11-04T00:00:00",
          "2018-11-05T00:00:00",
          "2018-11-06T00:00:00",
          "2018-11-07T00:00:00",
          "2018-11-08T00:00:00",
          "2018-11-09T00:00:00",
          "2018-11-10T00:00:00",
          "2018-11-11T00:00:00",
          "2018-11-12T00:00:00",
          "2018-11-13T00:00:00",
          "2018-11-14T00:00:00",
          "2018-11-15T00:00:00",
          "2018-11-16T00:00:00",
          "2018-11-17T00:00:00",
          "2018-11-18T00:00:00",
          "2018-11-19T00:00:00",
          "2018-11-20T00:00:00",
          "2018-11-21T00:00:00",
          "2018-11-22T00:00:00",
          "2018-11-23T00:00:00",
          "2018-11-24T00:00:00",
          "2018-11-25T00:00:00",
          "2018-11-26T00:00:00",
          "2018-11-27T00:00:00",
          "2018-11-28T00:00:00",
          "2018-11-29T00:00:00",
          "2018-11-30T00:00:00",
          "2018-12-01T00:00:00",
          "2018-12-02T00:00:00",
          "2018-12-03T00:00:00",
          "2018-12-04T00:00:00",
          "2018-12-05T00:00:00",
          "2018-12-06T00:00:00",
          "2018-12-07T00:00:00",
          "2018-12-08T00:00:00",
          "2018-12-09T00:00:00",
          "2018-12-10T00:00:00",
          "2018-12-11T00:00:00",
          "2018-12-12T00:00:00",
          "2018-12-13T00:00:00",
          "2018-12-14T00:00:00",
          "2018-12-15T00:00:00",
          "2018-12-16T00:00:00",
          "2018-12-17T00:00:00",
          "2018-12-18T00:00:00",
          "2018-12-19T00:00:00",
          "2018-12-20T00:00:00",
          "2018-12-21T00:00:00",
          "2018-12-22T00:00:00",
          "2018-12-23T00:00:00",
          "2018-12-24T00:00:00",
          "2018-12-25T00:00:00",
          "2018-12-26T00:00:00",
          "2018-12-27T00:00:00",
          "2018-12-28T00:00:00",
          "2018-12-29T00:00:00",
          "2018-12-30T00:00:00",
          "2018-12-31T00:00:00",
          "2019-01-01T00:00:00",
          "2019-01-02T00:00:00",
          "2019-01-03T00:00:00",
          "2019-01-04T00:00:00",
          "2019-01-05T00:00:00",
          "2019-01-06T00:00:00",
          "2019-01-07T00:00:00",
          "2019-01-08T00:00:00",
          "2019-01-09T00:00:00",
          "2019-01-10T00:00:00",
          "2019-01-11T00:00:00",
          "2019-01-12T00:00:00",
          "2019-01-13T00:00:00",
          "2019-01-14T00:00:00",
          "2019-01-15T00:00:00",
          "2019-01-16T00:00:00",
          "2019-01-17T00:00:00",
          "2019-01-18T00:00:00",
          "2019-01-19T00:00:00",
          "2019-01-20T00:00:00",
          "2019-01-21T00:00:00",
          "2019-01-22T00:00:00",
          "2019-01-23T00:00:00",
          "2019-01-24T00:00:00",
          "2019-01-25T00:00:00",
          "2019-01-26T00:00:00",
          "2019-01-27T00:00:00",
          "2019-01-28T00:00:00",
          "2019-01-29T00:00:00",
          "2019-01-30T00:00:00",
          "2019-01-31T00:00:00",
          "2019-02-01T00:00:00",
          "2019-02-02T00:00:00",
          "2019-02-03T00:00:00",
          "2019-02-04T00:00:00",
          "2019-02-05T00:00:00",
          "2019-02-06T00:00:00",
          "2019-02-07T00:00:00",
          "2019-02-08T00:00:00",
          "2019-02-09T00:00:00",
          "2019-02-10T00:00:00",
          "2019-02-11T00:00:00",
          "2019-02-12T00:00:00",
          "2019-02-13T00:00:00",
          "2019-02-14T00:00:00",
          "2019-02-15T00:00:00",
          "2019-02-16T00:00:00",
          "2019-02-17T00:00:00",
          "2019-02-18T00:00:00",
          "2019-02-19T00:00:00",
          "2019-02-20T00:00:00",
          "2019-02-21T00:00:00",
          "2019-02-22T00:00:00",
          "2019-02-23T00:00:00",
          "2019-02-24T00:00:00",
          "2019-02-25T00:00:00",
          "2019-02-26T00:00:00",
          "2019-02-27T00:00:00",
          "2019-02-28T00:00:00",
          "2019-03-01T00:00:00",
          "2019-03-02T00:00:00",
          "2019-03-03T00:00:00",
          "2019-03-04T00:00:00",
          "2019-03-05T00:00:00",
          "2019-03-06T00:00:00",
          "2019-03-07T00:00:00",
          "2019-03-08T00:00:00",
          "2019-03-09T00:00:00",
          "2019-03-10T00:00:00",
          "2019-03-11T00:00:00",
          "2019-03-12T00:00:00",
          "2019-03-13T00:00:00",
          "2019-03-14T00:00:00",
          "2019-03-15T00:00:00",
          "2019-03-16T00:00:00",
          "2019-03-17T00:00:00",
          "2019-03-18T00:00:00",
          "2019-03-19T00:00:00",
          "2019-03-20T00:00:00",
          "2019-03-21T00:00:00",
          "2019-03-22T00:00:00",
          "2019-03-23T00:00:00",
          "2019-03-24T00:00:00",
          "2019-03-25T00:00:00",
          "2019-03-26T00:00:00",
          "2019-03-27T00:00:00",
          "2019-03-28T00:00:00",
          "2019-03-29T00:00:00",
          "2019-03-30T00:00:00",
          "2019-03-31T00:00:00",
          "2019-04-01T00:00:00",
          "2019-04-02T00:00:00",
          "2019-04-03T00:00:00",
          "2019-04-04T00:00:00",
          "2019-04-05T00:00:00",
          "2019-04-06T00:00:00",
          "2019-04-07T00:00:00",
          "2019-04-08T00:00:00",
          "2019-04-09T00:00:00",
          "2019-04-10T00:00:00",
          "2019-04-11T00:00:00",
          "2019-04-12T00:00:00",
          "2019-04-13T00:00:00",
          "2019-04-14T00:00:00",
          "2019-04-15T00:00:00",
          "2019-04-16T00:00:00",
          "2019-04-17T00:00:00",
          "2019-04-18T00:00:00",
          "2019-04-19T00:00:00",
          "2019-04-20T00:00:00",
          "2019-04-21T00:00:00",
          "2019-04-22T00:00:00",
          "2019-04-23T00:00:00",
          "2019-04-24T00:00:00",
          "2019-04-25T00:00:00",
          "2019-04-26T00:00:00",
          "2019-04-27T00:00:00",
          "2019-04-28T00:00:00",
          "2019-04-29T00:00:00",
          "2019-04-30T00:00:00",
          "2019-05-01T00:00:00",
          "2019-05-02T00:00:00",
          "2019-05-03T00:00:00",
          "2019-05-04T00:00:00",
          "2019-05-05T00:00:00",
          "2019-05-06T00:00:00",
          "2019-05-07T00:00:00",
          "2019-05-08T00:00:00",
          "2019-05-09T00:00:00",
          "2019-05-10T00:00:00",
          "2019-05-11T00:00:00",
          "2019-05-12T00:00:00",
          "2019-05-13T00:00:00",
          "2019-05-14T00:00:00",
          "2019-05-15T00:00:00",
          "2019-05-16T00:00:00",
          "2019-05-17T00:00:00",
          "2019-05-18T00:00:00",
          "2019-05-19T00:00:00",
          "2019-05-20T00:00:00",
          "2019-05-21T00:00:00",
          "2019-05-22T00:00:00",
          "2019-05-23T00:00:00",
          "2019-05-24T00:00:00",
          "2019-05-25T00:00:00",
          "2019-05-26T00:00:00",
          "2019-05-27T00:00:00",
          "2019-05-28T00:00:00",
          "2019-05-29T00:00:00",
          "2019-05-30T00:00:00",
          "2019-05-31T00:00:00",
          "2019-06-01T00:00:00",
          "2019-06-02T00:00:00",
          "2019-06-03T00:00:00",
          "2019-06-04T00:00:00",
          "2019-06-05T00:00:00",
          "2019-06-06T00:00:00",
          "2019-06-07T00:00:00",
          "2019-06-08T00:00:00",
          "2019-06-09T00:00:00",
          "2019-06-10T00:00:00",
          "2019-06-11T00:00:00",
          "2019-06-12T00:00:00",
          "2019-06-13T00:00:00",
          "2019-06-14T00:00:00",
          "2019-06-15T00:00:00",
          "2019-06-16T00:00:00",
          "2019-06-17T00:00:00",
          "2019-06-18T00:00:00",
          "2019-06-19T00:00:00",
          "2019-06-20T00:00:00",
          "2019-06-21T00:00:00",
          "2019-06-22T00:00:00",
          "2019-06-23T00:00:00",
          "2019-06-24T00:00:00",
          "2019-06-25T00:00:00",
          "2019-06-26T00:00:00",
          "2019-06-27T00:00:00",
          "2019-06-28T00:00:00",
          "2019-06-29T00:00:00",
          "2019-06-30T00:00:00",
          "2019-07-01T00:00:00",
          "2019-07-02T00:00:00",
          "2019-07-03T00:00:00",
          "2019-07-04T00:00:00",
          "2019-07-05T00:00:00",
          "2019-07-06T00:00:00",
          "2019-07-07T00:00:00",
          "2019-07-08T00:00:00",
          "2019-07-09T00:00:00",
          "2019-07-10T00:00:00",
          "2019-07-11T00:00:00",
          "2019-07-12T00:00:00",
          "2019-07-13T00:00:00",
          "2019-07-14T00:00:00",
          "2019-07-15T00:00:00",
          "2019-07-16T00:00:00",
          "2019-07-17T00:00:00",
          "2019-07-18T00:00:00",
          "2019-07-19T00:00:00",
          "2019-07-20T00:00:00",
          "2019-07-21T00:00:00",
          "2019-07-22T00:00:00",
          "2019-07-23T00:00:00"
         ],
         "y": [
          897,
          605,
          2016,
          2245,
          2415,
          2379,
          2249,
          2297,
          1435,
          3166,
          5649,
          8781,
          10351,
          8289,
          8799,
          6745,
          9597,
          11351,
          12310,
          12384,
          10857,
          8881,
          6172,
          5931,
          4422,
          2384,
          1102,
          810,
          854,
          881,
          1354,
          1929,
          1925,
          2993,
          2724,
          2441,
          1652,
          2118,
          2964,
          3030,
          6776,
          8364,
          6431,
          5005,
          8251,
          8312,
          9642,
          13979,
          10976,
          10215,
          7058,
          8148,
          8625,
          7599,
          6402,
          4841,
          3915,
          1193,
          747,
          1396,
          2041,
          4245,
          3926,
          4417,
          1800,
          2929,
          4258,
          4206,
          4547,
          4954,
          5803,
          6336,
          11984,
          16631,
          16384,
          16919,
          16392,
          14947,
          10709,
          14096,
          16381,
          16155,
          14993,
          11908,
          8951,
          5764,
          5728,
          3152,
          2517,
          1899,
          1973,
          2073,
          1343,
          2932,
          4657,
          4882,
          5000,
          5322,
          4885,
          3939,
          5733,
          12403,
          16716,
          19424,
          19432,
          17602,
          11732,
          18006,
          20867,
          21357,
          22155,
          17095,
          15158,
          10019,
          9565,
          9210,
          8593,
          6654,
          2203,
          1251,
          798,
          1887,
          4455,
          5794,
          5792,
          5173,
          5289,
          4052,
          4551,
          5451,
          6984,
          7667,
          13612,
          17690,
          11725,
          18639,
          17082,
          20262,
          21928,
          21309,
          20726,
          15069,
          17871,
          19539,
          17197,
          13876,
          10181,
          9340,
          6762,
          4695,
          2335,
          1555,
          2237,
          4372,
          6249,
          4469,
          5641,
          6377,
          6894,
          8062,
          7799,
          8598,
          6695,
          14050,
          21192,
          23051,
          24867,
          23169,
          22296,
          16429,
          20130,
          15067,
          23379,
          20323,
          16893,
          12440,
          9308,
          8926,
          7662,
          5690,
          3268,
          889,
          439,
          973,
          2341,
          4627,
          5338,
          6885,
          7567,
          7786,
          6932,
          8299,
          11235,
          18217,
          23977,
          26211,
          24403,
          17067,
          19907,
          18168,
          14006,
          12688,
          15696,
          16584,
          13993,
          17483,
          19773,
          17149,
          16545,
          14385,
          8564,
          3314,
          1024,
          1015,
          3841,
          4069,
          6458,
          6454,
          4174,
          6474,
          7488,
          8606,
          9825,
          9843,
          17385,
          14594,
          21311,
          27580,
          28872,
          28331,
          25391,
          23316,
          17062,
          21964,
          23594,
          22100,
          20300,
          17048,
          14954,
          9893,
          11163,
          5170,
          1540,
          1289,
          3120,
          5010,
          3426,
          5909,
          6052,
          7124,
          8026,
          7534,
          8758,
          6100,
          15291,
          22734,
          25417,
          24401,
          26953,
          24836,
          16655,
          24011,
          27077,
          27934,
          26353,
          22072,
          20863,
          13367,
          12427,
          13929,
          12936,
          11402,
          8527,
          4824,
          791,
          2110,
          6491,
          9691,
          10467,
          10449,
          10382,
          7813,
          10306,
          10859,
          13309,
          21872,
          26325,
          23737,
          11974,
          14284,
          21445,
          27351,
          28950,
          27414,
          25522,
          17975,
          20582,
          25271,
          21599,
          21689,
          17813,
          14454,
          7434,
          10408,
          3919,
          1302,
          2760,
          9679,
          8998,
          6654,
          8144,
          9611,
          9991,
          9954,
          11975,
          12203,
          12013,
          22881,
          27636,
          27603,
          26714,
          29129,
          28365,
          12071,
          24006,
          32399,
          28719,
          26985,
          23457,
          20055,
          13217,
          11843,
          5083,
          206,
          2793,
          5726,
          6613,
          5420,
          6885,
          8745,
          10661,
          7692,
          14017,
          15285,
          21050,
          33322,
          29442,
          27574,
          33319,
          31912,
          28397,
          27548,
          23935,
          29543,
          27960,
          28337,
          24437,
          24242,
          17959,
          17734,
          17174,
          13240,
          9144,
          3526,
          706,
          1740,
          3344,
          4162,
          4814,
          4650,
          5735,
          5023,
          5184,
          6534,
          7785,
          18096,
          24573,
          26274,
          22332,
          16569,
          24120,
          27611,
          28778,
          28627,
          28869,
          27836,
          17618,
          24008,
          25721,
          23156,
          21582,
          16727,
          7411,
          1284,
          710,
          3712,
          5879,
          7887,
          7686,
          7162,
          5843,
          5969,
          7989,
          11412,
          12916,
          17958,
          23084,
          13879,
          27008,
          31037,
          31103,
          33831,
          33677,
          34026,
          29447,
          25745,
          25687,
          24118,
          21160,
          19544,
          18900,
          15801,
          12321,
          7573,
          2546,
          2171,
          8306,
          10620,
          5286,
          10754,
          9934,
          10487,
          11064,
          10305,
          13238,
          8659,
          21767,
          31298,
          34090,
          33836,
          32713,
          30218,
          20232,
          24126,
          33984,
          33705,
          35131,
          30146,
          26395,
          23288,
          23522,
          25559,
          22510,
          14649,
          4259,
          992,
          3727,
          6927,
          8809,
          11010,
          8245,
          11235,
          10448,
          8277,
          10980,
          13198,
          21685,
          29243,
          30026,
          31460,
          16686,
          37253,
          34807,
          28120,
          43340,
          33773,
          35356,
          17673,
          31838,
          28571,
          27377,
          25149,
          25880,
          20478,
          7236,
          3462,
          1607,
          10898,
          11864,
          9683,
          9372,
          6488,
          8227,
          9244,
          9261,
          8855,
          12539,
          4300,
          18688,
          36414,
          35203,
          22742,
          32198,
          35614,
          32186,
          19893,
          34198,
          31668,
          28036,
          27028,
          22930,
          21752,
          11675,
          15361,
          18436,
          14657,
          7334,
          1591,
          7435,
          7070,
          8344,
          8903,
          7935,
          8243,
          8039,
          8235,
          7486,
          12337,
          22597,
          24698,
          26515,
          28799,
          32948,
          16613,
          31937,
          30480,
          31858,
          32923,
          31539,
          29920,
          19573,
          25115,
          27803,
          26997,
          22346,
          17007,
          4076,
          898,
          8395,
          8501,
          7184,
          8353,
          8106,
          8430,
          6754,
          8824,
          10041,
          12560,
          26243,
          31719,
          31738,
          19703,
          30276,
          27595,
          22652,
          13860,
          11845,
          18717,
          14740,
          26766,
          30504,
          31334,
          28564,
          29134,
          23610,
          17447,
          13299,
          5133,
          1916,
          7665,
          6153,
          5285,
          4569,
          3466,
          3044,
          2245,
          3374,
          4811,
          7920,
          10556,
          19627,
          22386,
          23788,
          26869,
          25435,
          29369,
          19196,
          28964,
          29229,
          28858,
          27428,
          24909,
          24745,
          15535,
          24801,
          24264,
          17303,
          6192,
          1309,
          7885,
          4642,
          4863,
          5702,
          4461,
          5192,
          5580,
          6255,
          4736,
          7111,
          22447,
          27006,
          29512,
          29255,
          28818,
          16784,
          31959,
          30828,
          32024,
          33782,
          30829,
          29914,
          17015,
          22621,
          18225,
          20953,
          20222,
          15611,
          9341,
          2873,
          2159,
          4408,
          6594,
          6009,
          6723,
          6306,
          5596,
          6452,
          8424,
          8566,
          8994,
          23316,
          26872,
          17030,
          20761,
          15144,
          19468,
          25795,
          30316,
          31483,
          22180,
          31569,
          33126,
          30138,
          28514,
          25944,
          19469,
          17067,
          20619,
          17872,
          7627,
          2177,
          9130,
          8096,
          4482,
          5101,
          4987,
          5957,
          5825,
          6251,
          5710,
          4874,
          16196,
          17511,
          27089,
          30824,
          29520,
          31478,
          18868,
          28760,
          30809,
          30903,
          30438,
          26837,
          25349,
          17246,
          22012,
          22168,
          12670,
          2300,
          7079,
          6662,
          4388,
          5229,
          4933,
          5747,
          7105,
          8782,
          7835,
          7242,
          20922,
          31879,
          34588,
          38345,
          36212,
          34031,
          26901,
          31358,
          34886,
          28774,
          21543,
          26322,
          32255,
          30927,
          29637,
          33167,
          32126,
          30723,
          26324,
          11251,
          1357,
          4097,
          4811,
          4022,
          4086,
          3828,
          3038,
          3233,
          3647,
          4843,
          6612,
          16480,
          20638,
          24950,
          12093,
          22101,
          25680,
          27849,
          18712,
          25054,
          24209,
          17086,
          29305,
          23980,
          27052,
          26691,
          24811,
          22324,
          14656,
          7582,
          1235,
          3992,
          4997,
          4042,
          4043,
          2681,
          2790,
          2880,
          3727,
          4492,
          4919,
          16913,
          11892,
          26389,
          30635,
          30377,
          29675,
          29109,
          28690,
          13988,
          27489,
          29749,
          29467,
          26609,
          26262,
          21915,
          14304,
          21465,
          21506,
          16301,
          8619,
          1445,
          6302,
          3736,
          3878,
          3888,
          2663,
          2758,
          4055,
          4308,
          3834,
          5509,
          18954,
          25680,
          29767,
          30489,
          24513,
          13209,
          30689,
          32325,
          31360,
          30255,
          28593,
          25863,
          13126,
          23278,
          25387,
          25386,
          23167,
          18434,
          7251,
          865,
          6974,
          7107,
          5669,
          5951,
          4755,
          3944,
          3058,
          3760,
          4483,
          5445,
          16736,
          23284,
          26360,
          12351,
          26769,
          31277,
          31604,
          32547,
          29778,
          26123,
          12267,
          27292,
          29183
         ]
        }
       ],
       "layout": {
        "template": {
         "data": {
          "bar": [
           {
            "error_x": {
             "color": "#2a3f5f"
            },
            "error_y": {
             "color": "#2a3f5f"
            },
            "marker": {
             "line": {
              "color": "#E5ECF6",
              "width": 0.5
             }
            },
            "type": "bar"
           }
          ],
          "barpolar": [
           {
            "marker": {
             "line": {
              "color": "#E5ECF6",
              "width": 0.5
             }
            },
            "type": "barpolar"
           }
          ],
          "carpet": [
           {
            "aaxis": {
             "endlinecolor": "#2a3f5f",
             "gridcolor": "white",
             "linecolor": "white",
             "minorgridcolor": "white",
             "startlinecolor": "#2a3f5f"
            },
            "baxis": {
             "endlinecolor": "#2a3f5f",
             "gridcolor": "white",
             "linecolor": "white",
             "minorgridcolor": "white",
             "startlinecolor": "#2a3f5f"
            },
            "type": "carpet"
           }
          ],
          "choropleth": [
           {
            "colorbar": {
             "outlinewidth": 0,
             "ticks": ""
            },
            "type": "choropleth"
           }
          ],
          "contour": [
           {
            "colorbar": {
             "outlinewidth": 0,
             "ticks": ""
            },
            "colorscale": [
             [
              0,
              "#0d0887"
             ],
             [
              0.1111111111111111,
              "#46039f"
             ],
             [
              0.2222222222222222,
              "#7201a8"
             ],
             [
              0.3333333333333333,
              "#9c179e"
             ],
             [
              0.4444444444444444,
              "#bd3786"
             ],
             [
              0.5555555555555556,
              "#d8576b"
             ],
             [
              0.6666666666666666,
              "#ed7953"
             ],
             [
              0.7777777777777778,
              "#fb9f3a"
             ],
             [
              0.8888888888888888,
              "#fdca26"
             ],
             [
              1,
              "#f0f921"
             ]
            ],
            "type": "contour"
           }
          ],
          "contourcarpet": [
           {
            "colorbar": {
             "outlinewidth": 0,
             "ticks": ""
            },
            "type": "contourcarpet"
           }
          ],
          "heatmap": [
           {
            "colorbar": {
             "outlinewidth": 0,
             "ticks": ""
            },
            "colorscale": [
             [
              0,
              "#0d0887"
             ],
             [
              0.1111111111111111,
              "#46039f"
             ],
             [
              0.2222222222222222,
              "#7201a8"
             ],
             [
              0.3333333333333333,
              "#9c179e"
             ],
             [
              0.4444444444444444,
              "#bd3786"
             ],
             [
              0.5555555555555556,
              "#d8576b"
             ],
             [
              0.6666666666666666,
              "#ed7953"
             ],
             [
              0.7777777777777778,
              "#fb9f3a"
             ],
             [
              0.8888888888888888,
              "#fdca26"
             ],
             [
              1,
              "#f0f921"
             ]
            ],
            "type": "heatmap"
           }
          ],
          "heatmapgl": [
           {
            "colorbar": {
             "outlinewidth": 0,
             "ticks": ""
            },
            "colorscale": [
             [
              0,
              "#0d0887"
             ],
             [
              0.1111111111111111,
              "#46039f"
             ],
             [
              0.2222222222222222,
              "#7201a8"
             ],
             [
              0.3333333333333333,
              "#9c179e"
             ],
             [
              0.4444444444444444,
              "#bd3786"
             ],
             [
              0.5555555555555556,
              "#d8576b"
             ],
             [
              0.6666666666666666,
              "#ed7953"
             ],
             [
              0.7777777777777778,
              "#fb9f3a"
             ],
             [
              0.8888888888888888,
              "#fdca26"
             ],
             [
              1,
              "#f0f921"
             ]
            ],
            "type": "heatmapgl"
           }
          ],
          "histogram": [
           {
            "marker": {
             "colorbar": {
              "outlinewidth": 0,
              "ticks": ""
             }
            },
            "type": "histogram"
           }
          ],
          "histogram2d": [
           {
            "colorbar": {
             "outlinewidth": 0,
             "ticks": ""
            },
            "colorscale": [
             [
              0,
              "#0d0887"
             ],
             [
              0.1111111111111111,
              "#46039f"
             ],
             [
              0.2222222222222222,
              "#7201a8"
             ],
             [
              0.3333333333333333,
              "#9c179e"
             ],
             [
              0.4444444444444444,
              "#bd3786"
             ],
             [
              0.5555555555555556,
              "#d8576b"
             ],
             [
              0.6666666666666666,
              "#ed7953"
             ],
             [
              0.7777777777777778,
              "#fb9f3a"
             ],
             [
              0.8888888888888888,
              "#fdca26"
             ],
             [
              1,
              "#f0f921"
             ]
            ],
            "type": "histogram2d"
           }
          ],
          "histogram2dcontour": [
           {
            "colorbar": {
             "outlinewidth": 0,
             "ticks": ""
            },
            "colorscale": [
             [
              0,
              "#0d0887"
             ],
             [
              0.1111111111111111,
              "#46039f"
             ],
             [
              0.2222222222222222,
              "#7201a8"
             ],
             [
              0.3333333333333333,
              "#9c179e"
             ],
             [
              0.4444444444444444,
              "#bd3786"
             ],
             [
              0.5555555555555556,
              "#d8576b"
             ],
             [
              0.6666666666666666,
              "#ed7953"
             ],
             [
              0.7777777777777778,
              "#fb9f3a"
             ],
             [
              0.8888888888888888,
              "#fdca26"
             ],
             [
              1,
              "#f0f921"
             ]
            ],
            "type": "histogram2dcontour"
           }
          ],
          "mesh3d": [
           {
            "colorbar": {
             "outlinewidth": 0,
             "ticks": ""
            },
            "type": "mesh3d"
           }
          ],
          "parcoords": [
           {
            "line": {
             "colorbar": {
              "outlinewidth": 0,
              "ticks": ""
             }
            },
            "type": "parcoords"
           }
          ],
          "pie": [
           {
            "automargin": true,
            "type": "pie"
           }
          ],
          "scatter": [
           {
            "marker": {
             "colorbar": {
              "outlinewidth": 0,
              "ticks": ""
             }
            },
            "type": "scatter"
           }
          ],
          "scatter3d": [
           {
            "line": {
             "colorbar": {
              "outlinewidth": 0,
              "ticks": ""
             }
            },
            "marker": {
             "colorbar": {
              "outlinewidth": 0,
              "ticks": ""
             }
            },
            "type": "scatter3d"
           }
          ],
          "scattercarpet": [
           {
            "marker": {
             "colorbar": {
              "outlinewidth": 0,
              "ticks": ""
             }
            },
            "type": "scattercarpet"
           }
          ],
          "scattergeo": [
           {
            "marker": {
             "colorbar": {
              "outlinewidth": 0,
              "ticks": ""
             }
            },
            "type": "scattergeo"
           }
          ],
          "scattergl": [
           {
            "marker": {
             "colorbar": {
              "outlinewidth": 0,
              "ticks": ""
             }
            },
            "type": "scattergl"
           }
          ],
          "scattermapbox": [
           {
            "marker": {
             "colorbar": {
              "outlinewidth": 0,
              "ticks": ""
             }
            },
            "type": "scattermapbox"
           }
          ],
          "scatterpolar": [
           {
            "marker": {
             "colorbar": {
              "outlinewidth": 0,
              "ticks": ""
             }
            },
            "type": "scatterpolar"
           }
          ],
          "scatterpolargl": [
           {
            "marker": {
             "colorbar": {
              "outlinewidth": 0,
              "ticks": ""
             }
            },
            "type": "scatterpolargl"
           }
          ],
          "scatterternary": [
           {
            "marker": {
             "colorbar": {
              "outlinewidth": 0,
              "ticks": ""
             }
            },
            "type": "scatterternary"
           }
          ],
          "surface": [
           {
            "colorbar": {
             "outlinewidth": 0,
             "ticks": ""
            },
            "colorscale": [
             [
              0,
              "#0d0887"
             ],
             [
              0.1111111111111111,
              "#46039f"
             ],
             [
              0.2222222222222222,
              "#7201a8"
             ],
             [
              0.3333333333333333,
              "#9c179e"
             ],
             [
              0.4444444444444444,
              "#bd3786"
             ],
             [
              0.5555555555555556,
              "#d8576b"
             ],
             [
              0.6666666666666666,
              "#ed7953"
             ],
             [
              0.7777777777777778,
              "#fb9f3a"
             ],
             [
              0.8888888888888888,
              "#fdca26"
             ],
             [
              1,
              "#f0f921"
             ]
            ],
            "type": "surface"
           }
          ],
          "table": [
           {
            "cells": {
             "fill": {
              "color": "#EBF0F8"
             },
             "line": {
              "color": "white"
             }
            },
            "header": {
             "fill": {
              "color": "#C8D4E3"
             },
             "line": {
              "color": "white"
             }
            },
            "type": "table"
           }
          ]
         },
         "layout": {
          "annotationdefaults": {
           "arrowcolor": "#2a3f5f",
           "arrowhead": 0,
           "arrowwidth": 1
          },
          "coloraxis": {
           "colorbar": {
            "outlinewidth": 0,
            "ticks": ""
           }
          },
          "colorscale": {
           "diverging": [
            [
             0,
             "#8e0152"
            ],
            [
             0.1,
             "#c51b7d"
            ],
            [
             0.2,
             "#de77ae"
            ],
            [
             0.3,
             "#f1b6da"
            ],
            [
             0.4,
             "#fde0ef"
            ],
            [
             0.5,
             "#f7f7f7"
            ],
            [
             0.6,
             "#e6f5d0"
            ],
            [
             0.7,
             "#b8e186"
            ],
            [
             0.8,
             "#7fbc41"
            ],
            [
             0.9,
             "#4d9221"
            ],
            [
             1,
             "#276419"
            ]
           ],
           "sequential": [
            [
             0,
             "#0d0887"
            ],
            [
             0.1111111111111111,
             "#46039f"
            ],
            [
             0.2222222222222222,
             "#7201a8"
            ],
            [
             0.3333333333333333,
             "#9c179e"
            ],
            [
             0.4444444444444444,
             "#bd3786"
            ],
            [
             0.5555555555555556,
             "#d8576b"
            ],
            [
             0.6666666666666666,
             "#ed7953"
            ],
            [
             0.7777777777777778,
             "#fb9f3a"
            ],
            [
             0.8888888888888888,
             "#fdca26"
            ],
            [
             1,
             "#f0f921"
            ]
           ],
           "sequentialminus": [
            [
             0,
             "#0d0887"
            ],
            [
             0.1111111111111111,
             "#46039f"
            ],
            [
             0.2222222222222222,
             "#7201a8"
            ],
            [
             0.3333333333333333,
             "#9c179e"
            ],
            [
             0.4444444444444444,
             "#bd3786"
            ],
            [
             0.5555555555555556,
             "#d8576b"
            ],
            [
             0.6666666666666666,
             "#ed7953"
            ],
            [
             0.7777777777777778,
             "#fb9f3a"
            ],
            [
             0.8888888888888888,
             "#fdca26"
            ],
            [
             1,
             "#f0f921"
            ]
           ]
          },
          "colorway": [
           "#636efa",
           "#EF553B",
           "#00cc96",
           "#ab63fa",
           "#FFA15A",
           "#19d3f3",
           "#FF6692",
           "#B6E880",
           "#FF97FF",
           "#FECB52"
          ],
          "font": {
           "color": "#2a3f5f"
          },
          "geo": {
           "bgcolor": "white",
           "lakecolor": "white",
           "landcolor": "#E5ECF6",
           "showlakes": true,
           "showland": true,
           "subunitcolor": "white"
          },
          "hoverlabel": {
           "align": "left"
          },
          "hovermode": "closest",
          "mapbox": {
           "style": "light"
          },
          "paper_bgcolor": "white",
          "plot_bgcolor": "#E5ECF6",
          "polar": {
           "angularaxis": {
            "gridcolor": "white",
            "linecolor": "white",
            "ticks": ""
           },
           "bgcolor": "#E5ECF6",
           "radialaxis": {
            "gridcolor": "white",
            "linecolor": "white",
            "ticks": ""
           }
          },
          "scene": {
           "xaxis": {
            "backgroundcolor": "#E5ECF6",
            "gridcolor": "white",
            "gridwidth": 2,
            "linecolor": "white",
            "showbackground": true,
            "ticks": "",
            "zerolinecolor": "white"
           },
           "yaxis": {
            "backgroundcolor": "#E5ECF6",
            "gridcolor": "white",
            "gridwidth": 2,
            "linecolor": "white",
            "showbackground": true,
            "ticks": "",
            "zerolinecolor": "white"
           },
           "zaxis": {
            "backgroundcolor": "#E5ECF6",
            "gridcolor": "white",
            "gridwidth": 2,
            "linecolor": "white",
            "showbackground": true,
            "ticks": "",
            "zerolinecolor": "white"
           }
          },
          "shapedefaults": {
           "line": {
            "color": "#2a3f5f"
           }
          },
          "ternary": {
           "aaxis": {
            "gridcolor": "white",
            "linecolor": "white",
            "ticks": ""
           },
           "baxis": {
            "gridcolor": "white",
            "linecolor": "white",
            "ticks": ""
           },
           "bgcolor": "#E5ECF6",
           "caxis": {
            "gridcolor": "white",
            "linecolor": "white",
            "ticks": ""
           }
          },
          "title": {
           "x": 0.05
          },
          "xaxis": {
           "automargin": true,
           "gridcolor": "white",
           "linecolor": "white",
           "ticks": "",
           "title": {
            "standoff": 15
           },
           "zerolinecolor": "white",
           "zerolinewidth": 2
          },
          "yaxis": {
           "automargin": true,
           "gridcolor": "white",
           "linecolor": "white",
           "ticks": "",
           "title": {
            "standoff": 15
           },
           "zerolinecolor": "white",
           "zerolinewidth": 2
          }
         }
        },
        "title": {
         "text": "Daily Case_count"
        }
       }
      },
      "text/html": [
       "<div>\n",
       "        \n",
       "        \n",
       "            <div id=\"86838448-db08-4bce-a284-9fdef592149c\" class=\"plotly-graph-div\" style=\"height:525px; width:100%;\"></div>\n",
       "            <script type=\"text/javascript\">\n",
       "                require([\"plotly\"], function(Plotly) {\n",
       "                    window.PLOTLYENV=window.PLOTLYENV || {};\n",
       "                    \n",
       "                if (document.getElementById(\"86838448-db08-4bce-a284-9fdef592149c\")) {\n",
       "                    Plotly.newPlot(\n",
       "                        '86838448-db08-4bce-a284-9fdef592149c',\n",
       "                        [{\"type\": \"scatter\", \"x\": [\"2017-04-01T00:00:00\", \"2017-04-02T00:00:00\", \"2017-04-03T00:00:00\", \"2017-04-04T00:00:00\", \"2017-04-05T00:00:00\", \"2017-04-06T00:00:00\", \"2017-04-07T00:00:00\", \"2017-04-08T00:00:00\", \"2017-04-09T00:00:00\", \"2017-04-10T00:00:00\", \"2017-04-11T00:00:00\", \"2017-04-12T00:00:00\", \"2017-04-13T00:00:00\", \"2017-04-14T00:00:00\", \"2017-04-15T00:00:00\", \"2017-04-16T00:00:00\", \"2017-04-17T00:00:00\", \"2017-04-18T00:00:00\", \"2017-04-19T00:00:00\", \"2017-04-20T00:00:00\", \"2017-04-21T00:00:00\", \"2017-04-22T00:00:00\", \"2017-04-23T00:00:00\", \"2017-04-24T00:00:00\", \"2017-04-25T00:00:00\", \"2017-04-26T00:00:00\", \"2017-04-27T00:00:00\", \"2017-04-28T00:00:00\", \"2017-04-29T00:00:00\", \"2017-04-30T00:00:00\", \"2017-05-01T00:00:00\", \"2017-05-02T00:00:00\", \"2017-05-03T00:00:00\", \"2017-05-04T00:00:00\", \"2017-05-05T00:00:00\", \"2017-05-06T00:00:00\", \"2017-05-07T00:00:00\", \"2017-05-08T00:00:00\", \"2017-05-09T00:00:00\", \"2017-05-10T00:00:00\", \"2017-05-11T00:00:00\", \"2017-05-12T00:00:00\", \"2017-05-13T00:00:00\", \"2017-05-14T00:00:00\", \"2017-05-15T00:00:00\", \"2017-05-16T00:00:00\", \"2017-05-17T00:00:00\", \"2017-05-18T00:00:00\", \"2017-05-19T00:00:00\", \"2017-05-20T00:00:00\", \"2017-05-21T00:00:00\", \"2017-05-22T00:00:00\", \"2017-05-23T00:00:00\", \"2017-05-24T00:00:00\", \"2017-05-25T00:00:00\", \"2017-05-26T00:00:00\", \"2017-05-27T00:00:00\", \"2017-05-28T00:00:00\", \"2017-05-29T00:00:00\", \"2017-05-30T00:00:00\", \"2017-05-31T00:00:00\", \"2017-06-01T00:00:00\", \"2017-06-02T00:00:00\", \"2017-06-03T00:00:00\", \"2017-06-04T00:00:00\", \"2017-06-05T00:00:00\", \"2017-06-06T00:00:00\", \"2017-06-07T00:00:00\", \"2017-06-08T00:00:00\", \"2017-06-09T00:00:00\", \"2017-06-10T00:00:00\", \"2017-06-11T00:00:00\", \"2017-06-12T00:00:00\", \"2017-06-13T00:00:00\", \"2017-06-14T00:00:00\", \"2017-06-15T00:00:00\", \"2017-06-16T00:00:00\", \"2017-06-17T00:00:00\", \"2017-06-18T00:00:00\", \"2017-06-19T00:00:00\", \"2017-06-20T00:00:00\", \"2017-06-21T00:00:00\", \"2017-06-22T00:00:00\", \"2017-06-23T00:00:00\", \"2017-06-24T00:00:00\", \"2017-06-25T00:00:00\", \"2017-06-26T00:00:00\", \"2017-06-27T00:00:00\", \"2017-06-28T00:00:00\", \"2017-06-29T00:00:00\", \"2017-06-30T00:00:00\", \"2017-07-01T00:00:00\", \"2017-07-02T00:00:00\", \"2017-07-03T00:00:00\", \"2017-07-04T00:00:00\", \"2017-07-05T00:00:00\", \"2017-07-06T00:00:00\", \"2017-07-07T00:00:00\", \"2017-07-08T00:00:00\", \"2017-07-09T00:00:00\", \"2017-07-10T00:00:00\", \"2017-07-11T00:00:00\", \"2017-07-12T00:00:00\", \"2017-07-13T00:00:00\", \"2017-07-14T00:00:00\", \"2017-07-15T00:00:00\", \"2017-07-16T00:00:00\", \"2017-07-17T00:00:00\", \"2017-07-18T00:00:00\", \"2017-07-19T00:00:00\", \"2017-07-20T00:00:00\", \"2017-07-21T00:00:00\", \"2017-07-22T00:00:00\", \"2017-07-23T00:00:00\", \"2017-07-24T00:00:00\", \"2017-07-25T00:00:00\", \"2017-07-26T00:00:00\", \"2017-07-27T00:00:00\", \"2017-07-28T00:00:00\", \"2017-07-29T00:00:00\", \"2017-07-30T00:00:00\", \"2017-07-31T00:00:00\", \"2017-08-01T00:00:00\", \"2017-08-02T00:00:00\", \"2017-08-03T00:00:00\", \"2017-08-04T00:00:00\", \"2017-08-05T00:00:00\", \"2017-08-06T00:00:00\", \"2017-08-07T00:00:00\", \"2017-08-08T00:00:00\", \"2017-08-09T00:00:00\", \"2017-08-10T00:00:00\", \"2017-08-11T00:00:00\", \"2017-08-12T00:00:00\", \"2017-08-13T00:00:00\", \"2017-08-14T00:00:00\", \"2017-08-15T00:00:00\", \"2017-08-16T00:00:00\", \"2017-08-17T00:00:00\", \"2017-08-18T00:00:00\", \"2017-08-19T00:00:00\", \"2017-08-20T00:00:00\", \"2017-08-21T00:00:00\", \"2017-08-22T00:00:00\", \"2017-08-23T00:00:00\", \"2017-08-24T00:00:00\", \"2017-08-25T00:00:00\", \"2017-08-26T00:00:00\", \"2017-08-27T00:00:00\", \"2017-08-28T00:00:00\", \"2017-08-29T00:00:00\", \"2017-08-30T00:00:00\", \"2017-08-31T00:00:00\", \"2017-09-01T00:00:00\", \"2017-09-02T00:00:00\", \"2017-09-03T00:00:00\", \"2017-09-04T00:00:00\", \"2017-09-05T00:00:00\", \"2017-09-06T00:00:00\", \"2017-09-07T00:00:00\", \"2017-09-08T00:00:00\", \"2017-09-09T00:00:00\", \"2017-09-10T00:00:00\", \"2017-09-11T00:00:00\", \"2017-09-12T00:00:00\", \"2017-09-13T00:00:00\", \"2017-09-14T00:00:00\", \"2017-09-15T00:00:00\", \"2017-09-16T00:00:00\", \"2017-09-17T00:00:00\", \"2017-09-18T00:00:00\", \"2017-09-19T00:00:00\", \"2017-09-20T00:00:00\", \"2017-09-21T00:00:00\", \"2017-09-22T00:00:00\", \"2017-09-23T00:00:00\", \"2017-09-24T00:00:00\", \"2017-09-25T00:00:00\", \"2017-09-26T00:00:00\", \"2017-09-27T00:00:00\", \"2017-09-28T00:00:00\", \"2017-09-29T00:00:00\", \"2017-09-30T00:00:00\", \"2017-10-01T00:00:00\", \"2017-10-02T00:00:00\", \"2017-10-03T00:00:00\", \"2017-10-04T00:00:00\", \"2017-10-05T00:00:00\", \"2017-10-06T00:00:00\", \"2017-10-07T00:00:00\", \"2017-10-08T00:00:00\", \"2017-10-09T00:00:00\", \"2017-10-10T00:00:00\", \"2017-10-11T00:00:00\", \"2017-10-12T00:00:00\", \"2017-10-13T00:00:00\", \"2017-10-14T00:00:00\", \"2017-10-15T00:00:00\", \"2017-10-16T00:00:00\", \"2017-10-17T00:00:00\", \"2017-10-18T00:00:00\", \"2017-10-19T00:00:00\", \"2017-10-20T00:00:00\", \"2017-10-21T00:00:00\", \"2017-10-22T00:00:00\", \"2017-10-23T00:00:00\", \"2017-10-24T00:00:00\", \"2017-10-25T00:00:00\", \"2017-10-26T00:00:00\", \"2017-10-27T00:00:00\", \"2017-10-28T00:00:00\", \"2017-10-29T00:00:00\", \"2017-10-30T00:00:00\", \"2017-10-31T00:00:00\", \"2017-11-01T00:00:00\", \"2017-11-02T00:00:00\", \"2017-11-03T00:00:00\", \"2017-11-04T00:00:00\", \"2017-11-05T00:00:00\", \"2017-11-06T00:00:00\", \"2017-11-07T00:00:00\", \"2017-11-08T00:00:00\", \"2017-11-09T00:00:00\", \"2017-11-10T00:00:00\", \"2017-11-11T00:00:00\", \"2017-11-12T00:00:00\", \"2017-11-13T00:00:00\", \"2017-11-14T00:00:00\", \"2017-11-15T00:00:00\", \"2017-11-16T00:00:00\", \"2017-11-17T00:00:00\", \"2017-11-18T00:00:00\", \"2017-11-19T00:00:00\", \"2017-11-20T00:00:00\", \"2017-11-21T00:00:00\", \"2017-11-22T00:00:00\", \"2017-11-23T00:00:00\", \"2017-11-24T00:00:00\", \"2017-11-25T00:00:00\", \"2017-11-26T00:00:00\", \"2017-11-27T00:00:00\", \"2017-11-28T00:00:00\", \"2017-11-29T00:00:00\", \"2017-11-30T00:00:00\", \"2017-12-01T00:00:00\", \"2017-12-02T00:00:00\", \"2017-12-03T00:00:00\", \"2017-12-04T00:00:00\", \"2017-12-05T00:00:00\", \"2017-12-06T00:00:00\", \"2017-12-07T00:00:00\", \"2017-12-08T00:00:00\", \"2017-12-09T00:00:00\", \"2017-12-10T00:00:00\", \"2017-12-11T00:00:00\", \"2017-12-12T00:00:00\", \"2017-12-13T00:00:00\", \"2017-12-14T00:00:00\", \"2017-12-15T00:00:00\", \"2017-12-16T00:00:00\", \"2017-12-17T00:00:00\", \"2017-12-18T00:00:00\", \"2017-12-19T00:00:00\", \"2017-12-20T00:00:00\", \"2017-12-21T00:00:00\", \"2017-12-22T00:00:00\", \"2017-12-23T00:00:00\", \"2017-12-24T00:00:00\", \"2017-12-25T00:00:00\", \"2017-12-26T00:00:00\", \"2017-12-27T00:00:00\", \"2017-12-28T00:00:00\", \"2017-12-29T00:00:00\", \"2017-12-30T00:00:00\", \"2017-12-31T00:00:00\", \"2018-01-01T00:00:00\", \"2018-01-02T00:00:00\", \"2018-01-03T00:00:00\", \"2018-01-04T00:00:00\", \"2018-01-05T00:00:00\", \"2018-01-06T00:00:00\", \"2018-01-07T00:00:00\", \"2018-01-08T00:00:00\", \"2018-01-09T00:00:00\", \"2018-01-10T00:00:00\", \"2018-01-11T00:00:00\", \"2018-01-12T00:00:00\", \"2018-01-13T00:00:00\", \"2018-01-14T00:00:00\", \"2018-01-15T00:00:00\", \"2018-01-16T00:00:00\", \"2018-01-17T00:00:00\", \"2018-01-18T00:00:00\", \"2018-01-19T00:00:00\", \"2018-01-20T00:00:00\", \"2018-01-21T00:00:00\", \"2018-01-22T00:00:00\", \"2018-01-23T00:00:00\", \"2018-01-24T00:00:00\", \"2018-01-25T00:00:00\", \"2018-01-26T00:00:00\", \"2018-01-27T00:00:00\", \"2018-01-28T00:00:00\", \"2018-01-29T00:00:00\", \"2018-01-30T00:00:00\", \"2018-01-31T00:00:00\", \"2018-02-01T00:00:00\", \"2018-02-02T00:00:00\", \"2018-02-03T00:00:00\", \"2018-02-04T00:00:00\", \"2018-02-05T00:00:00\", \"2018-02-06T00:00:00\", \"2018-02-07T00:00:00\", \"2018-02-08T00:00:00\", \"2018-02-09T00:00:00\", \"2018-02-10T00:00:00\", \"2018-02-11T00:00:00\", \"2018-02-12T00:00:00\", \"2018-02-13T00:00:00\", \"2018-02-14T00:00:00\", \"2018-02-15T00:00:00\", \"2018-02-16T00:00:00\", \"2018-02-17T00:00:00\", \"2018-02-18T00:00:00\", \"2018-02-19T00:00:00\", \"2018-02-20T00:00:00\", \"2018-02-21T00:00:00\", \"2018-02-22T00:00:00\", \"2018-02-23T00:00:00\", \"2018-02-24T00:00:00\", \"2018-02-25T00:00:00\", \"2018-02-26T00:00:00\", \"2018-02-27T00:00:00\", \"2018-02-28T00:00:00\", \"2018-03-01T00:00:00\", \"2018-03-02T00:00:00\", \"2018-03-03T00:00:00\", \"2018-03-04T00:00:00\", \"2018-03-05T00:00:00\", \"2018-03-06T00:00:00\", \"2018-03-07T00:00:00\", \"2018-03-08T00:00:00\", \"2018-03-09T00:00:00\", \"2018-03-10T00:00:00\", \"2018-03-11T00:00:00\", \"2018-03-12T00:00:00\", \"2018-03-13T00:00:00\", \"2018-03-14T00:00:00\", \"2018-03-15T00:00:00\", \"2018-03-16T00:00:00\", \"2018-03-17T00:00:00\", \"2018-03-18T00:00:00\", \"2018-03-19T00:00:00\", \"2018-03-20T00:00:00\", \"2018-03-21T00:00:00\", \"2018-03-22T00:00:00\", \"2018-03-23T00:00:00\", \"2018-03-24T00:00:00\", \"2018-03-25T00:00:00\", \"2018-03-26T00:00:00\", \"2018-03-27T00:00:00\", \"2018-03-28T00:00:00\", \"2018-03-29T00:00:00\", \"2018-03-30T00:00:00\", \"2018-03-31T00:00:00\", \"2018-04-01T00:00:00\", \"2018-04-02T00:00:00\", \"2018-04-03T00:00:00\", \"2018-04-04T00:00:00\", \"2018-04-05T00:00:00\", \"2018-04-06T00:00:00\", \"2018-04-07T00:00:00\", \"2018-04-08T00:00:00\", \"2018-04-09T00:00:00\", \"2018-04-10T00:00:00\", \"2018-04-11T00:00:00\", \"2018-04-12T00:00:00\", \"2018-04-13T00:00:00\", \"2018-04-14T00:00:00\", \"2018-04-15T00:00:00\", \"2018-04-16T00:00:00\", \"2018-04-17T00:00:00\", \"2018-04-18T00:00:00\", \"2018-04-19T00:00:00\", \"2018-04-20T00:00:00\", \"2018-04-21T00:00:00\", \"2018-04-22T00:00:00\", \"2018-04-23T00:00:00\", \"2018-04-24T00:00:00\", \"2018-04-25T00:00:00\", \"2018-04-26T00:00:00\", \"2018-04-27T00:00:00\", \"2018-04-28T00:00:00\", \"2018-04-29T00:00:00\", \"2018-04-30T00:00:00\", \"2018-05-01T00:00:00\", \"2018-05-02T00:00:00\", \"2018-05-03T00:00:00\", \"2018-05-04T00:00:00\", \"2018-05-05T00:00:00\", \"2018-05-06T00:00:00\", \"2018-05-07T00:00:00\", \"2018-05-08T00:00:00\", \"2018-05-09T00:00:00\", \"2018-05-10T00:00:00\", \"2018-05-11T00:00:00\", \"2018-05-12T00:00:00\", \"2018-05-13T00:00:00\", \"2018-05-14T00:00:00\", \"2018-05-15T00:00:00\", \"2018-05-16T00:00:00\", \"2018-05-17T00:00:00\", \"2018-05-18T00:00:00\", \"2018-05-19T00:00:00\", \"2018-05-20T00:00:00\", \"2018-05-21T00:00:00\", \"2018-05-22T00:00:00\", \"2018-05-23T00:00:00\", \"2018-05-24T00:00:00\", \"2018-05-25T00:00:00\", \"2018-05-26T00:00:00\", \"2018-05-27T00:00:00\", \"2018-05-28T00:00:00\", \"2018-05-29T00:00:00\", \"2018-05-30T00:00:00\", \"2018-05-31T00:00:00\", \"2018-06-01T00:00:00\", \"2018-06-02T00:00:00\", \"2018-06-03T00:00:00\", \"2018-06-04T00:00:00\", \"2018-06-05T00:00:00\", \"2018-06-06T00:00:00\", \"2018-06-07T00:00:00\", \"2018-06-08T00:00:00\", \"2018-06-09T00:00:00\", \"2018-06-10T00:00:00\", \"2018-06-11T00:00:00\", \"2018-06-12T00:00:00\", \"2018-06-13T00:00:00\", \"2018-06-14T00:00:00\", \"2018-06-15T00:00:00\", \"2018-06-16T00:00:00\", \"2018-06-17T00:00:00\", \"2018-06-18T00:00:00\", \"2018-06-19T00:00:00\", \"2018-06-20T00:00:00\", \"2018-06-21T00:00:00\", \"2018-06-22T00:00:00\", \"2018-06-23T00:00:00\", \"2018-06-24T00:00:00\", \"2018-06-25T00:00:00\", \"2018-06-26T00:00:00\", \"2018-06-27T00:00:00\", \"2018-06-28T00:00:00\", \"2018-06-29T00:00:00\", \"2018-06-30T00:00:00\", \"2018-07-01T00:00:00\", \"2018-07-02T00:00:00\", \"2018-07-03T00:00:00\", \"2018-07-04T00:00:00\", \"2018-07-05T00:00:00\", \"2018-07-06T00:00:00\", \"2018-07-07T00:00:00\", \"2018-07-08T00:00:00\", \"2018-07-09T00:00:00\", \"2018-07-10T00:00:00\", \"2018-07-11T00:00:00\", \"2018-07-12T00:00:00\", \"2018-07-13T00:00:00\", \"2018-07-14T00:00:00\", \"2018-07-15T00:00:00\", \"2018-07-16T00:00:00\", \"2018-07-17T00:00:00\", \"2018-07-18T00:00:00\", \"2018-07-19T00:00:00\", \"2018-07-20T00:00:00\", \"2018-07-21T00:00:00\", \"2018-07-22T00:00:00\", \"2018-07-23T00:00:00\", \"2018-07-24T00:00:00\", \"2018-07-25T00:00:00\", \"2018-07-26T00:00:00\", \"2018-07-27T00:00:00\", \"2018-07-28T00:00:00\", \"2018-07-29T00:00:00\", \"2018-07-30T00:00:00\", \"2018-07-31T00:00:00\", \"2018-08-01T00:00:00\", \"2018-08-02T00:00:00\", \"2018-08-03T00:00:00\", \"2018-08-04T00:00:00\", \"2018-08-05T00:00:00\", \"2018-08-06T00:00:00\", \"2018-08-07T00:00:00\", \"2018-08-08T00:00:00\", \"2018-08-09T00:00:00\", \"2018-08-10T00:00:00\", \"2018-08-11T00:00:00\", \"2018-08-12T00:00:00\", \"2018-08-13T00:00:00\", \"2018-08-14T00:00:00\", \"2018-08-15T00:00:00\", \"2018-08-16T00:00:00\", \"2018-08-17T00:00:00\", \"2018-08-18T00:00:00\", \"2018-08-19T00:00:00\", \"2018-08-20T00:00:00\", \"2018-08-21T00:00:00\", \"2018-08-22T00:00:00\", \"2018-08-23T00:00:00\", \"2018-08-24T00:00:00\", \"2018-08-25T00:00:00\", \"2018-08-26T00:00:00\", \"2018-08-27T00:00:00\", \"2018-08-28T00:00:00\", \"2018-08-29T00:00:00\", \"2018-08-30T00:00:00\", \"2018-08-31T00:00:00\", \"2018-09-01T00:00:00\", \"2018-09-02T00:00:00\", \"2018-09-03T00:00:00\", \"2018-09-04T00:00:00\", \"2018-09-05T00:00:00\", \"2018-09-06T00:00:00\", \"2018-09-07T00:00:00\", \"2018-09-08T00:00:00\", \"2018-09-09T00:00:00\", \"2018-09-10T00:00:00\", \"2018-09-11T00:00:00\", \"2018-09-12T00:00:00\", \"2018-09-13T00:00:00\", \"2018-09-14T00:00:00\", \"2018-09-15T00:00:00\", \"2018-09-16T00:00:00\", \"2018-09-17T00:00:00\", \"2018-09-18T00:00:00\", \"2018-09-19T00:00:00\", \"2018-09-20T00:00:00\", \"2018-09-21T00:00:00\", \"2018-09-22T00:00:00\", \"2018-09-23T00:00:00\", \"2018-09-24T00:00:00\", \"2018-09-25T00:00:00\", \"2018-09-26T00:00:00\", \"2018-09-27T00:00:00\", \"2018-09-28T00:00:00\", \"2018-09-29T00:00:00\", \"2018-09-30T00:00:00\", \"2018-10-01T00:00:00\", \"2018-10-02T00:00:00\", \"2018-10-03T00:00:00\", \"2018-10-04T00:00:00\", \"2018-10-05T00:00:00\", \"2018-10-06T00:00:00\", \"2018-10-07T00:00:00\", \"2018-10-08T00:00:00\", \"2018-10-09T00:00:00\", \"2018-10-10T00:00:00\", \"2018-10-11T00:00:00\", \"2018-10-12T00:00:00\", \"2018-10-13T00:00:00\", \"2018-10-14T00:00:00\", \"2018-10-15T00:00:00\", \"2018-10-16T00:00:00\", \"2018-10-17T00:00:00\", \"2018-10-18T00:00:00\", \"2018-10-19T00:00:00\", \"2018-10-20T00:00:00\", \"2018-10-21T00:00:00\", \"2018-10-22T00:00:00\", \"2018-10-23T00:00:00\", \"2018-10-24T00:00:00\", \"2018-10-25T00:00:00\", \"2018-10-26T00:00:00\", \"2018-10-27T00:00:00\", \"2018-10-28T00:00:00\", \"2018-10-29T00:00:00\", \"2018-10-30T00:00:00\", \"2018-10-31T00:00:00\", \"2018-11-01T00:00:00\", \"2018-11-02T00:00:00\", \"2018-11-03T00:00:00\", \"2018-11-04T00:00:00\", \"2018-11-05T00:00:00\", \"2018-11-06T00:00:00\", \"2018-11-07T00:00:00\", \"2018-11-08T00:00:00\", \"2018-11-09T00:00:00\", \"2018-11-10T00:00:00\", \"2018-11-11T00:00:00\", \"2018-11-12T00:00:00\", \"2018-11-13T00:00:00\", \"2018-11-14T00:00:00\", \"2018-11-15T00:00:00\", \"2018-11-16T00:00:00\", \"2018-11-17T00:00:00\", \"2018-11-18T00:00:00\", \"2018-11-19T00:00:00\", \"2018-11-20T00:00:00\", \"2018-11-21T00:00:00\", \"2018-11-22T00:00:00\", \"2018-11-23T00:00:00\", \"2018-11-24T00:00:00\", \"2018-11-25T00:00:00\", \"2018-11-26T00:00:00\", \"2018-11-27T00:00:00\", \"2018-11-28T00:00:00\", \"2018-11-29T00:00:00\", \"2018-11-30T00:00:00\", \"2018-12-01T00:00:00\", \"2018-12-02T00:00:00\", \"2018-12-03T00:00:00\", \"2018-12-04T00:00:00\", \"2018-12-05T00:00:00\", \"2018-12-06T00:00:00\", \"2018-12-07T00:00:00\", \"2018-12-08T00:00:00\", \"2018-12-09T00:00:00\", \"2018-12-10T00:00:00\", \"2018-12-11T00:00:00\", \"2018-12-12T00:00:00\", \"2018-12-13T00:00:00\", \"2018-12-14T00:00:00\", \"2018-12-15T00:00:00\", \"2018-12-16T00:00:00\", \"2018-12-17T00:00:00\", \"2018-12-18T00:00:00\", \"2018-12-19T00:00:00\", \"2018-12-20T00:00:00\", \"2018-12-21T00:00:00\", \"2018-12-22T00:00:00\", \"2018-12-23T00:00:00\", \"2018-12-24T00:00:00\", \"2018-12-25T00:00:00\", \"2018-12-26T00:00:00\", \"2018-12-27T00:00:00\", \"2018-12-28T00:00:00\", \"2018-12-29T00:00:00\", \"2018-12-30T00:00:00\", \"2018-12-31T00:00:00\", \"2019-01-01T00:00:00\", \"2019-01-02T00:00:00\", \"2019-01-03T00:00:00\", \"2019-01-04T00:00:00\", \"2019-01-05T00:00:00\", \"2019-01-06T00:00:00\", \"2019-01-07T00:00:00\", \"2019-01-08T00:00:00\", \"2019-01-09T00:00:00\", \"2019-01-10T00:00:00\", \"2019-01-11T00:00:00\", \"2019-01-12T00:00:00\", \"2019-01-13T00:00:00\", \"2019-01-14T00:00:00\", \"2019-01-15T00:00:00\", \"2019-01-16T00:00:00\", \"2019-01-17T00:00:00\", \"2019-01-18T00:00:00\", \"2019-01-19T00:00:00\", \"2019-01-20T00:00:00\", \"2019-01-21T00:00:00\", \"2019-01-22T00:00:00\", \"2019-01-23T00:00:00\", \"2019-01-24T00:00:00\", \"2019-01-25T00:00:00\", \"2019-01-26T00:00:00\", \"2019-01-27T00:00:00\", \"2019-01-28T00:00:00\", \"2019-01-29T00:00:00\", \"2019-01-30T00:00:00\", \"2019-01-31T00:00:00\", \"2019-02-01T00:00:00\", \"2019-02-02T00:00:00\", \"2019-02-03T00:00:00\", \"2019-02-04T00:00:00\", \"2019-02-05T00:00:00\", \"2019-02-06T00:00:00\", \"2019-02-07T00:00:00\", \"2019-02-08T00:00:00\", \"2019-02-09T00:00:00\", \"2019-02-10T00:00:00\", \"2019-02-11T00:00:00\", \"2019-02-12T00:00:00\", \"2019-02-13T00:00:00\", \"2019-02-14T00:00:00\", \"2019-02-15T00:00:00\", \"2019-02-16T00:00:00\", \"2019-02-17T00:00:00\", \"2019-02-18T00:00:00\", \"2019-02-19T00:00:00\", \"2019-02-20T00:00:00\", \"2019-02-21T00:00:00\", \"2019-02-22T00:00:00\", \"2019-02-23T00:00:00\", \"2019-02-24T00:00:00\", \"2019-02-25T00:00:00\", \"2019-02-26T00:00:00\", \"2019-02-27T00:00:00\", \"2019-02-28T00:00:00\", \"2019-03-01T00:00:00\", \"2019-03-02T00:00:00\", \"2019-03-03T00:00:00\", \"2019-03-04T00:00:00\", \"2019-03-05T00:00:00\", \"2019-03-06T00:00:00\", \"2019-03-07T00:00:00\", \"2019-03-08T00:00:00\", \"2019-03-09T00:00:00\", \"2019-03-10T00:00:00\", \"2019-03-11T00:00:00\", \"2019-03-12T00:00:00\", \"2019-03-13T00:00:00\", \"2019-03-14T00:00:00\", \"2019-03-15T00:00:00\", \"2019-03-16T00:00:00\", \"2019-03-17T00:00:00\", \"2019-03-18T00:00:00\", \"2019-03-19T00:00:00\", \"2019-03-20T00:00:00\", \"2019-03-21T00:00:00\", \"2019-03-22T00:00:00\", \"2019-03-23T00:00:00\", \"2019-03-24T00:00:00\", \"2019-03-25T00:00:00\", \"2019-03-26T00:00:00\", \"2019-03-27T00:00:00\", \"2019-03-28T00:00:00\", \"2019-03-29T00:00:00\", \"2019-03-30T00:00:00\", \"2019-03-31T00:00:00\", \"2019-04-01T00:00:00\", \"2019-04-02T00:00:00\", \"2019-04-03T00:00:00\", \"2019-04-04T00:00:00\", \"2019-04-05T00:00:00\", \"2019-04-06T00:00:00\", \"2019-04-07T00:00:00\", \"2019-04-08T00:00:00\", \"2019-04-09T00:00:00\", \"2019-04-10T00:00:00\", \"2019-04-11T00:00:00\", \"2019-04-12T00:00:00\", \"2019-04-13T00:00:00\", \"2019-04-14T00:00:00\", \"2019-04-15T00:00:00\", \"2019-04-16T00:00:00\", \"2019-04-17T00:00:00\", \"2019-04-18T00:00:00\", \"2019-04-19T00:00:00\", \"2019-04-20T00:00:00\", \"2019-04-21T00:00:00\", \"2019-04-22T00:00:00\", \"2019-04-23T00:00:00\", \"2019-04-24T00:00:00\", \"2019-04-25T00:00:00\", \"2019-04-26T00:00:00\", \"2019-04-27T00:00:00\", \"2019-04-28T00:00:00\", \"2019-04-29T00:00:00\", \"2019-04-30T00:00:00\", \"2019-05-01T00:00:00\", \"2019-05-02T00:00:00\", \"2019-05-03T00:00:00\", \"2019-05-04T00:00:00\", \"2019-05-05T00:00:00\", \"2019-05-06T00:00:00\", \"2019-05-07T00:00:00\", \"2019-05-08T00:00:00\", \"2019-05-09T00:00:00\", \"2019-05-10T00:00:00\", \"2019-05-11T00:00:00\", \"2019-05-12T00:00:00\", \"2019-05-13T00:00:00\", \"2019-05-14T00:00:00\", \"2019-05-15T00:00:00\", \"2019-05-16T00:00:00\", \"2019-05-17T00:00:00\", \"2019-05-18T00:00:00\", \"2019-05-19T00:00:00\", \"2019-05-20T00:00:00\", \"2019-05-21T00:00:00\", \"2019-05-22T00:00:00\", \"2019-05-23T00:00:00\", \"2019-05-24T00:00:00\", \"2019-05-25T00:00:00\", \"2019-05-26T00:00:00\", \"2019-05-27T00:00:00\", \"2019-05-28T00:00:00\", \"2019-05-29T00:00:00\", \"2019-05-30T00:00:00\", \"2019-05-31T00:00:00\", \"2019-06-01T00:00:00\", \"2019-06-02T00:00:00\", \"2019-06-03T00:00:00\", \"2019-06-04T00:00:00\", \"2019-06-05T00:00:00\", \"2019-06-06T00:00:00\", \"2019-06-07T00:00:00\", \"2019-06-08T00:00:00\", \"2019-06-09T00:00:00\", \"2019-06-10T00:00:00\", \"2019-06-11T00:00:00\", \"2019-06-12T00:00:00\", \"2019-06-13T00:00:00\", \"2019-06-14T00:00:00\", \"2019-06-15T00:00:00\", \"2019-06-16T00:00:00\", \"2019-06-17T00:00:00\", \"2019-06-18T00:00:00\", \"2019-06-19T00:00:00\", \"2019-06-20T00:00:00\", \"2019-06-21T00:00:00\", \"2019-06-22T00:00:00\", \"2019-06-23T00:00:00\", \"2019-06-24T00:00:00\", \"2019-06-25T00:00:00\", \"2019-06-26T00:00:00\", \"2019-06-27T00:00:00\", \"2019-06-28T00:00:00\", \"2019-06-29T00:00:00\", \"2019-06-30T00:00:00\", \"2019-07-01T00:00:00\", \"2019-07-02T00:00:00\", \"2019-07-03T00:00:00\", \"2019-07-04T00:00:00\", \"2019-07-05T00:00:00\", \"2019-07-06T00:00:00\", \"2019-07-07T00:00:00\", \"2019-07-08T00:00:00\", \"2019-07-09T00:00:00\", \"2019-07-10T00:00:00\", \"2019-07-11T00:00:00\", \"2019-07-12T00:00:00\", \"2019-07-13T00:00:00\", \"2019-07-14T00:00:00\", \"2019-07-15T00:00:00\", \"2019-07-16T00:00:00\", \"2019-07-17T00:00:00\", \"2019-07-18T00:00:00\", \"2019-07-19T00:00:00\", \"2019-07-20T00:00:00\", \"2019-07-21T00:00:00\", \"2019-07-22T00:00:00\", \"2019-07-23T00:00:00\"], \"y\": [897.0, 605.0, 2016.0, 2245.0, 2415.0, 2379.0, 2249.0, 2297.0, 1435.0, 3166.0, 5649.0, 8781.0, 10351.0, 8289.0, 8799.0, 6745.0, 9597.0, 11351.0, 12310.0, 12384.0, 10857.0, 8881.0, 6172.0, 5931.0, 4422.0, 2384.0, 1102.0, 810.0, 854.0, 881.0, 1354.0, 1929.0, 1925.0, 2993.0, 2724.0, 2441.0, 1652.0, 2118.0, 2964.0, 3030.0, 6776.0, 8364.0, 6431.0, 5005.0, 8251.0, 8312.0, 9642.0, 13979.0, 10976.0, 10215.0, 7058.0, 8148.0, 8625.0, 7599.0, 6402.0, 4841.0, 3915.0, 1193.0, 747.0, 1396.0, 2041.0, 4245.0, 3926.0, 4417.0, 1800.0, 2929.0, 4258.0, 4206.0, 4547.0, 4954.0, 5803.0, 6336.0, 11984.0, 16631.0, 16384.0, 16919.0, 16392.0, 14947.0, 10709.0, 14096.0, 16381.0, 16155.0, 14993.0, 11908.0, 8951.0, 5764.0, 5728.0, 3152.0, 2517.0, 1899.0, 1973.0, 2073.0, 1343.0, 2932.0, 4657.0, 4882.0, 5000.0, 5322.0, 4885.0, 3939.0, 5733.0, 12403.0, 16716.0, 19424.0, 19432.0, 17602.0, 11732.0, 18006.0, 20867.0, 21357.0, 22155.0, 17095.0, 15158.0, 10019.0, 9565.0, 9210.0, 8593.0, 6654.0, 2203.0, 1251.0, 798.0, 1887.0, 4455.0, 5794.0, 5792.0, 5173.0, 5289.0, 4052.0, 4551.0, 5451.0, 6984.0, 7667.0, 13612.0, 17690.0, 11725.0, 18639.0, 17082.0, 20262.0, 21928.0, 21309.0, 20726.0, 15069.0, 17871.0, 19539.0, 17197.0, 13876.0, 10181.0, 9340.0, 6762.0, 4695.0, 2335.0, 1555.0, 2237.0, 4372.0, 6249.0, 4469.0, 5641.0, 6377.0, 6894.0, 8062.0, 7799.0, 8598.0, 6695.0, 14050.0, 21192.0, 23051.0, 24867.0, 23169.0, 22296.0, 16429.0, 20130.0, 15067.0, 23379.0, 20323.0, 16893.0, 12440.0, 9308.0, 8926.0, 7662.0, 5690.0, 3268.0, 889.0, 439.0, 973.0, 2341.0, 4627.0, 5338.0, 6885.0, 7567.0, 7786.0, 6932.0, 8299.0, 11235.0, 18217.0, 23977.0, 26211.0, 24403.0, 17067.0, 19907.0, 18168.0, 14006.0, 12688.0, 15696.0, 16584.0, 13993.0, 17483.0, 19773.0, 17149.0, 16545.0, 14385.0, 8564.0, 3314.0, 1024.0, 1015.0, 3841.0, 4069.0, 6458.0, 6454.0, 4174.0, 6474.0, 7488.0, 8606.0, 9825.0, 9843.0, 17385.0, 14594.0, 21311.0, 27580.0, 28872.0, 28331.0, 25391.0, 23316.0, 17062.0, 21964.0, 23594.0, 22100.0, 20300.0, 17048.0, 14954.0, 9893.0, 11163.0, 5170.0, 1540.0, 1289.0, 3120.0, 5010.0, 3426.0, 5909.0, 6052.0, 7124.0, 8026.0, 7534.0, 8758.0, 6100.0, 15291.0, 22734.0, 25417.0, 24401.0, 26953.0, 24836.0, 16655.0, 24011.0, 27077.0, 27934.0, 26353.0, 22072.0, 20863.0, 13367.0, 12427.0, 13929.0, 12936.0, 11402.0, 8527.0, 4824.0, 791.0, 2110.0, 6491.0, 9691.0, 10467.0, 10449.0, 10382.0, 7813.0, 10306.0, 10859.0, 13309.0, 21872.0, 26325.0, 23737.0, 11974.0, 14284.0, 21445.0, 27351.0, 28950.0, 27414.0, 25522.0, 17975.0, 20582.0, 25271.0, 21599.0, 21689.0, 17813.0, 14454.0, 7434.0, 10408.0, 3919.0, 1302.0, 2760.0, 9679.0, 8998.0, 6654.0, 8144.0, 9611.0, 9991.0, 9954.0, 11975.0, 12203.0, 12013.0, 22881.0, 27636.0, 27603.0, 26714.0, 29129.0, 28365.0, 12071.0, 24006.0, 32399.0, 28719.0, 26985.0, 23457.0, 20055.0, 13217.0, 11843.0, 5083.0, 206.0, 2793.0, 5726.0, 6613.0, 5420.0, 6885.0, 8745.0, 10661.0, 7692.0, 14017.0, 15285.0, 21050.0, 33322.0, 29442.0, 27574.0, 33319.0, 31912.0, 28397.0, 27548.0, 23935.0, 29543.0, 27960.0, 28337.0, 24437.0, 24242.0, 17959.0, 17734.0, 17174.0, 13240.0, 9144.0, 3526.0, 706.0, 1740.0, 3344.0, 4162.0, 4814.0, 4650.0, 5735.0, 5023.0, 5184.0, 6534.0, 7785.0, 18096.0, 24573.0, 26274.0, 22332.0, 16569.0, 24120.0, 27611.0, 28778.0, 28627.0, 28869.0, 27836.0, 17618.0, 24008.0, 25721.0, 23156.0, 21582.0, 16727.0, 7411.0, 1284.0, 710.0, 3712.0, 5879.0, 7887.0, 7686.0, 7162.0, 5843.0, 5969.0, 7989.0, 11412.0, 12916.0, 17958.0, 23084.0, 13879.0, 27008.0, 31037.0, 31103.0, 33831.0, 33677.0, 34026.0, 29447.0, 25745.0, 25687.0, 24118.0, 21160.0, 19544.0, 18900.0, 15801.0, 12321.0, 7573.0, 2546.0, 2171.0, 8306.0, 10620.0, 5286.0, 10754.0, 9934.0, 10487.0, 11064.0, 10305.0, 13238.0, 8659.0, 21767.0, 31298.0, 34090.0, 33836.0, 32713.0, 30218.0, 20232.0, 24126.0, 33984.0, 33705.0, 35131.0, 30146.0, 26395.0, 23288.0, 23522.0, 25559.0, 22510.0, 14649.0, 4259.0, 992.0, 3727.0, 6927.0, 8809.0, 11010.0, 8245.0, 11235.0, 10448.0, 8277.0, 10980.0, 13198.0, 21685.0, 29243.0, 30026.0, 31460.0, 16686.0, 37253.0, 34807.0, 28120.0, 43340.0, 33773.0, 35356.0, 17673.0, 31838.0, 28571.0, 27377.0, 25149.0, 25880.0, 20478.0, 7236.0, 3462.0, 1607.0, 10898.0, 11864.0, 9683.0, 9372.0, 6488.0, 8227.0, 9244.0, 9261.0, 8855.0, 12539.0, 4300.0, 18688.0, 36414.0, 35203.0, 22742.0, 32198.0, 35614.0, 32186.0, 19893.0, 34198.0, 31668.0, 28036.0, 27028.0, 22930.0, 21752.0, 11675.0, 15361.0, 18436.0, 14657.0, 7334.0, 1591.0, 7435.0, 7070.0, 8344.0, 8903.0, 7935.0, 8243.0, 8039.0, 8235.0, 7486.0, 12337.0, 22597.0, 24698.0, 26515.0, 28799.0, 32948.0, 16613.0, 31937.0, 30480.0, 31858.0, 32923.0, 31539.0, 29920.0, 19573.0, 25115.0, 27803.0, 26997.0, 22346.0, 17007.0, 4076.0, 898.0, 8395.0, 8501.0, 7184.0, 8353.0, 8106.0, 8430.0, 6754.0, 8824.0, 10041.0, 12560.0, 26243.0, 31719.0, 31738.0, 19703.0, 30276.0, 27595.0, 22652.0, 13860.0, 11845.0, 18717.0, 14740.0, 26766.0, 30504.0, 31334.0, 28564.0, 29134.0, 23610.0, 17447.0, 13299.0, 5133.0, 1916.0, 7665.0, 6153.0, 5285.0, 4569.0, 3466.0, 3044.0, 2245.0, 3374.0, 4811.0, 7920.0, 10556.0, 19627.0, 22386.0, 23788.0, 26869.0, 25435.0, 29369.0, 19196.0, 28964.0, 29229.0, 28858.0, 27428.0, 24909.0, 24745.0, 15535.0, 24801.0, 24264.0, 17303.0, 6192.0, 1309.0, 7885.0, 4642.0, 4863.0, 5702.0, 4461.0, 5192.0, 5580.0, 6255.0, 4736.0, 7111.0, 22447.0, 27006.0, 29512.0, 29255.0, 28818.0, 16784.0, 31959.0, 30828.0, 32024.0, 33782.0, 30829.0, 29914.0, 17015.0, 22621.0, 18225.0, 20953.0, 20222.0, 15611.0, 9341.0, 2873.0, 2159.0, 4408.0, 6594.0, 6009.0, 6723.0, 6306.0, 5596.0, 6452.0, 8424.0, 8566.0, 8994.0, 23316.0, 26872.0, 17030.0, 20761.0, 15144.0, 19468.0, 25795.0, 30316.0, 31483.0, 22180.0, 31569.0, 33126.0, 30138.0, 28514.0, 25944.0, 19469.0, 17067.0, 20619.0, 17872.0, 7627.0, 2177.0, 9130.0, 8096.0, 4482.0, 5101.0, 4987.0, 5957.0, 5825.0, 6251.0, 5710.0, 4874.0, 16196.0, 17511.0, 27089.0, 30824.0, 29520.0, 31478.0, 18868.0, 28760.0, 30809.0, 30903.0, 30438.0, 26837.0, 25349.0, 17246.0, 22012.0, 22168.0, 12670.0, 2300.0, 7079.0, 6662.0, 4388.0, 5229.0, 4933.0, 5747.0, 7105.0, 8782.0, 7835.0, 7242.0, 20922.0, 31879.0, 34588.0, 38345.0, 36212.0, 34031.0, 26901.0, 31358.0, 34886.0, 28774.0, 21543.0, 26322.0, 32255.0, 30927.0, 29637.0, 33167.0, 32126.0, 30723.0, 26324.0, 11251.0, 1357.0, 4097.0, 4811.0, 4022.0, 4086.0, 3828.0, 3038.0, 3233.0, 3647.0, 4843.0, 6612.0, 16480.0, 20638.0, 24950.0, 12093.0, 22101.0, 25680.0, 27849.0, 18712.0, 25054.0, 24209.0, 17086.0, 29305.0, 23980.0, 27052.0, 26691.0, 24811.0, 22324.0, 14656.0, 7582.0, 1235.0, 3992.0, 4997.0, 4042.0, 4043.0, 2681.0, 2790.0, 2880.0, 3727.0, 4492.0, 4919.0, 16913.0, 11892.0, 26389.0, 30635.0, 30377.0, 29675.0, 29109.0, 28690.0, 13988.0, 27489.0, 29749.0, 29467.0, 26609.0, 26262.0, 21915.0, 14304.0, 21465.0, 21506.0, 16301.0, 8619.0, 1445.0, 6302.0, 3736.0, 3878.0, 3888.0, 2663.0, 2758.0, 4055.0, 4308.0, 3834.0, 5509.0, 18954.0, 25680.0, 29767.0, 30489.0, 24513.0, 13209.0, 30689.0, 32325.0, 31360.0, 30255.0, 28593.0, 25863.0, 13126.0, 23278.0, 25387.0, 25386.0, 23167.0, 18434.0, 7251.0, 865.0, 6974.0, 7107.0, 5669.0, 5951.0, 4755.0, 3944.0, 3058.0, 3760.0, 4483.0, 5445.0, 16736.0, 23284.0, 26360.0, 12351.0, 26769.0, 31277.0, 31604.0, 32547.0, 29778.0, 26123.0, 12267.0, 27292.0, 29183.0]}],\n",
       "                        {\"template\": {\"data\": {\"bar\": [{\"error_x\": {\"color\": \"#2a3f5f\"}, \"error_y\": {\"color\": \"#2a3f5f\"}, \"marker\": {\"line\": {\"color\": \"#E5ECF6\", \"width\": 0.5}}, \"type\": \"bar\"}], \"barpolar\": [{\"marker\": {\"line\": {\"color\": \"#E5ECF6\", \"width\": 0.5}}, \"type\": \"barpolar\"}], \"carpet\": [{\"aaxis\": {\"endlinecolor\": \"#2a3f5f\", \"gridcolor\": \"white\", \"linecolor\": \"white\", \"minorgridcolor\": \"white\", \"startlinecolor\": \"#2a3f5f\"}, \"baxis\": {\"endlinecolor\": \"#2a3f5f\", \"gridcolor\": \"white\", \"linecolor\": \"white\", \"minorgridcolor\": \"white\", \"startlinecolor\": \"#2a3f5f\"}, \"type\": \"carpet\"}], \"choropleth\": [{\"colorbar\": {\"outlinewidth\": 0, \"ticks\": \"\"}, \"type\": \"choropleth\"}], \"contour\": [{\"colorbar\": {\"outlinewidth\": 0, \"ticks\": \"\"}, \"colorscale\": [[0.0, \"#0d0887\"], [0.1111111111111111, \"#46039f\"], [0.2222222222222222, \"#7201a8\"], [0.3333333333333333, \"#9c179e\"], [0.4444444444444444, \"#bd3786\"], [0.5555555555555556, \"#d8576b\"], [0.6666666666666666, \"#ed7953\"], [0.7777777777777778, \"#fb9f3a\"], [0.8888888888888888, \"#fdca26\"], [1.0, \"#f0f921\"]], \"type\": \"contour\"}], \"contourcarpet\": [{\"colorbar\": {\"outlinewidth\": 0, \"ticks\": \"\"}, \"type\": \"contourcarpet\"}], \"heatmap\": [{\"colorbar\": {\"outlinewidth\": 0, \"ticks\": \"\"}, \"colorscale\": [[0.0, \"#0d0887\"], [0.1111111111111111, \"#46039f\"], [0.2222222222222222, \"#7201a8\"], [0.3333333333333333, \"#9c179e\"], [0.4444444444444444, \"#bd3786\"], [0.5555555555555556, \"#d8576b\"], [0.6666666666666666, \"#ed7953\"], [0.7777777777777778, \"#fb9f3a\"], [0.8888888888888888, \"#fdca26\"], [1.0, \"#f0f921\"]], \"type\": \"heatmap\"}], \"heatmapgl\": [{\"colorbar\": {\"outlinewidth\": 0, \"ticks\": \"\"}, \"colorscale\": [[0.0, \"#0d0887\"], [0.1111111111111111, \"#46039f\"], [0.2222222222222222, \"#7201a8\"], [0.3333333333333333, \"#9c179e\"], [0.4444444444444444, \"#bd3786\"], [0.5555555555555556, \"#d8576b\"], [0.6666666666666666, \"#ed7953\"], [0.7777777777777778, \"#fb9f3a\"], [0.8888888888888888, \"#fdca26\"], [1.0, \"#f0f921\"]], \"type\": \"heatmapgl\"}], \"histogram\": [{\"marker\": {\"colorbar\": {\"outlinewidth\": 0, \"ticks\": \"\"}}, \"type\": \"histogram\"}], \"histogram2d\": [{\"colorbar\": {\"outlinewidth\": 0, \"ticks\": \"\"}, \"colorscale\": [[0.0, \"#0d0887\"], [0.1111111111111111, \"#46039f\"], [0.2222222222222222, \"#7201a8\"], [0.3333333333333333, \"#9c179e\"], [0.4444444444444444, \"#bd3786\"], [0.5555555555555556, \"#d8576b\"], [0.6666666666666666, \"#ed7953\"], [0.7777777777777778, \"#fb9f3a\"], [0.8888888888888888, \"#fdca26\"], [1.0, \"#f0f921\"]], \"type\": \"histogram2d\"}], \"histogram2dcontour\": [{\"colorbar\": {\"outlinewidth\": 0, \"ticks\": \"\"}, \"colorscale\": [[0.0, \"#0d0887\"], [0.1111111111111111, \"#46039f\"], [0.2222222222222222, \"#7201a8\"], [0.3333333333333333, \"#9c179e\"], [0.4444444444444444, \"#bd3786\"], [0.5555555555555556, \"#d8576b\"], [0.6666666666666666, \"#ed7953\"], [0.7777777777777778, \"#fb9f3a\"], [0.8888888888888888, \"#fdca26\"], [1.0, \"#f0f921\"]], \"type\": \"histogram2dcontour\"}], \"mesh3d\": [{\"colorbar\": {\"outlinewidth\": 0, \"ticks\": \"\"}, \"type\": \"mesh3d\"}], \"parcoords\": [{\"line\": {\"colorbar\": {\"outlinewidth\": 0, \"ticks\": \"\"}}, \"type\": \"parcoords\"}], \"pie\": [{\"automargin\": true, \"type\": \"pie\"}], \"scatter\": [{\"marker\": {\"colorbar\": {\"outlinewidth\": 0, \"ticks\": \"\"}}, \"type\": \"scatter\"}], \"scatter3d\": [{\"line\": {\"colorbar\": {\"outlinewidth\": 0, \"ticks\": \"\"}}, \"marker\": {\"colorbar\": {\"outlinewidth\": 0, \"ticks\": \"\"}}, \"type\": \"scatter3d\"}], \"scattercarpet\": [{\"marker\": {\"colorbar\": {\"outlinewidth\": 0, \"ticks\": \"\"}}, \"type\": \"scattercarpet\"}], \"scattergeo\": [{\"marker\": {\"colorbar\": {\"outlinewidth\": 0, \"ticks\": \"\"}}, \"type\": \"scattergeo\"}], \"scattergl\": [{\"marker\": {\"colorbar\": {\"outlinewidth\": 0, \"ticks\": \"\"}}, \"type\": \"scattergl\"}], \"scattermapbox\": [{\"marker\": {\"colorbar\": {\"outlinewidth\": 0, \"ticks\": \"\"}}, \"type\": \"scattermapbox\"}], \"scatterpolar\": [{\"marker\": {\"colorbar\": {\"outlinewidth\": 0, \"ticks\": \"\"}}, \"type\": \"scatterpolar\"}], \"scatterpolargl\": [{\"marker\": {\"colorbar\": {\"outlinewidth\": 0, \"ticks\": \"\"}}, \"type\": \"scatterpolargl\"}], \"scatterternary\": [{\"marker\": {\"colorbar\": {\"outlinewidth\": 0, \"ticks\": \"\"}}, \"type\": \"scatterternary\"}], \"surface\": [{\"colorbar\": {\"outlinewidth\": 0, \"ticks\": \"\"}, \"colorscale\": [[0.0, \"#0d0887\"], [0.1111111111111111, \"#46039f\"], [0.2222222222222222, \"#7201a8\"], [0.3333333333333333, \"#9c179e\"], [0.4444444444444444, \"#bd3786\"], [0.5555555555555556, \"#d8576b\"], [0.6666666666666666, \"#ed7953\"], [0.7777777777777778, \"#fb9f3a\"], [0.8888888888888888, \"#fdca26\"], [1.0, \"#f0f921\"]], \"type\": \"surface\"}], \"table\": [{\"cells\": {\"fill\": {\"color\": \"#EBF0F8\"}, \"line\": {\"color\": \"white\"}}, \"header\": {\"fill\": {\"color\": \"#C8D4E3\"}, \"line\": {\"color\": \"white\"}}, \"type\": \"table\"}]}, \"layout\": {\"annotationdefaults\": {\"arrowcolor\": \"#2a3f5f\", \"arrowhead\": 0, \"arrowwidth\": 1}, \"coloraxis\": {\"colorbar\": {\"outlinewidth\": 0, \"ticks\": \"\"}}, \"colorscale\": {\"diverging\": [[0, \"#8e0152\"], [0.1, \"#c51b7d\"], [0.2, \"#de77ae\"], [0.3, \"#f1b6da\"], [0.4, \"#fde0ef\"], [0.5, \"#f7f7f7\"], [0.6, \"#e6f5d0\"], [0.7, \"#b8e186\"], [0.8, \"#7fbc41\"], [0.9, \"#4d9221\"], [1, \"#276419\"]], \"sequential\": [[0.0, \"#0d0887\"], [0.1111111111111111, \"#46039f\"], [0.2222222222222222, \"#7201a8\"], [0.3333333333333333, \"#9c179e\"], [0.4444444444444444, \"#bd3786\"], [0.5555555555555556, \"#d8576b\"], [0.6666666666666666, \"#ed7953\"], [0.7777777777777778, \"#fb9f3a\"], [0.8888888888888888, \"#fdca26\"], [1.0, \"#f0f921\"]], \"sequentialminus\": [[0.0, \"#0d0887\"], [0.1111111111111111, \"#46039f\"], [0.2222222222222222, \"#7201a8\"], [0.3333333333333333, \"#9c179e\"], [0.4444444444444444, \"#bd3786\"], [0.5555555555555556, \"#d8576b\"], [0.6666666666666666, \"#ed7953\"], [0.7777777777777778, \"#fb9f3a\"], [0.8888888888888888, \"#fdca26\"], [1.0, \"#f0f921\"]]}, \"colorway\": [\"#636efa\", \"#EF553B\", \"#00cc96\", \"#ab63fa\", \"#FFA15A\", \"#19d3f3\", \"#FF6692\", \"#B6E880\", \"#FF97FF\", \"#FECB52\"], \"font\": {\"color\": \"#2a3f5f\"}, \"geo\": {\"bgcolor\": \"white\", \"lakecolor\": \"white\", \"landcolor\": \"#E5ECF6\", \"showlakes\": true, \"showland\": true, \"subunitcolor\": \"white\"}, \"hoverlabel\": {\"align\": \"left\"}, \"hovermode\": \"closest\", \"mapbox\": {\"style\": \"light\"}, \"paper_bgcolor\": \"white\", \"plot_bgcolor\": \"#E5ECF6\", \"polar\": {\"angularaxis\": {\"gridcolor\": \"white\", \"linecolor\": \"white\", \"ticks\": \"\"}, \"bgcolor\": \"#E5ECF6\", \"radialaxis\": {\"gridcolor\": \"white\", \"linecolor\": \"white\", \"ticks\": \"\"}}, \"scene\": {\"xaxis\": {\"backgroundcolor\": \"#E5ECF6\", \"gridcolor\": \"white\", \"gridwidth\": 2, \"linecolor\": \"white\", \"showbackground\": true, \"ticks\": \"\", \"zerolinecolor\": \"white\"}, \"yaxis\": {\"backgroundcolor\": \"#E5ECF6\", \"gridcolor\": \"white\", \"gridwidth\": 2, \"linecolor\": \"white\", \"showbackground\": true, \"ticks\": \"\", \"zerolinecolor\": \"white\"}, \"zaxis\": {\"backgroundcolor\": \"#E5ECF6\", \"gridcolor\": \"white\", \"gridwidth\": 2, \"linecolor\": \"white\", \"showbackground\": true, \"ticks\": \"\", \"zerolinecolor\": \"white\"}}, \"shapedefaults\": {\"line\": {\"color\": \"#2a3f5f\"}}, \"ternary\": {\"aaxis\": {\"gridcolor\": \"white\", \"linecolor\": \"white\", \"ticks\": \"\"}, \"baxis\": {\"gridcolor\": \"white\", \"linecolor\": \"white\", \"ticks\": \"\"}, \"bgcolor\": \"#E5ECF6\", \"caxis\": {\"gridcolor\": \"white\", \"linecolor\": \"white\", \"ticks\": \"\"}}, \"title\": {\"x\": 0.05}, \"xaxis\": {\"automargin\": true, \"gridcolor\": \"white\", \"linecolor\": \"white\", \"ticks\": \"\", \"title\": {\"standoff\": 15}, \"zerolinecolor\": \"white\", \"zerolinewidth\": 2}, \"yaxis\": {\"automargin\": true, \"gridcolor\": \"white\", \"linecolor\": \"white\", \"ticks\": \"\", \"title\": {\"standoff\": 15}, \"zerolinecolor\": \"white\", \"zerolinewidth\": 2}}}, \"title\": {\"text\": \"Daily Case_count\"}},\n",
       "                        {\"responsive\": true}\n",
       "                    ).then(function(){\n",
       "                            \n",
       "var gd = document.getElementById('86838448-db08-4bce-a284-9fdef592149c');\n",
       "var x = new MutationObserver(function (mutations, observer) {{\n",
       "        var display = window.getComputedStyle(gd).display;\n",
       "        if (!display || display === 'none') {{\n",
       "            console.log([gd, 'removed!']);\n",
       "            Plotly.purge(gd);\n",
       "            observer.disconnect();\n",
       "        }}\n",
       "}});\n",
       "\n",
       "// Listen for the removal of the full notebook cells\n",
       "var notebookContainer = gd.closest('#notebook-container');\n",
       "if (notebookContainer) {{\n",
       "    x.observe(notebookContainer, {childList: true});\n",
       "}}\n",
       "\n",
       "// Listen for the clearing of the current output cell\n",
       "var outputEl = gd.closest('.output');\n",
       "if (outputEl) {{\n",
       "    x.observe(outputEl, {childList: true});\n",
       "}}\n",
       "\n",
       "                        })\n",
       "                };\n",
       "                });\n",
       "            </script>\n",
       "        </div>"
      ]
     },
     "metadata": {
      "tags": []
     },
     "output_type": "display_data"
    }
   ],
   "source": [
    "# plot daily case_count\n",
    "plot_data = [\n",
    "    go.Scatter(\n",
    "        x = segment2['application_date'],\n",
    "        y = segment2['case_count']\n",
    "    )\n",
    "]\n",
    "\n",
    "plot_layout = go.Layout(title = 'Daily Case_count')\n",
    "fig = go.Figure(data = plot_data, layout = plot_layout)\n",
    "pyoff.iplot(fig)"
   ]
  },
  {
   "cell_type": "markdown",
   "metadata": {
    "colab_type": "text",
    "id": "8DGorx_NaZoz"
   },
   "source": [
    "# Checking Stationarity for segment2\n",
    "\n",
    "H0 : Time Series is Non - Stationary\n",
    "\n",
    "H1 : Time Sereies is Statinary\n",
    "\n",
    "Note : if ADF Statistic < Critical Value (Reject the Null Hypothesis)\n",
    "\n",
    "Note : if ADF Statistic > Critical Value (Failed to Reject the Null Hypothesis)"
   ]
  },
  {
   "cell_type": "code",
   "execution_count": 89,
   "metadata": {
    "colab": {
     "base_uri": "https://localhost:8080/",
     "height": 136
    },
    "colab_type": "code",
    "executionInfo": {
     "elapsed": 976,
     "status": "ok",
     "timestamp": 1580051617122,
     "user": {
      "displayName": "Tarun Koundinya",
      "photoUrl": "https://lh3.googleusercontent.com/a-/AAuE7mCuJFCbjNNUC21JfUrOEkSyuTMp8VnRZcH3JXTsOg=s64",
      "userId": "06377727563339288111"
     },
     "user_tz": -330
    },
    "id": "Xrfips0XaYXY",
    "outputId": "771f09c4-79f2-46f1-ad11-7d2c17b21091"
   },
   "outputs": [
    {
     "name": "stdout",
     "output_type": "stream",
     "text": [
      "ADF Statistic: -4.359219\n",
      "p-value: 0.000350\n",
      "Critical Values:\n",
      "\t1%: -3.438\n",
      "\t5%: -2.865\n",
      "\t10%: -2.569\n",
      "Reject Ho - Time Series is Stationary\n"
     ]
    }
   ],
   "source": [
    "\n",
    "import statsmodels.api as sm\n",
    "from statsmodels.tsa.stattools import adfuller\n",
    "\n",
    "stationarity_segment2 = segment2[\"case_count\"].values\n",
    "result = adfuller(stationarity_segment2)\n",
    "print('ADF Statistic: %f' % result[0])\n",
    "print('p-value: %f' % result[1])\n",
    "print('Critical Values:')\n",
    "for key, value in result[4].items():\n",
    "    print('\\t%s: %.3f' % (key, value))\n",
    "\n",
    "if result[0] < result[4][\"5%\"]:\n",
    "    print (\"Reject Ho - Time Series is Stationary\")\n",
    "else:\n",
    "    print (\"Failed to Reject Ho - Time Series is Non-Stationary\")"
   ]
  },
  {
   "cell_type": "code",
   "execution_count": 90,
   "metadata": {
    "colab": {
     "base_uri": "https://localhost:8080/",
     "height": 204
    },
    "colab_type": "code",
    "executionInfo": {
     "elapsed": 939,
     "status": "ok",
     "timestamp": 1580051619268,
     "user": {
      "displayName": "Tarun Koundinya",
      "photoUrl": "https://lh3.googleusercontent.com/a-/AAuE7mCuJFCbjNNUC21JfUrOEkSyuTMp8VnRZcH3JXTsOg=s64",
      "userId": "06377727563339288111"
     },
     "user_tz": -330
    },
    "id": "fs059pMdULSR",
    "outputId": "8e14abab-b774-45d9-d86c-8a9816c2339f"
   },
   "outputs": [
    {
     "data": {
      "text/html": [
       "<div>\n",
       "<style scoped>\n",
       "    .dataframe tbody tr th:only-of-type {\n",
       "        vertical-align: middle;\n",
       "    }\n",
       "\n",
       "    .dataframe tbody tr th {\n",
       "        vertical-align: top;\n",
       "    }\n",
       "\n",
       "    .dataframe thead th {\n",
       "        text-align: right;\n",
       "    }\n",
       "</style>\n",
       "<table border=\"1\" class=\"dataframe\">\n",
       "  <thead>\n",
       "    <tr style=\"text-align: right;\">\n",
       "      <th></th>\n",
       "      <th>application_date</th>\n",
       "      <th>case_count</th>\n",
       "    </tr>\n",
       "  </thead>\n",
       "  <tbody>\n",
       "    <tr>\n",
       "      <th>0</th>\n",
       "      <td>2017-04-01</td>\n",
       "      <td>897.0</td>\n",
       "    </tr>\n",
       "    <tr>\n",
       "      <th>1</th>\n",
       "      <td>2017-04-02</td>\n",
       "      <td>605.0</td>\n",
       "    </tr>\n",
       "    <tr>\n",
       "      <th>2</th>\n",
       "      <td>2017-04-03</td>\n",
       "      <td>2016.0</td>\n",
       "    </tr>\n",
       "    <tr>\n",
       "      <th>3</th>\n",
       "      <td>2017-04-04</td>\n",
       "      <td>2245.0</td>\n",
       "    </tr>\n",
       "    <tr>\n",
       "      <th>4</th>\n",
       "      <td>2017-04-05</td>\n",
       "      <td>2415.0</td>\n",
       "    </tr>\n",
       "  </tbody>\n",
       "</table>\n",
       "</div>"
      ],
      "text/plain": [
       "  application_date  case_count\n",
       "0       2017-04-01       897.0\n",
       "1       2017-04-02       605.0\n",
       "2       2017-04-03      2016.0\n",
       "3       2017-04-04      2245.0\n",
       "4       2017-04-05      2415.0"
      ]
     },
     "execution_count": 90,
     "metadata": {
      "tags": []
     },
     "output_type": "execute_result"
    }
   ],
   "source": [
    "segment2_train = segment2.copy()\n",
    "segment2_train.head()"
   ]
  },
  {
   "cell_type": "code",
   "execution_count": 91,
   "metadata": {
    "colab": {
     "base_uri": "https://localhost:8080/",
     "height": 1000
    },
    "colab_type": "code",
    "executionInfo": {
     "elapsed": 920,
     "status": "ok",
     "timestamp": 1580051621420,
     "user": {
      "displayName": "Tarun Koundinya",
      "photoUrl": "https://lh3.googleusercontent.com/a-/AAuE7mCuJFCbjNNUC21JfUrOEkSyuTMp8VnRZcH3JXTsOg=s64",
      "userId": "06377727563339288111"
     },
     "user_tz": -330
    },
    "id": "aPVcOgxTULSW",
    "outputId": "68f14597-456c-474f-9fde-085b4db94f4d"
   },
   "outputs": [
    {
     "data": {
      "text/plain": [
       "array([[  897.],\n",
       "       [  605.],\n",
       "       [ 2016.],\n",
       "       [ 2245.],\n",
       "       [ 2415.],\n",
       "       [ 2379.],\n",
       "       [ 2249.],\n",
       "       [ 2297.],\n",
       "       [ 1435.],\n",
       "       [ 3166.],\n",
       "       [ 5649.],\n",
       "       [ 8781.],\n",
       "       [10351.],\n",
       "       [ 8289.],\n",
       "       [ 8799.],\n",
       "       [ 6745.],\n",
       "       [ 9597.],\n",
       "       [11351.],\n",
       "       [12310.],\n",
       "       [12384.],\n",
       "       [10857.],\n",
       "       [ 8881.],\n",
       "       [ 6172.],\n",
       "       [ 5931.],\n",
       "       [ 4422.],\n",
       "       [ 2384.],\n",
       "       [ 1102.],\n",
       "       [  810.],\n",
       "       [  854.],\n",
       "       [  881.],\n",
       "       [ 1354.],\n",
       "       [ 1929.],\n",
       "       [ 1925.],\n",
       "       [ 2993.],\n",
       "       [ 2724.],\n",
       "       [ 2441.],\n",
       "       [ 1652.],\n",
       "       [ 2118.],\n",
       "       [ 2964.],\n",
       "       [ 3030.],\n",
       "       [ 6776.],\n",
       "       [ 8364.],\n",
       "       [ 6431.],\n",
       "       [ 5005.],\n",
       "       [ 8251.],\n",
       "       [ 8312.],\n",
       "       [ 9642.],\n",
       "       [13979.],\n",
       "       [10976.],\n",
       "       [10215.],\n",
       "       [ 7058.],\n",
       "       [ 8148.],\n",
       "       [ 8625.],\n",
       "       [ 7599.],\n",
       "       [ 6402.],\n",
       "       [ 4841.],\n",
       "       [ 3915.],\n",
       "       [ 1193.],\n",
       "       [  747.],\n",
       "       [ 1396.],\n",
       "       [ 2041.],\n",
       "       [ 4245.],\n",
       "       [ 3926.],\n",
       "       [ 4417.],\n",
       "       [ 1800.],\n",
       "       [ 2929.],\n",
       "       [ 4258.],\n",
       "       [ 4206.],\n",
       "       [ 4547.],\n",
       "       [ 4954.],\n",
       "       [ 5803.],\n",
       "       [ 6336.],\n",
       "       [11984.],\n",
       "       [16631.],\n",
       "       [16384.],\n",
       "       [16919.],\n",
       "       [16392.],\n",
       "       [14947.],\n",
       "       [10709.],\n",
       "       [14096.],\n",
       "       [16381.],\n",
       "       [16155.],\n",
       "       [14993.],\n",
       "       [11908.],\n",
       "       [ 8951.],\n",
       "       [ 5764.],\n",
       "       [ 5728.],\n",
       "       [ 3152.],\n",
       "       [ 2517.],\n",
       "       [ 1899.],\n",
       "       [ 1973.],\n",
       "       [ 2073.],\n",
       "       [ 1343.],\n",
       "       [ 2932.],\n",
       "       [ 4657.],\n",
       "       [ 4882.],\n",
       "       [ 5000.],\n",
       "       [ 5322.],\n",
       "       [ 4885.],\n",
       "       [ 3939.],\n",
       "       [ 5733.],\n",
       "       [12403.],\n",
       "       [16716.],\n",
       "       [19424.],\n",
       "       [19432.],\n",
       "       [17602.],\n",
       "       [11732.],\n",
       "       [18006.],\n",
       "       [20867.],\n",
       "       [21357.],\n",
       "       [22155.],\n",
       "       [17095.],\n",
       "       [15158.],\n",
       "       [10019.],\n",
       "       [ 9565.],\n",
       "       [ 9210.],\n",
       "       [ 8593.],\n",
       "       [ 6654.],\n",
       "       [ 2203.],\n",
       "       [ 1251.],\n",
       "       [  798.],\n",
       "       [ 1887.],\n",
       "       [ 4455.],\n",
       "       [ 5794.],\n",
       "       [ 5792.],\n",
       "       [ 5173.],\n",
       "       [ 5289.],\n",
       "       [ 4052.],\n",
       "       [ 4551.],\n",
       "       [ 5451.],\n",
       "       [ 6984.],\n",
       "       [ 7667.],\n",
       "       [13612.],\n",
       "       [17690.],\n",
       "       [11725.],\n",
       "       [18639.],\n",
       "       [17082.],\n",
       "       [20262.],\n",
       "       [21928.],\n",
       "       [21309.],\n",
       "       [20726.],\n",
       "       [15069.],\n",
       "       [17871.],\n",
       "       [19539.],\n",
       "       [17197.],\n",
       "       [13876.],\n",
       "       [10181.],\n",
       "       [ 9340.],\n",
       "       [ 6762.],\n",
       "       [ 4695.],\n",
       "       [ 2335.],\n",
       "       [ 1555.],\n",
       "       [ 2237.],\n",
       "       [ 4372.],\n",
       "       [ 6249.],\n",
       "       [ 4469.],\n",
       "       [ 5641.],\n",
       "       [ 6377.],\n",
       "       [ 6894.],\n",
       "       [ 8062.],\n",
       "       [ 7799.],\n",
       "       [ 8598.],\n",
       "       [ 6695.],\n",
       "       [14050.],\n",
       "       [21192.],\n",
       "       [23051.],\n",
       "       [24867.],\n",
       "       [23169.],\n",
       "       [22296.],\n",
       "       [16429.],\n",
       "       [20130.],\n",
       "       [15067.],\n",
       "       [23379.],\n",
       "       [20323.],\n",
       "       [16893.],\n",
       "       [12440.],\n",
       "       [ 9308.],\n",
       "       [ 8926.],\n",
       "       [ 7662.],\n",
       "       [ 5690.],\n",
       "       [ 3268.],\n",
       "       [  889.],\n",
       "       [  439.],\n",
       "       [  973.],\n",
       "       [ 2341.],\n",
       "       [ 4627.],\n",
       "       [ 5338.],\n",
       "       [ 6885.],\n",
       "       [ 7567.],\n",
       "       [ 7786.],\n",
       "       [ 6932.],\n",
       "       [ 8299.],\n",
       "       [11235.],\n",
       "       [18217.],\n",
       "       [23977.],\n",
       "       [26211.],\n",
       "       [24403.],\n",
       "       [17067.],\n",
       "       [19907.],\n",
       "       [18168.],\n",
       "       [14006.],\n",
       "       [12688.],\n",
       "       [15696.],\n",
       "       [16584.],\n",
       "       [13993.],\n",
       "       [17483.],\n",
       "       [19773.],\n",
       "       [17149.],\n",
       "       [16545.],\n",
       "       [14385.],\n",
       "       [ 8564.],\n",
       "       [ 3314.],\n",
       "       [ 1024.],\n",
       "       [ 1015.],\n",
       "       [ 3841.],\n",
       "       [ 4069.],\n",
       "       [ 6458.],\n",
       "       [ 6454.],\n",
       "       [ 4174.],\n",
       "       [ 6474.],\n",
       "       [ 7488.],\n",
       "       [ 8606.],\n",
       "       [ 9825.],\n",
       "       [ 9843.],\n",
       "       [17385.],\n",
       "       [14594.],\n",
       "       [21311.],\n",
       "       [27580.],\n",
       "       [28872.],\n",
       "       [28331.],\n",
       "       [25391.],\n",
       "       [23316.],\n",
       "       [17062.],\n",
       "       [21964.],\n",
       "       [23594.],\n",
       "       [22100.],\n",
       "       [20300.],\n",
       "       [17048.],\n",
       "       [14954.],\n",
       "       [ 9893.],\n",
       "       [11163.],\n",
       "       [ 5170.],\n",
       "       [ 1540.],\n",
       "       [ 1289.],\n",
       "       [ 3120.],\n",
       "       [ 5010.],\n",
       "       [ 3426.],\n",
       "       [ 5909.],\n",
       "       [ 6052.],\n",
       "       [ 7124.],\n",
       "       [ 8026.],\n",
       "       [ 7534.],\n",
       "       [ 8758.],\n",
       "       [ 6100.],\n",
       "       [15291.],\n",
       "       [22734.],\n",
       "       [25417.],\n",
       "       [24401.],\n",
       "       [26953.],\n",
       "       [24836.],\n",
       "       [16655.],\n",
       "       [24011.],\n",
       "       [27077.],\n",
       "       [27934.],\n",
       "       [26353.],\n",
       "       [22072.],\n",
       "       [20863.],\n",
       "       [13367.],\n",
       "       [12427.],\n",
       "       [13929.],\n",
       "       [12936.],\n",
       "       [11402.],\n",
       "       [ 8527.],\n",
       "       [ 4824.],\n",
       "       [  791.],\n",
       "       [ 2110.],\n",
       "       [ 6491.],\n",
       "       [ 9691.],\n",
       "       [10467.],\n",
       "       [10449.],\n",
       "       [10382.],\n",
       "       [ 7813.],\n",
       "       [10306.],\n",
       "       [10859.],\n",
       "       [13309.],\n",
       "       [21872.],\n",
       "       [26325.],\n",
       "       [23737.],\n",
       "       [11974.],\n",
       "       [14284.],\n",
       "       [21445.],\n",
       "       [27351.],\n",
       "       [28950.],\n",
       "       [27414.],\n",
       "       [25522.],\n",
       "       [17975.],\n",
       "       [20582.],\n",
       "       [25271.],\n",
       "       [21599.],\n",
       "       [21689.],\n",
       "       [17813.],\n",
       "       [14454.],\n",
       "       [ 7434.],\n",
       "       [10408.],\n",
       "       [ 3919.],\n",
       "       [ 1302.],\n",
       "       [ 2760.],\n",
       "       [ 9679.],\n",
       "       [ 8998.],\n",
       "       [ 6654.],\n",
       "       [ 8144.],\n",
       "       [ 9611.],\n",
       "       [ 9991.],\n",
       "       [ 9954.],\n",
       "       [11975.],\n",
       "       [12203.],\n",
       "       [12013.],\n",
       "       [22881.],\n",
       "       [27636.],\n",
       "       [27603.],\n",
       "       [26714.],\n",
       "       [29129.],\n",
       "       [28365.],\n",
       "       [12071.],\n",
       "       [24006.],\n",
       "       [32399.],\n",
       "       [28719.],\n",
       "       [26985.],\n",
       "       [23457.],\n",
       "       [20055.],\n",
       "       [13217.],\n",
       "       [11843.],\n",
       "       [ 5083.],\n",
       "       [  206.],\n",
       "       [ 2793.],\n",
       "       [ 5726.],\n",
       "       [ 6613.],\n",
       "       [ 5420.],\n",
       "       [ 6885.],\n",
       "       [ 8745.],\n",
       "       [10661.],\n",
       "       [ 7692.],\n",
       "       [14017.],\n",
       "       [15285.],\n",
       "       [21050.],\n",
       "       [33322.],\n",
       "       [29442.],\n",
       "       [27574.],\n",
       "       [33319.],\n",
       "       [31912.],\n",
       "       [28397.],\n",
       "       [27548.],\n",
       "       [23935.],\n",
       "       [29543.],\n",
       "       [27960.],\n",
       "       [28337.],\n",
       "       [24437.],\n",
       "       [24242.],\n",
       "       [17959.],\n",
       "       [17734.],\n",
       "       [17174.],\n",
       "       [13240.],\n",
       "       [ 9144.],\n",
       "       [ 3526.],\n",
       "       [  706.],\n",
       "       [ 1740.],\n",
       "       [ 3344.],\n",
       "       [ 4162.],\n",
       "       [ 4814.],\n",
       "       [ 4650.],\n",
       "       [ 5735.],\n",
       "       [ 5023.],\n",
       "       [ 5184.],\n",
       "       [ 6534.],\n",
       "       [ 7785.],\n",
       "       [18096.],\n",
       "       [24573.],\n",
       "       [26274.],\n",
       "       [22332.],\n",
       "       [16569.],\n",
       "       [24120.],\n",
       "       [27611.],\n",
       "       [28778.],\n",
       "       [28627.],\n",
       "       [28869.],\n",
       "       [27836.],\n",
       "       [17618.],\n",
       "       [24008.],\n",
       "       [25721.],\n",
       "       [23156.],\n",
       "       [21582.],\n",
       "       [16727.],\n",
       "       [ 7411.],\n",
       "       [ 1284.],\n",
       "       [  710.],\n",
       "       [ 3712.],\n",
       "       [ 5879.],\n",
       "       [ 7887.],\n",
       "       [ 7686.],\n",
       "       [ 7162.],\n",
       "       [ 5843.],\n",
       "       [ 5969.],\n",
       "       [ 7989.],\n",
       "       [11412.],\n",
       "       [12916.],\n",
       "       [17958.],\n",
       "       [23084.],\n",
       "       [13879.],\n",
       "       [27008.],\n",
       "       [31037.],\n",
       "       [31103.],\n",
       "       [33831.],\n",
       "       [33677.],\n",
       "       [34026.],\n",
       "       [29447.],\n",
       "       [25745.],\n",
       "       [25687.],\n",
       "       [24118.],\n",
       "       [21160.],\n",
       "       [19544.],\n",
       "       [18900.],\n",
       "       [15801.],\n",
       "       [12321.],\n",
       "       [ 7573.],\n",
       "       [ 2546.],\n",
       "       [ 2171.],\n",
       "       [ 8306.],\n",
       "       [10620.],\n",
       "       [ 5286.],\n",
       "       [10754.],\n",
       "       [ 9934.],\n",
       "       [10487.],\n",
       "       [11064.],\n",
       "       [10305.],\n",
       "       [13238.],\n",
       "       [ 8659.],\n",
       "       [21767.],\n",
       "       [31298.],\n",
       "       [34090.],\n",
       "       [33836.],\n",
       "       [32713.],\n",
       "       [30218.],\n",
       "       [20232.],\n",
       "       [24126.],\n",
       "       [33984.],\n",
       "       [33705.],\n",
       "       [35131.],\n",
       "       [30146.],\n",
       "       [26395.],\n",
       "       [23288.],\n",
       "       [23522.],\n",
       "       [25559.],\n",
       "       [22510.],\n",
       "       [14649.],\n",
       "       [ 4259.],\n",
       "       [  992.],\n",
       "       [ 3727.],\n",
       "       [ 6927.],\n",
       "       [ 8809.],\n",
       "       [11010.],\n",
       "       [ 8245.],\n",
       "       [11235.],\n",
       "       [10448.],\n",
       "       [ 8277.],\n",
       "       [10980.],\n",
       "       [13198.],\n",
       "       [21685.],\n",
       "       [29243.],\n",
       "       [30026.],\n",
       "       [31460.],\n",
       "       [16686.],\n",
       "       [37253.],\n",
       "       [34807.],\n",
       "       [28120.],\n",
       "       [43340.],\n",
       "       [33773.],\n",
       "       [35356.],\n",
       "       [17673.],\n",
       "       [31838.],\n",
       "       [28571.],\n",
       "       [27377.],\n",
       "       [25149.],\n",
       "       [25880.],\n",
       "       [20478.],\n",
       "       [ 7236.],\n",
       "       [ 3462.],\n",
       "       [ 1607.],\n",
       "       [10898.],\n",
       "       [11864.],\n",
       "       [ 9683.],\n",
       "       [ 9372.],\n",
       "       [ 6488.],\n",
       "       [ 8227.],\n",
       "       [ 9244.],\n",
       "       [ 9261.],\n",
       "       [ 8855.],\n",
       "       [12539.],\n",
       "       [ 4300.],\n",
       "       [18688.],\n",
       "       [36414.],\n",
       "       [35203.],\n",
       "       [22742.],\n",
       "       [32198.],\n",
       "       [35614.],\n",
       "       [32186.],\n",
       "       [19893.],\n",
       "       [34198.],\n",
       "       [31668.],\n",
       "       [28036.],\n",
       "       [27028.],\n",
       "       [22930.],\n",
       "       [21752.],\n",
       "       [11675.],\n",
       "       [15361.],\n",
       "       [18436.],\n",
       "       [14657.],\n",
       "       [ 7334.],\n",
       "       [ 1591.],\n",
       "       [ 7435.],\n",
       "       [ 7070.],\n",
       "       [ 8344.],\n",
       "       [ 8903.],\n",
       "       [ 7935.],\n",
       "       [ 8243.],\n",
       "       [ 8039.],\n",
       "       [ 8235.],\n",
       "       [ 7486.],\n",
       "       [12337.],\n",
       "       [22597.],\n",
       "       [24698.],\n",
       "       [26515.],\n",
       "       [28799.],\n",
       "       [32948.],\n",
       "       [16613.],\n",
       "       [31937.],\n",
       "       [30480.],\n",
       "       [31858.],\n",
       "       [32923.],\n",
       "       [31539.],\n",
       "       [29920.],\n",
       "       [19573.],\n",
       "       [25115.],\n",
       "       [27803.],\n",
       "       [26997.],\n",
       "       [22346.],\n",
       "       [17007.],\n",
       "       [ 4076.],\n",
       "       [  898.],\n",
       "       [ 8395.],\n",
       "       [ 8501.],\n",
       "       [ 7184.],\n",
       "       [ 8353.],\n",
       "       [ 8106.],\n",
       "       [ 8430.],\n",
       "       [ 6754.],\n",
       "       [ 8824.],\n",
       "       [10041.],\n",
       "       [12560.],\n",
       "       [26243.],\n",
       "       [31719.],\n",
       "       [31738.],\n",
       "       [19703.],\n",
       "       [30276.],\n",
       "       [27595.],\n",
       "       [22652.],\n",
       "       [13860.],\n",
       "       [11845.],\n",
       "       [18717.],\n",
       "       [14740.],\n",
       "       [26766.],\n",
       "       [30504.],\n",
       "       [31334.],\n",
       "       [28564.],\n",
       "       [29134.],\n",
       "       [23610.],\n",
       "       [17447.],\n",
       "       [13299.],\n",
       "       [ 5133.],\n",
       "       [ 1916.],\n",
       "       [ 7665.],\n",
       "       [ 6153.],\n",
       "       [ 5285.],\n",
       "       [ 4569.],\n",
       "       [ 3466.],\n",
       "       [ 3044.],\n",
       "       [ 2245.],\n",
       "       [ 3374.],\n",
       "       [ 4811.],\n",
       "       [ 7920.],\n",
       "       [10556.],\n",
       "       [19627.],\n",
       "       [22386.],\n",
       "       [23788.],\n",
       "       [26869.],\n",
       "       [25435.],\n",
       "       [29369.],\n",
       "       [19196.],\n",
       "       [28964.],\n",
       "       [29229.],\n",
       "       [28858.],\n",
       "       [27428.],\n",
       "       [24909.],\n",
       "       [24745.],\n",
       "       [15535.],\n",
       "       [24801.],\n",
       "       [24264.],\n",
       "       [17303.],\n",
       "       [ 6192.],\n",
       "       [ 1309.],\n",
       "       [ 7885.],\n",
       "       [ 4642.],\n",
       "       [ 4863.],\n",
       "       [ 5702.],\n",
       "       [ 4461.],\n",
       "       [ 5192.],\n",
       "       [ 5580.],\n",
       "       [ 6255.],\n",
       "       [ 4736.],\n",
       "       [ 7111.],\n",
       "       [22447.],\n",
       "       [27006.],\n",
       "       [29512.],\n",
       "       [29255.],\n",
       "       [28818.],\n",
       "       [16784.],\n",
       "       [31959.],\n",
       "       [30828.],\n",
       "       [32024.],\n",
       "       [33782.],\n",
       "       [30829.],\n",
       "       [29914.],\n",
       "       [17015.],\n",
       "       [22621.],\n",
       "       [18225.],\n",
       "       [20953.],\n",
       "       [20222.],\n",
       "       [15611.],\n",
       "       [ 9341.],\n",
       "       [ 2873.],\n",
       "       [ 2159.],\n",
       "       [ 4408.],\n",
       "       [ 6594.],\n",
       "       [ 6009.],\n",
       "       [ 6723.],\n",
       "       [ 6306.],\n",
       "       [ 5596.],\n",
       "       [ 6452.],\n",
       "       [ 8424.],\n",
       "       [ 8566.],\n",
       "       [ 8994.],\n",
       "       [23316.],\n",
       "       [26872.],\n",
       "       [17030.],\n",
       "       [20761.],\n",
       "       [15144.],\n",
       "       [19468.],\n",
       "       [25795.],\n",
       "       [30316.],\n",
       "       [31483.],\n",
       "       [22180.],\n",
       "       [31569.],\n",
       "       [33126.],\n",
       "       [30138.],\n",
       "       [28514.],\n",
       "       [25944.],\n",
       "       [19469.],\n",
       "       [17067.],\n",
       "       [20619.],\n",
       "       [17872.],\n",
       "       [ 7627.],\n",
       "       [ 2177.],\n",
       "       [ 9130.],\n",
       "       [ 8096.],\n",
       "       [ 4482.],\n",
       "       [ 5101.],\n",
       "       [ 4987.],\n",
       "       [ 5957.],\n",
       "       [ 5825.],\n",
       "       [ 6251.],\n",
       "       [ 5710.],\n",
       "       [ 4874.],\n",
       "       [16196.],\n",
       "       [17511.],\n",
       "       [27089.],\n",
       "       [30824.],\n",
       "       [29520.],\n",
       "       [31478.],\n",
       "       [18868.],\n",
       "       [28760.],\n",
       "       [30809.],\n",
       "       [30903.],\n",
       "       [30438.],\n",
       "       [26837.],\n",
       "       [25349.],\n",
       "       [17246.],\n",
       "       [22012.],\n",
       "       [22168.],\n",
       "       [12670.],\n",
       "       [ 2300.],\n",
       "       [ 7079.],\n",
       "       [ 6662.],\n",
       "       [ 4388.],\n",
       "       [ 5229.],\n",
       "       [ 4933.],\n",
       "       [ 5747.],\n",
       "       [ 7105.],\n",
       "       [ 8782.],\n",
       "       [ 7835.],\n",
       "       [ 7242.],\n",
       "       [20922.],\n",
       "       [31879.],\n",
       "       [34588.],\n",
       "       [38345.],\n",
       "       [36212.],\n",
       "       [34031.],\n",
       "       [26901.],\n",
       "       [31358.],\n",
       "       [34886.],\n",
       "       [28774.],\n",
       "       [21543.],\n",
       "       [26322.],\n",
       "       [32255.],\n",
       "       [30927.],\n",
       "       [29637.],\n",
       "       [33167.],\n",
       "       [32126.],\n",
       "       [30723.],\n",
       "       [26324.],\n",
       "       [11251.],\n",
       "       [ 1357.],\n",
       "       [ 4097.],\n",
       "       [ 4811.],\n",
       "       [ 4022.],\n",
       "       [ 4086.],\n",
       "       [ 3828.],\n",
       "       [ 3038.],\n",
       "       [ 3233.],\n",
       "       [ 3647.],\n",
       "       [ 4843.],\n",
       "       [ 6612.],\n",
       "       [16480.],\n",
       "       [20638.],\n",
       "       [24950.],\n",
       "       [12093.],\n",
       "       [22101.],\n",
       "       [25680.],\n",
       "       [27849.],\n",
       "       [18712.],\n",
       "       [25054.],\n",
       "       [24209.],\n",
       "       [17086.],\n",
       "       [29305.],\n",
       "       [23980.],\n",
       "       [27052.],\n",
       "       [26691.],\n",
       "       [24811.],\n",
       "       [22324.],\n",
       "       [14656.],\n",
       "       [ 7582.],\n",
       "       [ 1235.],\n",
       "       [ 3992.],\n",
       "       [ 4997.],\n",
       "       [ 4042.],\n",
       "       [ 4043.],\n",
       "       [ 2681.],\n",
       "       [ 2790.],\n",
       "       [ 2880.],\n",
       "       [ 3727.],\n",
       "       [ 4492.],\n",
       "       [ 4919.],\n",
       "       [16913.],\n",
       "       [11892.],\n",
       "       [26389.],\n",
       "       [30635.],\n",
       "       [30377.],\n",
       "       [29675.],\n",
       "       [29109.],\n",
       "       [28690.],\n",
       "       [13988.],\n",
       "       [27489.],\n",
       "       [29749.],\n",
       "       [29467.],\n",
       "       [26609.],\n",
       "       [26262.],\n",
       "       [21915.],\n",
       "       [14304.],\n",
       "       [21465.],\n",
       "       [21506.],\n",
       "       [16301.],\n",
       "       [ 8619.],\n",
       "       [ 1445.],\n",
       "       [ 6302.],\n",
       "       [ 3736.],\n",
       "       [ 3878.],\n",
       "       [ 3888.],\n",
       "       [ 2663.],\n",
       "       [ 2758.],\n",
       "       [ 4055.],\n",
       "       [ 4308.],\n",
       "       [ 3834.],\n",
       "       [ 5509.],\n",
       "       [18954.],\n",
       "       [25680.],\n",
       "       [29767.],\n",
       "       [30489.],\n",
       "       [24513.],\n",
       "       [13209.],\n",
       "       [30689.],\n",
       "       [32325.],\n",
       "       [31360.],\n",
       "       [30255.],\n",
       "       [28593.],\n",
       "       [25863.],\n",
       "       [13126.],\n",
       "       [23278.],\n",
       "       [25387.],\n",
       "       [25386.],\n",
       "       [23167.],\n",
       "       [18434.],\n",
       "       [ 7251.],\n",
       "       [  865.],\n",
       "       [ 6974.],\n",
       "       [ 7107.],\n",
       "       [ 5669.],\n",
       "       [ 5951.],\n",
       "       [ 4755.],\n",
       "       [ 3944.],\n",
       "       [ 3058.],\n",
       "       [ 3760.],\n",
       "       [ 4483.],\n",
       "       [ 5445.],\n",
       "       [16736.],\n",
       "       [23284.],\n",
       "       [26360.],\n",
       "       [12351.],\n",
       "       [26769.],\n",
       "       [31277.],\n",
       "       [31604.],\n",
       "       [32547.],\n",
       "       [29778.],\n",
       "       [26123.],\n",
       "       [12267.],\n",
       "       [27292.],\n",
       "       [29183.]])"
      ]
     },
     "execution_count": 91,
     "metadata": {
      "tags": []
     },
     "output_type": "execute_result"
    }
   ],
   "source": [
    "# extracting case_count column for time series prediction\n",
    "segment2_training_set = segment2_train.iloc[:,1:2].values\n",
    "segment2_training_set"
   ]
  },
  {
   "cell_type": "code",
   "execution_count": 92,
   "metadata": {
    "colab": {
     "base_uri": "https://localhost:8080/",
     "height": 1000
    },
    "colab_type": "code",
    "executionInfo": {
     "elapsed": 1000,
     "status": "ok",
     "timestamp": 1580051623481,
     "user": {
      "displayName": "Tarun Koundinya",
      "photoUrl": "https://lh3.googleusercontent.com/a-/AAuE7mCuJFCbjNNUC21JfUrOEkSyuTMp8VnRZcH3JXTsOg=s64",
      "userId": "06377727563339288111"
     },
     "user_tz": -330
    },
    "id": "4B8p6MjEULSY",
    "outputId": "4cc9ca10-cc3c-40d2-80a8-6d43d167fe54"
   },
   "outputs": [
    {
     "data": {
      "text/plain": [
       "array([[0.01601985],\n",
       "       [0.00925024],\n",
       "       [0.04196226],\n",
       "       [0.04727129],\n",
       "       [0.0512125 ],\n",
       "       [0.05037789],\n",
       "       [0.04736403],\n",
       "       [0.04847684],\n",
       "       [0.0284926 ],\n",
       "       [0.06862336],\n",
       "       [0.12618816],\n",
       "       [0.19879909],\n",
       "       [0.23519729],\n",
       "       [0.18739278],\n",
       "       [0.1992164 ],\n",
       "       [0.15159735],\n",
       "       [0.21771688],\n",
       "       [0.25838086],\n",
       "       [0.2806139 ],\n",
       "       [0.28232948],\n",
       "       [0.24692818],\n",
       "       [0.20111745],\n",
       "       [0.13831316],\n",
       "       [0.13272592],\n",
       "       [0.09774192],\n",
       "       [0.05049381],\n",
       "       [0.02077248],\n",
       "       [0.01400287],\n",
       "       [0.01502295],\n",
       "       [0.01564891],\n",
       "       [0.02661474],\n",
       "       [0.03994529],\n",
       "       [0.03985255],\n",
       "       [0.0646126 ],\n",
       "       [0.05837622],\n",
       "       [0.05181527],\n",
       "       [0.03352344],\n",
       "       [0.04432698],\n",
       "       [0.06394028],\n",
       "       [0.06547039],\n",
       "       [0.15231604],\n",
       "       [0.18913154],\n",
       "       [0.14431771],\n",
       "       [0.11125794],\n",
       "       [0.1865118 ],\n",
       "       [0.187926  ],\n",
       "       [0.21876014],\n",
       "       [0.31930728],\n",
       "       [0.24968702],\n",
       "       [0.23204433],\n",
       "       [0.1588538 ],\n",
       "       [0.18412389],\n",
       "       [0.19518245],\n",
       "       [0.17139611],\n",
       "       [0.14364538],\n",
       "       [0.10745584],\n",
       "       [0.08598785],\n",
       "       [0.02288218],\n",
       "       [0.01254231],\n",
       "       [0.02758845],\n",
       "       [0.04254185],\n",
       "       [0.09363843],\n",
       "       [0.08624287],\n",
       "       [0.097626  ],\n",
       "       [0.03695461],\n",
       "       [0.06312885],\n",
       "       [0.09393982],\n",
       "       [0.09273427],\n",
       "       [0.10063987],\n",
       "       [0.11007558],\n",
       "       [0.12975843],\n",
       "       [0.14211527],\n",
       "       [0.27305606],\n",
       "       [0.3807901 ],\n",
       "       [0.37506375],\n",
       "       [0.38746696],\n",
       "       [0.37524922],\n",
       "       [0.34174897],\n",
       "       [0.24349701],\n",
       "       [0.32201975],\n",
       "       [0.3749942 ],\n",
       "       [0.36975472],\n",
       "       [0.34281541],\n",
       "       [0.27129411],\n",
       "       [0.2027403 ],\n",
       "       [0.12885427],\n",
       "       [0.12801966],\n",
       "       [0.06829879],\n",
       "       [0.05357722],\n",
       "       [0.03924978],\n",
       "       [0.04096536],\n",
       "       [0.04328372],\n",
       "       [0.02635972],\n",
       "       [0.0631984 ],\n",
       "       [0.10319006],\n",
       "       [0.10840636],\n",
       "       [0.11114202],\n",
       "       [0.11860713],\n",
       "       [0.10847591],\n",
       "       [0.08654426],\n",
       "       [0.12813558],\n",
       "       [0.28276997],\n",
       "       [0.3827607 ],\n",
       "       [0.4455418 ],\n",
       "       [0.44572727],\n",
       "       [0.40330134],\n",
       "       [0.2672138 ],\n",
       "       [0.4126675 ],\n",
       "       [0.47899569],\n",
       "       [0.49035564],\n",
       "       [0.50885612],\n",
       "       [0.39154727],\n",
       "       [0.3466407 ],\n",
       "       [0.22750035],\n",
       "       [0.21697501],\n",
       "       [0.20874484],\n",
       "       [0.19444058],\n",
       "       [0.14948764],\n",
       "       [0.04629758],\n",
       "       [0.02422683],\n",
       "       [0.01372467],\n",
       "       [0.03897158],\n",
       "       [0.09850698],\n",
       "       [0.12954978],\n",
       "       [0.12950341],\n",
       "       [0.11515278],\n",
       "       [0.11784207],\n",
       "       [0.089164  ],\n",
       "       [0.1007326 ],\n",
       "       [0.12159781],\n",
       "       [0.15713822],\n",
       "       [0.1729726 ],\n",
       "       [0.31079891],\n",
       "       [0.40534149],\n",
       "       [0.26705151],\n",
       "       [0.4273427 ],\n",
       "       [0.39124588],\n",
       "       [0.46496963],\n",
       "       [0.50359345],\n",
       "       [0.48924282],\n",
       "       [0.4757268 ],\n",
       "       [0.34457736],\n",
       "       [0.40953772],\n",
       "       [0.44820791],\n",
       "       [0.393912  ],\n",
       "       [0.31691937],\n",
       "       [0.23125609],\n",
       "       [0.21175871],\n",
       "       [0.15199147],\n",
       "       [0.10407103],\n",
       "       [0.04935782],\n",
       "       [0.03127463],\n",
       "       [0.04708583],\n",
       "       [0.09658274],\n",
       "       [0.1400983 ],\n",
       "       [0.09883155],\n",
       "       [0.12600269],\n",
       "       [0.14306579],\n",
       "       [0.1550517 ],\n",
       "       [0.18213011],\n",
       "       [0.17603283],\n",
       "       [0.1945565 ],\n",
       "       [0.15043817],\n",
       "       [0.32095331],\n",
       "       [0.48653035],\n",
       "       [0.5296286 ],\n",
       "       [0.57172996],\n",
       "       [0.53236426],\n",
       "       [0.51212501],\n",
       "       [0.37610702],\n",
       "       [0.4619094 ],\n",
       "       [0.344531  ],\n",
       "       [0.53723281],\n",
       "       [0.46638383],\n",
       "       [0.38686419],\n",
       "       [0.28362776],\n",
       "       [0.21101683],\n",
       "       [0.20216071],\n",
       "       [0.17285668],\n",
       "       [0.12713868],\n",
       "       [0.07098808],\n",
       "       [0.01583438],\n",
       "       [0.00540177],\n",
       "       [0.0177818 ],\n",
       "       [0.04949692],\n",
       "       [0.10249455],\n",
       "       [0.11897807],\n",
       "       [0.15484305],\n",
       "       [0.17065424],\n",
       "       [0.17573144],\n",
       "       [0.15593267],\n",
       "       [0.18762461],\n",
       "       [0.25569157],\n",
       "       [0.41755923],\n",
       "       [0.55109658],\n",
       "       [0.60288867],\n",
       "       [0.56097278],\n",
       "       [0.39089813],\n",
       "       [0.45673946],\n",
       "       [0.41642324],\n",
       "       [0.31993323],\n",
       "       [0.28937729],\n",
       "       [0.35911346],\n",
       "       [0.37970047],\n",
       "       [0.31963184],\n",
       "       [0.4005425 ],\n",
       "       [0.45363287],\n",
       "       [0.39279918],\n",
       "       [0.37879631],\n",
       "       [0.3287198 ],\n",
       "       [0.19376826],\n",
       "       [0.07205453],\n",
       "       [0.01896416],\n",
       "       [0.01875551],\n",
       "       [0.08427227],\n",
       "       [0.08955812],\n",
       "       [0.14494366],\n",
       "       [0.14485093],\n",
       "       [0.0919924 ],\n",
       "       [0.1453146 ],\n",
       "       [0.16882274],\n",
       "       [0.19474197],\n",
       "       [0.22300274],\n",
       "       [0.22342004],\n",
       "       [0.39827051],\n",
       "       [0.33356517],\n",
       "       [0.48928919],\n",
       "       [0.63462698],\n",
       "       [0.66458015],\n",
       "       [0.65203784],\n",
       "       [0.58387815],\n",
       "       [0.53577224],\n",
       "       [0.39078221],\n",
       "       [0.50442806],\n",
       "       [0.54221728],\n",
       "       [0.50758103],\n",
       "       [0.46585061],\n",
       "       [0.39045764],\n",
       "       [0.34191125],\n",
       "       [0.22457922],\n",
       "       [0.25402235],\n",
       "       [0.11508323],\n",
       "       [0.03092688],\n",
       "       [0.0251078 ],\n",
       "       [0.06755692],\n",
       "       [0.11137386],\n",
       "       [0.07465109],\n",
       "       [0.13221589],\n",
       "       [0.13553114],\n",
       "       [0.16038392],\n",
       "       [0.1812955 ],\n",
       "       [0.16988918],\n",
       "       [0.19826587],\n",
       "       [0.13664395],\n",
       "       [0.34972412],\n",
       "       [0.52227941],\n",
       "       [0.58448092],\n",
       "       [0.56092642],\n",
       "       [0.62009088],\n",
       "       [0.57101127],\n",
       "       [0.3813465 ],\n",
       "       [0.55188482],\n",
       "       [0.62296564],\n",
       "       [0.64283396],\n",
       "       [0.60618074],\n",
       "       [0.50693189],\n",
       "       [0.47890295],\n",
       "       [0.30511893],\n",
       "       [0.28332638],\n",
       "       [0.3181481 ],\n",
       "       [0.29512681],\n",
       "       [0.25956322],\n",
       "       [0.19291047],\n",
       "       [0.10706171],\n",
       "       [0.01356239],\n",
       "       [0.04414151],\n",
       "       [0.14570872],\n",
       "       [0.21989614],\n",
       "       [0.23788659],\n",
       "       [0.23746928],\n",
       "       [0.23591598],\n",
       "       [0.1763574 ],\n",
       "       [0.23415403],\n",
       "       [0.24697454],\n",
       "       [0.30377428],\n",
       "       [0.50229517],\n",
       "       [0.6055316 ],\n",
       "       [0.54553253],\n",
       "       [0.27282422],\n",
       "       [0.32637826],\n",
       "       [0.49239579],\n",
       "       [0.62931794],\n",
       "       [0.66638846],\n",
       "       [0.6307785 ],\n",
       "       [0.58691519],\n",
       "       [0.41194881],\n",
       "       [0.47238837],\n",
       "       [0.58109612],\n",
       "       [0.49596606],\n",
       "       [0.49805258],\n",
       "       [0.40819307],\n",
       "       [0.33031947],\n",
       "       [0.16757083],\n",
       "       [0.23651876],\n",
       "       [0.08608059],\n",
       "       [0.02540919],\n",
       "       [0.05921083],\n",
       "       [0.21961793],\n",
       "       [0.20382993],\n",
       "       [0.14948764],\n",
       "       [0.18403116],\n",
       "       [0.21804145],\n",
       "       [0.22685121],\n",
       "       [0.22599342],\n",
       "       [0.27284741],\n",
       "       [0.27813326],\n",
       "       [0.27372838],\n",
       "       [0.52568739],\n",
       "       [0.63592526],\n",
       "       [0.6351602 ],\n",
       "       [0.61455001],\n",
       "       [0.67053832],\n",
       "       [0.65282608],\n",
       "       [0.27507303],\n",
       "       [0.55176891],\n",
       "       [0.74634859],\n",
       "       [0.66103306],\n",
       "       [0.62083275],\n",
       "       [0.53904113],\n",
       "       [0.46017063],\n",
       "       [0.3016414 ],\n",
       "       [0.26978717],\n",
       "       [0.11306626],\n",
       "       [0.        ],\n",
       "       [0.05997589],\n",
       "       [0.12797329],\n",
       "       [0.14853712],\n",
       "       [0.12087912],\n",
       "       [0.15484305],\n",
       "       [0.19796448],\n",
       "       [0.2423842 ],\n",
       "       [0.17355219],\n",
       "       [0.32018825],\n",
       "       [0.34958501],\n",
       "       [0.48323828],\n",
       "       [0.76774702],\n",
       "       [0.67779478],\n",
       "       [0.63448787],\n",
       "       [0.76767747],\n",
       "       [0.73505819],\n",
       "       [0.65356795],\n",
       "       [0.6338851 ],\n",
       "       [0.55012287],\n",
       "       [0.68013632],\n",
       "       [0.64343673],\n",
       "       [0.65217694],\n",
       "       [0.56176102],\n",
       "       [0.55724023],\n",
       "       [0.41157787],\n",
       "       [0.40636157],\n",
       "       [0.39337877],\n",
       "       [0.30217462],\n",
       "       [0.20721473],\n",
       "       [0.07696944],\n",
       "       [0.01159178],\n",
       "       [0.03556359],\n",
       "       [0.07275003],\n",
       "       [0.09171419],\n",
       "       [0.10682988],\n",
       "       [0.10302777],\n",
       "       [0.12818194],\n",
       "       [0.11167524],\n",
       "       [0.1154078 ],\n",
       "       [0.14670562],\n",
       "       [0.17570826],\n",
       "       [0.41475402],\n",
       "       [0.56491399],\n",
       "       [0.60434924],\n",
       "       [0.51295961],\n",
       "       [0.37935271],\n",
       "       [0.55441183],\n",
       "       [0.63534567],\n",
       "       [0.66240089],\n",
       "       [0.65890017],\n",
       "       [0.66451059],\n",
       "       [0.64056197],\n",
       "       [0.40367228],\n",
       "       [0.55181527],\n",
       "       [0.59152872],\n",
       "       [0.53206287],\n",
       "       [0.49557194],\n",
       "       [0.38301572],\n",
       "       [0.1670376 ],\n",
       "       [0.02499189],\n",
       "       [0.01168452],\n",
       "       [0.08128159],\n",
       "       [0.13152038],\n",
       "       [0.17807298],\n",
       "       [0.17341308],\n",
       "       [0.1612649 ],\n",
       "       [0.13068577],\n",
       "       [0.1336069 ],\n",
       "       [0.18043771],\n",
       "       [0.25979506],\n",
       "       [0.29466314],\n",
       "       [0.41155469],\n",
       "       [0.53039366],\n",
       "       [0.31698892],\n",
       "       [0.62136598],\n",
       "       [0.71477257],\n",
       "       [0.71630268],\n",
       "       [0.77954746],\n",
       "       [0.77597719],\n",
       "       [0.78406825],\n",
       "       [0.6779107 ],\n",
       "       [0.59208513],\n",
       "       [0.59074048],\n",
       "       [0.55436547],\n",
       "       [0.48578847],\n",
       "       [0.44832383],\n",
       "       [0.43339361],\n",
       "       [0.36154773],\n",
       "       [0.28086892],\n",
       "       [0.17079334],\n",
       "       [0.05424955],\n",
       "       [0.04555571],\n",
       "       [0.1877869 ],\n",
       "       [0.24143367],\n",
       "       [0.11777252],\n",
       "       [0.24454027],\n",
       "       [0.22552974],\n",
       "       [0.23835026],\n",
       "       [0.25172718],\n",
       "       [0.23413085],\n",
       "       [0.30212825],\n",
       "       [0.1959707 ],\n",
       "       [0.4998609 ],\n",
       "       [0.72082348],\n",
       "       [0.785552  ],\n",
       "       [0.77966337],\n",
       "       [0.75362823],\n",
       "       [0.69578523],\n",
       "       [0.46427412],\n",
       "       [0.55455093],\n",
       "       [0.78309454],\n",
       "       [0.77662633],\n",
       "       [0.80968609],\n",
       "       [0.69411601],\n",
       "       [0.60715445],\n",
       "       [0.5351231 ],\n",
       "       [0.54054806],\n",
       "       [0.58777299],\n",
       "       [0.51708629],\n",
       "       [0.33484027],\n",
       "       [0.093963  ],\n",
       "       [0.01822228],\n",
       "       [0.08162934],\n",
       "       [0.15581676],\n",
       "       [0.19944823],\n",
       "       [0.25047526],\n",
       "       [0.1863727 ],\n",
       "       [0.25569157],\n",
       "       [0.2374461 ],\n",
       "       [0.18711457],\n",
       "       [0.24977976],\n",
       "       [0.30120091],\n",
       "       [0.49795985],\n",
       "       [0.67318125],\n",
       "       [0.69133398],\n",
       "       [0.72457922],\n",
       "       [0.38206519],\n",
       "       [0.85888162],\n",
       "       [0.80217462],\n",
       "       [0.6471461 ],\n",
       "       [1.        ],\n",
       "       [0.77820281],\n",
       "       [0.8149024 ],\n",
       "       [0.40494737],\n",
       "       [0.73334261],\n",
       "       [0.65760189],\n",
       "       [0.62992071],\n",
       "       [0.57826772],\n",
       "       [0.59521491],\n",
       "       [0.46997728],\n",
       "       [0.16298048],\n",
       "       [0.0754857 ],\n",
       "       [0.03248018],\n",
       "       [0.2478787 ],\n",
       "       [0.27027403],\n",
       "       [0.21971067],\n",
       "       [0.21250058],\n",
       "       [0.14563917],\n",
       "       [0.18595539],\n",
       "       [0.20953308],\n",
       "       [0.2099272 ],\n",
       "       [0.20051468],\n",
       "       [0.28592294],\n",
       "       [0.09491353],\n",
       "       [0.42847869],\n",
       "       [0.83943061],\n",
       "       [0.81135531],\n",
       "       [0.52246488],\n",
       "       [0.74168869],\n",
       "       [0.82088376],\n",
       "       [0.74141049],\n",
       "       [0.45641489],\n",
       "       [0.78805583],\n",
       "       [0.7294014 ],\n",
       "       [0.64519868],\n",
       "       [0.62182965],\n",
       "       [0.52682339],\n",
       "       [0.49951315],\n",
       "       [0.26589234],\n",
       "       [0.35134697],\n",
       "       [0.42263644],\n",
       "       [0.33502573],\n",
       "       [0.16525247],\n",
       "       [0.03210924],\n",
       "       [0.16759401],\n",
       "       [0.15913201],\n",
       "       [0.18866787],\n",
       "       [0.20162749],\n",
       "       [0.17918579],\n",
       "       [0.18632633],\n",
       "       [0.18159688],\n",
       "       [0.18614086],\n",
       "       [0.16877637],\n",
       "       [0.28123986],\n",
       "       [0.51910326],\n",
       "       [0.56781193],\n",
       "       [0.60993648],\n",
       "       [0.66288775],\n",
       "       [0.75907637],\n",
       "       [0.38037279],\n",
       "       [0.73563778],\n",
       "       [0.70185932],\n",
       "       [0.73380628],\n",
       "       [0.75849678],\n",
       "       [0.72641072],\n",
       "       [0.68887652],\n",
       "       [0.44899615],\n",
       "       [0.57747948],\n",
       "       [0.63979691],\n",
       "       [0.62111096],\n",
       "       [0.51328418],\n",
       "       [0.38950712],\n",
       "       [0.08972041],\n",
       "       [0.01604303],\n",
       "       [0.18985023],\n",
       "       [0.19230769],\n",
       "       [0.16177493],\n",
       "       [0.18887652],\n",
       "       [0.18315018],\n",
       "       [0.19066166],\n",
       "       [0.151806  ],\n",
       "       [0.19979598],\n",
       "       [0.22801039],\n",
       "       [0.28640979],\n",
       "       [0.60363055],\n",
       "       [0.73058376],\n",
       "       [0.73102425],\n",
       "       [0.45201002],\n",
       "       [0.69712987],\n",
       "       [0.63497473],\n",
       "       [0.52037836],\n",
       "       [0.31654843],\n",
       "       [0.26983354],\n",
       "       [0.42915102],\n",
       "       [0.33694997],\n",
       "       [0.61575555],\n",
       "       [0.70241573],\n",
       "       [0.72165809],\n",
       "       [0.65743961],\n",
       "       [0.67065424],\n",
       "       [0.54258821],\n",
       "       [0.39970789],\n",
       "       [0.30354245],\n",
       "       [0.11422544],\n",
       "       [0.0396439 ],\n",
       "       [0.17292623],\n",
       "       [0.13787268],\n",
       "       [0.11774934],\n",
       "       [0.1011499 ],\n",
       "       [0.07557843],\n",
       "       [0.06579496],\n",
       "       [0.04727129],\n",
       "       [0.07344554],\n",
       "       [0.10676033],\n",
       "       [0.17883804],\n",
       "       [0.23994992],\n",
       "       [0.45024806],\n",
       "       [0.51421153],\n",
       "       [0.54671489],\n",
       "       [0.61814346],\n",
       "       [0.58489822],\n",
       "       [0.67610238],\n",
       "       [0.44025595],\n",
       "       [0.66671303],\n",
       "       [0.67285668],\n",
       "       [0.66425558],\n",
       "       [0.63110307],\n",
       "       [0.57270367],\n",
       "       [0.56890156],\n",
       "       [0.35538091],\n",
       "       [0.57019984],\n",
       "       [0.55775027],\n",
       "       [0.39636945],\n",
       "       [0.13877683],\n",
       "       [0.02557147],\n",
       "       [0.17802661],\n",
       "       [0.10284231],\n",
       "       [0.10796587],\n",
       "       [0.12741689],\n",
       "       [0.09864608],\n",
       "       [0.11559327],\n",
       "       [0.12458849],\n",
       "       [0.1402374 ],\n",
       "       [0.10502156],\n",
       "       [0.16008253],\n",
       "       [0.51562572],\n",
       "       [0.62131961],\n",
       "       [0.67941763],\n",
       "       [0.67345945],\n",
       "       [0.66332823],\n",
       "       [0.38433718],\n",
       "       [0.73614782],\n",
       "       [0.7099272 ],\n",
       "       [0.73765475],\n",
       "       [0.77841146],\n",
       "       [0.70995039],\n",
       "       [0.68873742],\n",
       "       [0.38969259],\n",
       "       [0.51965967],\n",
       "       [0.4177447 ],\n",
       "       [0.48098947],\n",
       "       [0.46404229],\n",
       "       [0.35714286],\n",
       "       [0.21178189],\n",
       "       [0.06183057],\n",
       "       [0.04527751],\n",
       "       [0.09741735],\n",
       "       [0.14809663],\n",
       "       [0.13453424],\n",
       "       [0.15108731],\n",
       "       [0.14141976],\n",
       "       [0.12495943],\n",
       "       [0.14480456],\n",
       "       [0.19052256],\n",
       "       [0.19381462],\n",
       "       [0.20373719],\n",
       "       [0.53577224],\n",
       "       [0.61821301],\n",
       "       [0.39004034],\n",
       "       [0.47653823],\n",
       "       [0.34631613],\n",
       "       [0.44656188],\n",
       "       [0.59324431],\n",
       "       [0.69805722],\n",
       "       [0.72511244],\n",
       "       [0.50943571],\n",
       "       [0.72710623],\n",
       "       [0.76320304],\n",
       "       [0.69393054],\n",
       "       [0.65628043],\n",
       "       [0.59669866],\n",
       "       [0.44658506],\n",
       "       [0.39089813],\n",
       "       [0.47324616],\n",
       "       [0.4095609 ],\n",
       "       [0.17204525],\n",
       "       [0.04569481],\n",
       "       [0.20689016],\n",
       "       [0.18291835],\n",
       "       [0.09913293],\n",
       "       [0.11348356],\n",
       "       [0.11084064],\n",
       "       [0.1333287 ],\n",
       "       [0.13026847],\n",
       "       [0.14014467],\n",
       "       [0.12760236],\n",
       "       [0.10822089],\n",
       "       [0.37070524],\n",
       "       [0.40119164],\n",
       "       [0.62324384],\n",
       "       [0.70983447],\n",
       "       [0.6796031 ],\n",
       "       [0.72499652],\n",
       "       [0.43265174],\n",
       "       [0.66198359],\n",
       "       [0.70948672],\n",
       "       [0.71166597],\n",
       "       [0.70088561],\n",
       "       [0.61740159],\n",
       "       [0.58290444],\n",
       "       [0.39504799],\n",
       "       [0.50554087],\n",
       "       [0.50915751],\n",
       "       [0.28895999],\n",
       "       [0.04854639],\n",
       "       [0.15934066],\n",
       "       [0.14967311],\n",
       "       [0.09695368],\n",
       "       [0.11645106],\n",
       "       [0.10958872],\n",
       "       [0.12846015],\n",
       "       [0.15994343],\n",
       "       [0.19882227],\n",
       "       [0.17686744],\n",
       "       [0.16311958],\n",
       "       [0.48027078],\n",
       "       [0.73429313],\n",
       "       [0.79709742],\n",
       "       [0.88419808],\n",
       "       [0.83474753],\n",
       "       [0.78418417],\n",
       "       [0.61888533],\n",
       "       [0.72221449],\n",
       "       [0.80400612],\n",
       "       [0.66230816],\n",
       "       [0.49466778],\n",
       "       [0.60546205],\n",
       "       [0.74301015],\n",
       "       [0.71222238],\n",
       "       [0.68231557],\n",
       "       [0.76415357],\n",
       "       [0.74001947],\n",
       "       [0.70749293],\n",
       "       [0.60550842],\n",
       "       [0.2560625 ],\n",
       "       [0.02668429],\n",
       "       [0.09020726],\n",
       "       [0.10676033],\n",
       "       [0.08846849],\n",
       "       [0.08995224],\n",
       "       [0.08397088],\n",
       "       [0.06565586],\n",
       "       [0.07017666],\n",
       "       [0.07977466],\n",
       "       [0.1075022 ],\n",
       "       [0.14851393],\n",
       "       [0.37728938],\n",
       "       [0.47368665],\n",
       "       [0.57365419],\n",
       "       [0.27558307],\n",
       "       [0.50760421],\n",
       "       [0.5905782 ],\n",
       "       [0.64086336],\n",
       "       [0.4290351 ],\n",
       "       [0.57606528],\n",
       "       [0.55647517],\n",
       "       [0.39133862],\n",
       "       [0.67461863],\n",
       "       [0.55116613],\n",
       "       [0.62238605],\n",
       "       [0.61401678],\n",
       "       [0.57043168],\n",
       "       [0.51277415],\n",
       "       [0.33500255],\n",
       "       [0.17100199],\n",
       "       [0.02385589],\n",
       "       [0.08777299],\n",
       "       [0.11107247],\n",
       "       [0.08893216],\n",
       "       [0.08895535],\n",
       "       [0.05737933],\n",
       "       [0.05990634],\n",
       "       [0.06199286],\n",
       "       [0.08162934],\n",
       "       [0.09936477],\n",
       "       [0.10926415],\n",
       "       [0.38732786],\n",
       "       [0.27092317],\n",
       "       [0.60701535],\n",
       "       [0.70545278],\n",
       "       [0.69947141],\n",
       "       [0.68319655],\n",
       "       [0.67007465],\n",
       "       [0.66036074],\n",
       "       [0.31951593],\n",
       "       [0.63251727],\n",
       "       [0.68491213],\n",
       "       [0.67837437],\n",
       "       [0.61211573],\n",
       "       [0.60407103],\n",
       "       [0.50329207],\n",
       "       [0.32684193],\n",
       "       [0.49285946],\n",
       "       [0.49380999],\n",
       "       [0.37313952],\n",
       "       [0.19504335],\n",
       "       [0.02872444],\n",
       "       [0.14132703],\n",
       "       [0.08183799],\n",
       "       [0.08513006],\n",
       "       [0.0853619 ],\n",
       "       [0.05696203],\n",
       "       [0.05916446],\n",
       "       [0.08923355],\n",
       "       [0.09509899],\n",
       "       [0.08410998],\n",
       "       [0.12294246],\n",
       "       [0.43464552],\n",
       "       [0.5905782 ],\n",
       "       [0.68532944],\n",
       "       [0.70206797],\n",
       "       [0.56352297],\n",
       "       [0.30145593],\n",
       "       [0.70670469],\n",
       "       [0.744633  ],\n",
       "       [0.72226086],\n",
       "       [0.69664302],\n",
       "       [0.65811193],\n",
       "       [0.59482079],\n",
       "       [0.29953169],\n",
       "       [0.53489127],\n",
       "       [0.58378541],\n",
       "       [0.58376223],\n",
       "       [0.53231789],\n",
       "       [0.42259007],\n",
       "       [0.16332823],\n",
       "       [0.01527797],\n",
       "       [0.15690638],\n",
       "       [0.1599898 ],\n",
       "       [0.12665183],\n",
       "       [0.1331896 ],\n",
       "       [0.10546205],\n",
       "       [0.08666018],\n",
       "       [0.06611953],\n",
       "       [0.0823944 ],\n",
       "       [0.09915612],\n",
       "       [0.12145871],\n",
       "       [0.38322437],\n",
       "       [0.53503037],\n",
       "       [0.60634302],\n",
       "       [0.28156443],\n",
       "       [0.6158251 ],\n",
       "       [0.72033663],\n",
       "       [0.72791765],\n",
       "       [0.74977976],\n",
       "       [0.68558446],\n",
       "       [0.60084852],\n",
       "       [0.27961701],\n",
       "       [0.62795011],\n",
       "       [0.67179024]])"
      ]
     },
     "execution_count": 92,
     "metadata": {
      "tags": []
     },
     "output_type": "execute_result"
    }
   ],
   "source": [
    "# Feature Scaling\n",
    "from sklearn.preprocessing import MinMaxScaler\n",
    "sc = MinMaxScaler(feature_range = (0,1))\n",
    "segment2_training_set_scaled = sc.fit_transform(segment2_training_set)\n",
    "segment2_training_set_scaled"
   ]
  },
  {
   "cell_type": "code",
   "execution_count": 93,
   "metadata": {
    "colab": {
     "base_uri": "https://localhost:8080/",
     "height": 34
    },
    "colab_type": "code",
    "executionInfo": {
     "elapsed": 958,
     "status": "ok",
     "timestamp": 1580051628386,
     "user": {
      "displayName": "Tarun Koundinya",
      "photoUrl": "https://lh3.googleusercontent.com/a-/AAuE7mCuJFCbjNNUC21JfUrOEkSyuTMp8VnRZcH3JXTsOg=s64",
      "userId": "06377727563339288111"
     },
     "user_tz": -330
    },
    "id": "3iT0uSUjULSZ",
    "outputId": "26ae11ec-7963-4cf6-e2cb-35bba194d0fc"
   },
   "outputs": [
    {
     "data": {
      "text/plain": [
       "844"
      ]
     },
     "execution_count": 93,
     "metadata": {
      "tags": []
     },
     "output_type": "execute_result"
    }
   ],
   "source": [
    "# lets check the length of segment2_training_set_scaled\n",
    "len(segment2_training_set_scaled)"
   ]
  },
  {
   "cell_type": "code",
   "execution_count": 95,
   "metadata": {
    "colab": {
     "base_uri": "https://localhost:8080/",
     "height": 281
    },
    "colab_type": "code",
    "executionInfo": {
     "elapsed": 1137,
     "status": "ok",
     "timestamp": 1580051739469,
     "user": {
      "displayName": "Tarun Koundinya",
      "photoUrl": "https://lh3.googleusercontent.com/a-/AAuE7mCuJFCbjNNUC21JfUrOEkSyuTMp8VnRZcH3JXTsOg=s64",
      "userId": "06377727563339288111"
     },
     "user_tz": -330
    },
    "id": "PbfxwwoeapvM",
    "outputId": "1fa10703-9282-4b41-9d57-c577a14de5fa"
   },
   "outputs": [
    {
     "data": {
      "image/png": "[encoded data removed]",
      "text/plain": [
       "<Figure size 432x288 with 1 Axes>"
      ]
     },
     "metadata": {
      "tags": []
     },
     "output_type": "display_data"
    }
   ],
   "source": [
    "from statsmodels.graphics.tsaplots import plot_acf\n",
    "from matplotlib import pyplot as plt\n",
    "plot_acf(segment2_training_set,lags = 60)\n",
    "plt.show()"
   ]
  },
  {
   "cell_type": "code",
   "execution_count": 96,
   "metadata": {
    "colab": {
     "base_uri": "https://localhost:8080/",
     "height": 281
    },
    "colab_type": "code",
    "executionInfo": {
     "elapsed": 1019,
     "status": "ok",
     "timestamp": 1580051744603,
     "user": {
      "displayName": "Tarun Koundinya",
      "photoUrl": "https://lh3.googleusercontent.com/a-/AAuE7mCuJFCbjNNUC21JfUrOEkSyuTMp8VnRZcH3JXTsOg=s64",
      "userId": "06377727563339288111"
     },
     "user_tz": -330
    },
    "id": "sRUS2dNka1JH",
    "outputId": "f993370c-b801-4c35-f9df-7669ef467160"
   },
   "outputs": [
    {
     "data": {
      "image/png": "[encoded data removed]",
      "text/plain": [
       "<Figure size 432x288 with 1 Axes>"
      ]
     },
     "metadata": {
      "tags": []
     },
     "output_type": "display_data"
    }
   ],
   "source": [
    "#PACF\n",
    "from statsmodels.graphics.tsaplots import plot_pacf\n",
    "plot_pacf(segment2_training_set, lags=60)\n",
    "plt.show()"
   ]
  },
  {
   "cell_type": "markdown",
   "metadata": {
    "colab_type": "text",
    "id": "wlTwN7bxct4u"
   },
   "source": [
    "###Its observed from PACF graph that at lag 7 correlation is near to Zero, and considered lag 7 as time steps. "
   ]
  },
  {
   "cell_type": "code",
   "execution_count": 0,
   "metadata": {
    "colab": {},
    "colab_type": "code",
    "id": "nBNOtpqxULSb"
   },
   "outputs": [],
   "source": [
    "# creating a data structure with 7 timesteps and 1 output\n",
    "X_train_segment2 = []\n",
    "y_train_segment2 = []\n",
    "for i in range(7,len(segment2_training_set_scaled)):\n",
    "    X_train_segment2.append(segment2_training_set_scaled[i-7:i,0])\n",
    "    y_train_segment2.append(segment2_training_set_scaled[i,0])\n",
    "X_train_segment2,y_train_segment2 = np.array(X_train_segment2),np.array(y_train_segment2)"
   ]
  },
  {
   "cell_type": "code",
   "execution_count": 98,
   "metadata": {
    "colab": {
     "base_uri": "https://localhost:8080/",
     "height": 238
    },
    "colab_type": "code",
    "executionInfo": {
     "elapsed": 1034,
     "status": "ok",
     "timestamp": 1580052279131,
     "user": {
      "displayName": "Tarun Koundinya",
      "photoUrl": "https://lh3.googleusercontent.com/a-/AAuE7mCuJFCbjNNUC21JfUrOEkSyuTMp8VnRZcH3JXTsOg=s64",
      "userId": "06377727563339288111"
     },
     "user_tz": -330
    },
    "id": "AHGiezdXULSc",
    "outputId": "0af271d7-6643-467b-b427-e4a163653c08"
   },
   "outputs": [
    {
     "data": {
      "text/plain": [
       "array([[0.01601985, 0.00925024, 0.04196226, ..., 0.0512125 , 0.05037789,\n",
       "        0.04736403],\n",
       "       [0.00925024, 0.04196226, 0.04727129, ..., 0.05037789, 0.04736403,\n",
       "        0.04847684],\n",
       "       [0.04196226, 0.04727129, 0.0512125 , ..., 0.04736403, 0.04847684,\n",
       "        0.0284926 ],\n",
       "       ...,\n",
       "       [0.28156443, 0.6158251 , 0.72033663, ..., 0.74977976, 0.68558446,\n",
       "        0.60084852],\n",
       "       [0.6158251 , 0.72033663, 0.72791765, ..., 0.68558446, 0.60084852,\n",
       "        0.27961701],\n",
       "       [0.72033663, 0.72791765, 0.74977976, ..., 0.60084852, 0.27961701,\n",
       "        0.62795011]])"
      ]
     },
     "execution_count": 98,
     "metadata": {
      "tags": []
     },
     "output_type": "execute_result"
    }
   ],
   "source": [
    "# lets look how the X_train_segment2 is\n",
    "X_train_segment2"
   ]
  },
  {
   "cell_type": "code",
   "execution_count": 99,
   "metadata": {
    "colab": {
     "base_uri": "https://localhost:8080/",
     "height": 1000
    },
    "colab_type": "code",
    "executionInfo": {
     "elapsed": 979,
     "status": "ok",
     "timestamp": 1580052282221,
     "user": {
      "displayName": "Tarun Koundinya",
      "photoUrl": "https://lh3.googleusercontent.com/a-/AAuE7mCuJFCbjNNUC21JfUrOEkSyuTMp8VnRZcH3JXTsOg=s64",
      "userId": "06377727563339288111"
     },
     "user_tz": -330
    },
    "id": "pQL7L7NKULSe",
    "outputId": "9d07a83d-3324-47e1-f4f9-5f4ff9a198e0"
   },
   "outputs": [
    {
     "data": {
      "text/plain": [
       "array([0.04847684, 0.0284926 , 0.06862336, 0.12618816, 0.19879909,\n",
       "       0.23519729, 0.18739278, 0.1992164 , 0.15159735, 0.21771688,\n",
       "       0.25838086, 0.2806139 , 0.28232948, 0.24692818, 0.20111745,\n",
       "       0.13831316, 0.13272592, 0.09774192, 0.05049381, 0.02077248,\n",
       "       0.01400287, 0.01502295, 0.01564891, 0.02661474, 0.03994529,\n",
       "       0.03985255, 0.0646126 , 0.05837622, 0.05181527, 0.03352344,\n",
       "       0.04432698, 0.06394028, 0.06547039, 0.15231604, 0.18913154,\n",
       "       0.14431771, 0.11125794, 0.1865118 , 0.187926  , 0.21876014,\n",
       "       0.31930728, 0.24968702, 0.23204433, 0.1588538 , 0.18412389,\n",
       "       0.19518245, 0.17139611, 0.14364538, 0.10745584, 0.08598785,\n",
       "       0.02288218, 0.01254231, 0.02758845, 0.04254185, 0.09363843,\n",
       "       0.08624287, 0.097626  , 0.03695461, 0.06312885, 0.09393982,\n",
       "       0.09273427, 0.10063987, 0.11007558, 0.12975843, 0.14211527,\n",
       "       0.27305606, 0.3807901 , 0.37506375, 0.38746696, 0.37524922,\n",
       "       0.34174897, 0.24349701, 0.32201975, 0.3749942 , 0.36975472,\n",
       "       0.34281541, 0.27129411, 0.2027403 , 0.12885427, 0.12801966,\n",
       "       0.06829879, 0.05357722, 0.03924978, 0.04096536, 0.04328372,\n",
       "       0.02635972, 0.0631984 , 0.10319006, 0.10840636, 0.11114202,\n",
       "       0.11860713, 0.10847591, 0.08654426, 0.12813558, 0.28276997,\n",
       "       0.3827607 , 0.4455418 , 0.44572727, 0.40330134, 0.2672138 ,\n",
       "       0.4126675 , 0.47899569, 0.49035564, 0.50885612, 0.39154727,\n",
       "       0.3466407 , 0.22750035, 0.21697501, 0.20874484, 0.19444058,\n",
       "       0.14948764, 0.04629758, 0.02422683, 0.01372467, 0.03897158,\n",
       "       0.09850698, 0.12954978, 0.12950341, 0.11515278, 0.11784207,\n",
       "       0.089164  , 0.1007326 , 0.12159781, 0.15713822, 0.1729726 ,\n",
       "       0.31079891, 0.40534149, 0.26705151, 0.4273427 , 0.39124588,\n",
       "       0.46496963, 0.50359345, 0.48924282, 0.4757268 , 0.34457736,\n",
       "       0.40953772, 0.44820791, 0.393912  , 0.31691937, 0.23125609,\n",
       "       0.21175871, 0.15199147, 0.10407103, 0.04935782, 0.03127463,\n",
       "       0.04708583, 0.09658274, 0.1400983 , 0.09883155, 0.12600269,\n",
       "       0.14306579, 0.1550517 , 0.18213011, 0.17603283, 0.1945565 ,\n",
       "       0.15043817, 0.32095331, 0.48653035, 0.5296286 , 0.57172996,\n",
       "       0.53236426, 0.51212501, 0.37610702, 0.4619094 , 0.344531  ,\n",
       "       0.53723281, 0.46638383, 0.38686419, 0.28362776, 0.21101683,\n",
       "       0.20216071, 0.17285668, 0.12713868, 0.07098808, 0.01583438,\n",
       "       0.00540177, 0.0177818 , 0.04949692, 0.10249455, 0.11897807,\n",
       "       0.15484305, 0.17065424, 0.17573144, 0.15593267, 0.18762461,\n",
       "       0.25569157, 0.41755923, 0.55109658, 0.60288867, 0.56097278,\n",
       "       0.39089813, 0.45673946, 0.41642324, 0.31993323, 0.28937729,\n",
       "       0.35911346, 0.37970047, 0.31963184, 0.4005425 , 0.45363287,\n",
       "       0.39279918, 0.37879631, 0.3287198 , 0.19376826, 0.07205453,\n",
       "       0.01896416, 0.01875551, 0.08427227, 0.08955812, 0.14494366,\n",
       "       0.14485093, 0.0919924 , 0.1453146 , 0.16882274, 0.19474197,\n",
       "       0.22300274, 0.22342004, 0.39827051, 0.33356517, 0.48928919,\n",
       "       0.63462698, 0.66458015, 0.65203784, 0.58387815, 0.53577224,\n",
       "       0.39078221, 0.50442806, 0.54221728, 0.50758103, 0.46585061,\n",
       "       0.39045764, 0.34191125, 0.22457922, 0.25402235, 0.11508323,\n",
       "       0.03092688, 0.0251078 , 0.06755692, 0.11137386, 0.07465109,\n",
       "       0.13221589, 0.13553114, 0.16038392, 0.1812955 , 0.16988918,\n",
       "       0.19826587, 0.13664395, 0.34972412, 0.52227941, 0.58448092,\n",
       "       0.56092642, 0.62009088, 0.57101127, 0.3813465 , 0.55188482,\n",
       "       0.62296564, 0.64283396, 0.60618074, 0.50693189, 0.47890295,\n",
       "       0.30511893, 0.28332638, 0.3181481 , 0.29512681, 0.25956322,\n",
       "       0.19291047, 0.10706171, 0.01356239, 0.04414151, 0.14570872,\n",
       "       0.21989614, 0.23788659, 0.23746928, 0.23591598, 0.1763574 ,\n",
       "       0.23415403, 0.24697454, 0.30377428, 0.50229517, 0.6055316 ,\n",
       "       0.54553253, 0.27282422, 0.32637826, 0.49239579, 0.62931794,\n",
       "       0.66638846, 0.6307785 , 0.58691519, 0.41194881, 0.47238837,\n",
       "       0.58109612, 0.49596606, 0.49805258, 0.40819307, 0.33031947,\n",
       "       0.16757083, 0.23651876, 0.08608059, 0.02540919, 0.05921083,\n",
       "       0.21961793, 0.20382993, 0.14948764, 0.18403116, 0.21804145,\n",
       "       0.22685121, 0.22599342, 0.27284741, 0.27813326, 0.27372838,\n",
       "       0.52568739, 0.63592526, 0.6351602 , 0.61455001, 0.67053832,\n",
       "       0.65282608, 0.27507303, 0.55176891, 0.74634859, 0.66103306,\n",
       "       0.62083275, 0.53904113, 0.46017063, 0.3016414 , 0.26978717,\n",
       "       0.11306626, 0.        , 0.05997589, 0.12797329, 0.14853712,\n",
       "       0.12087912, 0.15484305, 0.19796448, 0.2423842 , 0.17355219,\n",
       "       0.32018825, 0.34958501, 0.48323828, 0.76774702, 0.67779478,\n",
       "       0.63448787, 0.76767747, 0.73505819, 0.65356795, 0.6338851 ,\n",
       "       0.55012287, 0.68013632, 0.64343673, 0.65217694, 0.56176102,\n",
       "       0.55724023, 0.41157787, 0.40636157, 0.39337877, 0.30217462,\n",
       "       0.20721473, 0.07696944, 0.01159178, 0.03556359, 0.07275003,\n",
       "       0.09171419, 0.10682988, 0.10302777, 0.12818194, 0.11167524,\n",
       "       0.1154078 , 0.14670562, 0.17570826, 0.41475402, 0.56491399,\n",
       "       0.60434924, 0.51295961, 0.37935271, 0.55441183, 0.63534567,\n",
       "       0.66240089, 0.65890017, 0.66451059, 0.64056197, 0.40367228,\n",
       "       0.55181527, 0.59152872, 0.53206287, 0.49557194, 0.38301572,\n",
       "       0.1670376 , 0.02499189, 0.01168452, 0.08128159, 0.13152038,\n",
       "       0.17807298, 0.17341308, 0.1612649 , 0.13068577, 0.1336069 ,\n",
       "       0.18043771, 0.25979506, 0.29466314, 0.41155469, 0.53039366,\n",
       "       0.31698892, 0.62136598, 0.71477257, 0.71630268, 0.77954746,\n",
       "       0.77597719, 0.78406825, 0.6779107 , 0.59208513, 0.59074048,\n",
       "       0.55436547, 0.48578847, 0.44832383, 0.43339361, 0.36154773,\n",
       "       0.28086892, 0.17079334, 0.05424955, 0.04555571, 0.1877869 ,\n",
       "       0.24143367, 0.11777252, 0.24454027, 0.22552974, 0.23835026,\n",
       "       0.25172718, 0.23413085, 0.30212825, 0.1959707 , 0.4998609 ,\n",
       "       0.72082348, 0.785552  , 0.77966337, 0.75362823, 0.69578523,\n",
       "       0.46427412, 0.55455093, 0.78309454, 0.77662633, 0.80968609,\n",
       "       0.69411601, 0.60715445, 0.5351231 , 0.54054806, 0.58777299,\n",
       "       0.51708629, 0.33484027, 0.093963  , 0.01822228, 0.08162934,\n",
       "       0.15581676, 0.19944823, 0.25047526, 0.1863727 , 0.25569157,\n",
       "       0.2374461 , 0.18711457, 0.24977976, 0.30120091, 0.49795985,\n",
       "       0.67318125, 0.69133398, 0.72457922, 0.38206519, 0.85888162,\n",
       "       0.80217462, 0.6471461 , 1.        , 0.77820281, 0.8149024 ,\n",
       "       0.40494737, 0.73334261, 0.65760189, 0.62992071, 0.57826772,\n",
       "       0.59521491, 0.46997728, 0.16298048, 0.0754857 , 0.03248018,\n",
       "       0.2478787 , 0.27027403, 0.21971067, 0.21250058, 0.14563917,\n",
       "       0.18595539, 0.20953308, 0.2099272 , 0.20051468, 0.28592294,\n",
       "       0.09491353, 0.42847869, 0.83943061, 0.81135531, 0.52246488,\n",
       "       0.74168869, 0.82088376, 0.74141049, 0.45641489, 0.78805583,\n",
       "       0.7294014 , 0.64519868, 0.62182965, 0.52682339, 0.49951315,\n",
       "       0.26589234, 0.35134697, 0.42263644, 0.33502573, 0.16525247,\n",
       "       0.03210924, 0.16759401, 0.15913201, 0.18866787, 0.20162749,\n",
       "       0.17918579, 0.18632633, 0.18159688, 0.18614086, 0.16877637,\n",
       "       0.28123986, 0.51910326, 0.56781193, 0.60993648, 0.66288775,\n",
       "       0.75907637, 0.38037279, 0.73563778, 0.70185932, 0.73380628,\n",
       "       0.75849678, 0.72641072, 0.68887652, 0.44899615, 0.57747948,\n",
       "       0.63979691, 0.62111096, 0.51328418, 0.38950712, 0.08972041,\n",
       "       0.01604303, 0.18985023, 0.19230769, 0.16177493, 0.18887652,\n",
       "       0.18315018, 0.19066166, 0.151806  , 0.19979598, 0.22801039,\n",
       "       0.28640979, 0.60363055, 0.73058376, 0.73102425, 0.45201002,\n",
       "       0.69712987, 0.63497473, 0.52037836, 0.31654843, 0.26983354,\n",
       "       0.42915102, 0.33694997, 0.61575555, 0.70241573, 0.72165809,\n",
       "       0.65743961, 0.67065424, 0.54258821, 0.39970789, 0.30354245,\n",
       "       0.11422544, 0.0396439 , 0.17292623, 0.13787268, 0.11774934,\n",
       "       0.1011499 , 0.07557843, 0.06579496, 0.04727129, 0.07344554,\n",
       "       0.10676033, 0.17883804, 0.23994992, 0.45024806, 0.51421153,\n",
       "       0.54671489, 0.61814346, 0.58489822, 0.67610238, 0.44025595,\n",
       "       0.66671303, 0.67285668, 0.66425558, 0.63110307, 0.57270367,\n",
       "       0.56890156, 0.35538091, 0.57019984, 0.55775027, 0.39636945,\n",
       "       0.13877683, 0.02557147, 0.17802661, 0.10284231, 0.10796587,\n",
       "       0.12741689, 0.09864608, 0.11559327, 0.12458849, 0.1402374 ,\n",
       "       0.10502156, 0.16008253, 0.51562572, 0.62131961, 0.67941763,\n",
       "       0.67345945, 0.66332823, 0.38433718, 0.73614782, 0.7099272 ,\n",
       "       0.73765475, 0.77841146, 0.70995039, 0.68873742, 0.38969259,\n",
       "       0.51965967, 0.4177447 , 0.48098947, 0.46404229, 0.35714286,\n",
       "       0.21178189, 0.06183057, 0.04527751, 0.09741735, 0.14809663,\n",
       "       0.13453424, 0.15108731, 0.14141976, 0.12495943, 0.14480456,\n",
       "       0.19052256, 0.19381462, 0.20373719, 0.53577224, 0.61821301,\n",
       "       0.39004034, 0.47653823, 0.34631613, 0.44656188, 0.59324431,\n",
       "       0.69805722, 0.72511244, 0.50943571, 0.72710623, 0.76320304,\n",
       "       0.69393054, 0.65628043, 0.59669866, 0.44658506, 0.39089813,\n",
       "       0.47324616, 0.4095609 , 0.17204525, 0.04569481, 0.20689016,\n",
       "       0.18291835, 0.09913293, 0.11348356, 0.11084064, 0.1333287 ,\n",
       "       0.13026847, 0.14014467, 0.12760236, 0.10822089, 0.37070524,\n",
       "       0.40119164, 0.62324384, 0.70983447, 0.6796031 , 0.72499652,\n",
       "       0.43265174, 0.66198359, 0.70948672, 0.71166597, 0.70088561,\n",
       "       0.61740159, 0.58290444, 0.39504799, 0.50554087, 0.50915751,\n",
       "       0.28895999, 0.04854639, 0.15934066, 0.14967311, 0.09695368,\n",
       "       0.11645106, 0.10958872, 0.12846015, 0.15994343, 0.19882227,\n",
       "       0.17686744, 0.16311958, 0.48027078, 0.73429313, 0.79709742,\n",
       "       0.88419808, 0.83474753, 0.78418417, 0.61888533, 0.72221449,\n",
       "       0.80400612, 0.66230816, 0.49466778, 0.60546205, 0.74301015,\n",
       "       0.71222238, 0.68231557, 0.76415357, 0.74001947, 0.70749293,\n",
       "       0.60550842, 0.2560625 , 0.02668429, 0.09020726, 0.10676033,\n",
       "       0.08846849, 0.08995224, 0.08397088, 0.06565586, 0.07017666,\n",
       "       0.07977466, 0.1075022 , 0.14851393, 0.37728938, 0.47368665,\n",
       "       0.57365419, 0.27558307, 0.50760421, 0.5905782 , 0.64086336,\n",
       "       0.4290351 , 0.57606528, 0.55647517, 0.39133862, 0.67461863,\n",
       "       0.55116613, 0.62238605, 0.61401678, 0.57043168, 0.51277415,\n",
       "       0.33500255, 0.17100199, 0.02385589, 0.08777299, 0.11107247,\n",
       "       0.08893216, 0.08895535, 0.05737933, 0.05990634, 0.06199286,\n",
       "       0.08162934, 0.09936477, 0.10926415, 0.38732786, 0.27092317,\n",
       "       0.60701535, 0.70545278, 0.69947141, 0.68319655, 0.67007465,\n",
       "       0.66036074, 0.31951593, 0.63251727, 0.68491213, 0.67837437,\n",
       "       0.61211573, 0.60407103, 0.50329207, 0.32684193, 0.49285946,\n",
       "       0.49380999, 0.37313952, 0.19504335, 0.02872444, 0.14132703,\n",
       "       0.08183799, 0.08513006, 0.0853619 , 0.05696203, 0.05916446,\n",
       "       0.08923355, 0.09509899, 0.08410998, 0.12294246, 0.43464552,\n",
       "       0.5905782 , 0.68532944, 0.70206797, 0.56352297, 0.30145593,\n",
       "       0.70670469, 0.744633  , 0.72226086, 0.69664302, 0.65811193,\n",
       "       0.59482079, 0.29953169, 0.53489127, 0.58378541, 0.58376223,\n",
       "       0.53231789, 0.42259007, 0.16332823, 0.01527797, 0.15690638,\n",
       "       0.1599898 , 0.12665183, 0.1331896 , 0.10546205, 0.08666018,\n",
       "       0.06611953, 0.0823944 , 0.09915612, 0.12145871, 0.38322437,\n",
       "       0.53503037, 0.60634302, 0.28156443, 0.6158251 , 0.72033663,\n",
       "       0.72791765, 0.74977976, 0.68558446, 0.60084852, 0.27961701,\n",
       "       0.62795011, 0.67179024])"
      ]
     },
     "execution_count": 99,
     "metadata": {
      "tags": []
     },
     "output_type": "execute_result"
    }
   ],
   "source": [
    "# # lets look how the y_train_segment2 is\n",
    "y_train_segment2"
   ]
  },
  {
   "cell_type": "code",
   "execution_count": 100,
   "metadata": {
    "colab": {
     "base_uri": "https://localhost:8080/",
     "height": 34
    },
    "colab_type": "code",
    "executionInfo": {
     "elapsed": 883,
     "status": "ok",
     "timestamp": 1580052285480,
     "user": {
      "displayName": "Tarun Koundinya",
      "photoUrl": "https://lh3.googleusercontent.com/a-/AAuE7mCuJFCbjNNUC21JfUrOEkSyuTMp8VnRZcH3JXTsOg=s64",
      "userId": "06377727563339288111"
     },
     "user_tz": -330
    },
    "id": "bjLN8IfLULSf",
    "outputId": "8c9c8569-b345-4d32-a057-e0556affaef6"
   },
   "outputs": [
    {
     "data": {
      "text/plain": [
       "(837, 7)"
      ]
     },
     "execution_count": 100,
     "metadata": {
      "tags": []
     },
     "output_type": "execute_result"
    }
   ],
   "source": [
    "# lets check the shape of X_train_segment2\n",
    "X_train_segment2.shape"
   ]
  },
  {
   "cell_type": "code",
   "execution_count": 101,
   "metadata": {
    "colab": {
     "base_uri": "https://localhost:8080/",
     "height": 867
    },
    "colab_type": "code",
    "executionInfo": {
     "elapsed": 705,
     "status": "ok",
     "timestamp": 1580052286780,
     "user": {
      "displayName": "Tarun Koundinya",
      "photoUrl": "https://lh3.googleusercontent.com/a-/AAuE7mCuJFCbjNNUC21JfUrOEkSyuTMp8VnRZcH3JXTsOg=s64",
      "userId": "06377727563339288111"
     },
     "user_tz": -330
    },
    "id": "VjLT32M8ULSh",
    "outputId": "e0627c8b-1a8e-45d6-f472-3c7a7a379b13"
   },
   "outputs": [
    {
     "name": "stdout",
     "output_type": "stream",
     "text": [
      "Reshaped X_train_segment2 (837, 7, 1)\n",
      "[[[0.01601985]\n",
      "  [0.00925024]\n",
      "  [0.04196226]\n",
      "  ...\n",
      "  [0.0512125 ]\n",
      "  [0.05037789]\n",
      "  [0.04736403]]\n",
      "\n",
      " [[0.00925024]\n",
      "  [0.04196226]\n",
      "  [0.04727129]\n",
      "  ...\n",
      "  [0.05037789]\n",
      "  [0.04736403]\n",
      "  [0.04847684]]\n",
      "\n",
      " [[0.04196226]\n",
      "  [0.04727129]\n",
      "  [0.0512125 ]\n",
      "  ...\n",
      "  [0.04736403]\n",
      "  [0.04847684]\n",
      "  [0.0284926 ]]\n",
      "\n",
      " ...\n",
      "\n",
      " [[0.28156443]\n",
      "  [0.6158251 ]\n",
      "  [0.72033663]\n",
      "  ...\n",
      "  [0.74977976]\n",
      "  [0.68558446]\n",
      "  [0.60084852]]\n",
      "\n",
      " [[0.6158251 ]\n",
      "  [0.72033663]\n",
      "  [0.72791765]\n",
      "  ...\n",
      "  [0.68558446]\n",
      "  [0.60084852]\n",
      "  [0.27961701]]\n",
      "\n",
      " [[0.72033663]\n",
      "  [0.72791765]\n",
      "  [0.74977976]\n",
      "  ...\n",
      "  [0.60084852]\n",
      "  [0.27961701]\n",
      "  [0.62795011]]]\n"
     ]
    }
   ],
   "source": [
    "# Reshaping the data for LSTM\n",
    "X_train_segment2 = np.reshape(X_train_segment2,(X_train_segment2.shape[0],X_train_segment2.shape[1],1))\n",
    "print('Reshaped X_train_segment2', X_train_segment2.shape)\n",
    "print(X_train_segment2)"
   ]
  },
  {
   "cell_type": "code",
   "execution_count": 102,
   "metadata": {
    "colab": {
     "base_uri": "https://localhost:8080/",
     "height": 1000
    },
    "colab_type": "code",
    "executionInfo": {
     "elapsed": 149489,
     "status": "ok",
     "timestamp": 1580052442662,
     "user": {
      "displayName": "Tarun Koundinya",
      "photoUrl": "https://lh3.googleusercontent.com/a-/AAuE7mCuJFCbjNNUC21JfUrOEkSyuTMp8VnRZcH3JXTsOg=s64",
      "userId": "06377727563339288111"
     },
     "user_tz": -330
    },
    "id": "PaE0IbtcULSj",
    "outputId": "4a304392-838b-4895-ee1e-d365c3f12d3d"
   },
   "outputs": [
    {
     "name": "stdout",
     "output_type": "stream",
     "text": [
      "Epoch 1/100\n",
      "837/837 [==============================] - 3s 3ms/step - loss: 0.0425\n",
      "Epoch 2/100\n",
      "837/837 [==============================] - 1s 2ms/step - loss: 0.0262\n",
      "Epoch 3/100\n",
      "837/837 [==============================] - 1s 2ms/step - loss: 0.0210\n",
      "Epoch 4/100\n",
      "837/837 [==============================] - 1s 2ms/step - loss: 0.0195\n",
      "Epoch 5/100\n",
      "837/837 [==============================] - 1s 2ms/step - loss: 0.0202\n",
      "Epoch 6/100\n",
      "837/837 [==============================] - 1s 2ms/step - loss: 0.0216\n",
      "Epoch 7/100\n",
      "837/837 [==============================] - 1s 2ms/step - loss: 0.0188\n",
      "Epoch 8/100\n",
      "837/837 [==============================] - 1s 2ms/step - loss: 0.0189\n",
      "Epoch 9/100\n",
      "837/837 [==============================] - 1s 2ms/step - loss: 0.0179\n",
      "Epoch 10/100\n",
      "837/837 [==============================] - 1s 2ms/step - loss: 0.0176\n",
      "Epoch 11/100\n",
      "837/837 [==============================] - 1s 2ms/step - loss: 0.0161\n",
      "Epoch 12/100\n",
      "837/837 [==============================] - 1s 2ms/step - loss: 0.0178\n",
      "Epoch 13/100\n",
      "837/837 [==============================] - 1s 2ms/step - loss: 0.0166\n",
      "Epoch 14/100\n",
      "837/837 [==============================] - 1s 2ms/step - loss: 0.0161\n",
      "Epoch 15/100\n",
      "837/837 [==============================] - 1s 2ms/step - loss: 0.0172\n",
      "Epoch 16/100\n",
      "837/837 [==============================] - 1s 2ms/step - loss: 0.0164\n",
      "Epoch 17/100\n",
      "837/837 [==============================] - 1s 2ms/step - loss: 0.0154\n",
      "Epoch 18/100\n",
      "837/837 [==============================] - 1s 2ms/step - loss: 0.0165\n",
      "Epoch 19/100\n",
      "837/837 [==============================] - 1s 2ms/step - loss: 0.0150\n",
      "Epoch 20/100\n",
      "837/837 [==============================] - 1s 2ms/step - loss: 0.0161\n",
      "Epoch 21/100\n",
      "837/837 [==============================] - 1s 2ms/step - loss: 0.0144\n",
      "Epoch 22/100\n",
      "837/837 [==============================] - 1s 2ms/step - loss: 0.0143\n",
      "Epoch 23/100\n",
      "837/837 [==============================] - 1s 2ms/step - loss: 0.0152\n",
      "Epoch 24/100\n",
      "837/837 [==============================] - 1s 2ms/step - loss: 0.0172\n",
      "Epoch 25/100\n",
      "837/837 [==============================] - 1s 2ms/step - loss: 0.0159\n",
      "Epoch 26/100\n",
      "837/837 [==============================] - 1s 2ms/step - loss: 0.0139\n",
      "Epoch 27/100\n",
      "837/837 [==============================] - 1s 2ms/step - loss: 0.0151\n",
      "Epoch 28/100\n",
      "837/837 [==============================] - 1s 2ms/step - loss: 0.0146\n",
      "Epoch 29/100\n",
      "837/837 [==============================] - 1s 2ms/step - loss: 0.0148\n",
      "Epoch 30/100\n",
      "837/837 [==============================] - 1s 2ms/step - loss: 0.0147\n",
      "Epoch 31/100\n",
      "837/837 [==============================] - 1s 2ms/step - loss: 0.0140\n",
      "Epoch 32/100\n",
      "837/837 [==============================] - 2s 2ms/step - loss: 0.0154\n",
      "Epoch 33/100\n",
      "837/837 [==============================] - 1s 2ms/step - loss: 0.0134\n",
      "Epoch 34/100\n",
      "837/837 [==============================] - 2s 2ms/step - loss: 0.0147\n",
      "Epoch 35/100\n",
      "837/837 [==============================] - 2s 2ms/step - loss: 0.0145\n",
      "Epoch 36/100\n",
      "837/837 [==============================] - 1s 2ms/step - loss: 0.0147\n",
      "Epoch 37/100\n",
      "837/837 [==============================] - 1s 2ms/step - loss: 0.0134\n",
      "Epoch 38/100\n",
      "837/837 [==============================] - 1s 2ms/step - loss: 0.0142\n",
      "Epoch 39/100\n",
      "837/837 [==============================] - 1s 2ms/step - loss: 0.0135\n",
      "Epoch 40/100\n",
      "837/837 [==============================] - 1s 2ms/step - loss: 0.0140\n",
      "Epoch 41/100\n",
      "837/837 [==============================] - 1s 2ms/step - loss: 0.0130\n",
      "Epoch 42/100\n",
      "837/837 [==============================] - 1s 2ms/step - loss: 0.0135\n",
      "Epoch 43/100\n",
      "837/837 [==============================] - 1s 2ms/step - loss: 0.0138\n",
      "Epoch 44/100\n",
      "837/837 [==============================] - 1s 2ms/step - loss: 0.0138\n",
      "Epoch 45/100\n",
      "837/837 [==============================] - 1s 2ms/step - loss: 0.0146\n",
      "Epoch 46/100\n",
      "837/837 [==============================] - 1s 2ms/step - loss: 0.0138\n",
      "Epoch 47/100\n",
      "837/837 [==============================] - 1s 2ms/step - loss: 0.0135\n",
      "Epoch 48/100\n",
      "837/837 [==============================] - 1s 2ms/step - loss: 0.0124\n",
      "Epoch 49/100\n",
      "837/837 [==============================] - 1s 2ms/step - loss: 0.0127\n",
      "Epoch 50/100\n",
      "837/837 [==============================] - 1s 2ms/step - loss: 0.0132\n",
      "Epoch 51/100\n",
      "837/837 [==============================] - 1s 2ms/step - loss: 0.0127\n",
      "Epoch 52/100\n",
      "837/837 [==============================] - 1s 2ms/step - loss: 0.0123\n",
      "Epoch 53/100\n",
      "837/837 [==============================] - 1s 2ms/step - loss: 0.0130\n",
      "Epoch 54/100\n",
      "837/837 [==============================] - 1s 2ms/step - loss: 0.0138\n",
      "Epoch 55/100\n",
      "837/837 [==============================] - 1s 2ms/step - loss: 0.0120\n",
      "Epoch 56/100\n",
      "837/837 [==============================] - 1s 2ms/step - loss: 0.0124\n",
      "Epoch 57/100\n",
      "837/837 [==============================] - 1s 2ms/step - loss: 0.0127\n",
      "Epoch 58/100\n",
      "837/837 [==============================] - 1s 2ms/step - loss: 0.0130\n",
      "Epoch 59/100\n",
      "837/837 [==============================] - 1s 2ms/step - loss: 0.0127\n",
      "Epoch 60/100\n",
      "837/837 [==============================] - 1s 2ms/step - loss: 0.0130\n",
      "Epoch 61/100\n",
      "837/837 [==============================] - 1s 2ms/step - loss: 0.0124\n",
      "Epoch 62/100\n",
      "837/837 [==============================] - 1s 2ms/step - loss: 0.0126\n",
      "Epoch 63/100\n",
      "837/837 [==============================] - 1s 2ms/step - loss: 0.0137\n",
      "Epoch 64/100\n",
      "837/837 [==============================] - 1s 2ms/step - loss: 0.0119\n",
      "Epoch 65/100\n",
      "837/837 [==============================] - 1s 2ms/step - loss: 0.0124\n",
      "Epoch 66/100\n",
      "837/837 [==============================] - 1s 2ms/step - loss: 0.0116\n",
      "Epoch 67/100\n",
      "837/837 [==============================] - 1s 2ms/step - loss: 0.0122\n",
      "Epoch 68/100\n",
      "837/837 [==============================] - 1s 2ms/step - loss: 0.0140\n",
      "Epoch 69/100\n",
      "837/837 [==============================] - 1s 2ms/step - loss: 0.0127\n",
      "Epoch 70/100\n",
      "837/837 [==============================] - 1s 2ms/step - loss: 0.0121\n",
      "Epoch 71/100\n",
      "837/837 [==============================] - 1s 2ms/step - loss: 0.0130\n",
      "Epoch 72/100\n",
      "837/837 [==============================] - 1s 2ms/step - loss: 0.0124\n",
      "Epoch 73/100\n",
      "837/837 [==============================] - 1s 2ms/step - loss: 0.0126\n",
      "Epoch 74/100\n",
      "837/837 [==============================] - 1s 2ms/step - loss: 0.0120\n",
      "Epoch 75/100\n",
      "837/837 [==============================] - 1s 2ms/step - loss: 0.0132\n",
      "Epoch 76/100\n",
      "837/837 [==============================] - 2s 2ms/step - loss: 0.0122\n",
      "Epoch 77/100\n",
      "837/837 [==============================] - 1s 2ms/step - loss: 0.0129\n",
      "Epoch 78/100\n",
      "837/837 [==============================] - 1s 2ms/step - loss: 0.0121\n",
      "Epoch 79/100\n",
      "837/837 [==============================] - 1s 2ms/step - loss: 0.0115\n",
      "Epoch 80/100\n",
      "837/837 [==============================] - 1s 2ms/step - loss: 0.0125\n",
      "Epoch 81/100\n",
      "837/837 [==============================] - 1s 2ms/step - loss: 0.0131\n",
      "Epoch 82/100\n",
      "837/837 [==============================] - 1s 2ms/step - loss: 0.0117\n",
      "Epoch 83/100\n",
      "837/837 [==============================] - 1s 2ms/step - loss: 0.0123\n",
      "Epoch 84/100\n",
      "837/837 [==============================] - 1s 2ms/step - loss: 0.0127\n",
      "Epoch 85/100\n",
      "837/837 [==============================] - 2s 2ms/step - loss: 0.0119\n",
      "Epoch 86/100\n",
      "837/837 [==============================] - 2s 2ms/step - loss: 0.0122\n",
      "Epoch 87/100\n",
      "837/837 [==============================] - 1s 2ms/step - loss: 0.0115\n",
      "Epoch 88/100\n",
      "837/837 [==============================] - 1s 2ms/step - loss: 0.0110\n",
      "Epoch 89/100\n",
      "837/837 [==============================] - 1s 2ms/step - loss: 0.0117\n",
      "Epoch 90/100\n",
      "837/837 [==============================] - 1s 2ms/step - loss: 0.0113\n",
      "Epoch 91/100\n",
      "837/837 [==============================] - 1s 2ms/step - loss: 0.0121\n",
      "Epoch 92/100\n",
      "837/837 [==============================] - 1s 2ms/step - loss: 0.0120\n",
      "Epoch 93/100\n",
      "837/837 [==============================] - 1s 2ms/step - loss: 0.0118\n",
      "Epoch 94/100\n",
      "837/837 [==============================] - 1s 2ms/step - loss: 0.0108\n",
      "Epoch 95/100\n",
      "837/837 [==============================] - 1s 2ms/step - loss: 0.0125\n",
      "Epoch 96/100\n",
      "837/837 [==============================] - 1s 2ms/step - loss: 0.0120\n",
      "Epoch 97/100\n",
      "837/837 [==============================] - 1s 2ms/step - loss: 0.0122\n",
      "Epoch 98/100\n",
      "837/837 [==============================] - 1s 2ms/step - loss: 0.0114\n",
      "Epoch 99/100\n",
      "837/837 [==============================] - 1s 2ms/step - loss: 0.0111\n",
      "Epoch 100/100\n",
      "837/837 [==============================] - 1s 2ms/step - loss: 0.0122\n"
     ]
    },
    {
     "data": {
      "text/plain": [
       "<keras.callbacks.History at 0x7f644a749160>"
      ]
     },
     "execution_count": 102,
     "metadata": {
      "tags": []
     },
     "output_type": "execute_result"
    }
   ],
   "source": [
    "# define the model for segment_2\n",
    "\n",
    "# Initialising the RNN\n",
    "segment_2_model = Sequential()\n",
    "\n",
    "# Adding the first LSTM layer and some Dropout regularisation\n",
    "segment_2_model.add(Bidirectional(LSTM(500, activation='relu',dropout = 0.2), input_shape=(X_train_segment2.shape[1],1)))\n",
    "segment_2_model.add(Dropout(0.2))\n",
    "\n",
    "\n",
    "# Adding the output layer\n",
    "segment_2_model.add(Dense(units = 1))\n",
    "\n",
    "# compiling the RNN\n",
    "segment_2_model.compile(optimizer = 'adam', loss = 'mean_squared_error')\n",
    "\n",
    "# Fitting the RNN to the Training set\n",
    "segment_2_model.fit(X_train_segment2,y_train_segment2, epochs = 100, batch_size = 16)"
   ]
  },
  {
   "cell_type": "code",
   "execution_count": 0,
   "metadata": {
    "colab": {},
    "colab_type": "code",
    "id": "Q8Cf3TXidxXF"
   },
   "outputs": [],
   "source": [
    "segment_2_model"
   ]
  },
  {
   "cell_type": "code",
   "execution_count": 103,
   "metadata": {
    "colab": {
     "base_uri": "https://localhost:8080/",
     "height": 142
    },
    "colab_type": "code",
    "executionInfo": {
     "elapsed": 848,
     "status": "ok",
     "timestamp": 1580052459862,
     "user": {
      "displayName": "Tarun Koundinya",
      "photoUrl": "https://lh3.googleusercontent.com/a-/AAuE7mCuJFCbjNNUC21JfUrOEkSyuTMp8VnRZcH3JXTsOg=s64",
      "userId": "06377727563339288111"
     },
     "user_tz": -330
    },
    "id": "JJTWRKATULSk",
    "outputId": "b4b8fbf5-e7f9-41bd-dd7f-83e70cb11b37"
   },
   "outputs": [
    {
     "data": {
      "text/html": [
       "<div>\n",
       "<style scoped>\n",
       "    .dataframe tbody tr th:only-of-type {\n",
       "        vertical-align: middle;\n",
       "    }\n",
       "\n",
       "    .dataframe tbody tr th {\n",
       "        vertical-align: top;\n",
       "    }\n",
       "\n",
       "    .dataframe thead th {\n",
       "        text-align: right;\n",
       "    }\n",
       "</style>\n",
       "<table border=\"1\" class=\"dataframe\">\n",
       "  <thead>\n",
       "    <tr style=\"text-align: right;\">\n",
       "      <th></th>\n",
       "      <th>id</th>\n",
       "      <th>application_date</th>\n",
       "      <th>segment</th>\n",
       "    </tr>\n",
       "  </thead>\n",
       "  <tbody>\n",
       "    <tr>\n",
       "      <th>0</th>\n",
       "      <td>1</td>\n",
       "      <td>2019-07-06</td>\n",
       "      <td>1</td>\n",
       "    </tr>\n",
       "    <tr>\n",
       "      <th>1</th>\n",
       "      <td>2</td>\n",
       "      <td>2019-07-07</td>\n",
       "      <td>1</td>\n",
       "    </tr>\n",
       "    <tr>\n",
       "      <th>2</th>\n",
       "      <td>3</td>\n",
       "      <td>2019-07-08</td>\n",
       "      <td>1</td>\n",
       "    </tr>\n",
       "  </tbody>\n",
       "</table>\n",
       "</div>"
      ],
      "text/plain": [
       "   id application_date  segment\n",
       "0   1       2019-07-06        1\n",
       "1   2       2019-07-07        1\n",
       "2   3       2019-07-08        1"
      ]
     },
     "execution_count": 103,
     "metadata": {
      "tags": []
     },
     "output_type": "execute_result"
    }
   ],
   "source": [
    "# lets load the test dataset\n",
    "dataset_test = pd.read_csv('/content/drive/My Drive/L&T/test_1eLl9Yf.csv')\n",
    "dataset_test.head(3)"
   ]
  },
  {
   "cell_type": "code",
   "execution_count": 104,
   "metadata": {
    "colab": {
     "base_uri": "https://localhost:8080/",
     "height": 34
    },
    "colab_type": "code",
    "executionInfo": {
     "elapsed": 811,
     "status": "ok",
     "timestamp": 1580052461202,
     "user": {
      "displayName": "Tarun Koundinya",
      "photoUrl": "https://lh3.googleusercontent.com/a-/AAuE7mCuJFCbjNNUC21JfUrOEkSyuTMp8VnRZcH3JXTsOg=s64",
      "userId": "06377727563339288111"
     },
     "user_tz": -330
    },
    "id": "hdX0aUOpULSl",
    "outputId": "688404a8-dc28-45b5-d131-f3a2414ccf04"
   },
   "outputs": [
    {
     "data": {
      "text/plain": [
       "180"
      ]
     },
     "execution_count": 104,
     "metadata": {
      "tags": []
     },
     "output_type": "execute_result"
    }
   ],
   "source": [
    "# lets check the length of dataset_test\n",
    "len(dataset_test)"
   ]
  },
  {
   "cell_type": "code",
   "execution_count": 105,
   "metadata": {
    "colab": {
     "base_uri": "https://localhost:8080/",
     "height": 204
    },
    "colab_type": "code",
    "executionInfo": {
     "elapsed": 614,
     "status": "ok",
     "timestamp": 1580052462311,
     "user": {
      "displayName": "Tarun Koundinya",
      "photoUrl": "https://lh3.googleusercontent.com/a-/AAuE7mCuJFCbjNNUC21JfUrOEkSyuTMp8VnRZcH3JXTsOg=s64",
      "userId": "06377727563339288111"
     },
     "user_tz": -330
    },
    "id": "gMTU2mmZULSo",
    "outputId": "58c1a598-5364-406a-f42b-824072376a92"
   },
   "outputs": [
    {
     "data": {
      "text/html": [
       "<div>\n",
       "<style scoped>\n",
       "    .dataframe tbody tr th:only-of-type {\n",
       "        vertical-align: middle;\n",
       "    }\n",
       "\n",
       "    .dataframe tbody tr th {\n",
       "        vertical-align: top;\n",
       "    }\n",
       "\n",
       "    .dataframe thead th {\n",
       "        text-align: right;\n",
       "    }\n",
       "</style>\n",
       "<table border=\"1\" class=\"dataframe\">\n",
       "  <thead>\n",
       "    <tr style=\"text-align: right;\">\n",
       "      <th></th>\n",
       "      <th>application_date</th>\n",
       "      <th>case_count</th>\n",
       "    </tr>\n",
       "  </thead>\n",
       "  <tbody>\n",
       "    <tr>\n",
       "      <th>0</th>\n",
       "      <td>2017-04-01</td>\n",
       "      <td>897.0</td>\n",
       "    </tr>\n",
       "    <tr>\n",
       "      <th>1</th>\n",
       "      <td>2017-04-02</td>\n",
       "      <td>605.0</td>\n",
       "    </tr>\n",
       "    <tr>\n",
       "      <th>2</th>\n",
       "      <td>2017-04-03</td>\n",
       "      <td>2016.0</td>\n",
       "    </tr>\n",
       "    <tr>\n",
       "      <th>3</th>\n",
       "      <td>2017-04-04</td>\n",
       "      <td>2245.0</td>\n",
       "    </tr>\n",
       "    <tr>\n",
       "      <th>4</th>\n",
       "      <td>2017-04-05</td>\n",
       "      <td>2415.0</td>\n",
       "    </tr>\n",
       "  </tbody>\n",
       "</table>\n",
       "</div>"
      ],
      "text/plain": [
       "  application_date  case_count\n",
       "0       2017-04-01       897.0\n",
       "1       2017-04-02       605.0\n",
       "2       2017-04-03      2016.0\n",
       "3       2017-04-04      2245.0\n",
       "4       2017-04-05      2415.0"
      ]
     },
     "execution_count": 105,
     "metadata": {
      "tags": []
     },
     "output_type": "execute_result"
    }
   ],
   "source": [
    "segment2_train.head()"
   ]
  },
  {
   "cell_type": "code",
   "execution_count": 106,
   "metadata": {
    "colab": {
     "base_uri": "https://localhost:8080/",
     "height": 136
    },
    "colab_type": "code",
    "executionInfo": {
     "elapsed": 871,
     "status": "ok",
     "timestamp": 1580052468160,
     "user": {
      "displayName": "Tarun Koundinya",
      "photoUrl": "https://lh3.googleusercontent.com/a-/AAuE7mCuJFCbjNNUC21JfUrOEkSyuTMp8VnRZcH3JXTsOg=s64",
      "userId": "06377727563339288111"
     },
     "user_tz": -330
    },
    "id": "fNMvUS8IULSp",
    "outputId": "0e6cbf17-97a1-45a3-cb97-598e0cafa30b"
   },
   "outputs": [
    {
     "name": "stdout",
     "output_type": "stream",
     "text": [
      "dataset_total2 shape: (844,)\n"
     ]
    },
    {
     "data": {
      "text/plain": [
       "0     897.0\n",
       "1     605.0\n",
       "2    2016.0\n",
       "3    2245.0\n",
       "4    2415.0\n",
       "Name: case_count, dtype: float64"
      ]
     },
     "execution_count": 106,
     "metadata": {
      "tags": []
     },
     "output_type": "execute_result"
    }
   ],
   "source": [
    "# Extracting the case_count feature\n",
    "dataset_total2 = segment2_train.copy()\n",
    "dataset_total2 = dataset_total2.case_count\n",
    "print('dataset_total2 shape:',dataset_total2.shape)\n",
    "dataset_total2.head()"
   ]
  },
  {
   "cell_type": "code",
   "execution_count": 107,
   "metadata": {
    "colab": {
     "base_uri": "https://localhost:8080/",
     "height": 34
    },
    "colab_type": "code",
    "executionInfo": {
     "elapsed": 784,
     "status": "ok",
     "timestamp": 1580052469466,
     "user": {
      "displayName": "Tarun Koundinya",
      "photoUrl": "https://lh3.googleusercontent.com/a-/AAuE7mCuJFCbjNNUC21JfUrOEkSyuTMp8VnRZcH3JXTsOg=s64",
      "userId": "06377727563339288111"
     },
     "user_tz": -330
    },
    "id": "oLMyShVlULSq",
    "outputId": "8e8c8064-2645-47e3-88da-316a2c57a174"
   },
   "outputs": [
    {
     "data": {
      "text/plain": [
       "844"
      ]
     },
     "execution_count": 107,
     "metadata": {
      "tags": []
     },
     "output_type": "execute_result"
    }
   ],
   "source": [
    "# lets check the length of dataset_total\n",
    "len(dataset_total2)"
   ]
  },
  {
   "cell_type": "code",
   "execution_count": 108,
   "metadata": {
    "colab": {
     "base_uri": "https://localhost:8080/",
     "height": 119
    },
    "colab_type": "code",
    "executionInfo": {
     "elapsed": 1008,
     "status": "ok",
     "timestamp": 1580052484540,
     "user": {
      "displayName": "Tarun Koundinya",
      "photoUrl": "https://lh3.googleusercontent.com/a-/AAuE7mCuJFCbjNNUC21JfUrOEkSyuTMp8VnRZcH3JXTsOg=s64",
      "userId": "06377727563339288111"
     },
     "user_tz": -330
    },
    "id": "ohbJD5CiULSs",
    "outputId": "435a132c-4348-4995-95d1-963ea5ec7a5c"
   },
   "outputs": [
    {
     "data": {
      "text/plain": [
       "744    22101.0\n",
       "745    25680.0\n",
       "746    27849.0\n",
       "747    18712.0\n",
       "748    25054.0\n",
       "Name: case_count, dtype: float64"
      ]
     },
     "execution_count": 108,
     "metadata": {
      "tags": []
     },
     "output_type": "execute_result"
    }
   ],
   "source": [
    "# we are going to predict 93 days for segment2\n",
    "# to predict 93 days we are taking 7 timesteps as input\n",
    "inputs2 = dataset_total2[len(dataset_total2) - 93 - 7:]\n",
    "inputs2.head()"
   ]
  },
  {
   "cell_type": "code",
   "execution_count": 0,
   "metadata": {
    "colab": {},
    "colab_type": "code",
    "id": "KDhJ9MAcULSt"
   },
   "outputs": [],
   "source": [
    "inputs2 = inputs2.values\n",
    "#inputs2"
   ]
  },
  {
   "cell_type": "code",
   "execution_count": 110,
   "metadata": {
    "colab": {
     "base_uri": "https://localhost:8080/",
     "height": 34
    },
    "colab_type": "code",
    "executionInfo": {
     "elapsed": 870,
     "status": "ok",
     "timestamp": 1580052486192,
     "user": {
      "displayName": "Tarun Koundinya",
      "photoUrl": "https://lh3.googleusercontent.com/a-/AAuE7mCuJFCbjNNUC21JfUrOEkSyuTMp8VnRZcH3JXTsOg=s64",
      "userId": "06377727563339288111"
     },
     "user_tz": -330
    },
    "id": "ZXuvl8plULSu",
    "outputId": "f7bc8314-7537-4fcb-d910-962edd653545"
   },
   "outputs": [
    {
     "data": {
      "text/plain": [
       "(100,)"
      ]
     },
     "execution_count": 110,
     "metadata": {
      "tags": []
     },
     "output_type": "execute_result"
    }
   ],
   "source": [
    "# lets check the shape of inputs2\n",
    "inputs2.shape"
   ]
  },
  {
   "cell_type": "code",
   "execution_count": 111,
   "metadata": {
    "colab": {
     "base_uri": "https://localhost:8080/",
     "height": 1000
    },
    "colab_type": "code",
    "executionInfo": {
     "elapsed": 1037,
     "status": "ok",
     "timestamp": 1580052489290,
     "user": {
      "displayName": "Tarun Koundinya",
      "photoUrl": "https://lh3.googleusercontent.com/a-/AAuE7mCuJFCbjNNUC21JfUrOEkSyuTMp8VnRZcH3JXTsOg=s64",
      "userId": "06377727563339288111"
     },
     "user_tz": -330
    },
    "id": "3OgCpteuULSv",
    "outputId": "ed38920f-d1a5-4a9d-a11e-8d9a048856eb"
   },
   "outputs": [
    {
     "data": {
      "text/plain": [
       "array([[22101.],\n",
       "       [25680.],\n",
       "       [27849.],\n",
       "       [18712.],\n",
       "       [25054.],\n",
       "       [24209.],\n",
       "       [17086.],\n",
       "       [29305.],\n",
       "       [23980.],\n",
       "       [27052.],\n",
       "       [26691.],\n",
       "       [24811.],\n",
       "       [22324.],\n",
       "       [14656.],\n",
       "       [ 7582.],\n",
       "       [ 1235.],\n",
       "       [ 3992.],\n",
       "       [ 4997.],\n",
       "       [ 4042.],\n",
       "       [ 4043.],\n",
       "       [ 2681.],\n",
       "       [ 2790.],\n",
       "       [ 2880.],\n",
       "       [ 3727.],\n",
       "       [ 4492.],\n",
       "       [ 4919.],\n",
       "       [16913.],\n",
       "       [11892.],\n",
       "       [26389.],\n",
       "       [30635.],\n",
       "       [30377.],\n",
       "       [29675.],\n",
       "       [29109.],\n",
       "       [28690.],\n",
       "       [13988.],\n",
       "       [27489.],\n",
       "       [29749.],\n",
       "       [29467.],\n",
       "       [26609.],\n",
       "       [26262.],\n",
       "       [21915.],\n",
       "       [14304.],\n",
       "       [21465.],\n",
       "       [21506.],\n",
       "       [16301.],\n",
       "       [ 8619.],\n",
       "       [ 1445.],\n",
       "       [ 6302.],\n",
       "       [ 3736.],\n",
       "       [ 3878.],\n",
       "       [ 3888.],\n",
       "       [ 2663.],\n",
       "       [ 2758.],\n",
       "       [ 4055.],\n",
       "       [ 4308.],\n",
       "       [ 3834.],\n",
       "       [ 5509.],\n",
       "       [18954.],\n",
       "       [25680.],\n",
       "       [29767.],\n",
       "       [30489.],\n",
       "       [24513.],\n",
       "       [13209.],\n",
       "       [30689.],\n",
       "       [32325.],\n",
       "       [31360.],\n",
       "       [30255.],\n",
       "       [28593.],\n",
       "       [25863.],\n",
       "       [13126.],\n",
       "       [23278.],\n",
       "       [25387.],\n",
       "       [25386.],\n",
       "       [23167.],\n",
       "       [18434.],\n",
       "       [ 7251.],\n",
       "       [  865.],\n",
       "       [ 6974.],\n",
       "       [ 7107.],\n",
       "       [ 5669.],\n",
       "       [ 5951.],\n",
       "       [ 4755.],\n",
       "       [ 3944.],\n",
       "       [ 3058.],\n",
       "       [ 3760.],\n",
       "       [ 4483.],\n",
       "       [ 5445.],\n",
       "       [16736.],\n",
       "       [23284.],\n",
       "       [26360.],\n",
       "       [12351.],\n",
       "       [26769.],\n",
       "       [31277.],\n",
       "       [31604.],\n",
       "       [32547.],\n",
       "       [29778.],\n",
       "       [26123.],\n",
       "       [12267.],\n",
       "       [27292.],\n",
       "       [29183.]])"
      ]
     },
     "execution_count": 111,
     "metadata": {
      "tags": []
     },
     "output_type": "execute_result"
    }
   ],
   "source": [
    "# lets reshape the inputs2 into rows X columns\n",
    "inputs2 = inputs2.reshape(-1,1)\n",
    "inputs2"
   ]
  },
  {
   "cell_type": "code",
   "execution_count": 112,
   "metadata": {
    "colab": {
     "base_uri": "https://localhost:8080/",
     "height": 34
    },
    "colab_type": "code",
    "executionInfo": {
     "elapsed": 1191,
     "status": "ok",
     "timestamp": 1580052493665,
     "user": {
      "displayName": "Tarun Koundinya",
      "photoUrl": "https://lh3.googleusercontent.com/a-/AAuE7mCuJFCbjNNUC21JfUrOEkSyuTMp8VnRZcH3JXTsOg=s64",
      "userId": "06377727563339288111"
     },
     "user_tz": -330
    },
    "id": "O-E2YoyuULSx",
    "outputId": "11daeb53-690a-4964-ac80-4ecd3677462a"
   },
   "outputs": [
    {
     "data": {
      "text/plain": [
       "(100, 1)"
      ]
     },
     "execution_count": 112,
     "metadata": {
      "tags": []
     },
     "output_type": "execute_result"
    }
   ],
   "source": [
    "# lets check the shape of inputs2\n",
    "inputs2.shape"
   ]
  },
  {
   "cell_type": "code",
   "execution_count": 0,
   "metadata": {
    "colab": {},
    "colab_type": "code",
    "id": "zOErJg0xULSy"
   },
   "outputs": [],
   "source": [
    "# transforming inputs into scale (0,1)\n",
    "inputs2 = sc.transform(inputs2)"
   ]
  },
  {
   "cell_type": "code",
   "execution_count": 114,
   "metadata": {
    "colab": {
     "base_uri": "https://localhost:8080/",
     "height": 34
    },
    "colab_type": "code",
    "executionInfo": {
     "elapsed": 773,
     "status": "ok",
     "timestamp": 1580052494322,
     "user": {
      "displayName": "Tarun Koundinya",
      "photoUrl": "https://lh3.googleusercontent.com/a-/AAuE7mCuJFCbjNNUC21JfUrOEkSyuTMp8VnRZcH3JXTsOg=s64",
      "userId": "06377727563339288111"
     },
     "user_tz": -330
    },
    "id": "bt17wC-GULSz",
    "outputId": "4e21b825-f072-45cd-a23a-6f7fd9b04b7a"
   },
   "outputs": [
    {
     "data": {
      "text/plain": [
       "100"
      ]
     },
     "execution_count": 114,
     "metadata": {
      "tags": []
     },
     "output_type": "execute_result"
    }
   ],
   "source": [
    "# lets check length of inputs\n",
    "len(inputs2)"
   ]
  },
  {
   "cell_type": "code",
   "execution_count": 120,
   "metadata": {
    "colab": {
     "base_uri": "https://localhost:8080/",
     "height": 1000
    },
    "colab_type": "code",
    "executionInfo": {
     "elapsed": 886,
     "status": "ok",
     "timestamp": 1580052556887,
     "user": {
      "displayName": "Tarun Koundinya",
      "photoUrl": "https://lh3.googleusercontent.com/a-/AAuE7mCuJFCbjNNUC21JfUrOEkSyuTMp8VnRZcH3JXTsOg=s64",
      "userId": "06377727563339288111"
     },
     "user_tz": -330
    },
    "id": "HZoDjifBULS0",
    "outputId": "84f62457-cc0f-4c65-9030-127dd07102f2"
   },
   "outputs": [
    {
     "data": {
      "text/plain": [
       "array([[0.50760421, 0.5905782 , 0.64086336, 0.4290351 , 0.57606528,\n",
       "        0.55647517, 0.39133862],\n",
       "       [0.5905782 , 0.64086336, 0.4290351 , 0.57606528, 0.55647517,\n",
       "        0.39133862, 0.67461863],\n",
       "       [0.64086336, 0.4290351 , 0.57606528, 0.55647517, 0.39133862,\n",
       "        0.67461863, 0.55116613],\n",
       "       [0.4290351 , 0.57606528, 0.55647517, 0.39133862, 0.67461863,\n",
       "        0.55116613, 0.62238605],\n",
       "       [0.57606528, 0.55647517, 0.39133862, 0.67461863, 0.55116613,\n",
       "        0.62238605, 0.61401678],\n",
       "       [0.55647517, 0.39133862, 0.67461863, 0.55116613, 0.62238605,\n",
       "        0.61401678, 0.57043168],\n",
       "       [0.39133862, 0.67461863, 0.55116613, 0.62238605, 0.61401678,\n",
       "        0.57043168, 0.51277415],\n",
       "       [0.67461863, 0.55116613, 0.62238605, 0.61401678, 0.57043168,\n",
       "        0.51277415, 0.33500255],\n",
       "       [0.55116613, 0.62238605, 0.61401678, 0.57043168, 0.51277415,\n",
       "        0.33500255, 0.17100199],\n",
       "       [0.62238605, 0.61401678, 0.57043168, 0.51277415, 0.33500255,\n",
       "        0.17100199, 0.02385589],\n",
       "       [0.61401678, 0.57043168, 0.51277415, 0.33500255, 0.17100199,\n",
       "        0.02385589, 0.08777299],\n",
       "       [0.57043168, 0.51277415, 0.33500255, 0.17100199, 0.02385589,\n",
       "        0.08777299, 0.11107247],\n",
       "       [0.51277415, 0.33500255, 0.17100199, 0.02385589, 0.08777299,\n",
       "        0.11107247, 0.08893216],\n",
       "       [0.33500255, 0.17100199, 0.02385589, 0.08777299, 0.11107247,\n",
       "        0.08893216, 0.08895535],\n",
       "       [0.17100199, 0.02385589, 0.08777299, 0.11107247, 0.08893216,\n",
       "        0.08895535, 0.05737933],\n",
       "       [0.02385589, 0.08777299, 0.11107247, 0.08893216, 0.08895535,\n",
       "        0.05737933, 0.05990634],\n",
       "       [0.08777299, 0.11107247, 0.08893216, 0.08895535, 0.05737933,\n",
       "        0.05990634, 0.06199286],\n",
       "       [0.11107247, 0.08893216, 0.08895535, 0.05737933, 0.05990634,\n",
       "        0.06199286, 0.08162934],\n",
       "       [0.08893216, 0.08895535, 0.05737933, 0.05990634, 0.06199286,\n",
       "        0.08162934, 0.09936477],\n",
       "       [0.08895535, 0.05737933, 0.05990634, 0.06199286, 0.08162934,\n",
       "        0.09936477, 0.10926415],\n",
       "       [0.05737933, 0.05990634, 0.06199286, 0.08162934, 0.09936477,\n",
       "        0.10926415, 0.38732786],\n",
       "       [0.05990634, 0.06199286, 0.08162934, 0.09936477, 0.10926415,\n",
       "        0.38732786, 0.27092317],\n",
       "       [0.06199286, 0.08162934, 0.09936477, 0.10926415, 0.38732786,\n",
       "        0.27092317, 0.60701535],\n",
       "       [0.08162934, 0.09936477, 0.10926415, 0.38732786, 0.27092317,\n",
       "        0.60701535, 0.70545278],\n",
       "       [0.09936477, 0.10926415, 0.38732786, 0.27092317, 0.60701535,\n",
       "        0.70545278, 0.69947141],\n",
       "       [0.10926415, 0.38732786, 0.27092317, 0.60701535, 0.70545278,\n",
       "        0.69947141, 0.68319655],\n",
       "       [0.38732786, 0.27092317, 0.60701535, 0.70545278, 0.69947141,\n",
       "        0.68319655, 0.67007465],\n",
       "       [0.27092317, 0.60701535, 0.70545278, 0.69947141, 0.68319655,\n",
       "        0.67007465, 0.66036074],\n",
       "       [0.60701535, 0.70545278, 0.69947141, 0.68319655, 0.67007465,\n",
       "        0.66036074, 0.31951593],\n",
       "       [0.70545278, 0.69947141, 0.68319655, 0.67007465, 0.66036074,\n",
       "        0.31951593, 0.63251727],\n",
       "       [0.69947141, 0.68319655, 0.67007465, 0.66036074, 0.31951593,\n",
       "        0.63251727, 0.68491213],\n",
       "       [0.68319655, 0.67007465, 0.66036074, 0.31951593, 0.63251727,\n",
       "        0.68491213, 0.67837437],\n",
       "       [0.67007465, 0.66036074, 0.31951593, 0.63251727, 0.68491213,\n",
       "        0.67837437, 0.61211573],\n",
       "       [0.66036074, 0.31951593, 0.63251727, 0.68491213, 0.67837437,\n",
       "        0.61211573, 0.60407103],\n",
       "       [0.31951593, 0.63251727, 0.68491213, 0.67837437, 0.61211573,\n",
       "        0.60407103, 0.50329207],\n",
       "       [0.63251727, 0.68491213, 0.67837437, 0.61211573, 0.60407103,\n",
       "        0.50329207, 0.32684193],\n",
       "       [0.68491213, 0.67837437, 0.61211573, 0.60407103, 0.50329207,\n",
       "        0.32684193, 0.49285946],\n",
       "       [0.67837437, 0.61211573, 0.60407103, 0.50329207, 0.32684193,\n",
       "        0.49285946, 0.49380999],\n",
       "       [0.61211573, 0.60407103, 0.50329207, 0.32684193, 0.49285946,\n",
       "        0.49380999, 0.37313952],\n",
       "       [0.60407103, 0.50329207, 0.32684193, 0.49285946, 0.49380999,\n",
       "        0.37313952, 0.19504335],\n",
       "       [0.50329207, 0.32684193, 0.49285946, 0.49380999, 0.37313952,\n",
       "        0.19504335, 0.02872444],\n",
       "       [0.32684193, 0.49285946, 0.49380999, 0.37313952, 0.19504335,\n",
       "        0.02872444, 0.14132703],\n",
       "       [0.49285946, 0.49380999, 0.37313952, 0.19504335, 0.02872444,\n",
       "        0.14132703, 0.08183799],\n",
       "       [0.49380999, 0.37313952, 0.19504335, 0.02872444, 0.14132703,\n",
       "        0.08183799, 0.08513006],\n",
       "       [0.37313952, 0.19504335, 0.02872444, 0.14132703, 0.08183799,\n",
       "        0.08513006, 0.0853619 ],\n",
       "       [0.19504335, 0.02872444, 0.14132703, 0.08183799, 0.08513006,\n",
       "        0.0853619 , 0.05696203],\n",
       "       [0.02872444, 0.14132703, 0.08183799, 0.08513006, 0.0853619 ,\n",
       "        0.05696203, 0.05916446],\n",
       "       [0.14132703, 0.08183799, 0.08513006, 0.0853619 , 0.05696203,\n",
       "        0.05916446, 0.08923355],\n",
       "       [0.08183799, 0.08513006, 0.0853619 , 0.05696203, 0.05916446,\n",
       "        0.08923355, 0.09509899],\n",
       "       [0.08513006, 0.0853619 , 0.05696203, 0.05916446, 0.08923355,\n",
       "        0.09509899, 0.08410998],\n",
       "       [0.0853619 , 0.05696203, 0.05916446, 0.08923355, 0.09509899,\n",
       "        0.08410998, 0.12294246],\n",
       "       [0.05696203, 0.05916446, 0.08923355, 0.09509899, 0.08410998,\n",
       "        0.12294246, 0.43464552],\n",
       "       [0.05916446, 0.08923355, 0.09509899, 0.08410998, 0.12294246,\n",
       "        0.43464552, 0.5905782 ],\n",
       "       [0.08923355, 0.09509899, 0.08410998, 0.12294246, 0.43464552,\n",
       "        0.5905782 , 0.68532944],\n",
       "       [0.09509899, 0.08410998, 0.12294246, 0.43464552, 0.5905782 ,\n",
       "        0.68532944, 0.70206797],\n",
       "       [0.08410998, 0.12294246, 0.43464552, 0.5905782 , 0.68532944,\n",
       "        0.70206797, 0.56352297],\n",
       "       [0.12294246, 0.43464552, 0.5905782 , 0.68532944, 0.70206797,\n",
       "        0.56352297, 0.30145593],\n",
       "       [0.43464552, 0.5905782 , 0.68532944, 0.70206797, 0.56352297,\n",
       "        0.30145593, 0.70670469],\n",
       "       [0.5905782 , 0.68532944, 0.70206797, 0.56352297, 0.30145593,\n",
       "        0.70670469, 0.744633  ],\n",
       "       [0.68532944, 0.70206797, 0.56352297, 0.30145593, 0.70670469,\n",
       "        0.744633  , 0.72226086],\n",
       "       [0.70206797, 0.56352297, 0.30145593, 0.70670469, 0.744633  ,\n",
       "        0.72226086, 0.69664302],\n",
       "       [0.56352297, 0.30145593, 0.70670469, 0.744633  , 0.72226086,\n",
       "        0.69664302, 0.65811193],\n",
       "       [0.30145593, 0.70670469, 0.744633  , 0.72226086, 0.69664302,\n",
       "        0.65811193, 0.59482079],\n",
       "       [0.70670469, 0.744633  , 0.72226086, 0.69664302, 0.65811193,\n",
       "        0.59482079, 0.29953169],\n",
       "       [0.744633  , 0.72226086, 0.69664302, 0.65811193, 0.59482079,\n",
       "        0.29953169, 0.53489127],\n",
       "       [0.72226086, 0.69664302, 0.65811193, 0.59482079, 0.29953169,\n",
       "        0.53489127, 0.58378541],\n",
       "       [0.69664302, 0.65811193, 0.59482079, 0.29953169, 0.53489127,\n",
       "        0.58378541, 0.58376223],\n",
       "       [0.65811193, 0.59482079, 0.29953169, 0.53489127, 0.58378541,\n",
       "        0.58376223, 0.53231789],\n",
       "       [0.59482079, 0.29953169, 0.53489127, 0.58378541, 0.58376223,\n",
       "        0.53231789, 0.42259007],\n",
       "       [0.29953169, 0.53489127, 0.58378541, 0.58376223, 0.53231789,\n",
       "        0.42259007, 0.16332823],\n",
       "       [0.53489127, 0.58378541, 0.58376223, 0.53231789, 0.42259007,\n",
       "        0.16332823, 0.01527797],\n",
       "       [0.58378541, 0.58376223, 0.53231789, 0.42259007, 0.16332823,\n",
       "        0.01527797, 0.15690638],\n",
       "       [0.58376223, 0.53231789, 0.42259007, 0.16332823, 0.01527797,\n",
       "        0.15690638, 0.1599898 ],\n",
       "       [0.53231789, 0.42259007, 0.16332823, 0.01527797, 0.15690638,\n",
       "        0.1599898 , 0.12665183],\n",
       "       [0.42259007, 0.16332823, 0.01527797, 0.15690638, 0.1599898 ,\n",
       "        0.12665183, 0.1331896 ],\n",
       "       [0.16332823, 0.01527797, 0.15690638, 0.1599898 , 0.12665183,\n",
       "        0.1331896 , 0.10546205],\n",
       "       [0.01527797, 0.15690638, 0.1599898 , 0.12665183, 0.1331896 ,\n",
       "        0.10546205, 0.08666018],\n",
       "       [0.15690638, 0.1599898 , 0.12665183, 0.1331896 , 0.10546205,\n",
       "        0.08666018, 0.06611953],\n",
       "       [0.1599898 , 0.12665183, 0.1331896 , 0.10546205, 0.08666018,\n",
       "        0.06611953, 0.0823944 ],\n",
       "       [0.12665183, 0.1331896 , 0.10546205, 0.08666018, 0.06611953,\n",
       "        0.0823944 , 0.09915612],\n",
       "       [0.1331896 , 0.10546205, 0.08666018, 0.06611953, 0.0823944 ,\n",
       "        0.09915612, 0.12145871],\n",
       "       [0.10546205, 0.08666018, 0.06611953, 0.0823944 , 0.09915612,\n",
       "        0.12145871, 0.38322437],\n",
       "       [0.08666018, 0.06611953, 0.0823944 , 0.09915612, 0.12145871,\n",
       "        0.38322437, 0.53503037],\n",
       "       [0.06611953, 0.0823944 , 0.09915612, 0.12145871, 0.38322437,\n",
       "        0.53503037, 0.60634302],\n",
       "       [0.0823944 , 0.09915612, 0.12145871, 0.38322437, 0.53503037,\n",
       "        0.60634302, 0.28156443],\n",
       "       [0.09915612, 0.12145871, 0.38322437, 0.53503037, 0.60634302,\n",
       "        0.28156443, 0.6158251 ],\n",
       "       [0.12145871, 0.38322437, 0.53503037, 0.60634302, 0.28156443,\n",
       "        0.6158251 , 0.72033663],\n",
       "       [0.38322437, 0.53503037, 0.60634302, 0.28156443, 0.6158251 ,\n",
       "        0.72033663, 0.72791765],\n",
       "       [0.53503037, 0.60634302, 0.28156443, 0.6158251 , 0.72033663,\n",
       "        0.72791765, 0.74977976],\n",
       "       [0.60634302, 0.28156443, 0.6158251 , 0.72033663, 0.72791765,\n",
       "        0.74977976, 0.68558446],\n",
       "       [0.28156443, 0.6158251 , 0.72033663, 0.72791765, 0.74977976,\n",
       "        0.68558446, 0.60084852],\n",
       "       [0.6158251 , 0.72033663, 0.72791765, 0.74977976, 0.68558446,\n",
       "        0.60084852, 0.27961701],\n",
       "       [0.72033663, 0.72791765, 0.74977976, 0.68558446, 0.60084852,\n",
       "        0.27961701, 0.62795011]])"
      ]
     },
     "execution_count": 120,
     "metadata": {
      "tags": []
     },
     "output_type": "execute_result"
    }
   ],
   "source": [
    "# prepare the data for test_segment2\n",
    "X_test_segment2 = []\n",
    "for i in range(7,len(inputs2)):\n",
    "    X_test_segment2.append(inputs2[i-7:i,0])\n",
    "\n",
    "X_test_segment2 = np.array(X_test_segment2)\n",
    "X_test_segment2"
   ]
  },
  {
   "cell_type": "code",
   "execution_count": 121,
   "metadata": {
    "colab": {
     "base_uri": "https://localhost:8080/",
     "height": 34
    },
    "colab_type": "code",
    "executionInfo": {
     "elapsed": 825,
     "status": "ok",
     "timestamp": 1580052558630,
     "user": {
      "displayName": "Tarun Koundinya",
      "photoUrl": "https://lh3.googleusercontent.com/a-/AAuE7mCuJFCbjNNUC21JfUrOEkSyuTMp8VnRZcH3JXTsOg=s64",
      "userId": "06377727563339288111"
     },
     "user_tz": -330
    },
    "id": "ud2d3CqxULS2",
    "outputId": "e2d7b7db-97ed-4a72-c257-b6963929b49e"
   },
   "outputs": [
    {
     "data": {
      "text/plain": [
       "(93, 7)"
      ]
     },
     "execution_count": 121,
     "metadata": {
      "tags": []
     },
     "output_type": "execute_result"
    }
   ],
   "source": [
    "# lets check the shape of X_test_segment2\n",
    "X_test_segment2.shape"
   ]
  },
  {
   "cell_type": "code",
   "execution_count": 122,
   "metadata": {
    "colab": {
     "base_uri": "https://localhost:8080/",
     "height": 34
    },
    "colab_type": "code",
    "executionInfo": {
     "elapsed": 756,
     "status": "ok",
     "timestamp": 1580052560116,
     "user": {
      "displayName": "Tarun Koundinya",
      "photoUrl": "https://lh3.googleusercontent.com/a-/AAuE7mCuJFCbjNNUC21JfUrOEkSyuTMp8VnRZcH3JXTsOg=s64",
      "userId": "06377727563339288111"
     },
     "user_tz": -330
    },
    "id": "Ynz8RRjeULS3",
    "outputId": "37887af6-3fd7-4271-a85e-a790352e3bc3"
   },
   "outputs": [
    {
     "name": "stdout",
     "output_type": "stream",
     "text": [
      "X_test_segment2 Shape: (93, 7, 1)\n"
     ]
    }
   ],
   "source": [
    "# Reshaping the data for LSTM model\n",
    "X_test_segment2 = np.reshape(X_test_segment2,(X_test_segment2.shape[0],X_test_segment2.shape[1],1))\n",
    "print('X_test_segment2 Shape:', X_test_segment2.shape)"
   ]
  },
  {
   "cell_type": "code",
   "execution_count": 0,
   "metadata": {
    "colab": {},
    "colab_type": "code",
    "id": "73GlrhG3ULS7"
   },
   "outputs": [],
   "source": [
    "# lets predict for segment 1 for 93 days with 60 timesteps\n",
    "predicted_segment2 = segment_2_model.predict(X_test_segment2)"
   ]
  },
  {
   "cell_type": "code",
   "execution_count": 124,
   "metadata": {
    "colab": {
     "base_uri": "https://localhost:8080/",
     "height": 1000
    },
    "colab_type": "code",
    "executionInfo": {
     "elapsed": 628,
     "status": "ok",
     "timestamp": 1580052563114,
     "user": {
      "displayName": "Tarun Koundinya",
      "photoUrl": "https://lh3.googleusercontent.com/a-/AAuE7mCuJFCbjNNUC21JfUrOEkSyuTMp8VnRZcH3JXTsOg=s64",
      "userId": "06377727563339288111"
     },
     "user_tz": -330
    },
    "id": "KjktWVIzULS8",
    "outputId": "1dea4784-c16f-49f2-b5dc-512a477eac5c"
   },
   "outputs": [
    {
     "data": {
      "text/plain": [
       "array([[12842.413 ],\n",
       "       [26627.514 ],\n",
       "       [19883.725 ],\n",
       "       [19674.023 ],\n",
       "       [18296.273 ],\n",
       "       [16462.023 ],\n",
       "       [13091.323 ],\n",
       "       [ 8712.453 ],\n",
       "       [ 4699.9756],\n",
       "       [ 3211.6812],\n",
       "       [ 3994.7705],\n",
       "       [ 4370.187 ],\n",
       "       [ 4085.816 ],\n",
       "       [ 3683.2168],\n",
       "       [ 2770.2764],\n",
       "       [ 2785.4412],\n",
       "       [ 3874.9126],\n",
       "       [ 4889.57  ],\n",
       "       [ 4456.569 ],\n",
       "       [ 4332.973 ],\n",
       "       [15861.903 ],\n",
       "       [13389.088 ],\n",
       "       [25047.691 ],\n",
       "       [24794.457 ],\n",
       "       [22694.375 ],\n",
       "       [21015.387 ],\n",
       "       [19861.139 ],\n",
       "       [18100.744 ],\n",
       "       [14308.267 ],\n",
       "       [25086.568 ],\n",
       "       [23086.215 ],\n",
       "       [21078.953 ],\n",
       "       [18326.402 ],\n",
       "       [17166.2   ],\n",
       "       [13411.563 ],\n",
       "       [ 8398.645 ],\n",
       "       [17856.883 ],\n",
       "       [14931.374 ],\n",
       "       [10908.389 ],\n",
       "       [ 4793.8286],\n",
       "       [ 3806.4734],\n",
       "       [ 3757.4219],\n",
       "       [ 3373.5674],\n",
       "       [ 3721.8176],\n",
       "       [ 3614.1978],\n",
       "       [ 2746.6565],\n",
       "       [ 2770.4275],\n",
       "       [ 4553.467 ],\n",
       "       [ 4326.5786],\n",
       "       [ 4017.1106],\n",
       "       [ 4951.66  ],\n",
       "       [18408.27  ],\n",
       "       [24107.664 ],\n",
       "       [24518.127 ],\n",
       "       [22760.227 ],\n",
       "       [19719.18  ],\n",
       "       [12380.441 ],\n",
       "       [28336.771 ],\n",
       "       [25984.98  ],\n",
       "       [23087.846 ],\n",
       "       [21026.764 ],\n",
       "       [19094.252 ],\n",
       "       [15134.955 ],\n",
       "       [10435.141 ],\n",
       "       [20629.746 ],\n",
       "       [18942.52  ],\n",
       "       [17653.594 ],\n",
       "       [15404.159 ],\n",
       "       [12033.592 ],\n",
       "       [ 5380.536 ],\n",
       "       [ 3875.7026],\n",
       "       [ 4999.9463],\n",
       "       [ 5144.4395],\n",
       "       [ 4608.63  ],\n",
       "       [ 4469.0366],\n",
       "       [ 4356.449 ],\n",
       "       [ 3074.7874],\n",
       "       [ 4933.188 ],\n",
       "       [ 4765.9717],\n",
       "       [ 5794.521 ],\n",
       "       [ 6628.5835],\n",
       "       [19313.547 ],\n",
       "       [22533.984 ],\n",
       "       [22077.303 ],\n",
       "       [16979.2   ],\n",
       "       [23541.133 ],\n",
       "       [23958.174 ],\n",
       "       [23140.66  ],\n",
       "       [23438.002 ],\n",
       "       [20772.955 ],\n",
       "       [16252.827 ],\n",
       "       [10833.486 ],\n",
       "       [25752.29  ]], dtype=float32)"
      ]
     },
     "execution_count": 124,
     "metadata": {
      "tags": []
     },
     "output_type": "execute_result"
    }
   ],
   "source": [
    "# lets inverse transform the predictions (i.e bringing into normal form)\n",
    "predicted_segment2 = sc.inverse_transform(predicted_segment2)\n",
    "predicted_segment2"
   ]
  },
  {
   "cell_type": "code",
   "execution_count": 0,
   "metadata": {
    "colab": {},
    "colab_type": "code",
    "id": "6DgDdWuNULS9"
   },
   "outputs": [],
   "source": [
    "# creating data for id column\n",
    "segment2_id = []\n",
    "for d in range(88,181):\n",
    "    segment2_id.append(d)"
   ]
  },
  {
   "cell_type": "code",
   "execution_count": 126,
   "metadata": {
    "colab": {
     "base_uri": "https://localhost:8080/",
     "height": 34
    },
    "colab_type": "code",
    "executionInfo": {
     "elapsed": 886,
     "status": "ok",
     "timestamp": 1580052568741,
     "user": {
      "displayName": "Tarun Koundinya",
      "photoUrl": "https://lh3.googleusercontent.com/a-/AAuE7mCuJFCbjNNUC21JfUrOEkSyuTMp8VnRZcH3JXTsOg=s64",
      "userId": "06377727563339288111"
     },
     "user_tz": -330
    },
    "id": "ORmDRWj2ULS_",
    "outputId": "09f457cb-851a-42d2-b401-2fbe2e847fc2"
   },
   "outputs": [
    {
     "data": {
      "text/plain": [
       "93"
      ]
     },
     "execution_count": 126,
     "metadata": {
      "tags": []
     },
     "output_type": "execute_result"
    }
   ],
   "source": [
    "len(segment2_id)"
   ]
  },
  {
   "cell_type": "code",
   "execution_count": 127,
   "metadata": {
    "colab": {
     "base_uri": "https://localhost:8080/",
     "height": 204
    },
    "colab_type": "code",
    "executionInfo": {
     "elapsed": 967,
     "status": "ok",
     "timestamp": 1580052569904,
     "user": {
      "displayName": "Tarun Koundinya",
      "photoUrl": "https://lh3.googleusercontent.com/a-/AAuE7mCuJFCbjNNUC21JfUrOEkSyuTMp8VnRZcH3JXTsOg=s64",
      "userId": "06377727563339288111"
     },
     "user_tz": -330
    },
    "id": "etpU7LaRULTB",
    "outputId": "06463b9b-7036-482d-b111-86595c2d0950"
   },
   "outputs": [
    {
     "data": {
      "text/html": [
       "<div>\n",
       "<style scoped>\n",
       "    .dataframe tbody tr th:only-of-type {\n",
       "        vertical-align: middle;\n",
       "    }\n",
       "\n",
       "    .dataframe tbody tr th {\n",
       "        vertical-align: top;\n",
       "    }\n",
       "\n",
       "    .dataframe thead th {\n",
       "        text-align: right;\n",
       "    }\n",
       "</style>\n",
       "<table border=\"1\" class=\"dataframe\">\n",
       "  <thead>\n",
       "    <tr style=\"text-align: right;\">\n",
       "      <th></th>\n",
       "      <th>case_count</th>\n",
       "      <th>id</th>\n",
       "      <th>segment</th>\n",
       "    </tr>\n",
       "  </thead>\n",
       "  <tbody>\n",
       "    <tr>\n",
       "      <th>0</th>\n",
       "      <td>12842</td>\n",
       "      <td>88</td>\n",
       "      <td>2</td>\n",
       "    </tr>\n",
       "    <tr>\n",
       "      <th>1</th>\n",
       "      <td>26628</td>\n",
       "      <td>89</td>\n",
       "      <td>2</td>\n",
       "    </tr>\n",
       "    <tr>\n",
       "      <th>2</th>\n",
       "      <td>19884</td>\n",
       "      <td>90</td>\n",
       "      <td>2</td>\n",
       "    </tr>\n",
       "    <tr>\n",
       "      <th>3</th>\n",
       "      <td>19674</td>\n",
       "      <td>91</td>\n",
       "      <td>2</td>\n",
       "    </tr>\n",
       "    <tr>\n",
       "      <th>4</th>\n",
       "      <td>18296</td>\n",
       "      <td>92</td>\n",
       "      <td>2</td>\n",
       "    </tr>\n",
       "  </tbody>\n",
       "</table>\n",
       "</div>"
      ],
      "text/plain": [
       "   case_count  id  segment\n",
       "0       12842  88        2\n",
       "1       26628  89        2\n",
       "2       19884  90        2\n",
       "3       19674  91        2\n",
       "4       18296  92        2"
      ]
     },
     "execution_count": 127,
     "metadata": {
      "tags": []
     },
     "output_type": "execute_result"
    }
   ],
   "source": [
    "# lets put the predictions i.e case_count into a dataframe\n",
    "segment2 = pd.DataFrame(predicted_segment2)\n",
    "segment2 = segment2.rename(columns = {0:'case_count'})\n",
    "segment2['id'] = segment2_id\n",
    "segment2['segment'] = 2\n",
    "segment2['case_count'] = segment2['case_count'].round(0).astype(int)\n",
    "segment2.head()"
   ]
  },
  {
   "cell_type": "code",
   "execution_count": 128,
   "metadata": {
    "colab": {
     "base_uri": "https://localhost:8080/",
     "height": 34
    },
    "colab_type": "code",
    "executionInfo": {
     "elapsed": 617,
     "status": "ok",
     "timestamp": 1580052570679,
     "user": {
      "displayName": "Tarun Koundinya",
      "photoUrl": "https://lh3.googleusercontent.com/a-/AAuE7mCuJFCbjNNUC21JfUrOEkSyuTMp8VnRZcH3JXTsOg=s64",
      "userId": "06377727563339288111"
     },
     "user_tz": -330
    },
    "id": "QqWadNTHULTC",
    "outputId": "0c94d472-506a-421c-b33e-54cd16ad4ff6"
   },
   "outputs": [
    {
     "data": {
      "text/plain": [
       "(93, 3)"
      ]
     },
     "execution_count": 128,
     "metadata": {
      "tags": []
     },
     "output_type": "execute_result"
    }
   ],
   "source": [
    "# lets check the shape of predictions\n",
    "segment2.shape"
   ]
  },
  {
   "cell_type": "code",
   "execution_count": 0,
   "metadata": {
    "colab": {},
    "colab_type": "code",
    "id": "ekm2nrPqULTD"
   },
   "outputs": [],
   "source": []
  },
  {
   "cell_type": "code",
   "execution_count": 129,
   "metadata": {
    "colab": {
     "base_uri": "https://localhost:8080/",
     "height": 111
    },
    "colab_type": "code",
    "executionInfo": {
     "elapsed": 630,
     "status": "ok",
     "timestamp": 1580052573150,
     "user": {
      "displayName": "Tarun Koundinya",
      "photoUrl": "https://lh3.googleusercontent.com/a-/AAuE7mCuJFCbjNNUC21JfUrOEkSyuTMp8VnRZcH3JXTsOg=s64",
      "userId": "06377727563339288111"
     },
     "user_tz": -330
    },
    "id": "cYf5W1zeULTE",
    "outputId": "2512c4de-2b1e-4d7d-cda2-f557cdf0764f"
   },
   "outputs": [
    {
     "data": {
      "text/html": [
       "<div>\n",
       "<style scoped>\n",
       "    .dataframe tbody tr th:only-of-type {\n",
       "        vertical-align: middle;\n",
       "    }\n",
       "\n",
       "    .dataframe tbody tr th {\n",
       "        vertical-align: top;\n",
       "    }\n",
       "\n",
       "    .dataframe thead th {\n",
       "        text-align: right;\n",
       "    }\n",
       "</style>\n",
       "<table border=\"1\" class=\"dataframe\">\n",
       "  <thead>\n",
       "    <tr style=\"text-align: right;\">\n",
       "      <th></th>\n",
       "      <th>application_date</th>\n",
       "      <th>case_count</th>\n",
       "    </tr>\n",
       "  </thead>\n",
       "  <tbody>\n",
       "    <tr>\n",
       "      <th>0</th>\n",
       "      <td>2017-04-01</td>\n",
       "      <td>897.0</td>\n",
       "    </tr>\n",
       "    <tr>\n",
       "      <th>1</th>\n",
       "      <td>2017-04-02</td>\n",
       "      <td>605.0</td>\n",
       "    </tr>\n",
       "  </tbody>\n",
       "</table>\n",
       "</div>"
      ],
      "text/plain": [
       "  application_date  case_count\n",
       "0       2017-04-01       897.0\n",
       "1       2017-04-02       605.0"
      ]
     },
     "execution_count": 129,
     "metadata": {
      "tags": []
     },
     "output_type": "execute_result"
    }
   ],
   "source": [
    "segment2_train.head(2)"
   ]
  },
  {
   "cell_type": "code",
   "execution_count": 0,
   "metadata": {
    "colab": {},
    "colab_type": "code",
    "id": "kOgh7lEOULTF"
   },
   "outputs": [],
   "source": [
    "real_case_count_segment2 = segment2_train.iloc[:,1:2].values"
   ]
  },
  {
   "cell_type": "code",
   "execution_count": 131,
   "metadata": {
    "colab": {
     "base_uri": "https://localhost:8080/",
     "height": 85
    },
    "colab_type": "code",
    "executionInfo": {
     "elapsed": 816,
     "status": "ok",
     "timestamp": 1580052577511,
     "user": {
      "displayName": "Tarun Koundinya",
      "photoUrl": "https://lh3.googleusercontent.com/a-/AAuE7mCuJFCbjNNUC21JfUrOEkSyuTMp8VnRZcH3JXTsOg=s64",
      "userId": "06377727563339288111"
     },
     "user_tz": -330
    },
    "id": "MPzGDa1MULTG",
    "outputId": "f88a315c-4b43-4ffe-9eeb-d53d1f0aa94a"
   },
   "outputs": [
    {
     "data": {
      "text/plain": [
       "0     897.0\n",
       "1     605.0\n",
       "2    2016.0\n",
       "Name: case_count, dtype: float64"
      ]
     },
     "execution_count": 131,
     "metadata": {
      "tags": []
     },
     "output_type": "execute_result"
    }
   ],
   "source": [
    "inputs_X_test_segment2_prediction = dataset_total2\n",
    "inputs_X_test_segment2_prediction.head(3)"
   ]
  },
  {
   "cell_type": "code",
   "execution_count": 0,
   "metadata": {
    "colab": {},
    "colab_type": "code",
    "id": "8U2ZmO08ULTH"
   },
   "outputs": [],
   "source": [
    "inputs_X_test_segment2_prediction = inputs_X_test_segment2_prediction.values\n",
    "#inputs_X_test_segment1_prediction"
   ]
  },
  {
   "cell_type": "code",
   "execution_count": 133,
   "metadata": {
    "colab": {
     "base_uri": "https://localhost:8080/",
     "height": 34
    },
    "colab_type": "code",
    "executionInfo": {
     "elapsed": 917,
     "status": "ok",
     "timestamp": 1580052578331,
     "user": {
      "displayName": "Tarun Koundinya",
      "photoUrl": "https://lh3.googleusercontent.com/a-/AAuE7mCuJFCbjNNUC21JfUrOEkSyuTMp8VnRZcH3JXTsOg=s64",
      "userId": "06377727563339288111"
     },
     "user_tz": -330
    },
    "id": "RI9d9mgIULTK",
    "outputId": "d09a57b0-bbb2-4737-9342-b4a195dcd671"
   },
   "outputs": [
    {
     "data": {
      "text/plain": [
       "(844,)"
      ]
     },
     "execution_count": 133,
     "metadata": {
      "tags": []
     },
     "output_type": "execute_result"
    }
   ],
   "source": [
    "inputs_X_test_segment2_prediction.shape"
   ]
  },
  {
   "cell_type": "code",
   "execution_count": 0,
   "metadata": {
    "colab": {},
    "colab_type": "code",
    "id": "V6_UvfQKULTL"
   },
   "outputs": [],
   "source": [
    "inputs_X_test_segment2_prediction = inputs_X_test_segment2_prediction.reshape(-1,1)"
   ]
  },
  {
   "cell_type": "code",
   "execution_count": 135,
   "metadata": {
    "colab": {
     "base_uri": "https://localhost:8080/",
     "height": 34
    },
    "colab_type": "code",
    "executionInfo": {
     "elapsed": 834,
     "status": "ok",
     "timestamp": 1580052579042,
     "user": {
      "displayName": "Tarun Koundinya",
      "photoUrl": "https://lh3.googleusercontent.com/a-/AAuE7mCuJFCbjNNUC21JfUrOEkSyuTMp8VnRZcH3JXTsOg=s64",
      "userId": "06377727563339288111"
     },
     "user_tz": -330
    },
    "id": "_gDWpxMzULTM",
    "outputId": "3bf02c45-a300-4889-ed1c-47aaeeb2cd76"
   },
   "outputs": [
    {
     "data": {
      "text/plain": [
       "(844, 1)"
      ]
     },
     "execution_count": 135,
     "metadata": {
      "tags": []
     },
     "output_type": "execute_result"
    }
   ],
   "source": [
    "inputs_X_test_segment2_prediction.shape"
   ]
  },
  {
   "cell_type": "code",
   "execution_count": 0,
   "metadata": {
    "colab": {},
    "colab_type": "code",
    "id": "iAH-sxr7ULTN"
   },
   "outputs": [],
   "source": [
    "inputs_X_test_segment2_prediction = sc.transform(inputs_X_test_segment2_prediction)"
   ]
  },
  {
   "cell_type": "code",
   "execution_count": 138,
   "metadata": {
    "colab": {
     "base_uri": "https://localhost:8080/",
     "height": 34
    },
    "colab_type": "code",
    "executionInfo": {
     "elapsed": 1128,
     "status": "ok",
     "timestamp": 1580052593905,
     "user": {
      "displayName": "Tarun Koundinya",
      "photoUrl": "https://lh3.googleusercontent.com/a-/AAuE7mCuJFCbjNNUC21JfUrOEkSyuTMp8VnRZcH3JXTsOg=s64",
      "userId": "06377727563339288111"
     },
     "user_tz": -330
    },
    "id": "RbsCpKiaULTO",
    "outputId": "53801701-0869-4c8e-93f4-18c9134ceea0"
   },
   "outputs": [
    {
     "data": {
      "text/plain": [
       "844"
      ]
     },
     "execution_count": 138,
     "metadata": {
      "tags": []
     },
     "output_type": "execute_result"
    }
   ],
   "source": [
    "len(inputs_X_test_segment2_prediction)"
   ]
  },
  {
   "cell_type": "code",
   "execution_count": 0,
   "metadata": {
    "colab": {},
    "colab_type": "code",
    "id": "HpyBPHVUULTP"
   },
   "outputs": [],
   "source": [
    "# prepare the data for test_segment1\n",
    "X_test_segment2_prediction = []\n",
    "for i in range(7,len(inputs_X_test_segment2_prediction)):\n",
    "    X_test_segment2_prediction.append(inputs_X_test_segment2_prediction[i-7:i,0])\n",
    "\n",
    "X_test_segment2_prediction = np.array(X_test_segment2_prediction)\n",
    "#X_test_segment1_prediction"
   ]
  },
  {
   "cell_type": "code",
   "execution_count": 140,
   "metadata": {
    "colab": {
     "base_uri": "https://localhost:8080/",
     "height": 34
    },
    "colab_type": "code",
    "executionInfo": {
     "elapsed": 1111,
     "status": "ok",
     "timestamp": 1580052601230,
     "user": {
      "displayName": "Tarun Koundinya",
      "photoUrl": "https://lh3.googleusercontent.com/a-/AAuE7mCuJFCbjNNUC21JfUrOEkSyuTMp8VnRZcH3JXTsOg=s64",
      "userId": "06377727563339288111"
     },
     "user_tz": -330
    },
    "id": "PdbWRF0VULTR",
    "outputId": "d07ebb5e-8f4c-453f-90cc-e3858ec87f3f"
   },
   "outputs": [
    {
     "data": {
      "text/plain": [
       "(837, 7)"
      ]
     },
     "execution_count": 140,
     "metadata": {
      "tags": []
     },
     "output_type": "execute_result"
    }
   ],
   "source": [
    "X_test_segment2_prediction.shape"
   ]
  },
  {
   "cell_type": "code",
   "execution_count": 141,
   "metadata": {
    "colab": {
     "base_uri": "https://localhost:8080/",
     "height": 34
    },
    "colab_type": "code",
    "executionInfo": {
     "elapsed": 629,
     "status": "ok",
     "timestamp": 1580052601231,
     "user": {
      "displayName": "Tarun Koundinya",
      "photoUrl": "https://lh3.googleusercontent.com/a-/AAuE7mCuJFCbjNNUC21JfUrOEkSyuTMp8VnRZcH3JXTsOg=s64",
      "userId": "06377727563339288111"
     },
     "user_tz": -330
    },
    "id": "lzM_Ngl1ULTT",
    "outputId": "f190f225-9a71-455a-b7bb-6db09db72154"
   },
   "outputs": [
    {
     "name": "stdout",
     "output_type": "stream",
     "text": [
      "X_test_segment2_prediction Shape: (837, 7, 1)\n"
     ]
    }
   ],
   "source": [
    "X_test_segment2_prediction = np.reshape(X_test_segment2_prediction,(X_test_segment2_prediction.shape[0],X_test_segment2_prediction.shape[1],1))\n",
    "print('X_test_segment2_prediction Shape:', X_test_segment2_prediction.shape)"
   ]
  },
  {
   "cell_type": "code",
   "execution_count": 0,
   "metadata": {
    "colab": {},
    "colab_type": "code",
    "id": "Hq3EWCREULTU"
   },
   "outputs": [],
   "source": [
    "predicted_real_case_count_segment2 = segment_2_model.predict(X_test_segment2_prediction)\n",
    "#predicted_real_case_count"
   ]
  },
  {
   "cell_type": "code",
   "execution_count": 143,
   "metadata": {
    "colab": {
     "base_uri": "https://localhost:8080/",
     "height": 1000
    },
    "colab_type": "code",
    "executionInfo": {
     "elapsed": 701,
     "status": "ok",
     "timestamp": 1580052611142,
     "user": {
      "displayName": "Tarun Koundinya",
      "photoUrl": "https://lh3.googleusercontent.com/a-/AAuE7mCuJFCbjNNUC21JfUrOEkSyuTMp8VnRZcH3JXTsOg=s64",
      "userId": "06377727563339288111"
     },
     "user_tz": -330
    },
    "id": "d4zeHOxeULTV",
    "outputId": "74f74e1f-80d9-4fed-9f8a-5b8c9ebcc8f1"
   },
   "outputs": [
    {
     "data": {
      "text/plain": [
       "array([[ 3936.7812],\n",
       "       [ 3633.7354],\n",
       "       [ 3246.521 ],\n",
       "       [ 3602.3108],\n",
       "       [ 5163.981 ],\n",
       "       [ 7512.94  ],\n",
       "       [ 8303.29  ],\n",
       "       [ 6861.575 ],\n",
       "       [ 6423.1333],\n",
       "       [ 6806.934 ],\n",
       "       [ 9654.514 ],\n",
       "       [11599.716 ],\n",
       "       [11790.478 ],\n",
       "       [11909.07  ],\n",
       "       [10437.95  ],\n",
       "       [ 8564.826 ],\n",
       "       [ 6330.9424],\n",
       "       [ 4917.544 ],\n",
       "       [ 3571.7375],\n",
       "       [ 2263.2498],\n",
       "       [ 2084.6304],\n",
       "       [ 2595.835 ],\n",
       "       [ 3435.7478],\n",
       "       [ 3788.992 ],\n",
       "       [ 4191.719 ],\n",
       "       [ 5033.98  ],\n",
       "       [ 5044.652 ],\n",
       "       [ 4809.0537],\n",
       "       [ 4232.3237],\n",
       "       [ 3671.9846],\n",
       "       [ 3284.1365],\n",
       "       [ 3281.8809],\n",
       "       [ 3422.1663],\n",
       "       [ 3383.8948],\n",
       "       [ 6234.6763],\n",
       "       [ 6877.333 ],\n",
       "       [ 5329.9355],\n",
       "       [ 3984.8806],\n",
       "       [ 7642.483 ],\n",
       "       [ 8209.706 ],\n",
       "       [10397.848 ],\n",
       "       [14392.606 ],\n",
       "       [12020.193 ],\n",
       "       [ 9863.6875],\n",
       "       [ 7580.0684],\n",
       "       [ 7043.81  ],\n",
       "       [ 7404.2017],\n",
       "       [ 5748.685 ],\n",
       "       [ 6155.3843],\n",
       "       [ 5309.067 ],\n",
       "       [ 5443.6924],\n",
       "       [ 3860.6243],\n",
       "       [ 2726.0554],\n",
       "       [ 3117.969 ],\n",
       "       [ 3404.4895],\n",
       "       [ 4522.342 ],\n",
       "       [ 3947.0234],\n",
       "       [ 3945.0093],\n",
       "       [ 3012.8545],\n",
       "       [ 3089.8328],\n",
       "       [ 3820.9863],\n",
       "       [ 4629.8438],\n",
       "       [ 4218.024 ],\n",
       "       [ 4549.229 ],\n",
       "       [ 4563.1914],\n",
       "       [ 6342.458 ],\n",
       "       [13717.899 ],\n",
       "       [17048.512 ],\n",
       "       [15379.7   ],\n",
       "       [14227.725 ],\n",
       "       [12856.362 ],\n",
       "       [11268.753 ],\n",
       "       [ 8288.482 ],\n",
       "       [11194.258 ],\n",
       "       [13601.821 ],\n",
       "       [12704.208 ],\n",
       "       [11169.828 ],\n",
       "       [ 9014.914 ],\n",
       "       [ 7064.652 ],\n",
       "       [ 4010.0107],\n",
       "       [ 3097.7324],\n",
       "       [ 2324.1372],\n",
       "       [ 2325.384 ],\n",
       "       [ 2341.668 ],\n",
       "       [ 2655.8794],\n",
       "       [ 3323.1208],\n",
       "       [ 2973.8594],\n",
       "       [ 3502.6453],\n",
       "       [ 4414.529 ],\n",
       "       [ 4157.073 ],\n",
       "       [ 4174.426 ],\n",
       "       [ 4290.859 ],\n",
       "       [ 3801.5674],\n",
       "       [ 4598.5522],\n",
       "       [ 7253.106 ],\n",
       "       [14495.957 ],\n",
       "       [17376.043 ],\n",
       "       [17611.146 ],\n",
       "       [15863.277 ],\n",
       "       [13409.432 ],\n",
       "       [10065.745 ],\n",
       "       [15145.297 ],\n",
       "       [17161.38  ],\n",
       "       [16264.794 ],\n",
       "       [15902.766 ],\n",
       "       [12726.365 ],\n",
       "       [ 9461.053 ],\n",
       "       [ 5566.1885],\n",
       "       [ 4884.907 ],\n",
       "       [ 5012.549 ],\n",
       "       [ 4636.4033],\n",
       "       [ 4005.95  ],\n",
       "       [ 2493.0667],\n",
       "       [ 3324.4646],\n",
       "       [ 2556.6462],\n",
       "       [ 3067.2217],\n",
       "       [ 4711.14  ],\n",
       "       [ 5335.6797],\n",
       "       [ 4634.114 ],\n",
       "       [ 4090.6318],\n",
       "       [ 3967.9924],\n",
       "       [ 3588.3193],\n",
       "       [ 6001.632 ],\n",
       "       [ 6940.7773],\n",
       "       [ 8527.831 ],\n",
       "       [ 9321.591 ],\n",
       "       [15064.053 ],\n",
       "       [17277.156 ],\n",
       "       [13566.871 ],\n",
       "       [16533.635 ],\n",
       "       [13856.564 ],\n",
       "       [15959.994 ],\n",
       "       [16970.738 ],\n",
       "       [15486.915 ],\n",
       "       [14194.078 ],\n",
       "       [10614.157 ],\n",
       "       [12466.334 ],\n",
       "       [14555.399 ],\n",
       "       [12125.698 ],\n",
       "       [ 8658.551 ],\n",
       "       [ 5487.533 ],\n",
       "       [ 5354.597 ],\n",
       "       [ 3727.3625],\n",
       "       [ 2629.6135],\n",
       "       [ 2178.102 ],\n",
       "       [ 2118.9634],\n",
       "       [ 2595.391 ],\n",
       "       [ 4159.977 ],\n",
       "       [ 5553.2266],\n",
       "       [ 4350.7725],\n",
       "       [ 4484.5586],\n",
       "       [ 4824.983 ],\n",
       "       [ 6102.583 ],\n",
       "       [ 9222.988 ],\n",
       "       [ 9256.406 ],\n",
       "       [ 9378.684 ],\n",
       "       [ 8347.66  ],\n",
       "       [15002.856 ],\n",
       "       [21050.318 ],\n",
       "       [20036.705 ],\n",
       "       [19175.164 ],\n",
       "       [16746.408 ],\n",
       "       [14855.706 ],\n",
       "       [11026.606 ],\n",
       "       [14775.815 ],\n",
       "       [10266.69  ],\n",
       "       [20649.158 ],\n",
       "       [16172.006 ],\n",
       "       [11428.3   ],\n",
       "       [ 7486.411 ],\n",
       "       [ 4603.8154],\n",
       "       [ 3971.1707],\n",
       "       [ 3766.5476],\n",
       "       [ 3000.9814],\n",
       "       [ 2366.9785],\n",
       "       [ 2009.9445],\n",
       "       [ 2591.2446],\n",
       "       [ 3218.0312],\n",
       "       [ 3688.543 ],\n",
       "       [ 4950.512 ],\n",
       "       [ 4685.128 ],\n",
       "       [ 5248.149 ],\n",
       "       [ 5661.3027],\n",
       "       [ 5806.392 ],\n",
       "       [ 6453.6343],\n",
       "       [ 9041.891 ],\n",
       "       [11857.979 ],\n",
       "       [18719.988 ],\n",
       "       [21985.295 ],\n",
       "       [20906.656 ],\n",
       "       [18039.273 ],\n",
       "       [14764.196 ],\n",
       "       [13493.023 ],\n",
       "       [11616.97  ],\n",
       "       [ 8301.463 ],\n",
       "       [ 6744.806 ],\n",
       "       [11279.601 ],\n",
       "       [12759.497 ],\n",
       "       [ 9979.453 ],\n",
       "       [13726.529 ],\n",
       "       [16384.994 ],\n",
       "       [13929.953 ],\n",
       "       [11567.016 ],\n",
       "       [ 9846.504 ],\n",
       "       [ 6187.7544],\n",
       "       [ 3245.5417],\n",
       "       [ 2425.9114],\n",
       "       [ 2584.9143],\n",
       "       [ 4182.319 ],\n",
       "       [ 4427.83  ],\n",
       "       [ 5852.8975],\n",
       "       [ 5301.245 ],\n",
       "       [ 3721.387 ],\n",
       "       [ 4967.648 ],\n",
       "       [ 8100.313 ],\n",
       "       [ 9398.9795],\n",
       "       [10762.225 ],\n",
       "       [10517.921 ],\n",
       "       [17387.656 ],\n",
       "       [14713.048 ],\n",
       "       [18877.213 ],\n",
       "       [23292.885 ],\n",
       "       [21930.057 ],\n",
       "       [20138.15  ],\n",
       "       [17837.918 ],\n",
       "       [14587.78  ],\n",
       "       [10673.677 ],\n",
       "       [17068.283 ],\n",
       "       [17030.88  ],\n",
       "       [14939.72  ],\n",
       "       [12951.706 ],\n",
       "       [10374.091 ],\n",
       "       [ 8686.72  ],\n",
       "       [ 5245.196 ],\n",
       "       [ 6226.899 ],\n",
       "       [ 2953.144 ],\n",
       "       [ 2041.4694],\n",
       "       [ 2333.4548],\n",
       "       [ 3180.3025],\n",
       "       [ 4583.819 ],\n",
       "       [ 3848.8071],\n",
       "       [ 5153.96  ],\n",
       "       [ 4896.846 ],\n",
       "       [ 5448.867 ],\n",
       "       [ 7925.847 ],\n",
       "       [ 9001.918 ],\n",
       "       [ 8976.422 ],\n",
       "       [ 8122.143 ],\n",
       "       [16469.79  ],\n",
       "       [22317.152 ],\n",
       "       [21548.914 ],\n",
       "       [18725.701 ],\n",
       "       [19769.016 ],\n",
       "       [16705.477 ],\n",
       "       [12735.644 ],\n",
       "       [19955.049 ],\n",
       "       [21167.666 ],\n",
       "       [20472.812 ],\n",
       "       [18213.635 ],\n",
       "       [15211.099 ],\n",
       "       [12319.825 ],\n",
       "       [ 8179.38  ],\n",
       "       [ 5909.936 ],\n",
       "       [ 8349.134 ],\n",
       "       [ 7651.872 ],\n",
       "       [ 6957.3594],\n",
       "       [ 4812.4907],\n",
       "       [ 4707.6177],\n",
       "       [ 3016.262 ],\n",
       "       [ 2449.183 ],\n",
       "       [ 6173.9585],\n",
       "       [ 8292.305 ],\n",
       "       [ 8534.367 ],\n",
       "       [ 8707.271 ],\n",
       "       [ 7588.427 ],\n",
       "       [ 6927.2603],\n",
       "       [ 9853.677 ],\n",
       "       [10546.256 ],\n",
       "       [12957.015 ],\n",
       "       [21883.69  ],\n",
       "       [22923.941 ],\n",
       "       [18942.268 ],\n",
       "       [13591.143 ],\n",
       "       [10107.753 ],\n",
       "       [18348.115 ],\n",
       "       [23152.477 ],\n",
       "       [21923.922 ],\n",
       "       [19703.672 ],\n",
       "       [17682.203 ],\n",
       "       [13432.985 ],\n",
       "       [13747.644 ],\n",
       "       [20198.812 ],\n",
       "       [15764.634 ],\n",
       "       [13905.145 ],\n",
       "       [11317.47  ],\n",
       "       [ 8386.599 ],\n",
       "       [ 3884.7783],\n",
       "       [ 5554.9946],\n",
       "       [ 2755.1475],\n",
       "       [ 2261.4753],\n",
       "       [ 3006.361 ],\n",
       "       [ 9024.15  ],\n",
       "       [ 7903.004 ],\n",
       "       [ 5383.8813],\n",
       "       [ 6283.557 ],\n",
       "       [ 7335.4136],\n",
       "       [ 9151.26  ],\n",
       "       [ 9956.0205],\n",
       "       [11743.085 ],\n",
       "       [11621.278 ],\n",
       "       [11315.925 ],\n",
       "       [23201.566 ],\n",
       "       [24138.402 ],\n",
       "       [21402.82  ],\n",
       "       [19496.512 ],\n",
       "       [20818.707 ],\n",
       "       [18792.572 ],\n",
       "       [13820.721 ],\n",
       "       [21508.086 ],\n",
       "       [27610.273 ],\n",
       "       [22419.613 ],\n",
       "       [18805.752 ],\n",
       "       [15318.881 ],\n",
       "       [12045.307 ],\n",
       "       [ 6800.729 ],\n",
       "       [ 5453.2295],\n",
       "       [ 3072.4497],\n",
       "       [ 2339.509 ],\n",
       "       [ 3471.6062],\n",
       "       [ 5613.8384],\n",
       "       [ 5447.237 ],\n",
       "       [ 4639.6035],\n",
       "       [ 5712.9927],\n",
       "       [ 6758.8003],\n",
       "       [10561.493 ],\n",
       "       [ 9833.158 ],\n",
       "       [14426.786 ],\n",
       "       [14308.785 ],\n",
       "       [19174.03  ],\n",
       "       [30184.238 ],\n",
       "       [24442.09  ],\n",
       "       [21141.035 ],\n",
       "       [25057.1   ],\n",
       "       [21926.408 ],\n",
       "       [18295.525 ],\n",
       "       [18012.307 ],\n",
       "       [15381.942 ],\n",
       "       [23360.81  ],\n",
       "       [19521.92  ],\n",
       "       [19390.893 ],\n",
       "       [16529.918 ],\n",
       "       [15551.842 ],\n",
       "       [12223.992 ],\n",
       "       [ 9824.196 ],\n",
       "       [10242.336 ],\n",
       "       [ 7300.3013],\n",
       "       [ 4470.6895],\n",
       "       [ 2778.905 ],\n",
       "       [ 2416.8088],\n",
       "       [ 2753.9453],\n",
       "       [ 3728.3284],\n",
       "       [ 4291.4805],\n",
       "       [ 4460.2837],\n",
       "       [ 4090.2065],\n",
       "       [ 4589.13  ],\n",
       "       [ 3981.4395],\n",
       "       [ 5840.5557],\n",
       "       [ 7789.293 ],\n",
       "       [ 9273.748 ],\n",
       "       [19928.66  ],\n",
       "       [23196.5   ],\n",
       "       [21263.031 ],\n",
       "       [17966.445 ],\n",
       "       [13645.531 ],\n",
       "       [19447.324 ],\n",
       "       [21787.61  ],\n",
       "       [21404.176 ],\n",
       "       [20239.385 ],\n",
       "       [19930.318 ],\n",
       "       [18185.82  ],\n",
       "       [15367.223 ],\n",
       "       [19166.975 ],\n",
       "       [18802.334 ],\n",
       "       [15772.021 ],\n",
       "       [13502.692 ],\n",
       "       [ 9945.371 ],\n",
       "       [ 4644.5977],\n",
       "       [ 3417.9077],\n",
       "       [ 3087.0178],\n",
       "       [ 4164.6426],\n",
       "       [ 6026.399 ],\n",
       "       [ 7075.4185],\n",
       "       [ 6164.3726],\n",
       "       [ 5212.796 ],\n",
       "       [ 4205.658 ],\n",
       "       [ 6388.8975],\n",
       "       [ 8840.081 ],\n",
       "       [12608.367 ],\n",
       "       [13350.255 ],\n",
       "       [17198.852 ],\n",
       "       [20293.215 ],\n",
       "       [15375.348 ],\n",
       "       [24519.297 ],\n",
       "       [24558.023 ],\n",
       "       [22978.604 ],\n",
       "       [24314.322 ],\n",
       "       [23846.17  ],\n",
       "       [22521.217 ],\n",
       "       [20863.738 ],\n",
       "       [16920.914 ],\n",
       "       [16655.168 ],\n",
       "       [15124.66  ],\n",
       "       [12949.109 ],\n",
       "       [11292.869 ],\n",
       "       [11375.412 ],\n",
       "       [ 9328.617 ],\n",
       "       [ 6434.6787],\n",
       "       [ 3606.7656],\n",
       "       [ 2626.0024],\n",
       "       [ 2643.7012],\n",
       "       [ 7318.078 ],\n",
       "       [ 8361.873 ],\n",
       "       [ 5273.9976],\n",
       "       [ 9601.284 ],\n",
       "       [ 7958.3057],\n",
       "       [ 8514.1045],\n",
       "       [10509.007 ],\n",
       "       [ 9489.595 ],\n",
       "       [12242.832 ],\n",
       "       [ 9853.398 ],\n",
       "       [22982.361 ],\n",
       "       [29021.209 ],\n",
       "       [27189.994 ],\n",
       "       [25182.848 ],\n",
       "       [23598.154 ],\n",
       "       [19640.098 ],\n",
       "       [16559.283 ],\n",
       "       [17708.027 ],\n",
       "       [29042.152 ],\n",
       "       [25835.799 ],\n",
       "       [25713.822 ],\n",
       "       [21970.205 ],\n",
       "       [18001.258 ],\n",
       "       [13867.842 ],\n",
       "       [14952.832 ],\n",
       "       [18081.084 ],\n",
       "       [14584.574 ],\n",
       "       [ 8917.445 ],\n",
       "       [ 4572.7915],\n",
       "       [ 3544.0637],\n",
       "       [ 4106.6284],\n",
       "       [ 6363.772 ],\n",
       "       [ 7506.7725],\n",
       "       [ 8550.869 ],\n",
       "       [ 8015.8584],\n",
       "       [ 8946.437 ],\n",
       "       [ 9885.032 ],\n",
       "       [ 8829.608 ],\n",
       "       [10614.011 ],\n",
       "       [12732.826 ],\n",
       "       [21621.963 ],\n",
       "       [26212.402 ],\n",
       "       [23388.646 ],\n",
       "       [22778.639 ],\n",
       "       [19409.264 ],\n",
       "       [31738.49  ],\n",
       "       [27582.004 ],\n",
       "       [23176.174 ],\n",
       "       [34276.99  ],\n",
       "       [28741.434 ],\n",
       "       [22484.053 ],\n",
       "       [20762.87  ],\n",
       "       [27599.229 ],\n",
       "       [19565.121 ],\n",
       "       [17958.152 ],\n",
       "       [16138.023 ],\n",
       "       [17030.31  ],\n",
       "       [12561.709 ],\n",
       "       [ 5559.5093],\n",
       "       [ 4144.972 ],\n",
       "       [ 3744.0488],\n",
       "       [10084.753 ],\n",
       "       [ 9265.153 ],\n",
       "       [ 7293.708 ],\n",
       "       [ 7668.7134],\n",
       "       [ 5492.886 ],\n",
       "       [ 6192.6816],\n",
       "       [ 8693.788 ],\n",
       "       [ 8325.207 ],\n",
       "       [ 9021.209 ],\n",
       "       [12768.53  ],\n",
       "       [ 8359.823 ],\n",
       "       [20466.92  ],\n",
       "       [34620.355 ],\n",
       "       [28717.986 ],\n",
       "       [25003.178 ],\n",
       "       [26153.008 ],\n",
       "       [23562.896 ],\n",
       "       [20864.945 ],\n",
       "       [18911.234 ],\n",
       "       [29617.775 ],\n",
       "       [23180.701 ],\n",
       "       [19829.438 ],\n",
       "       [17534.273 ],\n",
       "       [14651.766 ],\n",
       "       [11866.663 ],\n",
       "       [ 6856.4795],\n",
       "       [ 9373.625 ],\n",
       "       [13340.922 ],\n",
       "       [ 9742.983 ],\n",
       "       [ 4557.3384],\n",
       "       [ 3270.6396],\n",
       "       [ 5374.319 ],\n",
       "       [ 4501.614 ],\n",
       "       [ 5857.6655],\n",
       "       [ 6202.3154],\n",
       "       [ 7684.665 ],\n",
       "       [ 6660.3916],\n",
       "       [ 8714.315 ],\n",
       "       [ 8762.386 ],\n",
       "       [ 8346.219 ],\n",
       "       [13295.847 ],\n",
       "       [23512.414 ],\n",
       "       [21866.959 ],\n",
       "       [20650.686 ],\n",
       "       [20942.584 ],\n",
       "       [23896.014 ],\n",
       "       [19620.477 ],\n",
       "       [27583.117 ],\n",
       "       [22812.664 ],\n",
       "       [23053.799 ],\n",
       "       [23431.775 ],\n",
       "       [21868.68  ],\n",
       "       [18438.13  ],\n",
       "       [16843.8   ],\n",
       "       [19504.865 ],\n",
       "       [20649.768 ],\n",
       "       [18589.691 ],\n",
       "       [15228.529 ],\n",
       "       [ 9974.989 ],\n",
       "       [ 5002.5957],\n",
       "       [ 3542.9802],\n",
       "       [ 7068.228 ],\n",
       "       [ 6465.9033],\n",
       "       [ 5517.6396],\n",
       "       [ 5790.96  ],\n",
       "       [ 6770.9326],\n",
       "       [ 6599.521 ],\n",
       "       [ 7999.3657],\n",
       "       [ 9381.437 ],\n",
       "       [10496.57  ],\n",
       "       [12920.714 ],\n",
       "       [27139.773 ],\n",
       "       [26681.664 ],\n",
       "       [23349.283 ],\n",
       "       [20767.525 ],\n",
       "       [23948.857 ],\n",
       "       [18506.963 ],\n",
       "       [16111.95  ],\n",
       "       [ 8389.338 ],\n",
       "       [ 5342.3833],\n",
       "       [14810.574 ],\n",
       "       [ 9757.235 ],\n",
       "       [24357.54  ],\n",
       "       [25502.803 ],\n",
       "       [23857.41  ],\n",
       "       [20229.283 ],\n",
       "       [19969.82  ],\n",
       "       [15646.92  ],\n",
       "       [11279.786 ],\n",
       "       [ 6358.4097],\n",
       "       [ 3516.879 ],\n",
       "       [ 3017.7346],\n",
       "       [ 6193.678 ],\n",
       "       [ 4810.4746],\n",
       "       [ 3949.4294],\n",
       "       [ 3399.839 ],\n",
       "       [ 4447.666 ],\n",
       "       [ 2724.9336],\n",
       "       [ 3486.5073],\n",
       "       [ 4405.2593],\n",
       "       [ 5694.3755],\n",
       "       [ 8821.821 ],\n",
       "       [ 9314.125 ],\n",
       "       [18009.072 ],\n",
       "       [19277.977 ],\n",
       "       [18690.184 ],\n",
       "       [20048.51  ],\n",
       "       [17665.06  ],\n",
       "       [21564.404 ],\n",
       "       [18163.203 ],\n",
       "       [24301.902 ],\n",
       "       [21579.637 ],\n",
       "       [20252.195 ],\n",
       "       [18505.945 ],\n",
       "       [16142.969 ],\n",
       "       [15383.471 ],\n",
       "       [11154.635 ],\n",
       "       [21754.656 ],\n",
       "       [17624.787 ],\n",
       "       [12907.648 ],\n",
       "       [ 5763.3643],\n",
       "       [ 4108.975 ],\n",
       "       [ 5433.503 ],\n",
       "       [ 4195.082 ],\n",
       "       [ 4414.1514],\n",
       "       [ 4535.718 ],\n",
       "       [ 4518.598 ],\n",
       "       [ 3823.4998],\n",
       "       [ 6057.601 ],\n",
       "       [ 7813.6426],\n",
       "       [ 7087.036 ],\n",
       "       [ 8721.672 ],\n",
       "       [25075.012 ],\n",
       "       [24350.732 ],\n",
       "       [23165.986 ],\n",
       "       [21187.178 ],\n",
       "       [19516.623 ],\n",
       "       [15876.857 ],\n",
       "       [28460.25  ],\n",
       "       [23921.553 ],\n",
       "       [23274.643 ],\n",
       "       [24289.318 ],\n",
       "       [21627.729 ],\n",
       "       [18382.404 ],\n",
       "       [15970.623 ],\n",
       "       [17361.516 ],\n",
       "       [11624.497 ],\n",
       "       [14380.856 ],\n",
       "       [13052.649 ],\n",
       "       [ 9286.889 ],\n",
       "       [ 5144.9746],\n",
       "       [ 3399.33  ],\n",
       "       [ 2916.3914],\n",
       "       [ 3672.9011],\n",
       "       [ 5585.4917],\n",
       "       [ 4922.8745],\n",
       "       [ 4993.5405],\n",
       "       [ 5046.642 ],\n",
       "       [ 4973.105 ],\n",
       "       [ 7508.162 ],\n",
       "       [ 9701.656 ],\n",
       "       [ 9883.739 ],\n",
       "       [10020.741 ],\n",
       "       [24877.482 ],\n",
       "       [23071.842 ],\n",
       "       [19031.617 ],\n",
       "       [16958.1   ],\n",
       "       [12032.05  ],\n",
       "       [13735.079 ],\n",
       "       [22035.29  ],\n",
       "       [24272.326 ],\n",
       "       [23561.402 ],\n",
       "       [20325.87  ],\n",
       "       [24912.115 ],\n",
       "       [24106.639 ],\n",
       "       [21658.818 ],\n",
       "       [19197.49  ],\n",
       "       [16736.658 ],\n",
       "       [12864.105 ],\n",
       "       [ 8838.058 ],\n",
       "       [14837.883 ],\n",
       "       [11351.767 ],\n",
       "       [ 5010.9644],\n",
       "       [ 3505.3447],\n",
       "       [ 6548.019 ],\n",
       "       [ 4971.395 ],\n",
       "       [ 3698.0322],\n",
       "       [ 3689.2905],\n",
       "       [ 4360.0723],\n",
       "       [ 4825.0723],\n",
       "       [ 5633.8545],\n",
       "       [ 6643.7715],\n",
       "       [ 7483.468 ],\n",
       "       [ 6883.1313],\n",
       "       [18514.178 ],\n",
       "       [17584.508 ],\n",
       "       [24338.5   ],\n",
       "       [24092.613 ],\n",
       "       [21650.27  ],\n",
       "       [22409.031 ],\n",
       "       [19404.965 ],\n",
       "       [23270.127 ],\n",
       "       [23141.672 ],\n",
       "       [22050.69  ],\n",
       "       [21215.436 ],\n",
       "       [18165.732 ],\n",
       "       [15330.009 ],\n",
       "       [12181.329 ],\n",
       "       [16749.682 ],\n",
       "       [14872.879 ],\n",
       "       [ 8706.666 ],\n",
       "       [ 4677.1216],\n",
       "       [ 4198.051 ],\n",
       "       [ 3569.8674],\n",
       "       [ 3583.7097],\n",
       "       [ 4225.25  ],\n",
       "       [ 3577.682 ],\n",
       "       [ 5112.3945],\n",
       "       [ 8211.97  ],\n",
       "       [10095.621 ],\n",
       "       [ 9408.165 ],\n",
       "       [ 8625.213 ],\n",
       "       [22541.033 ],\n",
       "       [29127.637 ],\n",
       "       [27126.266 ],\n",
       "       [28483.553 ],\n",
       "       [25384.209 ],\n",
       "       [22565.33  ],\n",
       "       [19038.256 ],\n",
       "       [23561.812 ],\n",
       "       [26253.027 ],\n",
       "       [21375.676 ],\n",
       "       [16034.221 ],\n",
       "       [20025.154 ],\n",
       "       [25791.13  ],\n",
       "       [22785.123 ],\n",
       "       [20393.803 ],\n",
       "       [24250.557 ],\n",
       "       [22330.857 ],\n",
       "       [21116.65  ],\n",
       "       [17852.666 ],\n",
       "       [10084.715 ],\n",
       "       [ 5599.9595],\n",
       "       [ 4736.3564],\n",
       "       [ 5199.447 ],\n",
       "       [ 5094.4575],\n",
       "       [ 4711.835 ],\n",
       "       [ 3438.6042],\n",
       "       [ 2887.3955],\n",
       "       [ 4564.488 ],\n",
       "       [ 5232.2876],\n",
       "       [ 5448.925 ],\n",
       "       [ 7307.821 ],\n",
       "       [17613.389 ],\n",
       "       [19159.242 ],\n",
       "       [20858.697 ],\n",
       "       [15589.281 ],\n",
       "       [19074.732 ],\n",
       "       [19847.129 ],\n",
       "       [20987.908 ],\n",
       "       [17009.375 ],\n",
       "       [19365.535 ],\n",
       "       [16280.151 ],\n",
       "       [12842.413 ],\n",
       "       [26627.514 ],\n",
       "       [19883.725 ],\n",
       "       [19674.023 ],\n",
       "       [18296.273 ],\n",
       "       [16462.023 ],\n",
       "       [13091.323 ],\n",
       "       [ 8712.453 ],\n",
       "       [ 4699.9756],\n",
       "       [ 3211.6812],\n",
       "       [ 3994.7705],\n",
       "       [ 4370.187 ],\n",
       "       [ 4085.816 ],\n",
       "       [ 3683.2168],\n",
       "       [ 2770.2764],\n",
       "       [ 2785.4412],\n",
       "       [ 3874.9126],\n",
       "       [ 4889.57  ],\n",
       "       [ 4456.569 ],\n",
       "       [ 4332.973 ],\n",
       "       [15861.903 ],\n",
       "       [13389.088 ],\n",
       "       [25047.691 ],\n",
       "       [24794.457 ],\n",
       "       [22694.375 ],\n",
       "       [21015.387 ],\n",
       "       [19861.139 ],\n",
       "       [18100.744 ],\n",
       "       [14308.267 ],\n",
       "       [25086.568 ],\n",
       "       [23086.215 ],\n",
       "       [21078.953 ],\n",
       "       [18326.402 ],\n",
       "       [17166.2   ],\n",
       "       [13411.563 ],\n",
       "       [ 8398.645 ],\n",
       "       [17856.883 ],\n",
       "       [14931.374 ],\n",
       "       [10908.389 ],\n",
       "       [ 4793.8286],\n",
       "       [ 3806.4734],\n",
       "       [ 3757.4219],\n",
       "       [ 3373.5674],\n",
       "       [ 3721.8176],\n",
       "       [ 3614.1978],\n",
       "       [ 2746.6565],\n",
       "       [ 2770.4275],\n",
       "       [ 4553.467 ],\n",
       "       [ 4326.5786],\n",
       "       [ 4017.1106],\n",
       "       [ 4951.66  ],\n",
       "       [18408.27  ],\n",
       "       [24107.664 ],\n",
       "       [24518.127 ],\n",
       "       [22760.227 ],\n",
       "       [19719.18  ],\n",
       "       [12380.441 ],\n",
       "       [28336.771 ],\n",
       "       [25984.98  ],\n",
       "       [23087.846 ],\n",
       "       [21026.764 ],\n",
       "       [19094.252 ],\n",
       "       [15134.955 ],\n",
       "       [10435.141 ],\n",
       "       [20629.746 ],\n",
       "       [18942.52  ],\n",
       "       [17653.594 ],\n",
       "       [15404.159 ],\n",
       "       [12033.592 ],\n",
       "       [ 5380.536 ],\n",
       "       [ 3875.7026],\n",
       "       [ 4999.9463],\n",
       "       [ 5144.4395],\n",
       "       [ 4608.63  ],\n",
       "       [ 4469.0366],\n",
       "       [ 4356.449 ],\n",
       "       [ 3074.7874],\n",
       "       [ 4933.188 ],\n",
       "       [ 4765.9717],\n",
       "       [ 5794.521 ],\n",
       "       [ 6628.5835],\n",
       "       [19313.547 ],\n",
       "       [22533.984 ],\n",
       "       [22077.303 ],\n",
       "       [16979.2   ],\n",
       "       [23541.133 ],\n",
       "       [23958.174 ],\n",
       "       [23140.66  ],\n",
       "       [23438.002 ],\n",
       "       [20772.955 ],\n",
       "       [16252.828 ],\n",
       "       [10833.486 ],\n",
       "       [25752.29  ]], dtype=float32)"
      ]
     },
     "execution_count": 143,
     "metadata": {
      "tags": []
     },
     "output_type": "execute_result"
    }
   ],
   "source": [
    "predicted_real_case_count_segment2 = sc.inverse_transform(predicted_real_case_count_segment2)\n",
    "predicted_real_case_count_segment2"
   ]
  },
  {
   "cell_type": "code",
   "execution_count": 144,
   "metadata": {
    "colab": {
     "base_uri": "https://localhost:8080/",
     "height": 295
    },
    "colab_type": "code",
    "executionInfo": {
     "elapsed": 1364,
     "status": "ok",
     "timestamp": 1580052616639,
     "user": {
      "displayName": "Tarun Koundinya",
      "photoUrl": "https://lh3.googleusercontent.com/a-/AAuE7mCuJFCbjNNUC21JfUrOEkSyuTMp8VnRZcH3JXTsOg=s64",
      "userId": "06377727563339288111"
     },
     "user_tz": -330
    },
    "id": "YKjLzMCRULTX",
    "outputId": "03d5fb04-dad3-4873-9eb1-327deba10236"
   },
   "outputs": [
    {
     "data": {
      "image/png": "[encoded data removed]",
      "text/plain": [
       "<Figure size 432x288 with 1 Axes>"
      ]
     },
     "metadata": {
      "tags": []
     },
     "output_type": "display_data"
    }
   ],
   "source": [
    "# Visualising the results\n",
    "import matplotlib.pyplot as plt\n",
    "plt.plot(real_case_count_segment2, color = 'red', label = 'Real Number of Applications')\n",
    "plt.plot(predicted_real_case_count_segment2, color = 'blue', label = 'Predicted Number of Applications')\n",
    "plt.title('Number of Applications Predictions for segment 2')\n",
    "plt.xlabel('Time')\n",
    "plt.ylabel('Number of Applications')\n",
    "plt.legend()\n",
    "plt.show()"
   ]
  },
  {
   "cell_type": "code",
   "execution_count": 145,
   "metadata": {
    "colab": {
     "base_uri": "https://localhost:8080/",
     "height": 419
    },
    "colab_type": "code",
    "executionInfo": {
     "elapsed": 955,
     "status": "ok",
     "timestamp": 1580052625654,
     "user": {
      "displayName": "Tarun Koundinya",
      "photoUrl": "https://lh3.googleusercontent.com/a-/AAuE7mCuJFCbjNNUC21JfUrOEkSyuTMp8VnRZcH3JXTsOg=s64",
      "userId": "06377727563339288111"
     },
     "user_tz": -330
    },
    "id": "20tQqszwULTY",
    "outputId": "d4eb74b9-0337-454f-b9b5-7c76adfa1551"
   },
   "outputs": [
    {
     "data": {
      "text/html": [
       "<div>\n",
       "<style scoped>\n",
       "    .dataframe tbody tr th:only-of-type {\n",
       "        vertical-align: middle;\n",
       "    }\n",
       "\n",
       "    .dataframe tbody tr th {\n",
       "        vertical-align: top;\n",
       "    }\n",
       "\n",
       "    .dataframe thead th {\n",
       "        text-align: right;\n",
       "    }\n",
       "</style>\n",
       "<table border=\"1\" class=\"dataframe\">\n",
       "  <thead>\n",
       "    <tr style=\"text-align: right;\">\n",
       "      <th></th>\n",
       "      <th>case_count</th>\n",
       "      <th>id</th>\n",
       "      <th>segment</th>\n",
       "    </tr>\n",
       "  </thead>\n",
       "  <tbody>\n",
       "    <tr>\n",
       "      <th>0</th>\n",
       "      <td>3421</td>\n",
       "      <td>1</td>\n",
       "      <td>1</td>\n",
       "    </tr>\n",
       "    <tr>\n",
       "      <th>1</th>\n",
       "      <td>3543</td>\n",
       "      <td>2</td>\n",
       "      <td>1</td>\n",
       "    </tr>\n",
       "    <tr>\n",
       "      <th>2</th>\n",
       "      <td>3538</td>\n",
       "      <td>3</td>\n",
       "      <td>1</td>\n",
       "    </tr>\n",
       "    <tr>\n",
       "      <th>3</th>\n",
       "      <td>3487</td>\n",
       "      <td>4</td>\n",
       "      <td>1</td>\n",
       "    </tr>\n",
       "    <tr>\n",
       "      <th>4</th>\n",
       "      <td>2310</td>\n",
       "      <td>5</td>\n",
       "      <td>1</td>\n",
       "    </tr>\n",
       "    <tr>\n",
       "      <th>...</th>\n",
       "      <td>...</td>\n",
       "      <td>...</td>\n",
       "      <td>...</td>\n",
       "    </tr>\n",
       "    <tr>\n",
       "      <th>88</th>\n",
       "      <td>23438</td>\n",
       "      <td>176</td>\n",
       "      <td>2</td>\n",
       "    </tr>\n",
       "    <tr>\n",
       "      <th>89</th>\n",
       "      <td>20773</td>\n",
       "      <td>177</td>\n",
       "      <td>2</td>\n",
       "    </tr>\n",
       "    <tr>\n",
       "      <th>90</th>\n",
       "      <td>16253</td>\n",
       "      <td>178</td>\n",
       "      <td>2</td>\n",
       "    </tr>\n",
       "    <tr>\n",
       "      <th>91</th>\n",
       "      <td>10833</td>\n",
       "      <td>179</td>\n",
       "      <td>2</td>\n",
       "    </tr>\n",
       "    <tr>\n",
       "      <th>92</th>\n",
       "      <td>25752</td>\n",
       "      <td>180</td>\n",
       "      <td>2</td>\n",
       "    </tr>\n",
       "  </tbody>\n",
       "</table>\n",
       "<p>180 rows × 3 columns</p>\n",
       "</div>"
      ],
      "text/plain": [
       "    case_count   id  segment\n",
       "0         3421    1        1\n",
       "1         3543    2        1\n",
       "2         3538    3        1\n",
       "3         3487    4        1\n",
       "4         2310    5        1\n",
       "..         ...  ...      ...\n",
       "88       23438  176        2\n",
       "89       20773  177        2\n",
       "90       16253  178        2\n",
       "91       10833  179        2\n",
       "92       25752  180        2\n",
       "\n",
       "[180 rows x 3 columns]"
      ]
     },
     "execution_count": 145,
     "metadata": {
      "tags": []
     },
     "output_type": "execute_result"
    }
   ],
   "source": [
    "output = pd.concat([segment1,segment2],axis = 0)\n",
    "output"
   ]
  },
  {
   "cell_type": "code",
   "execution_count": 0,
   "metadata": {
    "colab": {},
    "colab_type": "code",
    "id": "2Tj2hf4XULTa"
   },
   "outputs": [],
   "source": [
    "sample = pd.read_csv('/content/drive/My Drive/L&T/sample_submission_IIzFVsf.csv')"
   ]
  },
  {
   "cell_type": "code",
   "execution_count": 0,
   "metadata": {
    "colab": {},
    "colab_type": "code",
    "id": "IocW-VdbULTb"
   },
   "outputs": [],
   "source": [
    "count = pd.DataFrame(output[['id','case_count']])"
   ]
  },
  {
   "cell_type": "code",
   "execution_count": 0,
   "metadata": {
    "colab": {},
    "colab_type": "code",
    "id": "5Irf32jXULTd"
   },
   "outputs": [],
   "source": [
    "sample1 = sample.drop('case_count',axis = 1)"
   ]
  },
  {
   "cell_type": "code",
   "execution_count": 150,
   "metadata": {
    "colab": {
     "base_uri": "https://localhost:8080/",
     "height": 204
    },
    "colab_type": "code",
    "executionInfo": {
     "elapsed": 1431,
     "status": "ok",
     "timestamp": 1580052678008,
     "user": {
      "displayName": "Tarun Koundinya",
      "photoUrl": "https://lh3.googleusercontent.com/a-/AAuE7mCuJFCbjNNUC21JfUrOEkSyuTMp8VnRZcH3JXTsOg=s64",
      "userId": "06377727563339288111"
     },
     "user_tz": -330
    },
    "id": "ckAFrdcsULTf",
    "outputId": "66f19077-6cec-4ce3-ffb0-6177773d7d21"
   },
   "outputs": [
    {
     "data": {
      "text/html": [
       "<div>\n",
       "<style scoped>\n",
       "    .dataframe tbody tr th:only-of-type {\n",
       "        vertical-align: middle;\n",
       "    }\n",
       "\n",
       "    .dataframe tbody tr th {\n",
       "        vertical-align: top;\n",
       "    }\n",
       "\n",
       "    .dataframe thead th {\n",
       "        text-align: right;\n",
       "    }\n",
       "</style>\n",
       "<table border=\"1\" class=\"dataframe\">\n",
       "  <thead>\n",
       "    <tr style=\"text-align: right;\">\n",
       "      <th></th>\n",
       "      <th>id</th>\n",
       "      <th>application_date</th>\n",
       "      <th>segment</th>\n",
       "      <th>case_count</th>\n",
       "    </tr>\n",
       "  </thead>\n",
       "  <tbody>\n",
       "    <tr>\n",
       "      <th>0</th>\n",
       "      <td>1</td>\n",
       "      <td>2019-07-06</td>\n",
       "      <td>1</td>\n",
       "      <td>3421</td>\n",
       "    </tr>\n",
       "    <tr>\n",
       "      <th>1</th>\n",
       "      <td>2</td>\n",
       "      <td>2019-07-07</td>\n",
       "      <td>1</td>\n",
       "      <td>3543</td>\n",
       "    </tr>\n",
       "    <tr>\n",
       "      <th>2</th>\n",
       "      <td>3</td>\n",
       "      <td>2019-07-08</td>\n",
       "      <td>1</td>\n",
       "      <td>3538</td>\n",
       "    </tr>\n",
       "    <tr>\n",
       "      <th>3</th>\n",
       "      <td>4</td>\n",
       "      <td>2019-07-09</td>\n",
       "      <td>1</td>\n",
       "      <td>3487</td>\n",
       "    </tr>\n",
       "    <tr>\n",
       "      <th>4</th>\n",
       "      <td>5</td>\n",
       "      <td>2019-07-10</td>\n",
       "      <td>1</td>\n",
       "      <td>2310</td>\n",
       "    </tr>\n",
       "  </tbody>\n",
       "</table>\n",
       "</div>"
      ],
      "text/plain": [
       "   id application_date  segment  case_count\n",
       "0   1       2019-07-06        1        3421\n",
       "1   2       2019-07-07        1        3543\n",
       "2   3       2019-07-08        1        3538\n",
       "3   4       2019-07-09        1        3487\n",
       "4   5       2019-07-10        1        2310"
      ]
     },
     "execution_count": 150,
     "metadata": {
      "tags": []
     },
     "output_type": "execute_result"
    }
   ],
   "source": [
    "sample2 = sample1.merge(count, on = 'id')\n",
    "sample2.head()"
   ]
  },
  {
   "cell_type": "code",
   "execution_count": 0,
   "metadata": {
    "colab": {},
    "colab_type": "code",
    "id": "JqNBH2aZULTl"
   },
   "outputs": [],
   "source": [
    "sample2.to_csv(' Bidirectional LSTM_V18_With_Approach.csv',index = False)"
   ]
  },
  {
   "cell_type": "code",
   "execution_count": 0,
   "metadata": {
    "colab": {},
    "colab_type": "code",
    "id": "XTwRkp7DULTn"
   },
   "outputs": [],
   "source": []
  }
 ],
 "metadata": {
  "accelerator": "GPU",
  "colab": {
   "collapsed_sections": [],
   "name": "Bidirectional LSTM_V18_With_Approach.ipynb",
   "provenance": []
  },
  "kernelspec": {
   "display_name": "Python 3",
   "language": "python",
   "name": "python3"
  },
  "language_info": {
   "codemirror_mode": {
    "name": "ipython",
    "version": 3
   },
   "file_extension": ".py",
   "mimetype": "text/x-python",
   "name": "python",
   "nbconvert_exporter": "python",
   "pygments_lexer": "ipython3",
   "version": "3.7.1"
  }
 },
 "nbformat": 4,
 "nbformat_minor": 1
}
